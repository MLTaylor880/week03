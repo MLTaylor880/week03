{
 "cells": [
  {
   "cell_type": "markdown",
   "metadata": {},
   "source": [
    "# Multi-table Datasets - ENRON Archive"
   ]
  },
  {
   "cell_type": "markdown",
   "metadata": {},
   "source": [
    "## 1. Data import\n",
    "\n",
    "Connect to the file 'assets/datasets/enron.db' using one of these methods:\n",
    "\n",
    "- sqlite3 python package\n",
    "- pandas.read_sql\n",
    "- SQLite Manager Firefox extension\n",
    "\n",
    "Take a look at the database and query the master table. How many Tables are there in the db?"
   ]
  },
  {
   "cell_type": "code",
   "execution_count": 29,
   "metadata": {
    "collapsed": false
   },
   "outputs": [
    {
     "data": {
      "text/plain": [
       "'/Users/marthataylor/week03_classwork/starter-code'"
      ]
     },
     "execution_count": 29,
     "metadata": {},
     "output_type": "execute_result"
    }
   ],
   "source": [
    "import pandas as pd\n",
    "import os\n",
    "import sqlite3\n",
    "\n",
    "os.getcwd()"
   ]
  },
  {
   "cell_type": "code",
   "execution_count": 30,
   "metadata": {
    "collapsed": false
   },
   "outputs": [],
   "source": [
    "#conn=sqlite3.connect('~/DSI-CHI-1/lessons/week-05/1.3-db-lab/assets/datasets/enron.db')\n",
    "conn=sqlite3.connect('../enron.db')"
   ]
  },
  {
   "cell_type": "markdown",
   "metadata": {},
   "source": [
    "#DSI-CHI-1/lessons/week-05/1.3-db-lab\n",
    "#DSI-CHI-1/lessons/week-05/1.3-db-lab/assets/datasets/\n"
   ]
  },
  {
   "cell_type": "code",
   "execution_count": 31,
   "metadata": {
    "collapsed": true
   },
   "outputs": [],
   "source": [
    "c=conn.cursor()"
   ]
  },
  {
   "cell_type": "code",
   "execution_count": 26,
   "metadata": {
    "collapsed": false
   },
   "outputs": [
    {
     "data": {
      "text/plain": [
       "['.ipynb_checkpoints', 'enron.db', 'starter-code-1_3.ipynb']"
      ]
     },
     "execution_count": 26,
     "metadata": {},
     "output_type": "execute_result"
    }
   ],
   "source": [
    "os.listdir('.')"
   ]
  },
  {
   "cell_type": "code",
   "execution_count": null,
   "metadata": {
    "collapsed": true
   },
   "outputs": [],
   "source": []
  },
  {
   "cell_type": "markdown",
   "metadata": {},
   "source": [
    "Query the `sqlite_master` table to retrieve the schema of the `EmployeeBase` table.\n",
    "\n",
    "1. What fields are there?\n",
    "1. What's the type of each of them?"
   ]
  },
  {
   "cell_type": "code",
   "execution_count": 33,
   "metadata": {
    "collapsed": false
   },
   "outputs": [
    {
     "data": {
      "text/plain": [
       "[(1,\n",
       "  u'John Arnold',\n",
       "  u'Forestry',\n",
       "  u'ENA Gas Financial',\n",
       "  u'VP Trading',\n",
       "  u'Male',\n",
       "  u'Senior'),\n",
       " (2,\n",
       "  u'Harry Arora',\n",
       "  u'Forestry',\n",
       "  u'ENA East Power',\n",
       "  u'VP Trading',\n",
       "  u'Male',\n",
       "  u'Senior'),\n",
       " (3,\n",
       "  u'Robert Badeer',\n",
       "  u'Forestry',\n",
       "  u'ENA West Power',\n",
       "  u'Mgr Trading',\n",
       "  u'Male',\n",
       "  u'Junior'),\n",
       " (4,\n",
       "  u'Susan Bailey',\n",
       "  u'Legal',\n",
       "  u'ENA Legal',\n",
       "  u'Specialist Legal',\n",
       "  u'Female',\n",
       "  u'Junior'),\n",
       " (5,\n",
       "  u'Eric Bass',\n",
       "  u'Forestry',\n",
       "  u'ENA Gas Texas',\n",
       "  u'Trader',\n",
       "  u'Male',\n",
       "  u'Junior'),\n",
       " (6,\n",
       "  u'Don Baughman Jr.',\n",
       "  u'Forestry',\n",
       "  u'ENA East Power',\n",
       "  u'Mgr Trading',\n",
       "  u'Male',\n",
       "  u'Junior'),\n",
       " (7,\n",
       "  u'Sally Beck',\n",
       "  u'Other',\n",
       "  u'Energy Operations',\n",
       "  u'VP',\n",
       "  u'Female',\n",
       "  u'Senior'),\n",
       " (8,\n",
       "  u'Robert Benson',\n",
       "  u'Forestry',\n",
       "  u'ENA East Power',\n",
       "  u'Dir Trading',\n",
       "  u'Male',\n",
       "  u'Senior'),\n",
       " (9, u'Lynn Blair', u'Other', u'ETS', u'Director', u'Female', u'Senior'),\n",
       " (10,\n",
       "  u'Sandra F. Brawner',\n",
       "  u'Forestry',\n",
       "  u'ENA Gas East',\n",
       "  u'Dir Trading',\n",
       "  u'Female',\n",
       "  u'Senior')]"
      ]
     },
     "execution_count": 33,
     "metadata": {},
     "output_type": "execute_result"
    }
   ],
   "source": [
    "results_employee=c.execute('SELECT * FROM EmployeeBase LIMIT 10;')\n",
    "results_employee.fetchall()"
   ]
  },
  {
   "cell_type": "code",
   "execution_count": 34,
   "metadata": {
    "collapsed": false
   },
   "outputs": [
    {
     "data": {
      "text/plain": [
       "[(1, u'taylor-m/sent/11', 910930020, u'Cd$ CME letter', 138),\n",
       " (2, u'taylor-m/sent/17', 911459940, u'Indemnification', 138),\n",
       " (3, u'taylor-m/sent/18', 911463840, u'Re: Indemnification', 138),\n",
       " (4, u'taylor-m/sent/23', 911874180, u'Re: Coral Energy, L.P.', 138),\n",
       " (5, u'taylor-m/sent/27', 912396120, u'Bankruptcy Code revisions', 138)]"
      ]
     },
     "execution_count": 34,
     "metadata": {},
     "output_type": "execute_result"
    }
   ],
   "source": [
    "results_employee=c.execute('SELECT * FROM MessageBase LIMIT 5;')\n",
    "results_employee.fetchall()"
   ]
  },
  {
   "cell_type": "code",
   "execution_count": 35,
   "metadata": {
    "collapsed": false
   },
   "outputs": [
    {
     "data": {
      "text/plain": [
       "[(1, 1, 59), (2, 1, 15), (3, 1, 15), (4, 1, 109), (4, 2, 49)]"
      ]
     },
     "execution_count": 35,
     "metadata": {},
     "output_type": "execute_result"
    }
   ],
   "source": [
    "results_employee=c.execute('SELECT * FROM RecipientBase LIMIT 5;')\n",
    "results_employee.fetchall()"
   ]
  },
  {
   "cell_type": "code",
   "execution_count": 95,
   "metadata": {
    "collapsed": false
   },
   "outputs": [
    {
     "data": {
      "text/html": [
       "<div>\n",
       "<table border=\"1\" class=\"dataframe\">\n",
       "  <thead>\n",
       "    <tr style=\"text-align: right;\">\n",
       "      <th></th>\n",
       "      <th>eid</th>\n",
       "      <th>name</th>\n",
       "      <th>department</th>\n",
       "      <th>longdepartment</th>\n",
       "      <th>title</th>\n",
       "      <th>gender</th>\n",
       "      <th>seniority</th>\n",
       "    </tr>\n",
       "  </thead>\n",
       "  <tbody>\n",
       "    <tr>\n",
       "      <th>0</th>\n",
       "      <td>1</td>\n",
       "      <td>John Arnold</td>\n",
       "      <td>Forestry</td>\n",
       "      <td>ENA Gas Financial</td>\n",
       "      <td>VP Trading</td>\n",
       "      <td>Male</td>\n",
       "      <td>Senior</td>\n",
       "    </tr>\n",
       "    <tr>\n",
       "      <th>1</th>\n",
       "      <td>2</td>\n",
       "      <td>Harry Arora</td>\n",
       "      <td>Forestry</td>\n",
       "      <td>ENA East Power</td>\n",
       "      <td>VP Trading</td>\n",
       "      <td>Male</td>\n",
       "      <td>Senior</td>\n",
       "    </tr>\n",
       "    <tr>\n",
       "      <th>2</th>\n",
       "      <td>3</td>\n",
       "      <td>Robert Badeer</td>\n",
       "      <td>Forestry</td>\n",
       "      <td>ENA West Power</td>\n",
       "      <td>Mgr Trading</td>\n",
       "      <td>Male</td>\n",
       "      <td>Junior</td>\n",
       "    </tr>\n",
       "  </tbody>\n",
       "</table>\n",
       "</div>"
      ],
      "text/plain": [
       "   eid           name department     longdepartment        title gender  \\\n",
       "0    1    John Arnold   Forestry  ENA Gas Financial   VP Trading   Male   \n",
       "1    2    Harry Arora   Forestry     ENA East Power   VP Trading   Male   \n",
       "2    3  Robert Badeer   Forestry     ENA West Power  Mgr Trading   Male   \n",
       "\n",
       "  seniority  \n",
       "0    Senior  \n",
       "1    Senior  \n",
       "2    Junior  "
      ]
     },
     "execution_count": 95,
     "metadata": {},
     "output_type": "execute_result"
    }
   ],
   "source": [
    "employees=pd.read_sql('SELECT * FROM EmployeeBase;', con=conn)\n",
    "employees.head(3)"
   ]
  },
  {
   "cell_type": "code",
   "execution_count": 39,
   "metadata": {
    "collapsed": false
   },
   "outputs": [
    {
     "data": {
      "text/html": [
       "<div>\n",
       "<table border=\"1\" class=\"dataframe\">\n",
       "  <thead>\n",
       "    <tr style=\"text-align: right;\">\n",
       "      <th></th>\n",
       "      <th>mid</th>\n",
       "      <th>filename</th>\n",
       "      <th>unix_time</th>\n",
       "      <th>subject</th>\n",
       "      <th>from_eid</th>\n",
       "    </tr>\n",
       "  </thead>\n",
       "  <tbody>\n",
       "    <tr>\n",
       "      <th>0</th>\n",
       "      <td>1</td>\n",
       "      <td>taylor-m/sent/11</td>\n",
       "      <td>910930020</td>\n",
       "      <td>Cd$ CME letter</td>\n",
       "      <td>138</td>\n",
       "    </tr>\n",
       "  </tbody>\n",
       "</table>\n",
       "</div>"
      ],
      "text/plain": [
       "   mid          filename  unix_time         subject  from_eid\n",
       "0    1  taylor-m/sent/11  910930020  Cd$ CME letter       138"
      ]
     },
     "execution_count": 39,
     "metadata": {},
     "output_type": "execute_result"
    }
   ],
   "source": [
    "message=pd.read_sql('SELECT * FROM MessageBase;', con=conn)\n",
    "message.head(1)"
   ]
  },
  {
   "cell_type": "code",
   "execution_count": 40,
   "metadata": {
    "collapsed": false
   },
   "outputs": [
    {
     "data": {
      "text/html": [
       "<div>\n",
       "<table border=\"1\" class=\"dataframe\">\n",
       "  <thead>\n",
       "    <tr style=\"text-align: right;\">\n",
       "      <th></th>\n",
       "      <th>mid</th>\n",
       "      <th>rno</th>\n",
       "      <th>to_eid</th>\n",
       "    </tr>\n",
       "  </thead>\n",
       "  <tbody>\n",
       "    <tr>\n",
       "      <th>0</th>\n",
       "      <td>1</td>\n",
       "      <td>1</td>\n",
       "      <td>59</td>\n",
       "    </tr>\n",
       "  </tbody>\n",
       "</table>\n",
       "</div>"
      ],
      "text/plain": [
       "   mid  rno  to_eid\n",
       "0    1    1      59"
      ]
     },
     "execution_count": 40,
     "metadata": {},
     "output_type": "execute_result"
    }
   ],
   "source": [
    "recipient=pd.read_sql('SELECT * FROM RecipientBase;', con=conn)\n",
    "recipient.head(1)"
   ]
  },
  {
   "cell_type": "code",
   "execution_count": null,
   "metadata": {
    "collapsed": true
   },
   "outputs": [],
   "source": []
  },
  {
   "cell_type": "markdown",
   "metadata": {},
   "source": [
    "1. Print the first 5 rows of EmployeeBase table\n",
    "1. Print the first 5 rows of MessageBase table\n",
    "1. Print the first 5 rows of RecipientBase table\n",
    "\n",
    "**Hint**  use `SELECT` and `LIMIT`."
   ]
  },
  {
   "cell_type": "code",
   "execution_count": null,
   "metadata": {
    "collapsed": false
   },
   "outputs": [],
   "source": []
  },
  {
   "cell_type": "markdown",
   "metadata": {},
   "source": [
    "Import each of the 3 tables to a Pandas Dataframes"
   ]
  },
  {
   "cell_type": "code",
   "execution_count": null,
   "metadata": {
    "collapsed": true
   },
   "outputs": [],
   "source": []
  },
  {
   "cell_type": "markdown",
   "metadata": {},
   "source": [
    "## 2. Data Exploration\n",
    "\n",
    "Use the 3 dataframes to answer the following questions:\n",
    "\n",
    "1. How many employees are there in the company?\n",
    "- How many messages are there in the database?\n",
    "- Convert the timestamp column in the messages. When was the oldest message sent? And the newest?\n",
    "- Some messages are sent to more than one recipient. Group the messages by message_id and count the number of recepients. Then look at the distribution of recepient numbers.\n",
    "    - How many messages have only one recepient?\n",
    "    - How many messages have >= 5 recepients?\n",
    "    - What's the highest number of recepients?\n",
    "    - Who sent the message with the highest number of recepients?\n",
    "- Plot the distribution of recepient numbers using Bokeh."
   ]
  },
  {
   "cell_type": "code",
   "execution_count": 41,
   "metadata": {
    "collapsed": false
   },
   "outputs": [
    {
     "data": {
      "text/plain": [
       "(156, 7)"
      ]
     },
     "execution_count": 41,
     "metadata": {},
     "output_type": "execute_result"
    }
   ],
   "source": [
    "employees.shape"
   ]
  },
  {
   "cell_type": "code",
   "execution_count": 42,
   "metadata": {
    "collapsed": false
   },
   "outputs": [
    {
     "data": {
      "text/plain": [
       "eid               156\n",
       "name              156\n",
       "department        156\n",
       "longdepartment    156\n",
       "title             156\n",
       "gender            156\n",
       "seniority         156\n",
       "dtype: int64"
      ]
     },
     "execution_count": 42,
     "metadata": {},
     "output_type": "execute_result"
    }
   ],
   "source": [
    "employees.count()"
   ]
  },
  {
   "cell_type": "code",
   "execution_count": null,
   "metadata": {
    "collapsed": true
   },
   "outputs": [],
   "source": [
    "#select count(*) from message"
   ]
  },
  {
   "cell_type": "code",
   "execution_count": 43,
   "metadata": {
    "collapsed": false
   },
   "outputs": [
    {
     "data": {
      "text/plain": [
       "mid          21635\n",
       "filename     21635\n",
       "unix_time    21635\n",
       "subject      21635\n",
       "from_eid     21635\n",
       "dtype: int64"
      ]
     },
     "execution_count": 43,
     "metadata": {},
     "output_type": "execute_result"
    }
   ],
   "source": [
    "message.count()"
   ]
  },
  {
   "cell_type": "code",
   "execution_count": 47,
   "metadata": {
    "collapsed": false
   },
   "outputs": [],
   "source": [
    "#number the seconds january 1 1970\n",
    "message['datetime']=pd.to_datetime(message['unix_time'],unit='s')\n",
    "#message['datetime']=pd.to_datetime(message['unix_time'])"
   ]
  },
  {
   "cell_type": "code",
   "execution_count": 48,
   "metadata": {
    "collapsed": false
   },
   "outputs": [
    {
     "data": {
      "text/html": [
       "<div>\n",
       "<table border=\"1\" class=\"dataframe\">\n",
       "  <thead>\n",
       "    <tr style=\"text-align: right;\">\n",
       "      <th></th>\n",
       "      <th>mid</th>\n",
       "      <th>filename</th>\n",
       "      <th>unix_time</th>\n",
       "      <th>subject</th>\n",
       "      <th>from_eid</th>\n",
       "      <th>datetime</th>\n",
       "    </tr>\n",
       "  </thead>\n",
       "  <tbody>\n",
       "    <tr>\n",
       "      <th>0</th>\n",
       "      <td>1</td>\n",
       "      <td>taylor-m/sent/11</td>\n",
       "      <td>910930020</td>\n",
       "      <td>Cd$ CME letter</td>\n",
       "      <td>138</td>\n",
       "      <td>1998-11-13 04:07:00</td>\n",
       "    </tr>\n",
       "    <tr>\n",
       "      <th>1</th>\n",
       "      <td>2</td>\n",
       "      <td>taylor-m/sent/17</td>\n",
       "      <td>911459940</td>\n",
       "      <td>Indemnification</td>\n",
       "      <td>138</td>\n",
       "      <td>1998-11-19 07:19:00</td>\n",
       "    </tr>\n",
       "    <tr>\n",
       "      <th>2</th>\n",
       "      <td>3</td>\n",
       "      <td>taylor-m/sent/18</td>\n",
       "      <td>911463840</td>\n",
       "      <td>Re: Indemnification</td>\n",
       "      <td>138</td>\n",
       "      <td>1998-11-19 08:24:00</td>\n",
       "    </tr>\n",
       "    <tr>\n",
       "      <th>3</th>\n",
       "      <td>4</td>\n",
       "      <td>taylor-m/sent/23</td>\n",
       "      <td>911874180</td>\n",
       "      <td>Re: Coral Energy, L.P.</td>\n",
       "      <td>138</td>\n",
       "      <td>1998-11-24 02:23:00</td>\n",
       "    </tr>\n",
       "    <tr>\n",
       "      <th>4</th>\n",
       "      <td>5</td>\n",
       "      <td>taylor-m/sent/27</td>\n",
       "      <td>912396120</td>\n",
       "      <td>Bankruptcy Code revisions</td>\n",
       "      <td>138</td>\n",
       "      <td>1998-11-30 03:22:00</td>\n",
       "    </tr>\n",
       "  </tbody>\n",
       "</table>\n",
       "</div>"
      ],
      "text/plain": [
       "   mid          filename  unix_time                    subject  from_eid  \\\n",
       "0    1  taylor-m/sent/11  910930020             Cd$ CME letter       138   \n",
       "1    2  taylor-m/sent/17  911459940            Indemnification       138   \n",
       "2    3  taylor-m/sent/18  911463840        Re: Indemnification       138   \n",
       "3    4  taylor-m/sent/23  911874180     Re: Coral Energy, L.P.       138   \n",
       "4    5  taylor-m/sent/27  912396120  Bankruptcy Code revisions       138   \n",
       "\n",
       "             datetime  \n",
       "0 1998-11-13 04:07:00  \n",
       "1 1998-11-19 07:19:00  \n",
       "2 1998-11-19 08:24:00  \n",
       "3 1998-11-24 02:23:00  \n",
       "4 1998-11-30 03:22:00  "
      ]
     },
     "execution_count": 48,
     "metadata": {},
     "output_type": "execute_result"
    }
   ],
   "source": [
    "message.head()"
   ]
  },
  {
   "cell_type": "code",
   "execution_count": 49,
   "metadata": {
    "collapsed": false
   },
   "outputs": [
    {
     "data": {
      "text/html": [
       "<div>\n",
       "<table border=\"1\" class=\"dataframe\">\n",
       "  <thead>\n",
       "    <tr style=\"text-align: right;\">\n",
       "      <th></th>\n",
       "      <th>mid</th>\n",
       "      <th>filename</th>\n",
       "      <th>unix_time</th>\n",
       "      <th>subject</th>\n",
       "      <th>from_eid</th>\n",
       "      <th>datetime</th>\n",
       "    </tr>\n",
       "  </thead>\n",
       "  <tbody>\n",
       "    <tr>\n",
       "      <th>0</th>\n",
       "      <td>1</td>\n",
       "      <td>taylor-m/sent/11</td>\n",
       "      <td>910930020</td>\n",
       "      <td>Cd$ CME letter</td>\n",
       "      <td>138</td>\n",
       "      <td>1998-11-13 04:07:00</td>\n",
       "    </tr>\n",
       "    <tr>\n",
       "      <th>1</th>\n",
       "      <td>2</td>\n",
       "      <td>taylor-m/sent/17</td>\n",
       "      <td>911459940</td>\n",
       "      <td>Indemnification</td>\n",
       "      <td>138</td>\n",
       "      <td>1998-11-19 07:19:00</td>\n",
       "    </tr>\n",
       "    <tr>\n",
       "      <th>2</th>\n",
       "      <td>3</td>\n",
       "      <td>taylor-m/sent/18</td>\n",
       "      <td>911463840</td>\n",
       "      <td>Re: Indemnification</td>\n",
       "      <td>138</td>\n",
       "      <td>1998-11-19 08:24:00</td>\n",
       "    </tr>\n",
       "    <tr>\n",
       "      <th>3</th>\n",
       "      <td>4</td>\n",
       "      <td>taylor-m/sent/23</td>\n",
       "      <td>911874180</td>\n",
       "      <td>Re: Coral Energy, L.P.</td>\n",
       "      <td>138</td>\n",
       "      <td>1998-11-24 02:23:00</td>\n",
       "    </tr>\n",
       "    <tr>\n",
       "      <th>4</th>\n",
       "      <td>5</td>\n",
       "      <td>taylor-m/sent/27</td>\n",
       "      <td>912396120</td>\n",
       "      <td>Bankruptcy Code revisions</td>\n",
       "      <td>138</td>\n",
       "      <td>1998-11-30 03:22:00</td>\n",
       "    </tr>\n",
       "  </tbody>\n",
       "</table>\n",
       "</div>"
      ],
      "text/plain": [
       "   mid          filename  unix_time                    subject  from_eid  \\\n",
       "0    1  taylor-m/sent/11  910930020             Cd$ CME letter       138   \n",
       "1    2  taylor-m/sent/17  911459940            Indemnification       138   \n",
       "2    3  taylor-m/sent/18  911463840        Re: Indemnification       138   \n",
       "3    4  taylor-m/sent/23  911874180     Re: Coral Energy, L.P.       138   \n",
       "4    5  taylor-m/sent/27  912396120  Bankruptcy Code revisions       138   \n",
       "\n",
       "             datetime  \n",
       "0 1998-11-13 04:07:00  \n",
       "1 1998-11-19 07:19:00  \n",
       "2 1998-11-19 08:24:00  \n",
       "3 1998-11-24 02:23:00  \n",
       "4 1998-11-30 03:22:00  "
      ]
     },
     "execution_count": 49,
     "metadata": {},
     "output_type": "execute_result"
    }
   ],
   "source": [
    "message.head().sort_values(by='datetime')"
   ]
  },
  {
   "cell_type": "code",
   "execution_count": null,
   "metadata": {
    "collapsed": true
   },
   "outputs": [],
   "source": [
    "message.head().sort_values(by='datetime')"
   ]
  },
  {
   "cell_type": "code",
   "execution_count": 51,
   "metadata": {
    "collapsed": false
   },
   "outputs": [
    {
     "data": {
      "text/plain": [
       "count                   21635\n",
       "unique                  21309\n",
       "top       1999-12-27 03:21:00\n",
       "freq                        4\n",
       "first     1998-11-13 04:07:00\n",
       "last      2002-06-21 13:37:34\n",
       "Name: datetime, dtype: object"
      ]
     },
     "execution_count": 51,
     "metadata": {},
     "output_type": "execute_result"
    }
   ],
   "source": [
    "message['datetime'].describe()"
   ]
  },
  {
   "cell_type": "code",
   "execution_count": 54,
   "metadata": {
    "collapsed": false
   },
   "outputs": [
    {
     "data": {
      "text/plain": [
       "(Timestamp('2002-06-21 13:37:34'), Timestamp('1998-11-13 04:07:00'))"
      ]
     },
     "execution_count": 54,
     "metadata": {},
     "output_type": "execute_result"
    }
   ],
   "source": [
    "message['datetime'].max(), message['datetime'].min()"
   ]
  },
  {
   "cell_type": "code",
   "execution_count": 55,
   "metadata": {
    "collapsed": true
   },
   "outputs": [],
   "source": [
    "#select * from messge limit 5\n",
    "#select * from "
   ]
  },
  {
   "cell_type": "code",
   "execution_count": 56,
   "metadata": {
    "collapsed": false
   },
   "outputs": [
    {
     "data": {
      "text/plain": [
       "12116    57\n",
       "12151    57\n",
       "12140    55\n",
       "14404    52\n",
       "16035    49\n",
       "16431    24\n",
       "8116     22\n",
       "15577    21\n",
       "15148    21\n",
       "21103    20\n",
       "21047    19\n",
       "19671    18\n",
       "10087    17\n",
       "6495     17\n",
       "19028    16\n",
       "21628    16\n",
       "12584    16\n",
       "14194    16\n",
       "18305    16\n",
       "11492    16\n",
       "14547    16\n",
       "11516    16\n",
       "14457    16\n",
       "15584    15\n",
       "13770    15\n",
       "15121    15\n",
       "15219    15\n",
       "8970     15\n",
       "15116    15\n",
       "1355     15\n",
       "         ..\n",
       "2930      1\n",
       "17243     1\n",
       "21337     1\n",
       "9047      1\n",
       "11094     1\n",
       "13141     1\n",
       "15188     1\n",
       "2898      1\n",
       "4945      1\n",
       "6992      1\n",
       "17211     1\n",
       "19258     1\n",
       "21305     1\n",
       "11062     1\n",
       "17147     1\n",
       "13109     1\n",
       "15156     1\n",
       "2866      1\n",
       "4913      1\n",
       "17179     1\n",
       "19226     1\n",
       "21273     1\n",
       "11030     1\n",
       "13077     1\n",
       "15124     1\n",
       "787       1\n",
       "2834      1\n",
       "4881      1\n",
       "6928      1\n",
       "2049      1\n",
       "Name: mid, dtype: int64"
      ]
     },
     "execution_count": 56,
     "metadata": {},
     "output_type": "execute_result"
    }
   ],
   "source": [
    "recipient['mid'].value_counts()"
   ]
  },
  {
   "cell_type": "code",
   "execution_count": 66,
   "metadata": {
    "collapsed": false
   },
   "outputs": [
    {
     "data": {
      "text/plain": [
       "mid\n",
       "1         1\n",
       "2         1\n",
       "3         1\n",
       "4         4\n",
       "5         2\n",
       "6         1\n",
       "7         1\n",
       "8         1\n",
       "9         1\n",
       "10        1\n",
       "11        1\n",
       "12        3\n",
       "13        1\n",
       "14        1\n",
       "15        1\n",
       "16        4\n",
       "17        3\n",
       "18        1\n",
       "19        1\n",
       "20        1\n",
       "21        1\n",
       "22        1\n",
       "23        1\n",
       "24        1\n",
       "25        2\n",
       "26        1\n",
       "27        2\n",
       "28       13\n",
       "29        1\n",
       "30        1\n",
       "         ..\n",
       "21606     1\n",
       "21607     1\n",
       "21608     1\n",
       "21609     1\n",
       "21610     1\n",
       "21611     1\n",
       "21612     1\n",
       "21613     1\n",
       "21614     1\n",
       "21615     1\n",
       "21616     1\n",
       "21617     1\n",
       "21618     1\n",
       "21619     1\n",
       "21620     1\n",
       "21621     1\n",
       "21622     1\n",
       "21623     4\n",
       "21624     4\n",
       "21625     4\n",
       "21626     5\n",
       "21627     1\n",
       "21628    16\n",
       "21629     1\n",
       "21630     1\n",
       "21631     1\n",
       "21632     1\n",
       "21633     1\n",
       "21634     5\n",
       "21635     3\n",
       "Name: rno, dtype: int64"
      ]
     },
     "execution_count": 66,
     "metadata": {},
     "output_type": "execute_result"
    }
   ],
   "source": [
    "import numpy as np\n",
    "#recipient.pivot_table(index='rno',values='mid', aggfunc=len)  #didnt wo\n",
    "#recipient.groupby\n",
    "\n",
    "recipient.pivot_table(index='mid',values='rno', aggfunc=np.max)\n"
   ]
  },
  {
   "cell_type": "code",
   "execution_count": null,
   "metadata": {
    "collapsed": true
   },
   "outputs": [],
   "source": [
    "#recipient.groupby"
   ]
  },
  {
   "cell_type": "code",
   "execution_count": 68,
   "metadata": {
    "collapsed": false
   },
   "outputs": [
    {
     "data": {
      "text/plain": [
       "1     14985\n",
       "2      2962\n",
       "3      1435\n",
       "4       873\n",
       "5       711\n",
       "6       180\n",
       "7       176\n",
       "8        61\n",
       "13       57\n",
       "11       47\n",
       "12       33\n",
       "10       29\n",
       "15       28\n",
       "9        24\n",
       "14       11\n",
       "16        9\n",
       "21        2\n",
       "17        2\n",
       "57        2\n",
       "22        1\n",
       "52        1\n",
       "20        1\n",
       "55        1\n",
       "19        1\n",
       "24        1\n",
       "18        1\n",
       "49        1\n",
       "Name: to_eid, dtype: int64"
      ]
     },
     "execution_count": 68,
     "metadata": {},
     "output_type": "execute_result"
    }
   ],
   "source": [
    "recipient.pivot_table(index='mid',values='to_eid',aggfunc=len).value_counts()\n",
    "#the number of emails one recp recieved"
   ]
  },
  {
   "cell_type": "markdown",
   "metadata": {},
   "source": [
    "Selete mid, count(mid) from recipient  group by mid ORDER by count(mid) desc limit 10;"
   ]
  },
  {
   "cell_type": "code",
   "execution_count": null,
   "metadata": {
    "collapsed": true
   },
   "outputs": [],
   "source": []
  },
  {
   "cell_type": "markdown",
   "metadata": {},
   "source": [
    "Rescale to investigate the tail of the curve"
   ]
  },
  {
   "cell_type": "code",
   "execution_count": null,
   "metadata": {
    "collapsed": false
   },
   "outputs": [],
   "source": []
  },
  {
   "cell_type": "markdown",
   "metadata": {},
   "source": [
    "## 3. Data Merging\n",
    "\n",
    "Use the pandas merge function to combine the information in the 3 dataframes to answer the following questions:\n",
    "\n",
    "1. Are there more Men or Women employees?\n",
    "- How is gender distributed across departments?\n",
    "- Who is sending more emails? Men or Women?\n",
    "- What's the average number of emails sent by each gender?\n",
    "- Are there more Juniors or Seniors?\n",
    "- Who is sending more emails? Juniors or Seniors?\n",
    "- Which department is sending more emails? How does that relate with the number of employees in the department?\n",
    "- Who are the top 3 senders of emails? (people who sent out the most emails)"
   ]
  },
  {
   "cell_type": "code",
   "execution_count": 102,
   "metadata": {
    "collapsed": false
   },
   "outputs": [
    {
     "ename": "TypeError",
     "evalue": "count() takes exactly one argument (0 given)",
     "output_type": "error",
     "traceback": [
      "\u001b[0;31m---------------------------------------------------------------------------\u001b[0m",
      "\u001b[0;31mTypeError\u001b[0m                                 Traceback (most recent call last)",
      "\u001b[0;32m<ipython-input-102-013e56be9afa>\u001b[0m in \u001b[0;36m<module>\u001b[0;34m()\u001b[0m\n\u001b[0;32m----> 1\u001b[0;31m \u001b[0;32mprint\u001b[0m  \u001b[0;34m[\u001b[0m\u001b[0memployees\u001b[0m\u001b[0;34m[\u001b[0m\u001b[0;34m'gender'\u001b[0m\u001b[0;34m]\u001b[0m\u001b[0;34m==\u001b[0m\u001b[0;34m'Male'\u001b[0m\u001b[0;34m]\u001b[0m\u001b[0;34m.\u001b[0m\u001b[0mcount\u001b[0m\u001b[0;34m(\u001b[0m\u001b[0;34m)\u001b[0m\u001b[0;34m\u001b[0m\u001b[0m\n\u001b[0m\u001b[1;32m      2\u001b[0m \u001b[0;32mprint\u001b[0m  \u001b[0;34m[\u001b[0m\u001b[0memployees\u001b[0m\u001b[0;34m[\u001b[0m\u001b[0;34m'gender'\u001b[0m\u001b[0;34m]\u001b[0m\u001b[0;34m==\u001b[0m\u001b[0;34m'Female'\u001b[0m\u001b[0;34m]\u001b[0m\u001b[0;34m.\u001b[0m\u001b[0mcount\u001b[0m\u001b[0;34m(\u001b[0m\u001b[0;34m)\u001b[0m\u001b[0;34m\u001b[0m\u001b[0m\n",
      "\u001b[0;31mTypeError\u001b[0m: count() takes exactly one argument (0 given)"
     ]
    }
   ],
   "source": [
    "print  [employees['gender']=='Male'].count()\n",
    "print  [employees['gender']=='Female'].count()"
   ]
  },
  {
   "cell_type": "code",
   "execution_count": null,
   "metadata": {
    "collapsed": true
   },
   "outputs": [],
   "source": []
  },
  {
   "cell_type": "code",
   "execution_count": null,
   "metadata": {
    "collapsed": true
   },
   "outputs": [],
   "source": []
  },
  {
   "cell_type": "code",
   "execution_count": 73,
   "metadata": {
    "collapsed": false
   },
   "outputs": [
    {
     "name": "stdout",
     "output_type": "stream",
     "text": [
      "(21635, 6)\n",
      "(156, 7)\n",
      "(38388, 3)\n"
     ]
    }
   ],
   "source": [
    "print message.shape\n",
    "print employees.shape\n",
    "print recipient.shape"
   ]
  },
  {
   "cell_type": "code",
   "execution_count": 81,
   "metadata": {
    "collapsed": true
   },
   "outputs": [],
   "source": [
    "enron=pd.merge(recipient,message, on='mid')"
   ]
  },
  {
   "cell_type": "code",
   "execution_count": 76,
   "metadata": {
    "collapsed": false
   },
   "outputs": [
    {
     "data": {
      "text/html": [
       "<div>\n",
       "<table border=\"1\" class=\"dataframe\">\n",
       "  <thead>\n",
       "    <tr style=\"text-align: right;\">\n",
       "      <th></th>\n",
       "      <th>mid</th>\n",
       "      <th>rno</th>\n",
       "      <th>to_eid</th>\n",
       "      <th>filename</th>\n",
       "      <th>unix_time</th>\n",
       "      <th>subject</th>\n",
       "      <th>from_eid</th>\n",
       "      <th>datetime</th>\n",
       "    </tr>\n",
       "  </thead>\n",
       "  <tbody>\n",
       "    <tr>\n",
       "      <th>0</th>\n",
       "      <td>1</td>\n",
       "      <td>1</td>\n",
       "      <td>59</td>\n",
       "      <td>taylor-m/sent/11</td>\n",
       "      <td>910930020</td>\n",
       "      <td>Cd$ CME letter</td>\n",
       "      <td>138</td>\n",
       "      <td>1998-11-13 04:07:00</td>\n",
       "    </tr>\n",
       "  </tbody>\n",
       "</table>\n",
       "</div>"
      ],
      "text/plain": [
       "   mid  rno  to_eid          filename  unix_time         subject  from_eid  \\\n",
       "0    1    1      59  taylor-m/sent/11  910930020  Cd$ CME letter       138   \n",
       "\n",
       "             datetime  \n",
       "0 1998-11-13 04:07:00  "
      ]
     },
     "execution_count": 76,
     "metadata": {},
     "output_type": "execute_result"
    }
   ],
   "source": [
    "enron.head(1)"
   ]
  },
  {
   "cell_type": "code",
   "execution_count": 85,
   "metadata": {
    "collapsed": true
   },
   "outputs": [],
   "source": [
    "enronTo=pd.merge(enron, employees, left_on='to_eid', right_on='eid')"
   ]
  },
  {
   "cell_type": "code",
   "execution_count": 86,
   "metadata": {
    "collapsed": false
   },
   "outputs": [
    {
     "data": {
      "text/html": [
       "<div>\n",
       "<table border=\"1\" class=\"dataframe\">\n",
       "  <thead>\n",
       "    <tr style=\"text-align: right;\">\n",
       "      <th></th>\n",
       "      <th>mid</th>\n",
       "      <th>rno</th>\n",
       "      <th>to_eid</th>\n",
       "      <th>filename</th>\n",
       "      <th>unix_time</th>\n",
       "      <th>subject</th>\n",
       "      <th>from_eid</th>\n",
       "      <th>datetime</th>\n",
       "      <th>eid_to</th>\n",
       "      <th>name_to</th>\n",
       "      <th>...</th>\n",
       "      <th>title_from</th>\n",
       "      <th>gender_from</th>\n",
       "      <th>seniority_from</th>\n",
       "      <th>eid</th>\n",
       "      <th>name</th>\n",
       "      <th>department</th>\n",
       "      <th>longdepartment</th>\n",
       "      <th>title</th>\n",
       "      <th>gender</th>\n",
       "      <th>seniority</th>\n",
       "    </tr>\n",
       "  </thead>\n",
       "  <tbody>\n",
       "    <tr>\n",
       "      <th>0</th>\n",
       "      <td>1</td>\n",
       "      <td>1</td>\n",
       "      <td>59</td>\n",
       "      <td>taylor-m/sent/11</td>\n",
       "      <td>910930020</td>\n",
       "      <td>Cd$ CME letter</td>\n",
       "      <td>138</td>\n",
       "      <td>1998-11-13 04:07:00</td>\n",
       "      <td>59</td>\n",
       "      <td>Tana Jones</td>\n",
       "      <td>...</td>\n",
       "      <td>VP &amp; Gen Cnsl</td>\n",
       "      <td>Male</td>\n",
       "      <td>Senior</td>\n",
       "      <td>59</td>\n",
       "      <td>Tana Jones</td>\n",
       "      <td>Legal</td>\n",
       "      <td>ENA Legal</td>\n",
       "      <td>Specialist Legal</td>\n",
       "      <td>Female</td>\n",
       "      <td>Junior</td>\n",
       "    </tr>\n",
       "  </tbody>\n",
       "</table>\n",
       "<p>1 rows × 29 columns</p>\n",
       "</div>"
      ],
      "text/plain": [
       "   mid  rno  to_eid          filename  unix_time         subject  from_eid  \\\n",
       "0    1    1      59  taylor-m/sent/11  910930020  Cd$ CME letter       138   \n",
       "\n",
       "             datetime  eid_to     name_to    ...        title_from  \\\n",
       "0 1998-11-13 04:07:00      59  Tana Jones    ...     VP & Gen Cnsl   \n",
       "\n",
       "  gender_from seniority_from eid        name  department longdepartment  \\\n",
       "0        Male         Senior  59  Tana Jones       Legal      ENA Legal   \n",
       "\n",
       "              title  gender seniority  \n",
       "0  Specialist Legal  Female    Junior  \n",
       "\n",
       "[1 rows x 29 columns]"
      ]
     },
     "execution_count": 86,
     "metadata": {},
     "output_type": "execute_result"
    }
   ],
   "source": [
    "enronTo.head(1)"
   ]
  },
  {
   "cell_type": "code",
   "execution_count": 78,
   "metadata": {
    "collapsed": false
   },
   "outputs": [
    {
     "data": {
      "text/html": [
       "<div>\n",
       "<table border=\"1\" class=\"dataframe\">\n",
       "  <thead>\n",
       "    <tr style=\"text-align: right;\">\n",
       "      <th></th>\n",
       "      <th>mid</th>\n",
       "      <th>rno</th>\n",
       "      <th>to_eid</th>\n",
       "      <th>filename</th>\n",
       "      <th>unix_time</th>\n",
       "      <th>subject</th>\n",
       "      <th>from_eid</th>\n",
       "      <th>datetime</th>\n",
       "      <th>eid</th>\n",
       "      <th>name</th>\n",
       "      <th>department</th>\n",
       "      <th>longdepartment</th>\n",
       "      <th>title</th>\n",
       "      <th>gender</th>\n",
       "      <th>seniority</th>\n",
       "    </tr>\n",
       "  </thead>\n",
       "  <tbody>\n",
       "    <tr>\n",
       "      <th>0</th>\n",
       "      <td>1</td>\n",
       "      <td>1</td>\n",
       "      <td>59</td>\n",
       "      <td>taylor-m/sent/11</td>\n",
       "      <td>910930020</td>\n",
       "      <td>Cd$ CME letter</td>\n",
       "      <td>138</td>\n",
       "      <td>1998-11-13 04:07:00</td>\n",
       "      <td>59</td>\n",
       "      <td>Tana Jones</td>\n",
       "      <td>Legal</td>\n",
       "      <td>ENA Legal</td>\n",
       "      <td>Specialist Legal</td>\n",
       "      <td>Female</td>\n",
       "      <td>Junior</td>\n",
       "    </tr>\n",
       "    <tr>\n",
       "      <th>1</th>\n",
       "      <td>4</td>\n",
       "      <td>4</td>\n",
       "      <td>59</td>\n",
       "      <td>taylor-m/sent/23</td>\n",
       "      <td>911874180</td>\n",
       "      <td>Re: Coral Energy, L.P.</td>\n",
       "      <td>138</td>\n",
       "      <td>1998-11-24 02:23:00</td>\n",
       "      <td>59</td>\n",
       "      <td>Tana Jones</td>\n",
       "      <td>Legal</td>\n",
       "      <td>ENA Legal</td>\n",
       "      <td>Specialist Legal</td>\n",
       "      <td>Female</td>\n",
       "      <td>Junior</td>\n",
       "    </tr>\n",
       "    <tr>\n",
       "      <th>2</th>\n",
       "      <td>7</td>\n",
       "      <td>1</td>\n",
       "      <td>59</td>\n",
       "      <td>taylor-m/sent/33</td>\n",
       "      <td>912576240</td>\n",
       "      <td>Koch</td>\n",
       "      <td>138</td>\n",
       "      <td>1998-12-02 05:24:00</td>\n",
       "      <td>59</td>\n",
       "      <td>Tana Jones</td>\n",
       "      <td>Legal</td>\n",
       "      <td>ENA Legal</td>\n",
       "      <td>Specialist Legal</td>\n",
       "      <td>Female</td>\n",
       "      <td>Junior</td>\n",
       "    </tr>\n",
       "    <tr>\n",
       "      <th>3</th>\n",
       "      <td>8</td>\n",
       "      <td>1</td>\n",
       "      <td>59</td>\n",
       "      <td>taylor-m/sent/40</td>\n",
       "      <td>912685080</td>\n",
       "      <td>Re: Time to Celebrate!</td>\n",
       "      <td>138</td>\n",
       "      <td>1998-12-03 11:38:00</td>\n",
       "      <td>59</td>\n",
       "      <td>Tana Jones</td>\n",
       "      <td>Legal</td>\n",
       "      <td>ENA Legal</td>\n",
       "      <td>Specialist Legal</td>\n",
       "      <td>Female</td>\n",
       "      <td>Junior</td>\n",
       "    </tr>\n",
       "    <tr>\n",
       "      <th>4</th>\n",
       "      <td>10</td>\n",
       "      <td>1</td>\n",
       "      <td>59</td>\n",
       "      <td>taylor-m/sent/44</td>\n",
       "      <td>913166040</td>\n",
       "      <td>Re: Last Message</td>\n",
       "      <td>138</td>\n",
       "      <td>1998-12-09 01:14:00</td>\n",
       "      <td>59</td>\n",
       "      <td>Tana Jones</td>\n",
       "      <td>Legal</td>\n",
       "      <td>ENA Legal</td>\n",
       "      <td>Specialist Legal</td>\n",
       "      <td>Female</td>\n",
       "      <td>Junior</td>\n",
       "    </tr>\n",
       "  </tbody>\n",
       "</table>\n",
       "</div>"
      ],
      "text/plain": [
       "   mid  rno  to_eid          filename  unix_time                 subject  \\\n",
       "0    1    1      59  taylor-m/sent/11  910930020          Cd$ CME letter   \n",
       "1    4    4      59  taylor-m/sent/23  911874180  Re: Coral Energy, L.P.   \n",
       "2    7    1      59  taylor-m/sent/33  912576240                    Koch   \n",
       "3    8    1      59  taylor-m/sent/40  912685080  Re: Time to Celebrate!   \n",
       "4   10    1      59  taylor-m/sent/44  913166040        Re: Last Message   \n",
       "\n",
       "   from_eid            datetime  eid        name department longdepartment  \\\n",
       "0       138 1998-11-13 04:07:00   59  Tana Jones      Legal      ENA Legal   \n",
       "1       138 1998-11-24 02:23:00   59  Tana Jones      Legal      ENA Legal   \n",
       "2       138 1998-12-02 05:24:00   59  Tana Jones      Legal      ENA Legal   \n",
       "3       138 1998-12-03 11:38:00   59  Tana Jones      Legal      ENA Legal   \n",
       "4       138 1998-12-09 01:14:00   59  Tana Jones      Legal      ENA Legal   \n",
       "\n",
       "              title  gender seniority  \n",
       "0  Specialist Legal  Female    Junior  \n",
       "1  Specialist Legal  Female    Junior  \n",
       "2  Specialist Legal  Female    Junior  \n",
       "3  Specialist Legal  Female    Junior  \n",
       "4  Specialist Legal  Female    Junior  "
      ]
     },
     "execution_count": 78,
     "metadata": {},
     "output_type": "execute_result"
    }
   ],
   "source": [
    "enron.head()"
   ]
  },
  {
   "cell_type": "code",
   "execution_count": 83,
   "metadata": {
    "collapsed": true
   },
   "outputs": [],
   "source": [
    "enron=pd.merge(enronTo, employees, left_on='from_eid', right_on='eid',suffixes=['_to','_from'])"
   ]
  },
  {
   "cell_type": "code",
   "execution_count": 84,
   "metadata": {
    "collapsed": false
   },
   "outputs": [
    {
     "data": {
      "text/html": [
       "<div>\n",
       "<table border=\"1\" class=\"dataframe\">\n",
       "  <thead>\n",
       "    <tr style=\"text-align: right;\">\n",
       "      <th></th>\n",
       "      <th>mid</th>\n",
       "      <th>rno</th>\n",
       "      <th>to_eid</th>\n",
       "      <th>filename</th>\n",
       "      <th>unix_time</th>\n",
       "      <th>subject</th>\n",
       "      <th>from_eid</th>\n",
       "      <th>datetime</th>\n",
       "      <th>eid_to</th>\n",
       "      <th>name_to</th>\n",
       "      <th>...</th>\n",
       "      <th>title_to</th>\n",
       "      <th>gender_to</th>\n",
       "      <th>seniority_to</th>\n",
       "      <th>eid_from</th>\n",
       "      <th>name_from</th>\n",
       "      <th>department_from</th>\n",
       "      <th>longdepartment_from</th>\n",
       "      <th>title_from</th>\n",
       "      <th>gender_from</th>\n",
       "      <th>seniority_from</th>\n",
       "    </tr>\n",
       "  </thead>\n",
       "  <tbody>\n",
       "    <tr>\n",
       "      <th>0</th>\n",
       "      <td>1</td>\n",
       "      <td>1</td>\n",
       "      <td>59</td>\n",
       "      <td>taylor-m/sent/11</td>\n",
       "      <td>910930020</td>\n",
       "      <td>Cd$ CME letter</td>\n",
       "      <td>138</td>\n",
       "      <td>1998-11-13 04:07:00</td>\n",
       "      <td>59</td>\n",
       "      <td>Tana Jones</td>\n",
       "      <td>...</td>\n",
       "      <td>Specialist Legal</td>\n",
       "      <td>Female</td>\n",
       "      <td>Junior</td>\n",
       "      <td>138</td>\n",
       "      <td>Mark E. Taylor</td>\n",
       "      <td>Legal</td>\n",
       "      <td>ENA Legal</td>\n",
       "      <td>VP &amp; Gen Cnsl</td>\n",
       "      <td>Male</td>\n",
       "      <td>Senior</td>\n",
       "    </tr>\n",
       "    <tr>\n",
       "      <th>1</th>\n",
       "      <td>4</td>\n",
       "      <td>4</td>\n",
       "      <td>59</td>\n",
       "      <td>taylor-m/sent/23</td>\n",
       "      <td>911874180</td>\n",
       "      <td>Re: Coral Energy, L.P.</td>\n",
       "      <td>138</td>\n",
       "      <td>1998-11-24 02:23:00</td>\n",
       "      <td>59</td>\n",
       "      <td>Tana Jones</td>\n",
       "      <td>...</td>\n",
       "      <td>Specialist Legal</td>\n",
       "      <td>Female</td>\n",
       "      <td>Junior</td>\n",
       "      <td>138</td>\n",
       "      <td>Mark E. Taylor</td>\n",
       "      <td>Legal</td>\n",
       "      <td>ENA Legal</td>\n",
       "      <td>VP &amp; Gen Cnsl</td>\n",
       "      <td>Male</td>\n",
       "      <td>Senior</td>\n",
       "    </tr>\n",
       "    <tr>\n",
       "      <th>2</th>\n",
       "      <td>7</td>\n",
       "      <td>1</td>\n",
       "      <td>59</td>\n",
       "      <td>taylor-m/sent/33</td>\n",
       "      <td>912576240</td>\n",
       "      <td>Koch</td>\n",
       "      <td>138</td>\n",
       "      <td>1998-12-02 05:24:00</td>\n",
       "      <td>59</td>\n",
       "      <td>Tana Jones</td>\n",
       "      <td>...</td>\n",
       "      <td>Specialist Legal</td>\n",
       "      <td>Female</td>\n",
       "      <td>Junior</td>\n",
       "      <td>138</td>\n",
       "      <td>Mark E. Taylor</td>\n",
       "      <td>Legal</td>\n",
       "      <td>ENA Legal</td>\n",
       "      <td>VP &amp; Gen Cnsl</td>\n",
       "      <td>Male</td>\n",
       "      <td>Senior</td>\n",
       "    </tr>\n",
       "    <tr>\n",
       "      <th>3</th>\n",
       "      <td>8</td>\n",
       "      <td>1</td>\n",
       "      <td>59</td>\n",
       "      <td>taylor-m/sent/40</td>\n",
       "      <td>912685080</td>\n",
       "      <td>Re: Time to Celebrate!</td>\n",
       "      <td>138</td>\n",
       "      <td>1998-12-03 11:38:00</td>\n",
       "      <td>59</td>\n",
       "      <td>Tana Jones</td>\n",
       "      <td>...</td>\n",
       "      <td>Specialist Legal</td>\n",
       "      <td>Female</td>\n",
       "      <td>Junior</td>\n",
       "      <td>138</td>\n",
       "      <td>Mark E. Taylor</td>\n",
       "      <td>Legal</td>\n",
       "      <td>ENA Legal</td>\n",
       "      <td>VP &amp; Gen Cnsl</td>\n",
       "      <td>Male</td>\n",
       "      <td>Senior</td>\n",
       "    </tr>\n",
       "    <tr>\n",
       "      <th>4</th>\n",
       "      <td>10</td>\n",
       "      <td>1</td>\n",
       "      <td>59</td>\n",
       "      <td>taylor-m/sent/44</td>\n",
       "      <td>913166040</td>\n",
       "      <td>Re: Last Message</td>\n",
       "      <td>138</td>\n",
       "      <td>1998-12-09 01:14:00</td>\n",
       "      <td>59</td>\n",
       "      <td>Tana Jones</td>\n",
       "      <td>...</td>\n",
       "      <td>Specialist Legal</td>\n",
       "      <td>Female</td>\n",
       "      <td>Junior</td>\n",
       "      <td>138</td>\n",
       "      <td>Mark E. Taylor</td>\n",
       "      <td>Legal</td>\n",
       "      <td>ENA Legal</td>\n",
       "      <td>VP &amp; Gen Cnsl</td>\n",
       "      <td>Male</td>\n",
       "      <td>Senior</td>\n",
       "    </tr>\n",
       "  </tbody>\n",
       "</table>\n",
       "<p>5 rows × 22 columns</p>\n",
       "</div>"
      ],
      "text/plain": [
       "   mid  rno  to_eid          filename  unix_time                 subject  \\\n",
       "0    1    1      59  taylor-m/sent/11  910930020          Cd$ CME letter   \n",
       "1    4    4      59  taylor-m/sent/23  911874180  Re: Coral Energy, L.P.   \n",
       "2    7    1      59  taylor-m/sent/33  912576240                    Koch   \n",
       "3    8    1      59  taylor-m/sent/40  912685080  Re: Time to Celebrate!   \n",
       "4   10    1      59  taylor-m/sent/44  913166040        Re: Last Message   \n",
       "\n",
       "   from_eid            datetime  eid_to     name_to      ...        \\\n",
       "0       138 1998-11-13 04:07:00      59  Tana Jones      ...         \n",
       "1       138 1998-11-24 02:23:00      59  Tana Jones      ...         \n",
       "2       138 1998-12-02 05:24:00      59  Tana Jones      ...         \n",
       "3       138 1998-12-03 11:38:00      59  Tana Jones      ...         \n",
       "4       138 1998-12-09 01:14:00      59  Tana Jones      ...         \n",
       "\n",
       "           title_to gender_to seniority_to eid_from       name_from  \\\n",
       "0  Specialist Legal    Female       Junior      138  Mark E. Taylor   \n",
       "1  Specialist Legal    Female       Junior      138  Mark E. Taylor   \n",
       "2  Specialist Legal    Female       Junior      138  Mark E. Taylor   \n",
       "3  Specialist Legal    Female       Junior      138  Mark E. Taylor   \n",
       "4  Specialist Legal    Female       Junior      138  Mark E. Taylor   \n",
       "\n",
       "   department_from longdepartment_from     title_from gender_from  \\\n",
       "0            Legal           ENA Legal  VP & Gen Cnsl        Male   \n",
       "1            Legal           ENA Legal  VP & Gen Cnsl        Male   \n",
       "2            Legal           ENA Legal  VP & Gen Cnsl        Male   \n",
       "3            Legal           ENA Legal  VP & Gen Cnsl        Male   \n",
       "4            Legal           ENA Legal  VP & Gen Cnsl        Male   \n",
       "\n",
       "  seniority_from  \n",
       "0         Senior  \n",
       "1         Senior  \n",
       "2         Senior  \n",
       "3         Senior  \n",
       "4         Senior  \n",
       "\n",
       "[5 rows x 22 columns]"
      ]
     },
     "execution_count": 84,
     "metadata": {},
     "output_type": "execute_result"
    }
   ],
   "source": [
    "enron.head()"
   ]
  },
  {
   "cell_type": "markdown",
   "metadata": {},
   "source": [
    "Answer the following questions regarding received messages:\n",
    "\n",
    "- Who is receiving more emails? Men or Women?\n",
    "- Who is receiving more emails? Juniors or Seniors?\n",
    "- Which department is receiving more emails? How does that relate with the number of employees in the department?\n",
    "- Who are the top 5 receivers of emails? (people who received the most emails)"
   ]
  },
  {
   "cell_type": "code",
   "execution_count": null,
   "metadata": {
    "collapsed": true
   },
   "outputs": [],
   "source": []
  },
  {
   "cell_type": "markdown",
   "metadata": {},
   "source": [
    "Which employees sent the most 'mass' emails?"
   ]
  },
  {
   "cell_type": "code",
   "execution_count": null,
   "metadata": {
    "collapsed": false
   },
   "outputs": [],
   "source": []
  },
  {
   "cell_type": "markdown",
   "metadata": {},
   "source": [
    "Keep exploring the dataset, which other questions would you ask?\n",
    "\n",
    "Work in pairs. Give each other a challenge and try to solve it."
   ]
  }
 ],
 "metadata": {
  "anaconda-cloud": {},
  "kernelspec": {
   "display_name": "Python [Root]",
   "language": "python",
   "name": "Python [Root]"
  },
  "language_info": {
   "codemirror_mode": {
    "name": "ipython",
    "version": 2
   },
   "file_extension": ".py",
   "mimetype": "text/x-python",
   "name": "python",
   "nbconvert_exporter": "python",
   "pygments_lexer": "ipython2",
   "version": "2.7.12"
  }
 },
 "nbformat": 4,
 "nbformat_minor": 0
}
