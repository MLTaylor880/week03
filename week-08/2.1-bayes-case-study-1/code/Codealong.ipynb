{
 "cells": [
  {
   "cell_type": "markdown",
   "metadata": {},
   "source": [
    "# Fun time with Bayesian statistics and Politics "
   ]
  },
  {
   "cell_type": "markdown",
   "metadata": {},
   "source": [
    "# Some model background"
   ]
  },
  {
   "cell_type": "markdown",
   "metadata": {},
   "source": [
    "#### 2.1 Priors and Conjugate Priors"
   ]
  },
  {
   "cell_type": "markdown",
   "metadata": {},
   "source": [
    "### &nbsp;&nbsp;&nbsp;&nbsp;&nbsp;&nbsp;&nbsp;&nbsp;&nbsp;&nbsp;&nbsp;&nbsp;&nbsp;&nbsp;&nbsp;&nbsp;&nbsp;&nbsp;&nbsp;&nbsp;&nbsp;&nbsp;&nbsp;&nbsp;&nbsp;&nbsp;&nbsp;&nbsp;&nbsp;&nbsp;&nbsp;&nbsp;&nbsp;&nbsp;&nbsp;&nbsp;&nbsp;&nbsp;&nbsp;&nbsp;&nbsp;&nbsp;&nbsp;&nbsp;&nbsp;&nbsp;&nbsp;&nbsp;&nbsp;&nbsp;&nbsp;&nbsp;&nbsp;&nbsp;&nbsp;&nbsp;&nbsp;&nbsp;&nbsp;&nbsp;&nbsp;&nbsp;&nbsp;&nbsp;&nbsp;&nbsp;&nbsp;&nbsp;&nbsp;&nbsp;&nbsp;&nbsp;&nbsp;&nbsp;&nbsp;&nbsp;&nbsp;&nbsp;&nbsp;&nbsp;&nbsp;&nbsp;&nbsp;&nbsp;Conjugate Priors\n",
    "| Prior  | Likelihood  | \n",
    "|---|---|\n",
    " | Beta  | Binomial  |\n",
    " | Dirichlet  | Multinomial   | \n",
    " | Gamma  | Gaussian |\n",
    " | Gaussian  | Gaussian | \n",
    " \n",
    " The above table provides the likelihood/prior conjugate prior combinations that ensure computational tractability for calculation of posterior distributions "
   ]
  },
  {
   "cell_type": "markdown",
   "metadata": {},
   "source": [
    "We've seen some of these previously, but let's just summarize these distributions now: \n",
    "\n",
    "| Name  | Function (The Distribution/PMF) - Whatever| Use\n",
    "|---|---|\n",
    "| Beta  | $\\frac{1}{B(\\alpha, \\beta)}x^{\\alpha-1}(1-x)^{\\beta-1}$ | More of a family of distributions, usually representing probabilties of proportions, thus it's great to use as our prior belief (very important in Bayesian analysis)|\n",
    "| Dirichlet  |  $\\begin{equation*}\\frac{1}{B(\\alpha, ,\\beta)}\\prod_{i = 1}^{n}x_i^{\\alpha-1}\\end{equation*}$  | Similar to Beta above, just extended over multinomials, often used in NLP and other text-mining processes  |\n",
    "| Gamma  |$ x^{a-i}e^{-x}\\frac{1}{\\Gamma(a)}$ | This distribution represents waiting time between Poisson distributed events (remember c_i in the previous lecture finger exercise | \n",
    "| Gaussian  | $\\frac{1}{\\sigma \\sqrt(2\\pi)}e^{\\frac{-(x-\\mu)^{2}}{2\\sigma^2}}$ | This is just the normal distribution | \n",
    "| Binomial  | $\\binom{n}{k}\\cdot p^kq^{n-k} $   | Gives you the probability of getting k \"success\" in n iterations/trials |\n",
    "| Multinomial  | $\\frac{N!}{\\prod_{i=1}^n x_i!} \\prod_{i=1}^n \\theta_i^{x_i} $| Similar to binomial distribution, but generalized to include multiple \"buckets\" (X, Y, Z,...) instead of just two (1 or 0), represents how many times each bucket X, Y, Z,... etc was observed over n trials | "
   ]
  },
  {
   "cell_type": "markdown",
   "metadata": {},
   "source": [
    "#### 2.2 Beta functions as normalizing term in case you don't want to make your life easy and use conjugate priors..."
   ]
  },
  {
   "cell_type": "markdown",
   "metadata": {},
   "source": [
    "We are finally going to use the much anticipated Beta Function today to do our first real computational Bayesian exercise, $\\frac{1}{B(\\alpha, \\beta)}x^{\\alpha-1}(1-x)^{\\beta-1}$. Wait, what's B? We can define B as the following: \n",
    "$$B(a,b) = \\frac{\\Gamma(a)\\Gamma(b)}{\\Gamma(a+b)}$$\n",
    "\n",
    "As it is used in Bayesian Analysis, the beta distribution (not \"B\" - or the beta function) is often used to represent the prior beliefs of the modeler. How so? Well let's say you thought the chance of a political candidate winning an election was .60 (whatever that means), but that given new information, that you've cleverly modeled using Bayes, it's now .80 (say you've tied your candidates political fortunes to the performance of the economy), your prior beliefs can be modeled (after some tuning of $\\alpha$, $\\beta$, the input variable) by the beta distribution.\n",
    "\n",
    "**The beta function** in contrast, is often used as a scaling term that ensures your model is bounded by (0, 1).\n",
    " "
   ]
  },
  {
   "cell_type": "markdown",
   "metadata": {
    "collapsed": true
   },
   "source": [
    "Build the Beta function into Python using the math library"
   ]
  },
  {
   "cell_type": "code",
   "execution_count": null,
   "metadata": {
    "collapsed": false
   },
   "outputs": [],
   "source": [
    "import math\n",
    "from scipy.special import gamma as Gamma\n",
    "from scipy.stats import beta\n",
    "\n",
    "def my_beta(a,b):\n",
    "    beta_num = (math.gamma(a)*math.gamma(b))/math.gamma(a+b)\n",
    "    return beta_num"
   ]
  },
  {
   "cell_type": "markdown",
   "metadata": {},
   "source": [
    "#### 2.3 (An advanced preview) Introducing Dirchilet Distribution for Multi-level Categorical Analysis"
   ]
  },
  {
   "cell_type": "markdown",
   "metadata": {},
   "source": [
    "In the longer term, our main aim is to model the quotient, in particular, the percentage of voters for a particular candidate. The 'commonest' way to do this (to borrow a phrase from our British friends), is to utilize the Dirchilet distribution in our probability model: $\\begin{equation*}\\frac{1}{B(\\alpha)}\\prod_{i = 1}^{n}x_i^{\\alpha-1}\\end{equation*}$ (stay tuned for this later)  \n",
    "\n",
    "As you read in the summary in the table above, it's often used to model situations with more than \"2\" possiblities/buckets/outcomes/whatever. This is in fact a very powerful distribution. \n",
    "\n",
    "For our purposes, we would use this distribution to model situations where there are more than 2 candidates (Clinton, Bush, Perot in 1992, or maybe Clinton, Trump, Sanders in 2016. But for this lab,  let's assume there's just two alternatives. That way, we can utilize the simple binomial model and as our table states, we just need to use beta for that case.\n"
   ]
  },
  {
   "cell_type": "markdown",
   "metadata": {},
   "source": [
    "# Prepping the data"
   ]
  },
  {
   "cell_type": "markdown",
   "metadata": {
    "collapsed": true
   },
   "source": [
    "This case study will be based off of the following data: http://www.stat.columbia.edu/~gelman/arm/examples/election88/, from the **great one**, Dr. Gelman, one of the foremost researchers in Bayesian analysis. \n",
    "\n",
    "This election was ultimately a major victory for the Grand Old Party (GOP/Republicans), and propelled George H.W. Bush (the father of George W. Bush) into the presidency. \n",
    "\n",
    "Import the data, and delete the Unnamed column"
   ]
  },
  {
   "cell_type": "code",
   "execution_count": null,
   "metadata": {
    "collapsed": false
   },
   "outputs": [],
   "source": [
    "import pandas as pd\n",
    "\n",
    "# Reading in the csv file\n",
    "pre_poll = pd.read_csv('polls.csv')\n",
    "\n",
    "pre_poll.head(10)"
   ]
  },
  {
   "cell_type": "code",
   "execution_count": null,
   "metadata": {
    "collapsed": false
   },
   "outputs": [],
   "source": [
    "# We can remove org, as it is just one value -- Special note, in general, we probably don't want to do this, because \n",
    "# there may be a chance we want to merge/join this file with another and that column could end up being a unique identifier for \n",
    "# a subset of data in our large dataset\n",
    "print pre_poll['org'].value_counts()\n",
    "pre_poll.drop('org', axis=1, inplace=True)\n",
    "pre_poll.head()"
   ]
  },
  {
   "cell_type": "markdown",
   "metadata": {},
   "source": [
    "Now that we have the data read in, we would like to partition the data into states so we can do state-specific inference "
   ]
  },
  {
   "cell_type": "markdown",
   "metadata": {
    "collapsed": true
   },
   "source": [
    "Summarize the age variable with counts"
   ]
  },
  {
   "cell_type": "code",
   "execution_count": null,
   "metadata": {
    "collapsed": false
   },
   "outputs": [],
   "source": [
    "# Determine the number of yers of the data\n",
    "pre_poll['age'].value_counts().head()"
   ]
  },
  {
   "cell_type": "markdown",
   "metadata": {
    "collapsed": true
   },
   "source": [
    "Summarize the state with counts"
   ]
  },
  {
   "cell_type": "code",
   "execution_count": null,
   "metadata": {
    "collapsed": false
   },
   "outputs": [],
   "source": [
    "# Determine the number of entities/states of the data\n",
    "pre_poll['state'].value_counts()"
   ]
  },
  {
   "cell_type": "markdown",
   "metadata": {
    "collapsed": true
   },
   "source": [
    "cretae a data frame with only state and age"
   ]
  },
  {
   "cell_type": "code",
   "execution_count": null,
   "metadata": {
    "collapsed": false
   },
   "outputs": [],
   "source": [
    "# We need to partition the data into individual data frames to construct our Bayesian inference on \n",
    "c1 = pre_poll['state'] == 1\n",
    "c2 = pre_poll['age'] == 4\n",
    "subset_interest = pre_poll[c1 & c2]\n",
    "subset_interest"
   ]
  },
  {
   "cell_type": "code",
   "execution_count": null,
   "metadata": {
    "collapsed": false
   },
   "outputs": [],
   "source": [
    "test_set = subset_interest.dropna()\n",
    "\n",
    "print test_set.head()\n",
    "\n",
    "len(test_set['bush'].unique())"
   ]
  },
  {
   "cell_type": "markdown",
   "metadata": {
    "collapsed": true
   },
   "source": [
    "Great, now let's do some basic exploratory analysis on the polling data. Let's construct the Bush support for state-age cohorts, and save that data for use in the dictionary, container."
   ]
  },
  {
   "cell_type": "code",
   "execution_count": null,
   "metadata": {
    "collapsed": false
   },
   "outputs": [],
   "source": [
    "import numpy as np\n",
    "container = {}\n",
    "bush_quotient = 0\n",
    "\n",
    "for age in pre_poll['age'].unique():     # Spanning through all year-state combinations\n",
    "    for state in pre_poll['state'].unique(): \n",
    "        c1 = pre_poll['state'] == state\n",
    "        c2 = pre_poll['age'] == age\n",
    "        subset_interest = pre_poll[c1 & c2]  # Subsetting the data \n",
    "        \n",
    "        contain = subset_interest['bush'].unique()  \n",
    "        contain = contain[~np.isnan(contain)]   # Remove the NaNs - Think why can't we use dropna()?\n",
    "        \n",
    "        if len(contain) == 2:\n",
    "            #Computing the Quotient that polled for Bush in the pre-poll for a particular age-state combination\n",
    "            bush_quotient = float(subset_interest['bush'].value_counts()[1])/(float(subset_interest['bush'].value_counts()[1])+float(subset_interest['bush'].value_counts()[0]))\n",
    "            temp_name = str(state)+','+str(age)\n",
    "            container[temp_name] = bush_quotient\n",
    "\n",
    "            \n",
    "# Likewise, let's also produce a dictionary with the general poll percentages for state (no age)\n",
    "\n",
    "container2 ={}\n",
    "for state in pre_poll['state'].unique(): \n",
    "    c1 = pre_poll['state'] == state\n",
    "    subset_interest = pre_poll[c1]  # Subsetting the data \n",
    "    contain = subset_interest['bush'].unique()  \n",
    "    contain = contain[~np.isnan(contain)]   # Remove the NaNs - Think why can't we use dropna()?\n",
    "        \n",
    "    if len(contain) == 2:\n",
    "        bush_quotient = float(subset_interest['bush'].value_counts()[1])/(float(subset_interest['bush'].value_counts()[1])+float(subset_interest['bush'].value_counts()[0]))\n",
    "        temp_name = str(state)\n",
    "        container2[temp_name] = bush_quotient"
   ]
  },
  {
   "cell_type": "markdown",
   "metadata": {},
   "source": [
    "You can also probably do something similar to the method above by utilizing the groupby method in Pandas\n",
    "\n",
    "http://pandas.pydata.org/pandas-docs/stable/generated/pandas.DataFrame.groupby.html\n",
    "\n",
    "If you'd like extra practice, please go ahead and recreate the above with this simple pandas method"
   ]
  },
  {
   "cell_type": "code",
   "execution_count": null,
   "metadata": {
    "collapsed": true
   },
   "outputs": [],
   "source": [
    "# Write your optional procedure here"
   ]
  },
  {
   "cell_type": "markdown",
   "metadata": {
    "collapsed": true
   },
   "source": [
    "Let's just check out what # 1 shows (all ages)"
   ]
  },
  {
   "cell_type": "code",
   "execution_count": null,
   "metadata": {
    "collapsed": false
   },
   "outputs": [],
   "source": [
    "container2['1']"
   ]
  },
  {
   "cell_type": "code",
   "execution_count": null,
   "metadata": {
    "collapsed": false
   },
   "outputs": [],
   "source": [
    "# We also have the actual Election 88 sample percentages to compare with the polling. Let's load the data just to have a look\n",
    "\n",
    "election88_dat = pd.read_csv('election88.csv')\n",
    "election88_dat.head()"
   ]
  },
  {
   "cell_type": "markdown",
   "metadata": {},
   "source": [
    "So the electoral data shows that the actual results were .59, whereas the polling showed .71. Does that mean Bush somehow lost almost 17% of his support from the time of the poll to the election? We can put some clarify on this question by doing a simple Bayesian computation"
   ]
  },
  {
   "cell_type": "markdown",
   "metadata": {},
   "source": [
    "# Combining The Prior and Likelihood "
   ]
  },
  {
   "cell_type": "markdown",
   "metadata": {},
   "source": [
    "We see from the table way back at the top that using Beta-Binomial Prior-Likelihood combination allows us to remove the denominator/scaling term, and makes the right-hand side of the Bayesian formula analytically tractable (we can use a Riemann or 'normal' Integral or a simple summation) to compute the probability. Wonderful, polling data is naturally contextualized using Binomial distribution! \n",
    "\n",
    "So let's test whether or not $\\theta \\le .65$, that would basically be the following closed form equation : \n",
    "$$P(\\theta \\le .65) = \\frac{\\Gamma( 404 )}{\\Gamma(141)\\Gamma (263)} \\int_{0}^{.65} \\theta^{144}(1-\\theta)^{59}\\theta^{119}(1-\\theta)^{82}$$\n",
    "\n",
    "Note: A closed form equation is just a fancy way to mean you can write write something as A = **blah**, where **blah** is a formula that can be computed and is not infinite. \n"
   ]
  },
  {
   "cell_type": "code",
   "execution_count": null,
   "metadata": {
    "collapsed": false
   },
   "outputs": [],
   "source": [
    "import scipy.integrate as integrate\n",
    "from scipy.stats import beta\n",
    "\n",
    "\n",
    "# UN comment to get the error \n",
    "# 1/my_beta(141, 263)\n",
    "def func1(x):\n",
    "    return (x)**263*(1-x)**141\n",
    "\n",
    "\n",
    "integrate.quad(lambda x: func1(x) ,0, .65)[0]"
   ]
  },
  {
   "cell_type": "markdown",
   "metadata": {
    "collapsed": true
   },
   "source": [
    "Uh oh, doesn't work.... what happened? Well, the gamma funciton is not computaitonally tractable. We'll need to figure out, A different way to compute Beta..... what can that be? \n",
    "\n",
    "What does tractability mean in data science/computer science? First let's look deeper at my_beta above. Note we use the method gamma to construct beta. This method refers to the gamma **function** and not the distribution. What is gamma? \n",
    "\n",
    "Please read the following:\n",
    "http://mathworld.wolfram.com/GammaFunction.html\n",
    "\n",
    "Note $\\Gamma(a)=(a-1)!$, and if you recall (a-1)! = (a-1)(a-2)...(2)(1). For fun, try to calculate $\\Gamma(90)$, $\\Gamma(100)$, anything funny happen? Overflow you say? Yep. Gamma explodes very quickly. This is bad for computers (or more precisely Von-Neumann computers -which we all currently use). \n",
    "\n",
    "Therefore, we need to find some trick around this explosion. What about logs? Take My_beta and take the log (something you should have had some practice with so far). "
   ]
  },
  {
   "cell_type": "code",
   "execution_count": null,
   "metadata": {
    "collapsed": false
   },
   "outputs": [],
   "source": [
    "def log_beta(a,b):\n",
    "    beta_num = math.exp(math.lgamma(a) + math.lgamma(b) - math.lgamma(a+b))\n",
    "    return beta_num\n"
   ]
  },
  {
   "cell_type": "code",
   "execution_count": null,
   "metadata": {
    "collapsed": false
   },
   "outputs": [],
   "source": [
    "log_beta(141,263)*integrate.quad(lambda x: func1(x) ,0, .65)[0]"
   ]
  },
  {
   "cell_type": "markdown",
   "metadata": {},
   "source": [
    "# Conclusion and Towards The Future"
   ]
  },
  {
   "cell_type": "markdown",
   "metadata": {
    "collapsed": true
   },
   "source": [
    "We see that the $P(\\theta \\le .65)$ is very close to 0, and therefore we believe the poll did not provide \"good\" information with respect to the actual electoral results "
   ]
  }
 ],
 "metadata": {
  "kernelspec": {
   "display_name": "Python [Root]",
   "language": "python",
   "name": "Python [Root]"
  },
  "language_info": {
   "codemirror_mode": {
    "name": "ipython",
    "version": 2
   },
   "file_extension": ".py",
   "mimetype": "text/x-python",
   "name": "python",
   "nbconvert_exporter": "python",
   "pygments_lexer": "ipython2",
   "version": "2.7.12"
  }
 },
 "nbformat": 4,
 "nbformat_minor": 0
}
