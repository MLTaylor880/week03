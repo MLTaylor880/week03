{
 "cells": [
  {
   "cell_type": "markdown",
   "metadata": {},
   "source": [
    "# PCA Lab II"
   ]
  },
  {
   "cell_type": "code",
   "execution_count": 1,
   "metadata": {
    "collapsed": true
   },
   "outputs": [],
   "source": [
    "import pandas as pd\n",
    "import numpy as np\n",
    "import os\n",
    "from matplotlib import pyplot as plt\n",
    "import numpy as np\n",
    "import math\n",
    "from sklearn.preprocessing import StandardScaler\n",
    "from sklearn.decomposition import PCA \n",
    "from sklearn.cluster import KMeans\n",
    "from sklearn import metrics\n",
    "\n",
    "%matplotlib inline"
   ]
  },
  {
   "cell_type": "code",
   "execution_count": 3,
   "metadata": {
    "collapsed": false
   },
   "outputs": [
    {
     "data": {
      "text/plain": [
       "u'/Users/marthataylor/week03_classwork/week-07/2.4-pca-lab-2/code/starter-code'"
      ]
     },
     "execution_count": 3,
     "metadata": {},
     "output_type": "execute_result"
    }
   ],
   "source": [
    "pwd\n"
   ]
  },
  {
   "cell_type": "markdown",
   "metadata": {},
   "source": [
    "## Step 1: Setup the Data"
   ]
  },
  {
   "cell_type": "markdown",
   "metadata": {},
   "source": [
    "After you've downloaded the data from the repository, go ahead and load it with Pandas"
   ]
  },
  {
   "cell_type": "code",
   "execution_count": 4,
   "metadata": {
    "collapsed": false
   },
   "outputs": [],
   "source": [
    "#df.airports = pd.read_csv('airport_operations.csv')\n",
    "df = pd.read_csv(\"../../assets/datasets/airport_operations.csv\", index_col=0)"
   ]
  },
  {
   "cell_type": "code",
   "execution_count": 9,
   "metadata": {
    "collapsed": false
   },
   "outputs": [
    {
     "data": {
      "text/html": [
       "<div>\n",
       "<table border=\"1\" class=\"dataframe\">\n",
       "  <thead>\n",
       "    <tr style=\"text-align: right;\">\n",
       "      <th></th>\n",
       "      <th>year</th>\n",
       "      <th>departures for metric computation</th>\n",
       "      <th>arrivals for metric computation</th>\n",
       "      <th>percent on-time gate departures</th>\n",
       "      <th>percent on-time airport departures</th>\n",
       "      <th>percent on-time gate arrivals</th>\n",
       "      <th>average_gate_departure_delay</th>\n",
       "      <th>average_taxi_out_time</th>\n",
       "      <th>average taxi out delay</th>\n",
       "      <th>average airport departure delay</th>\n",
       "      <th>average airborne delay</th>\n",
       "      <th>average taxi in delay</th>\n",
       "      <th>average block delay</th>\n",
       "      <th>average gate arrival delay</th>\n",
       "    </tr>\n",
       "    <tr>\n",
       "      <th>airport</th>\n",
       "      <th></th>\n",
       "      <th></th>\n",
       "      <th></th>\n",
       "      <th></th>\n",
       "      <th></th>\n",
       "      <th></th>\n",
       "      <th></th>\n",
       "      <th></th>\n",
       "      <th></th>\n",
       "      <th></th>\n",
       "      <th></th>\n",
       "      <th></th>\n",
       "      <th></th>\n",
       "      <th></th>\n",
       "    </tr>\n",
       "  </thead>\n",
       "  <tbody>\n",
       "    <tr>\n",
       "      <th>ABQ</th>\n",
       "      <td>2004</td>\n",
       "      <td>53971</td>\n",
       "      <td>53818</td>\n",
       "      <td>0.803</td>\n",
       "      <td>0.7809</td>\n",
       "      <td>0.7921</td>\n",
       "      <td>10.38</td>\n",
       "      <td>9.89</td>\n",
       "      <td>2.43</td>\n",
       "      <td>12.1</td>\n",
       "      <td>2.46</td>\n",
       "      <td>0.83</td>\n",
       "      <td>2.55</td>\n",
       "      <td>10.87</td>\n",
       "    </tr>\n",
       "  </tbody>\n",
       "</table>\n",
       "</div>"
      ],
      "text/plain": [
       "         year  departures for metric computation  \\\n",
       "airport                                            \n",
       "ABQ      2004                              53971   \n",
       "\n",
       "         arrivals for metric computation  percent on-time gate departures  \\\n",
       "airport                                                                     \n",
       "ABQ                                53818                            0.803   \n",
       "\n",
       "         percent on-time airport departures  percent on-time gate arrivals  \\\n",
       "airport                                                                      \n",
       "ABQ                                  0.7809                         0.7921   \n",
       "\n",
       "         average_gate_departure_delay  average_taxi_out_time  \\\n",
       "airport                                                        \n",
       "ABQ                             10.38                   9.89   \n",
       "\n",
       "         average taxi out delay  average airport departure delay  \\\n",
       "airport                                                            \n",
       "ABQ                        2.43                             12.1   \n",
       "\n",
       "         average airborne delay  average taxi in delay  average block delay  \\\n",
       "airport                                                                       \n",
       "ABQ                        2.46                   0.83                 2.55   \n",
       "\n",
       "         average gate arrival delay  \n",
       "airport                              \n",
       "ABQ                           10.87  "
      ]
     },
     "execution_count": 9,
     "metadata": {},
     "output_type": "execute_result"
    }
   ],
   "source": [
    "df.head(1)"
   ]
  },
  {
   "cell_type": "code",
   "execution_count": 10,
   "metadata": {
    "collapsed": false
   },
   "outputs": [],
   "source": [
    "df = df.reset_index()"
   ]
  },
  {
   "cell_type": "code",
   "execution_count": 15,
   "metadata": {
    "collapsed": false
   },
   "outputs": [
    {
     "name": "stdout",
     "output_type": "stream",
     "text": [
      "Index([u'airport', u'year', u'departures for metric computation',\n",
      "       u'arrivals for metric computation', u'percent on-time gate departures',\n",
      "       u'percent on-time airport departures', u'percent on-time gate arrivals',\n",
      "       u'average_gate_departure_delay', u'average_taxi_out_time',\n",
      "       u'average taxi out delay', u'average airport departure delay',\n",
      "       u'average airborne delay', u'average taxi in delay',\n",
      "       u'average block delay', u'average gate arrival delay'],\n",
      "      dtype='object')\n",
      "(841, 15)\n"
     ]
    }
   ],
   "source": [
    "print df.columns\n",
    "print df.shape"
   ]
  },
  {
   "cell_type": "code",
   "execution_count": 11,
   "metadata": {
    "collapsed": true
   },
   "outputs": [],
   "source": [
    "y=df['airport']"
   ]
  },
  {
   "cell_type": "code",
   "execution_count": 16,
   "metadata": {
    "collapsed": false
   },
   "outputs": [
    {
     "data": {
      "text/plain": [
       "array([['ABQ', 2004, 53971, 53818, 0.8029999999999999, 0.7809, 0.7921,\n",
       "        10.38, 9.89, 2.43, 12.1, 2.46, 0.83, 2.55],\n",
       "       ['ABQ', 2005, 51829, 51877, 0.8140000000000001, 0.7922, 0.8001, 9.6,\n",
       "        9.79, 2.29, 11.2, 2.26, 0.89, 2.34],\n",
       "       ['ABQ', 2006, 49682, 51199, 0.7983, 0.7756, 0.7746, 10.84, 9.89,\n",
       "        2.16, 12.33, 2.12, 0.84, 2.66],\n",
       "       ['ABQ', 2007, 53255, 53611, 0.8005, 0.7704, 0.7647, 11.29, 10.34,\n",
       "        2.4, 12.95, 2.19, 1.29, 3.06],\n",
       "       ['ABQ', 2008, 49589, 49512, 0.8103, 0.7844, 0.7875, 10.79, 10.41,\n",
       "        2.41, 12.32, 1.82, 1.03, 2.79],\n",
       "       ['ABQ', 2009, 42550, 42704, 0.8341, 0.8147, 0.8224, 9.24, 9.88,\n",
       "        1.89, 10.45, 1.74, 0.92, 1.98],\n",
       "       ['ABQ', 2010, 42302, 42169, 0.8144, 0.7907, 0.8047, 10.25, 9.95,\n",
       "        2.05, 11.58, 1.66, 0.95, 1.9],\n",
       "       ['ABQ', 2011, 42283, 42297, 0.8072, 0.7758, 0.8022, 10.81, 10.5,\n",
       "        2.51, 12.57, 1.58, 0.84, 1.87],\n",
       "       ['ABQ', 2012, 39105, 39107, 0.8219, 0.794, 0.8177, 10.55, 10.27,\n",
       "        2.32, 12.11, 1.41, 0.98, 1.8],\n",
       "       ['ABQ', 2013, 35277, 34989, 0.7709999999999999, 0.7402, 0.7554,\n",
       "        12.56, 10.77, 2.64, 14.28, 1.6, 0.92, 2.35],\n",
       "       ['ABQ', 2014, 33292, 33137, 0.7451, 0.7148, 0.732, 14.3, 10.64,\n",
       "        2.41, 15.99, 1.73, 1.02, 2.4],\n",
       "       ['ANC', 2004, 16503, 15511, 0.7109, 0.677, 0.6502, 21.45, 12.41,\n",
       "        2.92, 23.05, 4.03, 1.08, 5.93],\n",
       "       ['ANC', 2005, 72043, 67034, 0.7394, 0.7061, 0.6955, 18.36, 12.19,\n",
       "        2.78, 19.97, 3.65, 1.01, 4.96],\n",
       "       ['ANC', 2006, 75708, 69995, 0.7771, 0.7455, 0.711, 15.56, 12.84,\n",
       "        2.54, 17.07, 4.29, 0.72, 5.83],\n",
       "       ['ANC', 2007, 78741, 73323, 0.7838, 0.7457, 0.7196, 15.69, 13.19,\n",
       "        2.29, 17.52, 5.13, 0.39, 5.87]], dtype=object)"
      ]
     },
     "execution_count": 16,
     "metadata": {},
     "output_type": "execute_result"
    }
   ],
   "source": [
    "# x=df.ix[:, 0:14].values\n",
    "# x[0:15]"
   ]
  },
  {
   "cell_type": "code",
   "execution_count": 21,
   "metadata": {
    "collapsed": true
   },
   "outputs": [],
   "source": [
    "x=df[[col for col in df.columns if col != 'airport']]"
   ]
  },
  {
   "cell_type": "code",
   "execution_count": 22,
   "metadata": {
    "collapsed": false
   },
   "outputs": [
    {
     "data": {
      "text/plain": [
       "(841, 14)"
      ]
     },
     "execution_count": 22,
     "metadata": {},
     "output_type": "execute_result"
    }
   ],
   "source": [
    "x.shape"
   ]
  },
  {
   "cell_type": "code",
   "execution_count": 23,
   "metadata": {
    "collapsed": false
   },
   "outputs": [
    {
     "data": {
      "text/plain": [
       "Index([u'year', u'departures for metric computation',\n",
       "       u'arrivals for metric computation', u'percent on-time gate departures',\n",
       "       u'percent on-time airport departures', u'percent on-time gate arrivals',\n",
       "       u'average_gate_departure_delay', u'average_taxi_out_time',\n",
       "       u'average taxi out delay', u'average airport departure delay',\n",
       "       u'average airborne delay', u'average taxi in delay',\n",
       "       u'average block delay', u'average gate arrival delay'],\n",
       "      dtype='object')"
      ]
     },
     "execution_count": 23,
     "metadata": {},
     "output_type": "execute_result"
    }
   ],
   "source": [
    "x.columns"
   ]
  },
  {
   "cell_type": "markdown",
   "metadata": {},
   "source": [
    "## Step 2: Explore the Data"
   ]
  },
  {
   "cell_type": "markdown",
   "metadata": {},
   "source": [
    "Next - Let's plot! You can use any plotting library of your choice, but be sure to explore all of the data."
   ]
  },
  {
   "cell_type": "code",
   "execution_count": 24,
   "metadata": {
    "collapsed": false
   },
   "outputs": [
    {
     "data": {
      "text/plain": [
       "Index([u'airport', u'year', u'departures for metric computation',\n",
       "       u'arrivals for metric computation', u'percent on-time gate departures',\n",
       "       u'percent on-time airport departures', u'percent on-time gate arrivals',\n",
       "       u'average_gate_departure_delay', u'average_taxi_out_time',\n",
       "       u'average taxi out delay', u'average airport departure delay',\n",
       "       u'average airborne delay', u'average taxi in delay',\n",
       "       u'average block delay', u'average gate arrival delay'],\n",
       "      dtype='object')"
      ]
     },
     "execution_count": 24,
     "metadata": {},
     "output_type": "execute_result"
    }
   ],
   "source": [
    "df.columns"
   ]
  },
  {
   "cell_type": "code",
   "execution_count": 28,
   "metadata": {
    "collapsed": false
   },
   "outputs": [
    {
     "data": {
      "image/png": "[encoded data removed]",
      "text/plain": [
       "<matplotlib.figure.Figure at 0x11a213e90>"
      ]
     },
     "metadata": {},
     "output_type": "display_data"
    }
   ],
   "source": [
    "plt.hist(df['percent on-time gate departures']);"
   ]
  },
  {
   "cell_type": "code",
   "execution_count": 31,
   "metadata": {
    "collapsed": false
   },
   "outputs": [
    {
     "data": {
      "image/png": "[encoded data removed]",
      "text/plain": [
       "<matplotlib.figure.Figure at 0x11a8f1f50>"
      ]
     },
     "metadata": {},
     "output_type": "display_data"
    }
   ],
   "source": [
    "plt.hist(df['average airport departure delay']);"
   ]
  },
  {
   "cell_type": "code",
   "execution_count": null,
   "metadata": {
    "collapsed": true
   },
   "outputs": [],
   "source": []
  },
  {
   "cell_type": "code",
   "execution_count": null,
   "metadata": {
    "collapsed": true
   },
   "outputs": [],
   "source": []
  },
  {
   "cell_type": "markdown",
   "metadata": {},
   "source": [
    "## Step 3: Define the Variables"
   ]
  },
  {
   "cell_type": "markdown",
   "metadata": {},
   "source": [
    "Next, let's define the x and y variables: Airport is going to be our \"x\" variable"
   ]
  },
  {
   "cell_type": "code",
   "execution_count": 34,
   "metadata": {
    "collapsed": false
   },
   "outputs": [
    {
     "name": "stdout",
     "output_type": "stream",
     "text": [
      "(841,)\n",
      "(841, 14)\n"
     ]
    }
   ],
   "source": [
    "print y.shape\n",
    "print x.shape"
   ]
  },
  {
   "cell_type": "markdown",
   "metadata": {},
   "source": [
    "## Step 4: Covariance Matrix"
   ]
  },
  {
   "cell_type": "markdown",
   "metadata": {},
   "source": [
    "Then, standardize the x variable for analysis"
   ]
  },
  {
   "cell_type": "code",
   "execution_count": 35,
   "metadata": {
    "collapsed": false
   },
   "outputs": [
    {
     "name": "stdout",
     "output_type": "stream",
     "text": [
      "(841, 14)\n",
      "[[-1.59402353 -0.55269892 -0.55179125  0.41670953  0.65820278  0.45978468\n",
      "  -0.67065288 -1.00619087 -0.4559899  -0.77571917 -0.38412754 -0.58849731\n",
      "  -0.76079377 -0.70168278]\n",
      " [-1.27702807 -0.57450712 -0.57162597  0.53460207  0.76985053  0.55704526\n",
      "  -0.83508009 -1.03257661 -0.51457083 -0.94394887 -0.55069174 -0.52044906\n",
      "  -0.9654201  -0.84232194]\n",
      " [-0.96003261 -0.59636622 -0.57855433  0.36633727  0.60583702  0.24702714\n",
      "  -0.57368298 -1.00619087 -0.56896741 -0.73272713 -0.66728667 -0.57715593\n",
      "  -0.65360855 -0.48960786]\n",
      " [-0.64303716 -0.55998868 -0.55390654  0.38991577  0.5544593   0.12666717\n",
      "  -0.47882113 -0.88745504 -0.46854296 -0.61683556 -0.6089892  -0.06679409\n",
      "  -0.26384411 -0.29092714]\n",
      " [-0.3260417  -0.59731307 -0.59579348  0.49494731  0.69278394  0.40385984\n",
      "  -0.58422319 -0.86898502 -0.46435861 -0.73459635 -0.91713297 -0.36166982\n",
      "  -0.52693511 -0.56550836]]\n"
     ]
    }
   ],
   "source": [
    "x = StandardScaler().fit_transform(x)\n",
    "print x.shape\n",
    "print x[0:5]"
   ]
  },
  {
   "cell_type": "code",
   "execution_count": null,
   "metadata": {
    "collapsed": true
   },
   "outputs": [],
   "source": []
  },
  {
   "cell_type": "code",
   "execution_count": null,
   "metadata": {
    "collapsed": true
   },
   "outputs": [],
   "source": []
  },
  {
   "cell_type": "code",
   "execution_count": null,
   "metadata": {
    "collapsed": true
   },
   "outputs": [],
   "source": []
  },
  {
   "cell_type": "code",
   "execution_count": 36,
   "metadata": {
    "collapsed": false
   },
   "outputs": [
    {
     "name": "stdout",
     "output_type": "stream",
     "text": [
      "[[ 1.00119048 -0.06920457 -0.06826954  0.01430972  0.05008518  0.09204365\n",
      "   0.02317489 -0.0430656  -0.154516   -0.02867646 -0.32755534 -0.03635544\n",
      "  -0.31670106 -0.05966818]\n",
      " [-0.06920457  1.00119048  1.00100766  0.12231773 -0.16437507  0.20939557\n",
      "  -0.05539575  0.6537683   0.62938398  0.20681577  0.33684867  0.83124203\n",
      "   0.29425884 -0.0557856 ]\n",
      " [-0.06826954  1.00100766  1.00119048  0.12232288 -0.16397662  0.20945784\n",
      "  -0.0560545   0.65186846  0.62868998  0.20597707  0.3357403   0.83028795\n",
      "   0.29142547 -0.05643154]\n",
      " [ 0.01430972  0.12231773  0.12232288  1.00119048  0.89738628  0.92193022\n",
      "  -0.96154118  0.03483233  0.1128457  -0.83082066 -0.35322638  0.15621044\n",
      "  -0.4029288  -0.8611695 ]\n",
      " [ 0.05008518 -0.16437507 -0.16397662  0.89738628  1.00119048  0.84392401\n",
      "  -0.90736639 -0.37144092 -0.33217912 -0.9651923  -0.56491312 -0.15533702\n",
      "  -0.57543726 -0.86601541]\n",
      " [ 0.09204365  0.20939557  0.20945784  0.92193022  0.84392401  1.00119048\n",
      "  -0.91469309 -0.01736132  0.05063063 -0.81034427 -0.3632486   0.1812428\n",
      "  -0.52621228 -0.95599381]\n",
      " [ 0.02317489 -0.05539575 -0.0560545  -0.96154118 -0.90736639 -0.91469309\n",
      "   1.00119048  0.09481493  0.00227861  0.91267551  0.4059959  -0.06725438\n",
      "   0.47831716  0.91806402]\n",
      " [-0.0430656   0.6537683   0.65186846  0.03483233 -0.37144092 -0.01736132\n",
      "   0.09481493  1.00119048  0.91701219  0.45973814  0.54126561  0.68587489\n",
      "   0.52179905  0.20650882]\n",
      " [-0.154516    0.62938398  0.62868998  0.1128457  -0.33217912  0.05063063\n",
      "   0.00227861  0.91701219  1.00119048  0.41105819  0.52396012  0.69923337\n",
      "   0.4633567   0.13309541]\n",
      " [-0.02867646  0.20681577  0.20597707 -0.83082066 -0.9651923  -0.81034427\n",
      "   0.91267551  0.45973814  0.41105819  1.00119048  0.58499004  0.22307609\n",
      "   0.61799737  0.8888016 ]\n",
      " [-0.32755534  0.33684867  0.3357403  -0.35322638 -0.56491312 -0.3632486\n",
      "   0.4059959   0.54126561  0.52396012  0.58499004  1.00119048  0.24359062\n",
      "   0.56105734  0.45035603]\n",
      " [-0.03635544  0.83124203  0.83028795  0.15621044 -0.15533702  0.1812428\n",
      "  -0.06725438  0.68587489  0.69923337  0.22307609  0.24359062  1.00119048\n",
      "   0.36851625 -0.01819667]\n",
      " [-0.31670106  0.29425884  0.29142547 -0.4029288  -0.57543726 -0.52621228\n",
      "   0.47831716  0.52179905  0.4633567   0.61799737  0.56105734  0.36851625\n",
      "   1.00119048  0.62255309]\n",
      " [-0.05966818 -0.0557856  -0.05643154 -0.8611695  -0.86601541 -0.95599381\n",
      "   0.91806402  0.20650882  0.13309541  0.8888016   0.45035603 -0.01819667\n",
      "   0.62255309  1.00119048]]\n",
      "(14, 14)\n"
     ]
    }
   ],
   "source": [
    "covariance_matric = np.cov(x.T)\n",
    "print covariance_matric\n",
    "print covariance_matric.shape"
   ]
  },
  {
   "cell_type": "code",
   "execution_count": null,
   "metadata": {
    "collapsed": true
   },
   "outputs": [],
   "source": []
  },
  {
   "cell_type": "markdown",
   "metadata": {},
   "source": [
    "Next, create the covariance matrix from the standardized x-values and decompose these values to find the eigenvalues and eigenvectors"
   ]
  },
  {
   "cell_type": "code",
   "execution_count": 37,
   "metadata": {
    "collapsed": true
   },
   "outputs": [],
   "source": [
    "eigenvales, eigenvectors = np.linalg.eig(covariance_matric)"
   ]
  },
  {
   "cell_type": "code",
   "execution_count": 38,
   "metadata": {
    "collapsed": false
   },
   "outputs": [
    {
     "name": "stdout",
     "output_type": "stream",
     "text": [
      "(14,)\n",
      "[  6.45349601e+00   4.30952372e+00   1.21824879e+00   7.37875394e-01\n",
      "   5.10954558e-01   3.49353222e-01   1.66799275e-01   1.20220515e-01\n",
      "   7.32036815e-02   6.41924376e-02   9.59074587e-03   2.34264664e-03\n",
      "   1.64364385e-04   7.01306545e-04]\n"
     ]
    }
   ],
   "source": [
    "print eigenvales.shape\n",
    "print eigenvales"
   ]
  },
  {
   "cell_type": "code",
   "execution_count": null,
   "metadata": {
    "collapsed": true
   },
   "outputs": [],
   "source": []
  },
  {
   "cell_type": "code",
   "execution_count": null,
   "metadata": {
    "collapsed": true
   },
   "outputs": [],
   "source": []
  },
  {
   "cell_type": "code",
   "execution_count": null,
   "metadata": {
    "collapsed": true
   },
   "outputs": [],
   "source": []
  },
  {
   "cell_type": "code",
   "execution_count": null,
   "metadata": {
    "collapsed": true
   },
   "outputs": [],
   "source": []
  },
  {
   "cell_type": "code",
   "execution_count": null,
   "metadata": {
    "collapsed": true
   },
   "outputs": [],
   "source": []
  },
  {
   "cell_type": "markdown",
   "metadata": {},
   "source": [
    "# Step 5: Eigenpairs"
   ]
  },
  {
   "cell_type": "markdown",
   "metadata": {},
   "source": [
    "Then, check your eigenvalues and eigenvectors:"
   ]
  },
  {
   "cell_type": "code",
   "execution_count": null,
   "metadata": {
    "collapsed": true
   },
   "outputs": [],
   "source": []
  },
  {
   "cell_type": "markdown",
   "metadata": {},
   "source": [
    "To find the principal componants, find the eigenpairs, and sort them from highest to lowest. "
   ]
  },
  {
   "cell_type": "code",
   "execution_count": null,
   "metadata": {
    "collapsed": true
   },
   "outputs": [],
   "source": []
  },
  {
   "cell_type": "markdown",
   "metadata": {},
   "source": [
    "## Step 6: Explained Variance"
   ]
  },
  {
   "cell_type": "code",
   "execution_count": 69,
   "metadata": {
    "collapsed": true
   },
   "outputs": [],
   "source": []
  },
  {
   "cell_type": "code",
   "execution_count": null,
   "metadata": {
    "collapsed": true
   },
   "outputs": [],
   "source": []
  },
  {
   "cell_type": "markdown",
   "metadata": {},
   "source": [
    "Now, calculate the explained variance and the Cumulative explained variance"
   ]
  },
  {
   "cell_type": "code",
   "execution_count": 71,
   "metadata": {
    "collapsed": true
   },
   "outputs": [],
   "source": []
  },
  {
   "cell_type": "code",
   "execution_count": null,
   "metadata": {
    "collapsed": true
   },
   "outputs": [],
   "source": []
  },
  {
   "cell_type": "markdown",
   "metadata": {},
   "source": [
    "** What does the explained variance tell us?**: Here, we can see that 81.77% of the behavior can be explained by the first two principal components"
   ]
  },
  {
   "cell_type": "markdown",
   "metadata": {},
   "source": [
    "## Step 7: Perform the PCA"
   ]
  },
  {
   "cell_type": "markdown",
   "metadata": {},
   "source": [
    "Instead of creating the projection matrix, we're going to use Scikit's built in function. Now that we have discovered the principal componants, we have an educated idea on how many componants to pass to the function. "
   ]
  },
  {
   "cell_type": "code",
   "execution_count": 73,
   "metadata": {
    "collapsed": true
   },
   "outputs": [],
   "source": []
  },
  {
   "cell_type": "markdown",
   "metadata": {},
   "source": [
    "Create a dataframe from the PCA results"
   ]
  },
  {
   "cell_type": "code",
   "execution_count": 74,
   "metadata": {
    "collapsed": false
   },
   "outputs": [],
   "source": []
  },
  {
   "cell_type": "markdown",
   "metadata": {},
   "source": [
    "Now, create a new dataframe that uses the airport and year from the original set and join the PCA results with it to form a new set"
   ]
  },
  {
   "cell_type": "code",
   "execution_count": 87,
   "metadata": {
    "collapsed": false
   },
   "outputs": [],
   "source": []
  },
  {
   "cell_type": "code",
   "execution_count": 88,
   "metadata": {
    "collapsed": false
   },
   "outputs": [],
   "source": []
  },
  {
   "cell_type": "markdown",
   "metadata": {},
   "source": [
    "Next, graph the results onto the new feature space"
   ]
  },
  {
   "cell_type": "code",
   "execution_count": null,
   "metadata": {
    "collapsed": true
   },
   "outputs": [],
   "source": []
  },
  {
   "cell_type": "markdown",
   "metadata": {},
   "source": [
    "**What does the graph tell us?**"
   ]
  },
  {
   "cell_type": "markdown",
   "metadata": {},
   "source": [
    "## Step 8: Cluster with K-Means"
   ]
  },
  {
   "cell_type": "markdown",
   "metadata": {},
   "source": [
    "Set up the k-means clustering analysis. Use the graph from above to derive \"k\""
   ]
  },
  {
   "cell_type": "code",
   "execution_count": 132,
   "metadata": {
    "collapsed": false
   },
   "outputs": [],
   "source": []
  },
  {
   "cell_type": "markdown",
   "metadata": {},
   "source": [
    "Compute the labels and centroids"
   ]
  },
  {
   "cell_type": "code",
   "execution_count": 133,
   "metadata": {
    "collapsed": true
   },
   "outputs": [],
   "source": []
  },
  {
   "cell_type": "markdown",
   "metadata": {},
   "source": [
    "Compute the Silhoutte Score"
   ]
  },
  {
   "cell_type": "code",
   "execution_count": null,
   "metadata": {
    "collapsed": true
   },
   "outputs": [],
   "source": []
  },
  {
   "cell_type": "markdown",
   "metadata": {},
   "source": [
    "Lastly, plot the new two-dimensional data along with their cluster assignments: "
   ]
  },
  {
   "cell_type": "code",
   "execution_count": 141,
   "metadata": {
    "collapsed": true
   },
   "outputs": [],
   "source": []
  },
  {
   "cell_type": "code",
   "execution_count": null,
   "metadata": {
    "collapsed": true
   },
   "outputs": [],
   "source": []
  }
 ],
 "metadata": {
  "anaconda-cloud": {},
  "kernelspec": {
   "display_name": "Python [Root]",
   "language": "python",
   "name": "Python [Root]"
  },
  "language_info": {
   "codemirror_mode": {
    "name": "ipython",
    "version": 2
   },
   "file_extension": ".py",
   "mimetype": "text/x-python",
   "name": "python",
   "nbconvert_exporter": "python",
   "pygments_lexer": "ipython2",
   "version": "2.7.12"
  }
 },
 "nbformat": 4,
 "nbformat_minor": 0
}
