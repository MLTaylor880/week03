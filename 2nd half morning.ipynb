{
 "cells": [
  {
   "cell_type": "code",
   "execution_count": 47,
   "metadata": {
    "collapsed": false
   },
   "outputs": [
    {
     "data": {
      "text/html": [
       "<div>\n",
       "<table border=\"1\" class=\"dataframe\">\n",
       "  <thead>\n",
       "    <tr style=\"text-align: right;\">\n",
       "      <th></th>\n",
       "      <th>CRIM</th>\n",
       "      <th>ZN</th>\n",
       "      <th>INDUS</th>\n",
       "      <th>CHAS</th>\n",
       "      <th>NOX</th>\n",
       "      <th>RM</th>\n",
       "      <th>AGE</th>\n",
       "      <th>DIS</th>\n",
       "      <th>RAD</th>\n",
       "      <th>TAX</th>\n",
       "      <th>PTRATIO</th>\n",
       "      <th>B</th>\n",
       "      <th>LSTAT</th>\n",
       "    </tr>\n",
       "  </thead>\n",
       "  <tbody>\n",
       "    <tr>\n",
       "      <th>0</th>\n",
       "      <td>0.00632</td>\n",
       "      <td>18.0</td>\n",
       "      <td>2.31</td>\n",
       "      <td>0.0</td>\n",
       "      <td>0.538</td>\n",
       "      <td>6.575</td>\n",
       "      <td>65.2</td>\n",
       "      <td>4.0900</td>\n",
       "      <td>1.0</td>\n",
       "      <td>296.0</td>\n",
       "      <td>15.3</td>\n",
       "      <td>396.90</td>\n",
       "      <td>4.98</td>\n",
       "    </tr>\n",
       "    <tr>\n",
       "      <th>1</th>\n",
       "      <td>0.02731</td>\n",
       "      <td>0.0</td>\n",
       "      <td>7.07</td>\n",
       "      <td>0.0</td>\n",
       "      <td>0.469</td>\n",
       "      <td>6.421</td>\n",
       "      <td>78.9</td>\n",
       "      <td>4.9671</td>\n",
       "      <td>2.0</td>\n",
       "      <td>242.0</td>\n",
       "      <td>17.8</td>\n",
       "      <td>396.90</td>\n",
       "      <td>9.14</td>\n",
       "    </tr>\n",
       "    <tr>\n",
       "      <th>2</th>\n",
       "      <td>0.02729</td>\n",
       "      <td>0.0</td>\n",
       "      <td>7.07</td>\n",
       "      <td>0.0</td>\n",
       "      <td>0.469</td>\n",
       "      <td>7.185</td>\n",
       "      <td>61.1</td>\n",
       "      <td>4.9671</td>\n",
       "      <td>2.0</td>\n",
       "      <td>242.0</td>\n",
       "      <td>17.8</td>\n",
       "      <td>392.83</td>\n",
       "      <td>4.03</td>\n",
       "    </tr>\n",
       "    <tr>\n",
       "      <th>3</th>\n",
       "      <td>0.03237</td>\n",
       "      <td>0.0</td>\n",
       "      <td>2.18</td>\n",
       "      <td>0.0</td>\n",
       "      <td>0.458</td>\n",
       "      <td>6.998</td>\n",
       "      <td>45.8</td>\n",
       "      <td>6.0622</td>\n",
       "      <td>3.0</td>\n",
       "      <td>222.0</td>\n",
       "      <td>18.7</td>\n",
       "      <td>394.63</td>\n",
       "      <td>2.94</td>\n",
       "    </tr>\n",
       "    <tr>\n",
       "      <th>4</th>\n",
       "      <td>0.06905</td>\n",
       "      <td>0.0</td>\n",
       "      <td>2.18</td>\n",
       "      <td>0.0</td>\n",
       "      <td>0.458</td>\n",
       "      <td>7.147</td>\n",
       "      <td>54.2</td>\n",
       "      <td>6.0622</td>\n",
       "      <td>3.0</td>\n",
       "      <td>222.0</td>\n",
       "      <td>18.7</td>\n",
       "      <td>396.90</td>\n",
       "      <td>5.33</td>\n",
       "    </tr>\n",
       "  </tbody>\n",
       "</table>\n",
       "</div>"
      ],
      "text/plain": [
       "      CRIM    ZN  INDUS  CHAS    NOX     RM   AGE     DIS  RAD    TAX  \\\n",
       "0  0.00632  18.0   2.31   0.0  0.538  6.575  65.2  4.0900  1.0  296.0   \n",
       "1  0.02731   0.0   7.07   0.0  0.469  6.421  78.9  4.9671  2.0  242.0   \n",
       "2  0.02729   0.0   7.07   0.0  0.469  7.185  61.1  4.9671  2.0  242.0   \n",
       "3  0.03237   0.0   2.18   0.0  0.458  6.998  45.8  6.0622  3.0  222.0   \n",
       "4  0.06905   0.0   2.18   0.0  0.458  7.147  54.2  6.0622  3.0  222.0   \n",
       "\n",
       "   PTRATIO       B  LSTAT  \n",
       "0     15.3  396.90   4.98  \n",
       "1     17.8  396.90   9.14  \n",
       "2     17.8  392.83   4.03  \n",
       "3     18.7  394.63   2.94  \n",
       "4     18.7  396.90   5.33  "
      ]
     },
     "execution_count": 47,
     "metadata": {},
     "output_type": "execute_result"
    }
   ],
   "source": [
    "# Let's load in some packages\n",
    "\n",
    "% matplotlib inline\n",
    "\n",
    "from matplotlib import pyplot as plt\n",
    "# Make the plots bigger\n",
    "plt.rcParams['figure.figsize'] = 10, 10\n",
    "\n",
    "import numpy as np\n",
    "import pandas as pd\n",
    "from scipy import stats\n",
    "from sklearn import datasets\n",
    "import statsmodels.api as sm\n",
    "\n",
    "# Load the Boston Housing dataset\n",
    "boston = datasets.load_boston()\n",
    "df = pd.DataFrame(boston.data, columns=boston.feature_names)\n",
    "data=datasets.load_boston()\n",
    "\n",
    "# Take a look at the data again\n",
    "df.head()\n"
   ]
  },
  {
   "cell_type": "code",
   "execution_count": 16,
   "metadata": {
    "collapsed": false
   },
   "outputs": [
    {
     "data": {
      "text/plain": [
       "Index([u'CRIM', u'ZN', u'INDUS', u'CHAS', u'NOX', u'RM', u'AGE', u'DIS',\n",
       "       u'RAD', u'TAX', u'PTRATIO', u'B', u'LSTAT'],\n",
       "      dtype='object')"
      ]
     },
     "execution_count": 16,
     "metadata": {},
     "output_type": "execute_result"
    }
   ],
   "source": [
    "df.columns"
   ]
  },
  {
   "cell_type": "code",
   "execution_count": 4,
   "metadata": {
    "collapsed": false
   },
   "outputs": [
    {
     "name": "stdout",
     "output_type": "stream",
     "text": [
      "Boston House Prices dataset\n",
      "\n",
      "Notes\n",
      "------\n",
      "Data Set Characteristics:  \n",
      "\n",
      "    :Number of Instances: 506 \n",
      "\n",
      "    :Number of Attributes: 13 numeric/categorical predictive\n",
      "    \n",
      "    :Median Value (attribute 14) is usually the target\n",
      "\n",
      "    :Attribute Information (in order):\n",
      "        - CRIM     per capita crime rate by town\n",
      "        - ZN       proportion of residential land zoned for lots over 25,000 sq.ft.\n",
      "        - INDUS    proportion of non-retail business acres per town\n",
      "        - CHAS     Charles River dummy variable (= 1 if tract bounds river; 0 otherwise)\n",
      "        - NOX      nitric oxides concentration (parts per 10 million)\n",
      "        - RM       average number of rooms per dwelling\n",
      "        - AGE      proportion of owner-occupied units built prior to 1940\n",
      "        - DIS      weighted distances to five Boston employment centres\n",
      "        - RAD      index of accessibility to radial highways\n",
      "        - TAX      full-value property-tax rate per $10,000\n",
      "        - PTRATIO  pupil-teacher ratio by town\n",
      "        - B        1000(Bk - 0.63)^2 where Bk is the proportion of blacks by town\n",
      "        - LSTAT    % lower status of the population\n",
      "        - MEDV     Median value of owner-occupied homes in $1000's\n",
      "\n",
      "    :Missing Attribute Values: None\n",
      "\n",
      "    :Creator: Harrison, D. and Rubinfeld, D.L.\n",
      "\n",
      "This is a copy of UCI ML housing dataset.\n",
      "http://archive.ics.uci.edu/ml/datasets/Housing\n",
      "\n",
      "\n",
      "This dataset was taken from the StatLib library which is maintained at Carnegie Mellon University.\n",
      "\n",
      "The Boston house-price data of Harrison, D. and Rubinfeld, D.L. 'Hedonic\n",
      "prices and the demand for clean air', J. Environ. Economics & Management,\n",
      "vol.5, 81-102, 1978.   Used in Belsley, Kuh & Welsch, 'Regression diagnostics\n",
      "...', Wiley, 1980.   N.B. Various transformations are used in the table on\n",
      "pages 244-261 of the latter.\n",
      "\n",
      "The Boston house-price data has been used in many machine learning papers that address regression\n",
      "problems.   \n",
      "     \n",
      "**References**\n",
      "\n",
      "   - Belsley, Kuh & Welsch, 'Regression diagnostics: Identifying Influential Data and Sources of Collinearity', Wiley, 1980. 244-261.\n",
      "   - Quinlan,R. (1993). Combining Instance-Based and Model-Based Learning. In Proceedings on the Tenth International Conference of Machine Learning, 236-243, University of Massachusetts, Amherst. Morgan Kaufmann.\n",
      "   - many more! (see http://archive.ics.uci.edu/ml/datasets/Housing)\n",
      "\n"
     ]
    }
   ],
   "source": [
    "print boston.DESCR"
   ]
  },
  {
   "cell_type": "code",
   "execution_count": 7,
   "metadata": {
    "collapsed": false
   },
   "outputs": [
    {
     "data": {
      "text/plain": [
       "<matplotlib.text.Text at 0x117596450>"
      ]
     },
     "execution_count": 7,
     "metadata": {},
     "output_type": "execute_result"
    },
    {
     "data": {
      "image/png": "[encoded data removed]",
      "text/plain": [
       "<matplotlib.figure.Figure at 0x115162d90>"
      ]
     },
     "metadata": {},
     "output_type": "display_data"
    }
   ],
   "source": [
    "\n",
    "# Fit a line\n",
    "\n",
    "X = df[[\"PTRATIO\"]]\n",
    "y = df[\"AGE\"]\n",
    "\n",
    "model = sm.OLS(y, X).fit()\n",
    "predictions = model.predict(X)\n",
    "\n",
    "# PREDICTICTION  is y hat\n",
    "# Plot the data and the best fit line\n",
    "## The data\n",
    "plt.scatter(X, y)\n",
    "## The line / model\n",
    "plt.plot(X, predictions)\n",
    "plt.ylabel(\"AGE\")\n",
    "plt.xlabel(\"PTRATIO\")"
   ]
  },
  {
   "cell_type": "code",
   "execution_count": 6,
   "metadata": {
    "collapsed": false
   },
   "outputs": [
    {
     "data": {
      "text/plain": [
       "array([ 56.78455838,  66.06308099,  66.06308099,  69.40334913,\n",
       "        69.40334913,  69.40334913,  56.41341748,  56.41341748,\n",
       "        56.41341748,  56.41341748,  56.41341748,  56.41341748,\n",
       "        56.41341748,  77.93958993,  77.93958993,  77.93958993,\n",
       "        77.93958993,  77.93958993,  77.93958993,  77.93958993,\n",
       "        77.93958993,  77.93958993,  77.93958993,  77.93958993,\n",
       "        77.93958993,  77.93958993,  77.93958993,  77.93958993,\n",
       "        77.93958993,  77.93958993,  77.93958993,  77.93958993,\n",
       "        77.93958993,  77.93958993,  77.93958993,  71.25905365,\n",
       "        71.25905365,  71.25905365,  71.25905365,  67.91878551,\n",
       "        67.91878551,  66.4342219 ,  66.4342219 ,  66.4342219 ,\n",
       "        66.4342219 ,  66.4342219 ,  66.4342219 ,  66.4342219 ,\n",
       "        66.4342219 ,  66.4342219 ,  62.35167195,  62.35167195,\n",
       "        62.35167195,  62.35167195,  78.31073084,  66.4342219 ,\n",
       "        64.20737647,  56.04227657,  73.11475818,  73.11475818,\n",
       "        73.11475818,  73.11475818,  73.11475818,  73.11475818,\n",
       "        69.03220823,  59.75368562,  59.75368562,  70.14563094,\n",
       "        70.14563094,  70.14563094,  71.25905365,  71.25905365,\n",
       "        71.25905365,  71.25905365,  69.40334913,  69.40334913,\n",
       "        69.40334913,  69.40334913,  69.40334913,  69.40334913,\n",
       "        70.51677185,  70.51677185,  70.51677185,  70.51677185,\n",
       "        68.66106732,  68.66106732,  68.66106732,  68.66106732,\n",
       "        66.06308099,  66.06308099,  66.06308099,  66.06308099,\n",
       "        67.54764461,  67.54764461,  67.54764461,  66.8053628 ,\n",
       "        66.8053628 ,  66.8053628 ,  66.8053628 ,  66.8053628 ,\n",
       "        77.56844903,  77.56844903,  77.56844903,  77.56844903,\n",
       "        77.56844903,  77.56844903,  77.56844903,  77.56844903,\n",
       "        77.56844903,  77.56844903,  77.56844903,  66.06308099,\n",
       "        66.06308099,  66.06308099,  66.06308099,  66.06308099,\n",
       "        66.06308099,  66.06308099,  66.06308099,  66.06308099,\n",
       "        70.88791275,  70.88791275,  70.88791275,  70.88791275,\n",
       "        70.88791275,  70.88791275,  70.88791275,  78.68187174,\n",
       "        78.68187174,  78.68187174,  78.68187174,  78.68187174,\n",
       "        78.68187174,  78.68187174,  78.68187174,  78.68187174,\n",
       "        78.68187174,  78.68187174,  78.68187174,  78.68187174,\n",
       "        78.68187174,  78.68187174,  54.55771295,  54.55771295,\n",
       "        54.55771295,  54.55771295,  54.55771295,  54.55771295,\n",
       "        54.55771295,  54.55771295,  54.55771295,  54.55771295,\n",
       "        54.55771295,  54.55771295,  54.55771295,  54.55771295,\n",
       "        54.55771295,  54.55771295,  54.55771295,  54.55771295,\n",
       "        54.55771295,  54.55771295,  54.55771295,  54.55771295,\n",
       "        54.55771295,  54.55771295,  54.55771295,  54.55771295,\n",
       "        54.55771295,  54.55771295,  54.55771295,  54.55771295,\n",
       "        61.60939014,  61.60939014,  61.60939014,  61.60939014,\n",
       "        61.60939014,  61.60939014,  61.60939014,  66.06308099,\n",
       "        66.06308099,  66.06308099,  66.06308099,  66.06308099,\n",
       "        66.06308099,  66.06308099,  66.06308099,  56.41341748,\n",
       "        56.41341748,  56.41341748,  56.41341748,  56.41341748,\n",
       "        56.41341748,  57.89798109,  57.89798109,  53.44429024,\n",
       "        46.76375396,  46.76375396,  46.76375396,  63.09395376,\n",
       "        63.09395376,  54.55771295,  54.55771295,  54.55771295,\n",
       "        54.55771295,  69.03220823,  69.03220823,  69.03220823,\n",
       "        69.03220823,  69.03220823,  69.03220823,  69.03220823,\n",
       "        69.03220823,  69.03220823,  69.03220823,  69.03220823,\n",
       "        60.86710833,  60.86710833,  60.86710833,  60.86710833,\n",
       "        64.57851737,  64.57851737,  64.57851737,  64.57851737,\n",
       "        64.57851737,  64.57851737,  64.57851737,  64.57851737,\n",
       "        64.57851737,  64.57851737,  64.57851737,  64.57851737,\n",
       "        64.57851737,  64.57851737,  64.57851737,  64.57851737,\n",
       "        64.57851737,  64.57851737,  61.60939014,  61.60939014,\n",
       "        61.60939014,  61.60939014,  61.60939014,  61.60939014,\n",
       "        70.88791275,  70.88791275,  70.88791275,  70.88791275,\n",
       "        70.88791275,  70.88791275,  70.88791275,  70.88791275,\n",
       "        70.88791275,  70.88791275,  60.86710833,  60.86710833,\n",
       "        59.01140381,  48.24831758,  48.24831758,  48.24831758,\n",
       "        48.24831758,  48.24831758,  48.24831758,  48.24831758,\n",
       "        48.24831758,  48.24831758,  48.24831758,  48.24831758,\n",
       "        48.24831758,  69.03220823,  69.03220823,  69.03220823,\n",
       "        69.03220823,  69.03220823,  65.32079918,  65.32079918,\n",
       "        65.32079918,  65.32079918,  65.32079918,  55.29999476,\n",
       "        55.29999476,  55.29999476,  55.29999476,  50.47516301,\n",
       "        56.78455838,  56.78455838,  67.54764461,  61.60939014,\n",
       "        61.60939014,  61.60939014,  71.25905365,  71.25905365,\n",
       "        71.25905365,  59.38254471,  59.38254471,  59.38254471,\n",
       "        59.38254471,  59.38254471,  54.92885386,  54.92885386,\n",
       "        54.92885386,  59.75368562,  59.75368562,  59.75368562,\n",
       "        68.28992642,  68.28992642,  68.28992642,  68.28992642,\n",
       "        68.28992642,  68.28992642,  68.28992642,  68.28992642,\n",
       "        68.28992642,  68.28992642,  68.28992642,  68.28992642,\n",
       "        68.28992642,  68.28992642,  68.28992642,  68.28992642,\n",
       "        72.74361727,  72.74361727,  72.74361727,  72.74361727,\n",
       "        72.74361727,  72.74361727,  72.74361727,  72.74361727,\n",
       "        62.72281285,  62.72281285,  62.72281285,  62.72281285,\n",
       "        62.72281285,  74.9704627 ,  74.9704627 ,  74.9704627 ,\n",
       "        74.9704627 ,  74.9704627 ,  74.9704627 ,  74.9704627 ,\n",
       "        74.9704627 ,  57.52684019,  59.01140381,  65.32079918,\n",
       "        65.32079918,  69.77449004,  69.77449004,  66.4342219 ,\n",
       "        63.09395376,  73.11475818,  73.11475818,  67.91878551,\n",
       "        67.91878551,  63.09395376,  81.65099898,  81.65099898,\n",
       "        74.9704627 ,  74.9704627 ,  74.9704627 ,  74.9704627 ,\n",
       "        74.9704627 ,  74.9704627 ,  74.9704627 ,  74.9704627 ,\n",
       "        74.9704627 ,  74.9704627 ,  74.9704627 ,  74.9704627 ,\n",
       "        74.9704627 ,  74.9704627 ,  74.9704627 ,  74.9704627 ,\n",
       "        74.9704627 ,  74.9704627 ,  74.9704627 ,  74.9704627 ,\n",
       "        74.9704627 ,  74.9704627 ,  74.9704627 ,  74.9704627 ,\n",
       "        74.9704627 ,  74.9704627 ,  74.9704627 ,  74.9704627 ,\n",
       "        74.9704627 ,  74.9704627 ,  74.9704627 ,  74.9704627 ,\n",
       "        74.9704627 ,  74.9704627 ,  74.9704627 ,  74.9704627 ,\n",
       "        74.9704627 ,  74.9704627 ,  74.9704627 ,  74.9704627 ,\n",
       "        74.9704627 ,  74.9704627 ,  74.9704627 ,  74.9704627 ,\n",
       "        74.9704627 ,  74.9704627 ,  74.9704627 ,  74.9704627 ,\n",
       "        74.9704627 ,  74.9704627 ,  74.9704627 ,  74.9704627 ,\n",
       "        74.9704627 ,  74.9704627 ,  74.9704627 ,  74.9704627 ,\n",
       "        74.9704627 ,  74.9704627 ,  74.9704627 ,  74.9704627 ,\n",
       "        74.9704627 ,  74.9704627 ,  74.9704627 ,  74.9704627 ,\n",
       "        74.9704627 ,  74.9704627 ,  74.9704627 ,  74.9704627 ,\n",
       "        74.9704627 ,  74.9704627 ,  74.9704627 ,  74.9704627 ,\n",
       "        74.9704627 ,  74.9704627 ,  74.9704627 ,  74.9704627 ,\n",
       "        74.9704627 ,  74.9704627 ,  74.9704627 ,  74.9704627 ,\n",
       "        74.9704627 ,  74.9704627 ,  74.9704627 ,  74.9704627 ,\n",
       "        74.9704627 ,  74.9704627 ,  74.9704627 ,  74.9704627 ,\n",
       "        74.9704627 ,  74.9704627 ,  74.9704627 ,  74.9704627 ,\n",
       "        74.9704627 ,  74.9704627 ,  74.9704627 ,  74.9704627 ,\n",
       "        74.9704627 ,  74.9704627 ,  74.9704627 ,  74.9704627 ,\n",
       "        74.9704627 ,  74.9704627 ,  74.9704627 ,  74.9704627 ,\n",
       "        74.9704627 ,  74.9704627 ,  74.9704627 ,  74.9704627 ,\n",
       "        74.9704627 ,  74.9704627 ,  74.9704627 ,  74.9704627 ,\n",
       "        74.9704627 ,  74.9704627 ,  74.9704627 ,  74.9704627 ,\n",
       "        74.9704627 ,  74.9704627 ,  74.9704627 ,  74.9704627 ,\n",
       "        74.9704627 ,  74.9704627 ,  74.9704627 ,  74.9704627 ,\n",
       "        74.9704627 ,  74.9704627 ,  74.9704627 ,  74.9704627 ,\n",
       "        74.9704627 ,  74.9704627 ,  74.9704627 ,  74.9704627 ,\n",
       "        74.59932179,  74.59932179,  74.59932179,  74.59932179,\n",
       "        74.59932179,  71.25905365,  71.25905365,  71.25905365,\n",
       "        71.25905365,  71.25905365,  71.25905365,  71.25905365,\n",
       "        71.25905365,  77.93958993,  77.93958993,  77.93958993,\n",
       "        77.93958993,  77.93958993])"
      ]
     },
     "execution_count": 6,
     "metadata": {},
     "output_type": "execute_result"
    }
   ],
   "source": [
    "predictions"
   ]
  },
  {
   "cell_type": "code",
   "execution_count": 8,
   "metadata": {
    "collapsed": false
   },
   "outputs": [
    {
     "name": "stdout",
     "output_type": "stream",
     "text": [
      "r^2: 0.865805992741\n"
     ]
    }
   ],
   "source": [
    "# Statsmodels makes it easy to get the score\n",
    "print \"r^2:\", model.rsquared"
   ]
  },
  {
   "cell_type": "code",
   "execution_count": 9,
   "metadata": {
    "collapsed": false
   },
   "outputs": [
    {
     "data": {
      "text/html": [
       "<table class=\"simpletable\">\n",
       "<caption>OLS Regression Results</caption>\n",
       "<tr>\n",
       "  <th>Dep. Variable:</th>           <td>AGE</td>       <th>  R-squared:         </th> <td>   0.866</td> \n",
       "</tr>\n",
       "<tr>\n",
       "  <th>Model:</th>                   <td>OLS</td>       <th>  Adj. R-squared:    </th> <td>   0.866</td> \n",
       "</tr>\n",
       "<tr>\n",
       "  <th>Method:</th>             <td>Least Squares</td>  <th>  F-statistic:       </th> <td>   3258.</td> \n",
       "</tr>\n",
       "<tr>\n",
       "  <th>Date:</th>             <td>Wed, 12 Oct 2016</td> <th>  Prob (F-statistic):</th> <td>2.16e-222</td>\n",
       "</tr>\n",
       "<tr>\n",
       "  <th>Time:</th>                 <td>12:06:48</td>     <th>  Log-Likelihood:    </th> <td> -2388.5</td> \n",
       "</tr>\n",
       "<tr>\n",
       "  <th>No. Observations:</th>      <td>   506</td>      <th>  AIC:               </th> <td>   4779.</td> \n",
       "</tr>\n",
       "<tr>\n",
       "  <th>Df Residuals:</th>          <td>   505</td>      <th>  BIC:               </th> <td>   4783.</td> \n",
       "</tr>\n",
       "<tr>\n",
       "  <th>Df Model:</th>              <td>     1</td>      <th>                     </th>     <td> </td>    \n",
       "</tr>\n",
       "<tr>\n",
       "  <th>Covariance Type:</th>      <td>nonrobust</td>    <th>                     </th>     <td> </td>    \n",
       "</tr>\n",
       "</table>\n",
       "<table class=\"simpletable\">\n",
       "<tr>\n",
       "     <td></td>        <th>coef</th>     <th>std err</th>      <th>t</th>      <th>P>|t|</th> <th>[95.0% Conf. Int.]</th> \n",
       "</tr>\n",
       "<tr>\n",
       "  <th>PTRATIO</th> <td>    3.7114</td> <td>    0.065</td> <td>   57.081</td> <td> 0.000</td> <td>    3.584     3.839</td>\n",
       "</tr>\n",
       "</table>\n",
       "<table class=\"simpletable\">\n",
       "<tr>\n",
       "  <th>Omnibus:</th>       <td>41.172</td> <th>  Durbin-Watson:     </th> <td>   0.414</td>\n",
       "</tr>\n",
       "<tr>\n",
       "  <th>Prob(Omnibus):</th> <td> 0.000</td> <th>  Jarque-Bera (JB):  </th> <td>  29.213</td>\n",
       "</tr>\n",
       "<tr>\n",
       "  <th>Skew:</th>          <td>-0.478</td> <th>  Prob(JB):          </th> <td>4.53e-07</td>\n",
       "</tr>\n",
       "<tr>\n",
       "  <th>Kurtosis:</th>      <td> 2.312</td> <th>  Cond. No.          </th> <td>    1.00</td>\n",
       "</tr>\n",
       "</table>"
      ],
      "text/plain": [
       "<class 'statsmodels.iolib.summary.Summary'>\n",
       "\"\"\"\n",
       "                            OLS Regression Results                            \n",
       "==============================================================================\n",
       "Dep. Variable:                    AGE   R-squared:                       0.866\n",
       "Model:                            OLS   Adj. R-squared:                  0.866\n",
       "Method:                 Least Squares   F-statistic:                     3258.\n",
       "Date:                Wed, 12 Oct 2016   Prob (F-statistic):          2.16e-222\n",
       "Time:                        12:06:48   Log-Likelihood:                -2388.5\n",
       "No. Observations:                 506   AIC:                             4779.\n",
       "Df Residuals:                     505   BIC:                             4783.\n",
       "Df Model:                           1                                         \n",
       "Covariance Type:            nonrobust                                         \n",
       "==============================================================================\n",
       "                 coef    std err          t      P>|t|      [95.0% Conf. Int.]\n",
       "------------------------------------------------------------------------------\n",
       "PTRATIO        3.7114      0.065     57.081      0.000         3.584     3.839\n",
       "==============================================================================\n",
       "Omnibus:                       41.172   Durbin-Watson:                   0.414\n",
       "Prob(Omnibus):                  0.000   Jarque-Bera (JB):               29.213\n",
       "Skew:                          -0.478   Prob(JB):                     4.53e-07\n",
       "Kurtosis:                       2.312   Cond. No.                         1.00\n",
       "==============================================================================\n",
       "\n",
       "Warnings:\n",
       "[1] Standard Errors assume that the covariance matrix of the errors is correctly specified.\n",
       "\"\"\""
      ]
     },
     "execution_count": 9,
     "metadata": {},
     "output_type": "execute_result"
    }
   ],
   "source": [
    "model.summary()"
   ]
  },
  {
   "cell_type": "code",
   "execution_count": 12,
   "metadata": {
    "collapsed": false
   },
   "outputs": [
    {
     "data": {
      "text/plain": [
       "20.2    140\n",
       "14.7     34\n",
       "21.0     27\n",
       "17.8     23\n",
       "19.2     19\n",
       "17.4     18\n",
       "19.1     17\n",
       "18.6     17\n",
       "16.6     16\n",
       "18.4     16\n",
       "21.2     15\n",
       "15.2     13\n",
       "13.0     12\n",
       "17.9     11\n",
       "20.9     11\n",
       "18.7      9\n",
       "19.7      8\n",
       "19.6      8\n",
       "17.6      7\n",
       "16.4      6\n",
       "18.0      5\n",
       "16.0      5\n",
       "16.1      5\n",
       "16.9      5\n",
       "20.1      5\n",
       "19.0      4\n",
       "17.0      4\n",
       "18.5      4\n",
       "18.2      4\n",
       "14.9      4\n",
       "16.8      4\n",
       "18.3      4\n",
       "18.9      3\n",
       "15.3      3\n",
       "12.6      3\n",
       "14.8      3\n",
       "15.6      2\n",
       "22.0      2\n",
       "15.9      2\n",
       "18.8      2\n",
       "15.5      1\n",
       "21.1      1\n",
       "15.1      1\n",
       "14.4      1\n",
       "13.6      1\n",
       "17.3      1\n",
       "Name: PTRATIO, dtype: int64"
      ]
     },
     "execution_count": 12,
     "metadata": {},
     "output_type": "execute_result"
    }
   ],
   "source": [
    "df['PTRATIO'].value_counts()"
   ]
  },
  {
   "cell_type": "code",
   "execution_count": null,
   "metadata": {
    "collapsed": true
   },
   "outputs": [],
   "source": []
  },
  {
   "cell_type": "code",
   "execution_count": 29,
   "metadata": {
    "collapsed": false
   },
   "outputs": [
    {
     "name": "stdout",
     "output_type": "stream",
     "text": [
      "r^2: 0.785965012027\n",
      "r^2: 0.171679657896\n",
      "r^2: 0.171679657896\n",
      "r^2: 0.171679657896\n",
      "r^2: 0.171679657896\n",
      "r^2: 0.171679657896\n",
      "r^2: 0.171679657896\n",
      "r^2: 0.171679657896\n",
      "r^2: 0.171679657896\n",
      "r^2: 0.171679657896\n",
      "r^2: 0.171679657896\n",
      "r^2: 0.171679657896\n",
      "r^2: 0.171679657896\n",
      "r^2: 0.155558526185\n",
      "r^2: 0.155558526185\n",
      "r^2: 0.155558526185\n",
      "r^2: 0.155558526185\n",
      "r^2: 0.155558526185\n",
      "r^2: 0.155558526185\n",
      "r^2: 0.155558526185\n",
      "r^2: 0.155558526185\n",
      "r^2: 0.155558526185\n",
      "r^2: 0.155558526185\n",
      "r^2: 0.155558526185\n",
      "r^2: 0.155558526185\n",
      "r^2: 0.155558526185\n",
      "r^2: 0.755583653556\n",
      "r^2: 0.755583653556\n",
      "r^2: 0.755583653556\n",
      "r^2: 0.755583653556\n",
      "r^2: 0.755583653556\n",
      "r^2: 0.755583653556\n",
      "r^2: 0.755583653556\n",
      "r^2: 0.755583653556\n",
      "r^2: 0.755583653556\n",
      "r^2: 0.755583653556\n",
      "r^2: 0.755583653556\n",
      "r^2: 0.755583653556\n",
      "r^2: 0.755583653556\n",
      "r^2: 0.0612902049163\n",
      "r^2: 0.0612902049163\n",
      "r^2: 0.0612902049163\n",
      "r^2: 0.0612902049163\n",
      "r^2: 0.0612902049163\n",
      "r^2: 0.0612902049163\n",
      "r^2: 0.0612902049163\n",
      "r^2: 0.0612902049163\n",
      "r^2: 0.0612902049163\n",
      "r^2: 0.0612902049163\n",
      "r^2: 0.0612902049163\n",
      "r^2: 0.0612902049163\n",
      "r^2: 0.0612902049163\n",
      "r^2: 0.954037426824\n",
      "r^2: 0.954037426824\n",
      "r^2: 0.954037426824\n",
      "r^2: 0.954037426824\n",
      "r^2: 0.954037426824\n",
      "r^2: 0.954037426824\n",
      "r^2: 0.954037426824\n",
      "r^2: 0.954037426824\n",
      "r^2: 0.954037426824\n",
      "r^2: 0.954037426824\n",
      "r^2: 0.954037426824\n",
      "r^2: 0.954037426824\n",
      "r^2: 0.954037426824\n",
      "r^2: 0.965252884162\n",
      "r^2: 0.965252884162\n",
      "r^2: 0.965252884162\n",
      "r^2: 0.965252884162\n",
      "r^2: 0.965252884162\n",
      "r^2: 0.965252884162\n",
      "r^2: 0.965252884162\n",
      "r^2: 0.965252884162\n",
      "r^2: 0.965252884162\n",
      "r^2: 0.965252884162\n",
      "r^2: 0.965252884162\n",
      "r^2: 0.965252884162\n",
      "r^2: 0.965252884162\n",
      "r^2: 0.865805992741\n",
      "r^2: 0.865805992741\n",
      "r^2: 0.865805992741\n",
      "r^2: 0.865805992741\n",
      "r^2: 0.865805992741\n",
      "r^2: 0.865805992741\n",
      "r^2: 0.865805992741\n",
      "r^2: 0.865805992741\n",
      "r^2: 0.865805992741\n",
      "r^2: 0.865805992741\n",
      "r^2: 0.865805992741\n",
      "r^2: 0.865805992741\n",
      "r^2: 0.865805992741\n",
      "r^2: 0.731977553663\n",
      "r^2: 0.731977553663\n",
      "r^2: 0.731977553663\n",
      "r^2: 0.731977553663\n",
      "r^2: 0.731977553663\n",
      "r^2: 0.731977553663\n",
      "r^2: 0.731977553663\n",
      "r^2: 0.731977553663\n",
      "r^2: 0.731977553663\n",
      "r^2: 0.731977553663\n",
      "r^2: 0.731977553663\n",
      "r^2: 0.731977553663\n",
      "r^2: 0.731977553663\n",
      "r^2: 0.593935711793\n",
      "r^2: 0.593935711793\n",
      "r^2: 0.593935711793\n",
      "r^2: 0.593935711793\n",
      "r^2: 0.593935711793\n",
      "r^2: 0.593935711793\n",
      "r^2: 0.593935711793\n",
      "r^2: 0.593935711793\n",
      "r^2: 0.593935711793\n",
      "r^2: 0.593935711793\n",
      "r^2: 0.593935711793\n",
      "r^2: 0.593935711793\n",
      "r^2: 0.593935711793\n",
      "r^2: 0.881024202189\n",
      "r^2: 0.881024202189\n",
      "r^2: 0.881024202189\n",
      "r^2: 0.881024202189\n",
      "r^2: 0.881024202189\n",
      "r^2: 0.881024202189\n",
      "r^2: 0.881024202189\n",
      "r^2: 0.881024202189\n",
      "r^2: 0.881024202189\n",
      "r^2: 0.881024202189\n",
      "r^2: 0.881024202189\n",
      "r^2: 0.881024202189\n",
      "r^2: 0.881024202189\n",
      "r^2: 1.0\n",
      "r^2: 1.0\n",
      "r^2: 1.0\n",
      "r^2: 1.0\n",
      "r^2: 1.0\n",
      "r^2: 1.0\n",
      "r^2: 1.0\n",
      "r^2: 1.0\n",
      "r^2: 1.0\n",
      "r^2: 1.0\n",
      "r^2: 1.0\n",
      "r^2: 1.0\n",
      "r^2: 1.0\n",
      "r^2: 0.91609287522\n",
      "r^2: 0.91609287522\n",
      "r^2: 0.91609287522\n",
      "r^2: 0.91609287522\n",
      "r^2: 0.91609287522\n",
      "r^2: 0.91609287522\n",
      "r^2: 0.91609287522\n",
      "r^2: 0.91609287522\n",
      "r^2: 0.91609287522\n",
      "r^2: 0.91609287522\n",
      "r^2: 0.91609287522\n",
      "r^2: 0.91609287522\n",
      "r^2: 0.91609287522\n",
      "r^2: 0.785965012027\n",
      "r^2: 0.785965012027\n",
      "r^2: 0.785965012027\n",
      "r^2: 0.785965012027\n",
      "r^2: 0.785965012027\n",
      "r^2: 0.785965012027\n",
      "r^2: 0.785965012027\n",
      "r^2: 0.785965012027\n",
      "r^2: 0.785965012027\n",
      "r^2: 0.785965012027\n",
      "r^2: 0.785965012027\n",
      "r^2: 0.785965012027\n",
      "r^2: 0.785965012027\n"
     ]
    },
    {
     "data": {
      "image/png": "[encoded data removed]",
      "text/plain": [
       "<matplotlib.figure.Figure at 0x119f8ec50>"
      ]
     },
     "metadata": {},
     "output_type": "display_data"
    }
   ],
   "source": [
    "\n",
    "\n",
    "listData = {}\n",
    "for first_pair in df.columns:\n",
    "    for second_pair in df.columns:\n",
    "        if first_pair != second_pair:\n",
    "            y=df[first_pair]\n",
    "            x=df[second_pair]\n",
    "            model = sm.OLS(y, X).fit()\n",
    "            predictions = model.predict(X)\n",
    "\n",
    "        print \"r^2:\", model.rsquared\n",
    "        plt.scatter(X, y)\n",
    "# ## The line / model\n",
    "        plt.plot(X, predictions)\n",
    "        plt.ylabel(\"listData\")\n",
    "        plt.xlabel(\"listData\")\n",
    "                                        \n",
    "                               \n",
    "                                        \n",
    "                                        \n",
    "\n",
    "# for i in range(0, len(l)):\n",
    "#    for j in range(0, len(l)):\n",
    "#      listData.append[i][j]\n",
    "# #        if i > j:\n",
    "# #             listData.append(str(l[j])+\" + \"+str(l[i]))\n",
    "# for i in range(0, len(l2)):\n",
    "#     X = df[[\"l2\"]]\n",
    "#     y = df[\"l2\"]\n",
    "\n",
    "#     model = sm.OLS(y, X).fit()\n",
    "#     predictions = model.predict(X)\n",
    "\n",
    "# # PREDICTICTION  is y hat\n",
    "# # Plot the data and the best fit line\n",
    "# ## The data\n",
    "\n",
    "  "
   ]
  },
  {
   "cell_type": "code",
   "execution_count": null,
   "metadata": {
    "collapsed": true
   },
   "outputs": [],
   "source": [
    "#  y, x = patsy.dmatrices(\"MEDV ~ \"+l2[i], data=df)\n",
    "#    model = sm.OLS(y, x).fit()\n",
    "#    predictions = model.predict(x)\n",
    "#    model.summary()\n",
    "#    plt.scatter(predictions, y, s=30, c='r', marker='+', zorder=10)\n",
    "#    plt.xlabel(\"Predicted Values from \" + l2[i])\n",
    "#    plt.ylabel(\"Actual Values MEDV\")\n",
    "#    plt.show()\n",
    "#    print \"MSE:\", model.mse_model"
   ]
  },
  {
   "cell_type": "code",
   "execution_count": 38,
   "metadata": {
    "collapsed": false
   },
   "outputs": [
    {
     "data": {
      "text/plain": [
       "Index([u'CRIM', u'ZN', u'INDUS', u'CHAS', u'NOX', u'RM', u'AGE', u'DIS',\n",
       "       u'RAD', u'TAX', u'PTRATIO', u'B', u'LSTAT'],\n",
       "      dtype='object')"
      ]
     },
     "execution_count": 38,
     "metadata": {},
     "output_type": "execute_result"
    }
   ],
   "source": [
    "df.columns"
   ]
  },
  {
   "cell_type": "code",
   "execution_count": 50,
   "metadata": {
    "collapsed": false
   },
   "outputs": [
    {
     "ename": "KeyError",
     "evalue": "'MEDV'",
     "output_type": "error",
     "traceback": [
      "\u001b[0;31m---------------------------------------------------------------------------\u001b[0m",
      "\u001b[0;31mKeyError\u001b[0m                                  Traceback (most recent call last)",
      "\u001b[0;32m<ipython-input-50-5ca7c78cce98>\u001b[0m in \u001b[0;36m<module>\u001b[0;34m()\u001b[0m\n\u001b[0;32m----> 1\u001b[0;31m \u001b[0mdf\u001b[0m\u001b[0;34m[\u001b[0m\u001b[0;34m'MEDV'\u001b[0m\u001b[0;34m]\u001b[0m\u001b[0;34m\u001b[0m\u001b[0m\n\u001b[0m",
      "\u001b[0;32m//anaconda/lib/python2.7/site-packages/pandas/core/frame.pyc\u001b[0m in \u001b[0;36m__getitem__\u001b[0;34m(self, key)\u001b[0m\n\u001b[1;32m   1995\u001b[0m             \u001b[0;32mreturn\u001b[0m \u001b[0mself\u001b[0m\u001b[0;34m.\u001b[0m\u001b[0m_getitem_multilevel\u001b[0m\u001b[0;34m(\u001b[0m\u001b[0mkey\u001b[0m\u001b[0;34m)\u001b[0m\u001b[0;34m\u001b[0m\u001b[0m\n\u001b[1;32m   1996\u001b[0m         \u001b[0;32melse\u001b[0m\u001b[0;34m:\u001b[0m\u001b[0;34m\u001b[0m\u001b[0m\n\u001b[0;32m-> 1997\u001b[0;31m             \u001b[0;32mreturn\u001b[0m \u001b[0mself\u001b[0m\u001b[0;34m.\u001b[0m\u001b[0m_getitem_column\u001b[0m\u001b[0;34m(\u001b[0m\u001b[0mkey\u001b[0m\u001b[0;34m)\u001b[0m\u001b[0;34m\u001b[0m\u001b[0m\n\u001b[0m\u001b[1;32m   1998\u001b[0m \u001b[0;34m\u001b[0m\u001b[0m\n\u001b[1;32m   1999\u001b[0m     \u001b[0;32mdef\u001b[0m \u001b[0m_getitem_column\u001b[0m\u001b[0;34m(\u001b[0m\u001b[0mself\u001b[0m\u001b[0;34m,\u001b[0m \u001b[0mkey\u001b[0m\u001b[0;34m)\u001b[0m\u001b[0;34m:\u001b[0m\u001b[0;34m\u001b[0m\u001b[0m\n",
      "\u001b[0;32m//anaconda/lib/python2.7/site-packages/pandas/core/frame.pyc\u001b[0m in \u001b[0;36m_getitem_column\u001b[0;34m(self, key)\u001b[0m\n\u001b[1;32m   2002\u001b[0m         \u001b[0;31m# get column\u001b[0m\u001b[0;34m\u001b[0m\u001b[0;34m\u001b[0m\u001b[0m\n\u001b[1;32m   2003\u001b[0m         \u001b[0;32mif\u001b[0m \u001b[0mself\u001b[0m\u001b[0;34m.\u001b[0m\u001b[0mcolumns\u001b[0m\u001b[0;34m.\u001b[0m\u001b[0mis_unique\u001b[0m\u001b[0;34m:\u001b[0m\u001b[0;34m\u001b[0m\u001b[0m\n\u001b[0;32m-> 2004\u001b[0;31m             \u001b[0;32mreturn\u001b[0m \u001b[0mself\u001b[0m\u001b[0;34m.\u001b[0m\u001b[0m_get_item_cache\u001b[0m\u001b[0;34m(\u001b[0m\u001b[0mkey\u001b[0m\u001b[0;34m)\u001b[0m\u001b[0;34m\u001b[0m\u001b[0m\n\u001b[0m\u001b[1;32m   2005\u001b[0m \u001b[0;34m\u001b[0m\u001b[0m\n\u001b[1;32m   2006\u001b[0m         \u001b[0;31m# duplicate columns & possible reduce dimensionality\u001b[0m\u001b[0;34m\u001b[0m\u001b[0;34m\u001b[0m\u001b[0m\n",
      "\u001b[0;32m//anaconda/lib/python2.7/site-packages/pandas/core/generic.pyc\u001b[0m in \u001b[0;36m_get_item_cache\u001b[0;34m(self, item)\u001b[0m\n\u001b[1;32m   1348\u001b[0m         \u001b[0mres\u001b[0m \u001b[0;34m=\u001b[0m \u001b[0mcache\u001b[0m\u001b[0;34m.\u001b[0m\u001b[0mget\u001b[0m\u001b[0;34m(\u001b[0m\u001b[0mitem\u001b[0m\u001b[0;34m)\u001b[0m\u001b[0;34m\u001b[0m\u001b[0m\n\u001b[1;32m   1349\u001b[0m         \u001b[0;32mif\u001b[0m \u001b[0mres\u001b[0m \u001b[0;32mis\u001b[0m \u001b[0mNone\u001b[0m\u001b[0;34m:\u001b[0m\u001b[0;34m\u001b[0m\u001b[0m\n\u001b[0;32m-> 1350\u001b[0;31m             \u001b[0mvalues\u001b[0m \u001b[0;34m=\u001b[0m \u001b[0mself\u001b[0m\u001b[0;34m.\u001b[0m\u001b[0m_data\u001b[0m\u001b[0;34m.\u001b[0m\u001b[0mget\u001b[0m\u001b[0;34m(\u001b[0m\u001b[0mitem\u001b[0m\u001b[0;34m)\u001b[0m\u001b[0;34m\u001b[0m\u001b[0m\n\u001b[0m\u001b[1;32m   1351\u001b[0m             \u001b[0mres\u001b[0m \u001b[0;34m=\u001b[0m \u001b[0mself\u001b[0m\u001b[0;34m.\u001b[0m\u001b[0m_box_item_values\u001b[0m\u001b[0;34m(\u001b[0m\u001b[0mitem\u001b[0m\u001b[0;34m,\u001b[0m \u001b[0mvalues\u001b[0m\u001b[0;34m)\u001b[0m\u001b[0;34m\u001b[0m\u001b[0m\n\u001b[1;32m   1352\u001b[0m             \u001b[0mcache\u001b[0m\u001b[0;34m[\u001b[0m\u001b[0mitem\u001b[0m\u001b[0;34m]\u001b[0m \u001b[0;34m=\u001b[0m \u001b[0mres\u001b[0m\u001b[0;34m\u001b[0m\u001b[0m\n",
      "\u001b[0;32m//anaconda/lib/python2.7/site-packages/pandas/core/internals.pyc\u001b[0m in \u001b[0;36mget\u001b[0;34m(self, item, fastpath)\u001b[0m\n\u001b[1;32m   3288\u001b[0m \u001b[0;34m\u001b[0m\u001b[0m\n\u001b[1;32m   3289\u001b[0m             \u001b[0;32mif\u001b[0m \u001b[0;32mnot\u001b[0m \u001b[0misnull\u001b[0m\u001b[0;34m(\u001b[0m\u001b[0mitem\u001b[0m\u001b[0;34m)\u001b[0m\u001b[0;34m:\u001b[0m\u001b[0;34m\u001b[0m\u001b[0m\n\u001b[0;32m-> 3290\u001b[0;31m                 \u001b[0mloc\u001b[0m \u001b[0;34m=\u001b[0m \u001b[0mself\u001b[0m\u001b[0;34m.\u001b[0m\u001b[0mitems\u001b[0m\u001b[0;34m.\u001b[0m\u001b[0mget_loc\u001b[0m\u001b[0;34m(\u001b[0m\u001b[0mitem\u001b[0m\u001b[0;34m)\u001b[0m\u001b[0;34m\u001b[0m\u001b[0m\n\u001b[0m\u001b[1;32m   3291\u001b[0m             \u001b[0;32melse\u001b[0m\u001b[0;34m:\u001b[0m\u001b[0;34m\u001b[0m\u001b[0m\n\u001b[1;32m   3292\u001b[0m                 \u001b[0mindexer\u001b[0m \u001b[0;34m=\u001b[0m \u001b[0mnp\u001b[0m\u001b[0;34m.\u001b[0m\u001b[0marange\u001b[0m\u001b[0;34m(\u001b[0m\u001b[0mlen\u001b[0m\u001b[0;34m(\u001b[0m\u001b[0mself\u001b[0m\u001b[0;34m.\u001b[0m\u001b[0mitems\u001b[0m\u001b[0;34m)\u001b[0m\u001b[0;34m)\u001b[0m\u001b[0;34m[\u001b[0m\u001b[0misnull\u001b[0m\u001b[0;34m(\u001b[0m\u001b[0mself\u001b[0m\u001b[0;34m.\u001b[0m\u001b[0mitems\u001b[0m\u001b[0;34m)\u001b[0m\u001b[0;34m]\u001b[0m\u001b[0;34m\u001b[0m\u001b[0m\n",
      "\u001b[0;32m//anaconda/lib/python2.7/site-packages/pandas/indexes/base.pyc\u001b[0m in \u001b[0;36mget_loc\u001b[0;34m(self, key, method, tolerance)\u001b[0m\n\u001b[1;32m   1945\u001b[0m                 \u001b[0;32mreturn\u001b[0m \u001b[0mself\u001b[0m\u001b[0;34m.\u001b[0m\u001b[0m_engine\u001b[0m\u001b[0;34m.\u001b[0m\u001b[0mget_loc\u001b[0m\u001b[0;34m(\u001b[0m\u001b[0mkey\u001b[0m\u001b[0;34m)\u001b[0m\u001b[0;34m\u001b[0m\u001b[0m\n\u001b[1;32m   1946\u001b[0m             \u001b[0;32mexcept\u001b[0m \u001b[0mKeyError\u001b[0m\u001b[0;34m:\u001b[0m\u001b[0;34m\u001b[0m\u001b[0m\n\u001b[0;32m-> 1947\u001b[0;31m                 \u001b[0;32mreturn\u001b[0m \u001b[0mself\u001b[0m\u001b[0;34m.\u001b[0m\u001b[0m_engine\u001b[0m\u001b[0;34m.\u001b[0m\u001b[0mget_loc\u001b[0m\u001b[0;34m(\u001b[0m\u001b[0mself\u001b[0m\u001b[0;34m.\u001b[0m\u001b[0m_maybe_cast_indexer\u001b[0m\u001b[0;34m(\u001b[0m\u001b[0mkey\u001b[0m\u001b[0;34m)\u001b[0m\u001b[0;34m)\u001b[0m\u001b[0;34m\u001b[0m\u001b[0m\n\u001b[0m\u001b[1;32m   1948\u001b[0m \u001b[0;34m\u001b[0m\u001b[0m\n\u001b[1;32m   1949\u001b[0m         \u001b[0mindexer\u001b[0m \u001b[0;34m=\u001b[0m \u001b[0mself\u001b[0m\u001b[0;34m.\u001b[0m\u001b[0mget_indexer\u001b[0m\u001b[0;34m(\u001b[0m\u001b[0;34m[\u001b[0m\u001b[0mkey\u001b[0m\u001b[0;34m]\u001b[0m\u001b[0;34m,\u001b[0m \u001b[0mmethod\u001b[0m\u001b[0;34m=\u001b[0m\u001b[0mmethod\u001b[0m\u001b[0;34m,\u001b[0m \u001b[0mtolerance\u001b[0m\u001b[0;34m=\u001b[0m\u001b[0mtolerance\u001b[0m\u001b[0;34m)\u001b[0m\u001b[0;34m\u001b[0m\u001b[0m\n",
      "\u001b[0;32mpandas/index.pyx\u001b[0m in \u001b[0;36mpandas.index.IndexEngine.get_loc (pandas/index.c:4154)\u001b[0;34m()\u001b[0m\n",
      "\u001b[0;32mpandas/index.pyx\u001b[0m in \u001b[0;36mpandas.index.IndexEngine.get_loc (pandas/index.c:4018)\u001b[0;34m()\u001b[0m\n",
      "\u001b[0;32mpandas/hashtable.pyx\u001b[0m in \u001b[0;36mpandas.hashtable.PyObjectHashTable.get_item (pandas/hashtable.c:12368)\u001b[0;34m()\u001b[0m\n",
      "\u001b[0;32mpandas/hashtable.pyx\u001b[0m in \u001b[0;36mpandas.hashtable.PyObjectHashTable.get_item (pandas/hashtable.c:12322)\u001b[0;34m()\u001b[0m\n",
      "\u001b[0;31mKeyError\u001b[0m: 'MEDV'"
     ]
    }
   ],
   "source": []
  },
  {
   "cell_type": "code",
   "execution_count": 36,
   "metadata": {
    "collapsed": true
   },
   "outputs": [],
   "source": [
    "import patsy"
   ]
  },
  {
   "cell_type": "code",
   "execution_count": 39,
   "metadata": {
    "collapsed": false
   },
   "outputs": [],
   "source": [
    "y,x = patsy.dmatrices('CRIM ~ RM + LSTAT', data = df)"
   ]
  },
  {
   "cell_type": "code",
   "execution_count": 40,
   "metadata": {
    "collapsed": false
   },
   "outputs": [
    {
     "data": {
      "text/html": [
       "<table class=\"simpletable\">\n",
       "<caption>OLS Regression Results</caption>\n",
       "<tr>\n",
       "  <th>Dep. Variable:</th>          <td>CRIM</td>       <th>  R-squared:         </th> <td>   0.210</td>\n",
       "</tr>\n",
       "<tr>\n",
       "  <th>Model:</th>                   <td>OLS</td>       <th>  Adj. R-squared:    </th> <td>   0.207</td>\n",
       "</tr>\n",
       "<tr>\n",
       "  <th>Method:</th>             <td>Least Squares</td>  <th>  F-statistic:       </th> <td>   66.79</td>\n",
       "</tr>\n",
       "<tr>\n",
       "  <th>Date:</th>             <td>Wed, 12 Oct 2016</td> <th>  Prob (F-statistic):</th> <td>1.89e-26</td>\n",
       "</tr>\n",
       "<tr>\n",
       "  <th>Time:</th>                 <td>12:40:56</td>     <th>  Log-Likelihood:    </th> <td> -1746.5</td>\n",
       "</tr>\n",
       "<tr>\n",
       "  <th>No. Observations:</th>      <td>   506</td>      <th>  AIC:               </th> <td>   3499.</td>\n",
       "</tr>\n",
       "<tr>\n",
       "  <th>Df Residuals:</th>          <td>   503</td>      <th>  BIC:               </th> <td>   3512.</td>\n",
       "</tr>\n",
       "<tr>\n",
       "  <th>Df Model:</th>              <td>     2</td>      <th>                     </th>     <td> </td>   \n",
       "</tr>\n",
       "<tr>\n",
       "  <th>Covariance Type:</th>      <td>nonrobust</td>    <th>                     </th>     <td> </td>   \n",
       "</tr>\n",
       "</table>\n",
       "<table class=\"simpletable\">\n",
       "<tr>\n",
       "      <td></td>         <th>coef</th>     <th>std err</th>      <th>t</th>      <th>P>|t|</th> <th>[95.0% Conf. Int.]</th> \n",
       "</tr>\n",
       "<tr>\n",
       "  <th>Intercept</th> <td>  -11.2705</td> <td>    4.385</td> <td>   -2.570</td> <td> 0.010</td> <td>  -19.886    -2.655</td>\n",
       "</tr>\n",
       "<tr>\n",
       "  <th>RM</th>        <td>    1.1315</td> <td>    0.614</td> <td>    1.842</td> <td> 0.066</td> <td>   -0.075     2.338</td>\n",
       "</tr>\n",
       "<tr>\n",
       "  <th>LSTAT</th>     <td>    0.6127</td> <td>    0.060</td> <td>   10.138</td> <td> 0.000</td> <td>    0.494     0.731</td>\n",
       "</tr>\n",
       "</table>\n",
       "<table class=\"simpletable\">\n",
       "<tr>\n",
       "  <th>Omnibus:</th>       <td>599.043</td> <th>  Durbin-Watson:     </th> <td>   1.213</td> \n",
       "</tr>\n",
       "<tr>\n",
       "  <th>Prob(Omnibus):</th> <td> 0.000</td>  <th>  Jarque-Bera (JB):  </th> <td>48418.564</td>\n",
       "</tr>\n",
       "<tr>\n",
       "  <th>Skew:</th>          <td> 5.620</td>  <th>  Prob(JB):          </th> <td>    0.00</td> \n",
       "</tr>\n",
       "<tr>\n",
       "  <th>Kurtosis:</th>      <td>49.586</td>  <th>  Cond. No.          </th> <td>    202.</td> \n",
       "</tr>\n",
       "</table>"
      ],
      "text/plain": [
       "<class 'statsmodels.iolib.summary.Summary'>\n",
       "\"\"\"\n",
       "                            OLS Regression Results                            \n",
       "==============================================================================\n",
       "Dep. Variable:                   CRIM   R-squared:                       0.210\n",
       "Model:                            OLS   Adj. R-squared:                  0.207\n",
       "Method:                 Least Squares   F-statistic:                     66.79\n",
       "Date:                Wed, 12 Oct 2016   Prob (F-statistic):           1.89e-26\n",
       "Time:                        12:40:56   Log-Likelihood:                -1746.5\n",
       "No. Observations:                 506   AIC:                             3499.\n",
       "Df Residuals:                     503   BIC:                             3512.\n",
       "Df Model:                           2                                         \n",
       "Covariance Type:            nonrobust                                         \n",
       "==============================================================================\n",
       "                 coef    std err          t      P>|t|      [95.0% Conf. Int.]\n",
       "------------------------------------------------------------------------------\n",
       "Intercept    -11.2705      4.385     -2.570      0.010       -19.886    -2.655\n",
       "RM             1.1315      0.614      1.842      0.066        -0.075     2.338\n",
       "LSTAT          0.6127      0.060     10.138      0.000         0.494     0.731\n",
       "==============================================================================\n",
       "Omnibus:                      599.043   Durbin-Watson:                   1.213\n",
       "Prob(Omnibus):                  0.000   Jarque-Bera (JB):            48418.564\n",
       "Skew:                           5.620   Prob(JB):                         0.00\n",
       "Kurtosis:                      49.586   Cond. No.                         202.\n",
       "==============================================================================\n",
       "\n",
       "Warnings:\n",
       "[1] Standard Errors assume that the covariance matrix of the errors is correctly specified.\n",
       "\"\"\""
      ]
     },
     "execution_count": 40,
     "metadata": {},
     "output_type": "execute_result"
    }
   ],
   "source": [
    "\n",
    "model = sm.OLS(y, x).fit()\n",
    "predictions = model.predict(x)\n",
    "model.summary()"
   ]
  },
  {
   "cell_type": "code",
   "execution_count": 41,
   "metadata": {
    "collapsed": false
   },
   "outputs": [
    {
     "name": "stdout",
     "output_type": "stream",
     "text": [
      "r^2: 0.209833386087\n"
     ]
    }
   ],
   "source": [
    "print \"r^2:\", model.rsquared"
   ]
  },
  {
   "cell_type": "code",
   "execution_count": 44,
   "metadata": {
    "collapsed": false
   },
   "outputs": [],
   "source": []
  },
  {
   "cell_type": "code",
   "execution_count": 48,
   "metadata": {
    "collapsed": false
   },
   "outputs": [],
   "source": [
    "targets=pd.DataFrame(data.target, columns=['MEDV'])"
   ]
  },
  {
   "cell_type": "code",
   "execution_count": 49,
   "metadata": {
    "collapsed": false
   },
   "outputs": [
    {
     "name": "stdout",
     "output_type": "stream",
     "text": [
      "24.0\n"
     ]
    }
   ],
   "source": [
    "print data.target[0]"
   ]
  },
  {
   "cell_type": "code",
   "execution_count": 53,
   "metadata": {
    "collapsed": true
   },
   "outputs": [],
   "source": [
    "data['MEDV']= targets['MEDV']"
   ]
  },
  {
   "cell_type": "code",
   "execution_count": 55,
   "metadata": {
    "collapsed": false
   },
   "outputs": [
    {
     "ename": "NameError",
     "evalue": "name 'MEDV' is not defined",
     "output_type": "error",
     "traceback": [
      "\u001b[0;31m---------------------------------------------------------------------------\u001b[0m",
      "\u001b[0;31mNameError\u001b[0m                                 Traceback (most recent call last)",
      "\u001b[0;32m<ipython-input-55-fe2a066562f0>\u001b[0m in \u001b[0;36m<module>\u001b[0;34m()\u001b[0m\n\u001b[0;32m----> 1\u001b[0;31m \u001b[0my\u001b[0m\u001b[0;34m,\u001b[0m\u001b[0mx\u001b[0m \u001b[0;34m=\u001b[0m\u001b[0mpatsy\u001b[0m\u001b[0;34m.\u001b[0m\u001b[0mdmatrices\u001b[0m\u001b[0;34m(\u001b[0m\u001b[0;34m'MEDV ~ RM + LSTAT'\u001b[0m\u001b[0;34m,\u001b[0m \u001b[0mdata\u001b[0m \u001b[0;34m=\u001b[0m \u001b[0mdf\u001b[0m\u001b[0;34m)\u001b[0m\u001b[0;34m\u001b[0m\u001b[0m\n\u001b[0m",
      "\u001b[0;32m//anaconda/lib/python2.7/site-packages/patsy/highlevel.pyc\u001b[0m in \u001b[0;36mdmatrices\u001b[0;34m(formula_like, data, eval_env, NA_action, return_type)\u001b[0m\n\u001b[1;32m    308\u001b[0m     \u001b[0meval_env\u001b[0m \u001b[0;34m=\u001b[0m \u001b[0mEvalEnvironment\u001b[0m\u001b[0;34m.\u001b[0m\u001b[0mcapture\u001b[0m\u001b[0;34m(\u001b[0m\u001b[0meval_env\u001b[0m\u001b[0;34m,\u001b[0m \u001b[0mreference\u001b[0m\u001b[0;34m=\u001b[0m\u001b[0;36m1\u001b[0m\u001b[0;34m)\u001b[0m\u001b[0;34m\u001b[0m\u001b[0m\n\u001b[1;32m    309\u001b[0m     (lhs, rhs) = _do_highlevel_design(formula_like, data, eval_env,\n\u001b[0;32m--> 310\u001b[0;31m                                       NA_action, return_type)\n\u001b[0m\u001b[1;32m    311\u001b[0m     \u001b[0;32mif\u001b[0m \u001b[0mlhs\u001b[0m\u001b[0;34m.\u001b[0m\u001b[0mshape\u001b[0m\u001b[0;34m[\u001b[0m\u001b[0;36m1\u001b[0m\u001b[0;34m]\u001b[0m \u001b[0;34m==\u001b[0m \u001b[0;36m0\u001b[0m\u001b[0;34m:\u001b[0m\u001b[0;34m\u001b[0m\u001b[0m\n\u001b[1;32m    312\u001b[0m         \u001b[0;32mraise\u001b[0m \u001b[0mPatsyError\u001b[0m\u001b[0;34m(\u001b[0m\u001b[0;34m\"model is missing required outcome variables\"\u001b[0m\u001b[0;34m)\u001b[0m\u001b[0;34m\u001b[0m\u001b[0m\n",
      "\u001b[0;32m//anaconda/lib/python2.7/site-packages/patsy/highlevel.pyc\u001b[0m in \u001b[0;36m_do_highlevel_design\u001b[0;34m(formula_like, data, eval_env, NA_action, return_type)\u001b[0m\n\u001b[1;32m    163\u001b[0m         \u001b[0;32mreturn\u001b[0m \u001b[0miter\u001b[0m\u001b[0;34m(\u001b[0m\u001b[0;34m[\u001b[0m\u001b[0mdata\u001b[0m\u001b[0;34m]\u001b[0m\u001b[0;34m)\u001b[0m\u001b[0;34m\u001b[0m\u001b[0m\n\u001b[1;32m    164\u001b[0m     design_infos = _try_incr_builders(formula_like, data_iter_maker, eval_env,\n\u001b[0;32m--> 165\u001b[0;31m                                       NA_action)\n\u001b[0m\u001b[1;32m    166\u001b[0m     \u001b[0;32mif\u001b[0m \u001b[0mdesign_infos\u001b[0m \u001b[0;32mis\u001b[0m \u001b[0;32mnot\u001b[0m \u001b[0mNone\u001b[0m\u001b[0;34m:\u001b[0m\u001b[0;34m\u001b[0m\u001b[0m\n\u001b[1;32m    167\u001b[0m         return build_design_matrices(design_infos, data,\n",
      "\u001b[0;32m//anaconda/lib/python2.7/site-packages/patsy/highlevel.pyc\u001b[0m in \u001b[0;36m_try_incr_builders\u001b[0;34m(formula_like, data_iter_maker, eval_env, NA_action)\u001b[0m\n\u001b[1;32m     68\u001b[0m                                       \u001b[0mdata_iter_maker\u001b[0m\u001b[0;34m,\u001b[0m\u001b[0;34m\u001b[0m\u001b[0m\n\u001b[1;32m     69\u001b[0m                                       \u001b[0meval_env\u001b[0m\u001b[0;34m,\u001b[0m\u001b[0;34m\u001b[0m\u001b[0m\n\u001b[0;32m---> 70\u001b[0;31m                                       NA_action)\n\u001b[0m\u001b[1;32m     71\u001b[0m     \u001b[0;32melse\u001b[0m\u001b[0;34m:\u001b[0m\u001b[0;34m\u001b[0m\u001b[0m\n\u001b[1;32m     72\u001b[0m         \u001b[0;32mreturn\u001b[0m \u001b[0mNone\u001b[0m\u001b[0;34m\u001b[0m\u001b[0m\n",
      "\u001b[0;32m//anaconda/lib/python2.7/site-packages/patsy/build.pyc\u001b[0m in \u001b[0;36mdesign_matrix_builders\u001b[0;34m(termlists, data_iter_maker, eval_env, NA_action)\u001b[0m\n\u001b[1;32m    694\u001b[0m                                                    \u001b[0mfactor_states\u001b[0m\u001b[0;34m,\u001b[0m\u001b[0;34m\u001b[0m\u001b[0m\n\u001b[1;32m    695\u001b[0m                                                    \u001b[0mdata_iter_maker\u001b[0m\u001b[0;34m,\u001b[0m\u001b[0;34m\u001b[0m\u001b[0m\n\u001b[0;32m--> 696\u001b[0;31m                                                    NA_action)\n\u001b[0m\u001b[1;32m    697\u001b[0m     \u001b[0;31m# Now we need the factor infos, which encapsulate the knowledge of\u001b[0m\u001b[0;34m\u001b[0m\u001b[0;34m\u001b[0m\u001b[0m\n\u001b[1;32m    698\u001b[0m     \u001b[0;31m# how to turn any given factor into a chunk of data:\u001b[0m\u001b[0;34m\u001b[0m\u001b[0;34m\u001b[0m\u001b[0m\n",
      "\u001b[0;32m//anaconda/lib/python2.7/site-packages/patsy/build.pyc\u001b[0m in \u001b[0;36m_examine_factor_types\u001b[0;34m(factors, factor_states, data_iter_maker, NA_action)\u001b[0m\n\u001b[1;32m    441\u001b[0m     \u001b[0;32mfor\u001b[0m \u001b[0mdata\u001b[0m \u001b[0;32min\u001b[0m \u001b[0mdata_iter_maker\u001b[0m\u001b[0;34m(\u001b[0m\u001b[0;34m)\u001b[0m\u001b[0;34m:\u001b[0m\u001b[0;34m\u001b[0m\u001b[0m\n\u001b[1;32m    442\u001b[0m         \u001b[0;32mfor\u001b[0m \u001b[0mfactor\u001b[0m \u001b[0;32min\u001b[0m \u001b[0mlist\u001b[0m\u001b[0;34m(\u001b[0m\u001b[0mexamine_needed\u001b[0m\u001b[0;34m)\u001b[0m\u001b[0;34m:\u001b[0m\u001b[0;34m\u001b[0m\u001b[0m\n\u001b[0;32m--> 443\u001b[0;31m             \u001b[0mvalue\u001b[0m \u001b[0;34m=\u001b[0m \u001b[0mfactor\u001b[0m\u001b[0;34m.\u001b[0m\u001b[0meval\u001b[0m\u001b[0;34m(\u001b[0m\u001b[0mfactor_states\u001b[0m\u001b[0;34m[\u001b[0m\u001b[0mfactor\u001b[0m\u001b[0;34m]\u001b[0m\u001b[0;34m,\u001b[0m \u001b[0mdata\u001b[0m\u001b[0;34m)\u001b[0m\u001b[0;34m\u001b[0m\u001b[0m\n\u001b[0m\u001b[1;32m    444\u001b[0m             \u001b[0;32mif\u001b[0m \u001b[0mfactor\u001b[0m \u001b[0;32min\u001b[0m \u001b[0mcat_sniffers\u001b[0m \u001b[0;32mor\u001b[0m \u001b[0mguess_categorical\u001b[0m\u001b[0;34m(\u001b[0m\u001b[0mvalue\u001b[0m\u001b[0;34m)\u001b[0m\u001b[0;34m:\u001b[0m\u001b[0;34m\u001b[0m\u001b[0m\n\u001b[1;32m    445\u001b[0m                 \u001b[0;32mif\u001b[0m \u001b[0mfactor\u001b[0m \u001b[0;32mnot\u001b[0m \u001b[0;32min\u001b[0m \u001b[0mcat_sniffers\u001b[0m\u001b[0;34m:\u001b[0m\u001b[0;34m\u001b[0m\u001b[0m\n",
      "\u001b[0;32m//anaconda/lib/python2.7/site-packages/patsy/eval.pyc\u001b[0m in \u001b[0;36meval\u001b[0;34m(self, memorize_state, data)\u001b[0m\n\u001b[1;32m    564\u001b[0m         return self._eval(memorize_state[\"eval_code\"],\n\u001b[1;32m    565\u001b[0m                           \u001b[0mmemorize_state\u001b[0m\u001b[0;34m,\u001b[0m\u001b[0;34m\u001b[0m\u001b[0m\n\u001b[0;32m--> 566\u001b[0;31m                           data)\n\u001b[0m\u001b[1;32m    567\u001b[0m \u001b[0;34m\u001b[0m\u001b[0m\n\u001b[1;32m    568\u001b[0m     \u001b[0m__getstate__\u001b[0m \u001b[0;34m=\u001b[0m \u001b[0mno_pickling\u001b[0m\u001b[0;34m\u001b[0m\u001b[0m\n",
      "\u001b[0;32m//anaconda/lib/python2.7/site-packages/patsy/eval.pyc\u001b[0m in \u001b[0;36m_eval\u001b[0;34m(self, code, memorize_state, data)\u001b[0m\n\u001b[1;32m    549\u001b[0m                                  \u001b[0mmemorize_state\u001b[0m\u001b[0;34m[\u001b[0m\u001b[0;34m\"eval_env\"\u001b[0m\u001b[0;34m]\u001b[0m\u001b[0;34m.\u001b[0m\u001b[0meval\u001b[0m\u001b[0;34m,\u001b[0m\u001b[0;34m\u001b[0m\u001b[0m\n\u001b[1;32m    550\u001b[0m                                  \u001b[0mcode\u001b[0m\u001b[0;34m,\u001b[0m\u001b[0;34m\u001b[0m\u001b[0m\n\u001b[0;32m--> 551\u001b[0;31m                                  inner_namespace=inner_namespace)\n\u001b[0m\u001b[1;32m    552\u001b[0m \u001b[0;34m\u001b[0m\u001b[0m\n\u001b[1;32m    553\u001b[0m     \u001b[0;32mdef\u001b[0m \u001b[0mmemorize_chunk\u001b[0m\u001b[0;34m(\u001b[0m\u001b[0mself\u001b[0m\u001b[0;34m,\u001b[0m \u001b[0mstate\u001b[0m\u001b[0;34m,\u001b[0m \u001b[0mwhich_pass\u001b[0m\u001b[0;34m,\u001b[0m \u001b[0mdata\u001b[0m\u001b[0;34m)\u001b[0m\u001b[0;34m:\u001b[0m\u001b[0;34m\u001b[0m\u001b[0m\n",
      "\u001b[0;32m//anaconda/lib/python2.7/site-packages/patsy/compat.pyc\u001b[0m in \u001b[0;36mcall_and_wrap_exc\u001b[0;34m(msg, origin, f, *args, **kwargs)\u001b[0m\n\u001b[1;32m    115\u001b[0m \u001b[0;32mdef\u001b[0m \u001b[0mcall_and_wrap_exc\u001b[0m\u001b[0;34m(\u001b[0m\u001b[0mmsg\u001b[0m\u001b[0;34m,\u001b[0m \u001b[0morigin\u001b[0m\u001b[0;34m,\u001b[0m \u001b[0mf\u001b[0m\u001b[0;34m,\u001b[0m \u001b[0;34m*\u001b[0m\u001b[0margs\u001b[0m\u001b[0;34m,\u001b[0m \u001b[0;34m**\u001b[0m\u001b[0mkwargs\u001b[0m\u001b[0;34m)\u001b[0m\u001b[0;34m:\u001b[0m\u001b[0;34m\u001b[0m\u001b[0m\n\u001b[1;32m    116\u001b[0m     \u001b[0;32mtry\u001b[0m\u001b[0;34m:\u001b[0m\u001b[0;34m\u001b[0m\u001b[0m\n\u001b[0;32m--> 117\u001b[0;31m         \u001b[0;32mreturn\u001b[0m \u001b[0mf\u001b[0m\u001b[0;34m(\u001b[0m\u001b[0;34m*\u001b[0m\u001b[0margs\u001b[0m\u001b[0;34m,\u001b[0m \u001b[0;34m**\u001b[0m\u001b[0mkwargs\u001b[0m\u001b[0;34m)\u001b[0m\u001b[0;34m\u001b[0m\u001b[0m\n\u001b[0m\u001b[1;32m    118\u001b[0m     \u001b[0;32mexcept\u001b[0m \u001b[0mException\u001b[0m \u001b[0;32mas\u001b[0m \u001b[0me\u001b[0m\u001b[0;34m:\u001b[0m\u001b[0;34m\u001b[0m\u001b[0m\n\u001b[1;32m    119\u001b[0m         \u001b[0;32mif\u001b[0m \u001b[0msys\u001b[0m\u001b[0;34m.\u001b[0m\u001b[0mversion_info\u001b[0m\u001b[0;34m[\u001b[0m\u001b[0;36m0\u001b[0m\u001b[0;34m]\u001b[0m \u001b[0;34m>=\u001b[0m \u001b[0;36m3\u001b[0m\u001b[0;34m:\u001b[0m\u001b[0;34m\u001b[0m\u001b[0m\n",
      "\u001b[0;32m//anaconda/lib/python2.7/site-packages/patsy/eval.pyc\u001b[0m in \u001b[0;36meval\u001b[0;34m(self, expr, source_name, inner_namespace)\u001b[0m\n\u001b[1;32m    164\u001b[0m         \u001b[0mcode\u001b[0m \u001b[0;34m=\u001b[0m \u001b[0mcompile\u001b[0m\u001b[0;34m(\u001b[0m\u001b[0mexpr\u001b[0m\u001b[0;34m,\u001b[0m \u001b[0msource_name\u001b[0m\u001b[0;34m,\u001b[0m \u001b[0;34m\"eval\"\u001b[0m\u001b[0;34m,\u001b[0m \u001b[0mself\u001b[0m\u001b[0;34m.\u001b[0m\u001b[0mflags\u001b[0m\u001b[0;34m,\u001b[0m \u001b[0mFalse\u001b[0m\u001b[0;34m)\u001b[0m\u001b[0;34m\u001b[0m\u001b[0m\n\u001b[1;32m    165\u001b[0m         return eval(code, {}, VarLookupDict([inner_namespace]\n\u001b[0;32m--> 166\u001b[0;31m                                             + self._namespaces))\n\u001b[0m\u001b[1;32m    167\u001b[0m \u001b[0;34m\u001b[0m\u001b[0m\n\u001b[1;32m    168\u001b[0m     \u001b[0;34m@\u001b[0m\u001b[0mclassmethod\u001b[0m\u001b[0;34m\u001b[0m\u001b[0m\n",
      "\u001b[0;32m<string>\u001b[0m in \u001b[0;36m<module>\u001b[0;34m()\u001b[0m\n",
      "\u001b[0;31mNameError\u001b[0m: name 'MEDV' is not defined"
     ]
    }
   ],
   "source": [
    "y,x =patsy.dmatrices('MEDV ~ RM + LSTAT', data = df)"
   ]
  },
  {
   "cell_type": "code",
   "execution_count": null,
   "metadata": {
    "collapsed": true
   },
   "outputs": [],
   "source": []
  }
 ],
 "metadata": {
  "anaconda-cloud": {},
  "kernelspec": {
   "display_name": "Python [Root]",
   "language": "python",
   "name": "Python [Root]"
  },
  "language_info": {
   "codemirror_mode": {
    "name": "ipython",
    "version": 2
   },
   "file_extension": ".py",
   "mimetype": "text/x-python",
   "name": "python",
   "nbconvert_exporter": "python",
   "pygments_lexer": "ipython2",
   "version": "2.7.12"
  }
 },
 "nbformat": 4,
 "nbformat_minor": 0
}
