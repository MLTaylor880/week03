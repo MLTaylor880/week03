{
 "cells": [
  {
   "cell_type": "code",
   "execution_count": 11,
   "metadata": {
    "collapsed": false
   },
   "outputs": [],
   "source": [
    "import pandas as pd\n",
    "import os\n",
    "import seaborn as sns\n",
    "%matplotlib inline\n",
    "import matplotlib.pyplot as plt\n",
    "%matplotlib inline\n",
    "import numpy as py"
   ]
  },
  {
   "cell_type": "code",
   "execution_count": 32,
   "metadata": {
    "collapsed": false
   },
   "outputs": [
    {
     "data": {
      "text/plain": [
       "['# Creates a new ssh key, using the provided email as a label',\n",
       " '# Creates a new ssh key, using the provided email as a label.pub',\n",
       " '.anaconda',\n",
       " '.atom',\n",
       " '.bash_history',\n",
       " '.bash_profile',\n",
       " '.bash_profile-anaconda.bak',\n",
       " '.bash_sessions',\n",
       " '.cache',\n",
       " '.CFUserTextEncoding',\n",
       " '.conda',\n",
       " '.continuum',\n",
       " '.DS_Store',\n",
       " '.gitconfig',\n",
       " '.ipynb_checkpoints',\n",
       " '.ipython',\n",
       " '.jupyter',\n",
       " '.lesshst',\n",
       " '.matplotlib',\n",
       " '.spyder2',\n",
       " '.ssh',\n",
       " '.Trash',\n",
       " '.viminfo',\n",
       " 'anaconda',\n",
       " 'class_notes',\n",
       " 'Desktop',\n",
       " 'Documents',\n",
       " 'Downloads',\n",
       " 'DSI-CHI-1',\n",
       " 'file01',\n",
       " 'file2',\n",
       " 'final_csv_of_divvy_rides.csv',\n",
       " 'final_csv_of_divvy_rides.csv.zip',\n",
       " 'function practice.ipynb',\n",
       " 'Library',\n",
       " 'Movies',\n",
       " 'Music',\n",
       " 'my_new_repo',\n",
       " 'my_new_repository',\n",
       " 'new_directory',\n",
       " 'Pictures',\n",
       " 'practice_folder',\n",
       " 'Public',\n",
       " 'salary.dat',\n",
       " 'seaborn-data',\n",
       " 'To_Do_Lists',\n",
       " 'Untitled.ipynb',\n",
       " 'Untitled1.ipynb',\n",
       " 'Week 1 learning list etc.ipynb',\n",
       " 'week03_classwork',\n",
       " 'World']"
      ]
     },
     "execution_count": 32,
     "metadata": {},
     "output_type": "execute_result"
    }
   ],
   "source": [
    "#pwd\n",
    "os.listdir('/Users/marthataylor/')"
   ]
  },
  {
   "cell_type": "code",
   "execution_count": 7,
   "metadata": {
    "collapsed": false
   },
   "outputs": [
    {
     "name": "stderr",
     "output_type": "stream",
     "text": [
      "//anaconda/lib/python2.7/site-packages/IPython/core/interactiveshell.py:2723: DtypeWarning: Columns (5) have mixed types. Specify dtype option on import or set low_memory=False.\n",
      "  interactivity=interactivity, compiler=compiler, result=result)\n"
     ]
    }
   ],
   "source": [
    "data =pd.read_csv('../final_csv_of_divvy_rides.csv')"
   ]
  },
  {
   "cell_type": "code",
   "execution_count": 14,
   "metadata": {
    "collapsed": false
   },
   "outputs": [
    {
     "data": {
      "text/html": [
       "<div>\n",
       "<table border=\"1\" class=\"dataframe\">\n",
       "  <thead>\n",
       "    <tr style=\"text-align: right;\">\n",
       "      <th></th>\n",
       "      <th>bikeid</th>\n",
       "      <th>birthday</th>\n",
       "      <th>birthyear</th>\n",
       "      <th>from_station_id</th>\n",
       "      <th>from_station_name</th>\n",
       "      <th>gender</th>\n",
       "      <th>starttime</th>\n",
       "      <th>stoptime</th>\n",
       "      <th>to_station_id</th>\n",
       "      <th>to_station_name</th>\n",
       "      <th>trip_id</th>\n",
       "      <th>tripduration</th>\n",
       "      <th>usertype</th>\n",
       "    </tr>\n",
       "  </thead>\n",
       "  <tbody>\n",
       "    <tr>\n",
       "      <th>0</th>\n",
       "      <td>480</td>\n",
       "      <td>NaN</td>\n",
       "      <td>NaN</td>\n",
       "      <td>85</td>\n",
       "      <td>Michigan Ave &amp; Oak St</td>\n",
       "      <td>NaN</td>\n",
       "      <td>2013-06-27 12:11</td>\n",
       "      <td>2013-06-27 12:16</td>\n",
       "      <td>28</td>\n",
       "      <td>Larrabee St &amp; Menomonee St</td>\n",
       "      <td>4118</td>\n",
       "      <td>316</td>\n",
       "      <td>Customer</td>\n",
       "    </tr>\n",
       "    <tr>\n",
       "      <th>1</th>\n",
       "      <td>77</td>\n",
       "      <td>NaN</td>\n",
       "      <td>NaN</td>\n",
       "      <td>32</td>\n",
       "      <td>Racine Ave &amp; Congress Pkwy</td>\n",
       "      <td>NaN</td>\n",
       "      <td>2013-06-27 14:44</td>\n",
       "      <td>2013-06-27 14:45</td>\n",
       "      <td>32</td>\n",
       "      <td>Racine Ave &amp; Congress Pkwy</td>\n",
       "      <td>4275</td>\n",
       "      <td>64</td>\n",
       "      <td>Customer</td>\n",
       "    </tr>\n",
       "    <tr>\n",
       "      <th>2</th>\n",
       "      <td>77</td>\n",
       "      <td>NaN</td>\n",
       "      <td>NaN</td>\n",
       "      <td>32</td>\n",
       "      <td>Racine Ave &amp; Congress Pkwy</td>\n",
       "      <td>NaN</td>\n",
       "      <td>2013-06-27 14:58</td>\n",
       "      <td>2013-06-27 15:05</td>\n",
       "      <td>19</td>\n",
       "      <td>Loomis St &amp; Taylor St</td>\n",
       "      <td>4291</td>\n",
       "      <td>433</td>\n",
       "      <td>Customer</td>\n",
       "    </tr>\n",
       "    <tr>\n",
       "      <th>3</th>\n",
       "      <td>77</td>\n",
       "      <td>NaN</td>\n",
       "      <td>NaN</td>\n",
       "      <td>19</td>\n",
       "      <td>Loomis St &amp; Taylor St</td>\n",
       "      <td>NaN</td>\n",
       "      <td>2013-06-27 15:06</td>\n",
       "      <td>2013-06-27 15:09</td>\n",
       "      <td>19</td>\n",
       "      <td>Loomis St &amp; Taylor St</td>\n",
       "      <td>4316</td>\n",
       "      <td>123</td>\n",
       "      <td>Customer</td>\n",
       "    </tr>\n",
       "    <tr>\n",
       "      <th>4</th>\n",
       "      <td>77</td>\n",
       "      <td>NaN</td>\n",
       "      <td>NaN</td>\n",
       "      <td>19</td>\n",
       "      <td>Loomis St &amp; Taylor St</td>\n",
       "      <td>NaN</td>\n",
       "      <td>2013-06-27 15:13</td>\n",
       "      <td>2013-06-27 15:27</td>\n",
       "      <td>55</td>\n",
       "      <td>Halsted St &amp; James M Rochford St</td>\n",
       "      <td>4342</td>\n",
       "      <td>852</td>\n",
       "      <td>Customer</td>\n",
       "    </tr>\n",
       "  </tbody>\n",
       "</table>\n",
       "</div>"
      ],
      "text/plain": [
       "   bikeid  birthday  birthyear  from_station_id           from_station_name  \\\n",
       "0     480       NaN        NaN               85       Michigan Ave & Oak St   \n",
       "1      77       NaN        NaN               32  Racine Ave & Congress Pkwy   \n",
       "2      77       NaN        NaN               32  Racine Ave & Congress Pkwy   \n",
       "3      77       NaN        NaN               19       Loomis St & Taylor St   \n",
       "4      77       NaN        NaN               19       Loomis St & Taylor St   \n",
       "\n",
       "  gender         starttime          stoptime  to_station_id  \\\n",
       "0    NaN  2013-06-27 12:11  2013-06-27 12:16             28   \n",
       "1    NaN  2013-06-27 14:44  2013-06-27 14:45             32   \n",
       "2    NaN  2013-06-27 14:58  2013-06-27 15:05             19   \n",
       "3    NaN  2013-06-27 15:06  2013-06-27 15:09             19   \n",
       "4    NaN  2013-06-27 15:13  2013-06-27 15:27             55   \n",
       "\n",
       "                    to_station_name  trip_id  tripduration  usertype  \n",
       "0        Larrabee St & Menomonee St     4118           316  Customer  \n",
       "1        Racine Ave & Congress Pkwy     4275            64  Customer  \n",
       "2             Loomis St & Taylor St     4291           433  Customer  \n",
       "3             Loomis St & Taylor St     4316           123  Customer  \n",
       "4  Halsted St & James M Rochford St     4342           852  Customer  "
      ]
     },
     "execution_count": 14,
     "metadata": {},
     "output_type": "execute_result"
    }
   ],
   "source": [
    "data.head(5)\n"
   ]
  },
  {
   "cell_type": "code",
   "execution_count": 18,
   "metadata": {
    "collapsed": false
   },
   "outputs": [
    {
     "data": {
      "text/plain": [
       "872     2820\n",
       "478     2814\n",
       "267     2757\n",
       "94      2745\n",
       "1329    2739\n",
       "441     2728\n",
       "417     2721\n",
       "686     2714\n",
       "225     2701\n",
       "909     2698\n",
       "Name: bikeid, dtype: int64"
      ]
     },
     "execution_count": 18,
     "metadata": {},
     "output_type": "execute_result"
    }
   ],
   "source": [
    "#data.describe()\n",
    "#good to do for project 3\n",
    "#most used bike\n",
    "data['bikeid'].value_counts().head(10)"
   ]
  },
  {
   "cell_type": "code",
   "execution_count": 22,
   "metadata": {
    "collapsed": false
   },
   "outputs": [
    {
     "data": {
      "text/plain": [
       "Streeter Dr & Illinois St       164101\n",
       "Lake Shore Dr & Monroe St       122493\n",
       "Theater on the Lake             115330\n",
       "Clinton St & Washington Blvd    110611\n",
       "Millennium Park                 110085\n",
       "Michigan Ave & Oak St           109586\n",
       "Lake Shore Dr & North Blvd      101364\n",
       "Canal St & Madison St            96899\n",
       "Canal St & Adams St              85913\n",
       "McClurg Ct & Illinois St         69345\n",
       "Michigan Ave & Washington St     66940\n",
       "Michigan Ave & Lake St           65580\n",
       "Clinton St & Madison St          63789\n",
       "Canal St & Jackson Blvd          62719\n",
       "Museum Campus                    60718\n",
       "Dearborn St & Monroe St          60350\n",
       "Wabash Ave & Grand Ave           60333\n",
       "Clark St & Elm St                57589\n",
       "LaSalle St & Jackson Blvd        56869\n",
       "Franklin St & Jackson Blvd       56046\n",
       "Name: to_station_name, dtype: int64"
      ]
     },
     "execution_count": 22,
     "metadata": {},
     "output_type": "execute_result"
    }
   ],
   "source": [
    "data['to_station_name'].value_counts().head(20)\n",
    "#defaults to descending  number of rides"
   ]
  },
  {
   "cell_type": "code",
   "execution_count": 23,
   "metadata": {
    "collapsed": false
   },
   "outputs": [
    {
     "data": {
      "text/plain": [
       "Streeter Dr & Illinois St       137683\n",
       "Lake Shore Dr & Monroe St       124674\n",
       "Clinton St & Washington Blvd    112140\n",
       "Theater on the Lake             108426\n",
       "Michigan Ave & Oak St           101762\n",
       "Millennium Park                 100545\n",
       "Lake Shore Dr & North Blvd       90112\n",
       "Canal St & Adams St              88121\n",
       "Canal St & Madison St            86289\n",
       "Clinton St & Madison St          71598\n",
       "Columbus Dr & Randolph St        70126\n",
       "McClurg Ct & Illinois St         67656\n",
       "Michigan Ave & Washington St     65991\n",
       "Canal St & Jackson Blvd          64975\n",
       "Michigan Ave & Lake St           63442\n",
       "Dearborn St & Monroe St          61194\n",
       "Franklin St & Jackson Blvd       60706\n",
       "Museum Campus                    59772\n",
       "LaSalle St & Jackson Blvd        58556\n",
       "Wabash Ave & Grand Ave           58124\n",
       "Name: from_station_name, dtype: int64"
      ]
     },
     "execution_count": 23,
     "metadata": {},
     "output_type": "execute_result"
    }
   ],
   "source": [
    "data['from_station_name'].value_counts().head(20)"
   ]
  },
  {
   "cell_type": "code",
   "execution_count": 24,
   "metadata": {
    "collapsed": true
   },
   "outputs": [],
   "source": [
    "# two data frames with each of thise\n",
    "#departure_arrival =data['to_station_name'].value_counts(10).join(data[]data['from_station_name'].value_counts().head(20))\n",
    "departure_arrival = pd.DataFrame(data['from_station_name'].value_counts()).join(data['to_station_name'].value_counts())"
   ]
  },
  {
   "cell_type": "code",
   "execution_count": 26,
   "metadata": {
    "collapsed": true
   },
   "outputs": [],
   "source": [
    "departure_arrival['net_departures']=departure_arrival['from_station_name']-departure_arrival['to_station_name']"
   ]
  },
  {
   "cell_type": "code",
   "execution_count": 27,
   "metadata": {
    "collapsed": false
   },
   "outputs": [
    {
     "data": {
      "text/html": [
       "<div>\n",
       "<table border=\"1\" class=\"dataframe\">\n",
       "  <thead>\n",
       "    <tr style=\"text-align: right;\">\n",
       "      <th></th>\n",
       "      <th>from_station_name</th>\n",
       "      <th>to_station_name</th>\n",
       "      <th>net_departures</th>\n",
       "    </tr>\n",
       "  </thead>\n",
       "  <tbody>\n",
       "    <tr>\n",
       "      <th>Columbus Dr &amp; Randolph St</th>\n",
       "      <td>70126</td>\n",
       "      <td>47723.0</td>\n",
       "      <td>22403.0</td>\n",
       "    </tr>\n",
       "    <tr>\n",
       "      <th>Canal St &amp; Monroe St</th>\n",
       "      <td>34496</td>\n",
       "      <td>22198.0</td>\n",
       "      <td>12298.0</td>\n",
       "    </tr>\n",
       "    <tr>\n",
       "      <th>Clinton St &amp; Madison St</th>\n",
       "      <td>71598</td>\n",
       "      <td>63789.0</td>\n",
       "      <td>7809.0</td>\n",
       "    </tr>\n",
       "    <tr>\n",
       "      <th>Stetson Ave &amp; South Water St</th>\n",
       "      <td>31514</td>\n",
       "      <td>23837.0</td>\n",
       "      <td>7677.0</td>\n",
       "    </tr>\n",
       "    <tr>\n",
       "      <th>Desplaines St &amp; Kinzie St</th>\n",
       "      <td>46823</td>\n",
       "      <td>41509.0</td>\n",
       "      <td>5314.0</td>\n",
       "    </tr>\n",
       "  </tbody>\n",
       "</table>\n",
       "</div>"
      ],
      "text/plain": [
       "                              from_station_name  to_station_name  \\\n",
       "Columbus Dr & Randolph St                 70126          47723.0   \n",
       "Canal St & Monroe St                      34496          22198.0   \n",
       "Clinton St & Madison St                   71598          63789.0   \n",
       "Stetson Ave & South Water St              31514          23837.0   \n",
       "Desplaines St & Kinzie St                 46823          41509.0   \n",
       "\n",
       "                              net_departures  \n",
       "Columbus Dr & Randolph St            22403.0  \n",
       "Canal St & Monroe St                 12298.0  \n",
       "Clinton St & Madison St               7809.0  \n",
       "Stetson Ave & South Water St          7677.0  \n",
       "Desplaines St & Kinzie St             5314.0  "
      ]
     },
     "execution_count": 27,
     "metadata": {},
     "output_type": "execute_result"
    }
   ],
   "source": [
    "departure_arrival.sort_values(by='net_departures', ascending=False).head()"
   ]
  },
  {
   "cell_type": "code",
   "execution_count": null,
   "metadata": {
    "collapsed": true
   },
   "outputs": [],
   "source": [
    "#departure_arrival.drop('column nmae',axis=1, inplace =True)"
   ]
  },
  {
   "cell_type": "code",
   "execution_count": 30,
   "metadata": {
    "collapsed": false
   },
   "outputs": [
    {
     "data": {
      "image/png": "[encoded data removed]",
      "text/plain": [
       "<matplotlib.figure.Figure at 0x117999790>"
      ]
     },
     "metadata": {},
     "output_type": "display_data"
    }
   ],
   "source": [
    "plt.hist(departure_arrival['from_station_name']);"
   ]
  },
  {
   "cell_type": "code",
   "execution_count": 33,
   "metadata": {
    "collapsed": true
   },
   "outputs": [],
   "source": [
    "departure_arrival.fillna(0, inplace = True)"
   ]
  },
  {
   "cell_type": "code",
   "execution_count": 35,
   "metadata": {
    "collapsed": false
   },
   "outputs": [
    {
     "data": {
      "text/plain": [
       "from_station_name    581\n",
       "to_station_name      581\n",
       "net_departures       581\n",
       "dtype: int64"
      ]
     },
     "execution_count": 35,
     "metadata": {},
     "output_type": "execute_result"
    }
   ],
   "source": [
    "departure_arrival.count()"
   ]
  },
  {
   "cell_type": "code",
   "execution_count": null,
   "metadata": {
    "collapsed": true
   },
   "outputs": [],
   "source": [
    "departure_arrival['net_departures']=departure_arrival['from_station_name']-departure_arrival['to_station_name']"
   ]
  },
  {
   "cell_type": "code",
   "execution_count": null,
   "metadata": {
    "collapsed": true
   },
   "outputs": [],
   "source": [
    "#80/20 rule "
   ]
  },
  {
   "cell_type": "code",
   "execution_count": 37,
   "metadata": {
    "collapsed": false
   },
   "outputs": [
    {
     "data": {
      "text/plain": [
       "(array([ 158.,   53.,   32.,   26.,   26.,   14.,   22.,   28.,   19.,\n",
       "          11.,   20.,   12.,    9.,    7.,   14.,    7.,    9.,    9.,\n",
       "           3.,   11.,    8.,    1.,    6.,   10.,    8.,    3.,    3.,\n",
       "           4.,    3.,    1.,    2.,    4.,    3.,    2.,    2.,    4.,\n",
       "           1.,    2.,    0.,    2.,    1.,    1.,    2.,    1.,    2.,\n",
       "           0.,    1.,    2.,    0.,    1.,    1.,    0.,    1.,    0.,\n",
       "           0.,    0.,    0.,    0.,    0.,    0.,    0.,    0.,    1.,\n",
       "           0.,    1.,    1.,    0.,    0.,    0.,    0.,    0.,    0.,\n",
       "           0.,    2.,    0.,    0.,    0.,    0.,    1.,    0.,    0.,\n",
       "           1.,    0.,    0.,    0.,    0.,    0.,    0.,    0.,    0.,\n",
       "           1.,    0.,    0.,    0.,    0.,    0.,    0.,    0.,    0.,    1.]),\n",
       " array([  1.00000000e+00,   1.37782000e+03,   2.75464000e+03,\n",
       "          4.13146000e+03,   5.50828000e+03,   6.88510000e+03,\n",
       "          8.26192000e+03,   9.63874000e+03,   1.10155600e+04,\n",
       "          1.23923800e+04,   1.37692000e+04,   1.51460200e+04,\n",
       "          1.65228400e+04,   1.78996600e+04,   1.92764800e+04,\n",
       "          2.06533000e+04,   2.20301200e+04,   2.34069400e+04,\n",
       "          2.47837600e+04,   2.61605800e+04,   2.75374000e+04,\n",
       "          2.89142200e+04,   3.02910400e+04,   3.16678600e+04,\n",
       "          3.30446800e+04,   3.44215000e+04,   3.57983200e+04,\n",
       "          3.71751400e+04,   3.85519600e+04,   3.99287800e+04,\n",
       "          4.13056000e+04,   4.26824200e+04,   4.40592400e+04,\n",
       "          4.54360600e+04,   4.68128800e+04,   4.81897000e+04,\n",
       "          4.95665200e+04,   5.09433400e+04,   5.23201600e+04,\n",
       "          5.36969800e+04,   5.50738000e+04,   5.64506200e+04,\n",
       "          5.78274400e+04,   5.92042600e+04,   6.05810800e+04,\n",
       "          6.19579000e+04,   6.33347200e+04,   6.47115400e+04,\n",
       "          6.60883600e+04,   6.74651800e+04,   6.88420000e+04,\n",
       "          7.02188200e+04,   7.15956400e+04,   7.29724600e+04,\n",
       "          7.43492800e+04,   7.57261000e+04,   7.71029200e+04,\n",
       "          7.84797400e+04,   7.98565600e+04,   8.12333800e+04,\n",
       "          8.26102000e+04,   8.39870200e+04,   8.53638400e+04,\n",
       "          8.67406600e+04,   8.81174800e+04,   8.94943000e+04,\n",
       "          9.08711200e+04,   9.22479400e+04,   9.36247600e+04,\n",
       "          9.50015800e+04,   9.63784000e+04,   9.77552200e+04,\n",
       "          9.91320400e+04,   1.00508860e+05,   1.01885680e+05,\n",
       "          1.03262500e+05,   1.04639320e+05,   1.06016140e+05,\n",
       "          1.07392960e+05,   1.08769780e+05,   1.10146600e+05,\n",
       "          1.11523420e+05,   1.12900240e+05,   1.14277060e+05,\n",
       "          1.15653880e+05,   1.17030700e+05,   1.18407520e+05,\n",
       "          1.19784340e+05,   1.21161160e+05,   1.22537980e+05,\n",
       "          1.23914800e+05,   1.25291620e+05,   1.26668440e+05,\n",
       "          1.28045260e+05,   1.29422080e+05,   1.30798900e+05,\n",
       "          1.32175720e+05,   1.33552540e+05,   1.34929360e+05,\n",
       "          1.36306180e+05,   1.37683000e+05]),\n",
       " <a list of 100 Patch objects>)"
      ]
     },
     "execution_count": 37,
     "metadata": {},
     "output_type": "execute_result"
    },
    {
     "data": {
      "image/png": "[encoded data removed]",
      "text/plain": [
       "<matplotlib.figure.Figure at 0x11aa1b1d0>"
      ]
     },
     "metadata": {},
     "output_type": "display_data"
    }
   ],
   "source": [
    "plt.hist(departure_arrival['from_station_name'], bins =100)"
   ]
  },
  {
   "cell_type": "code",
   "execution_count": 39,
   "metadata": {
    "collapsed": false
   },
   "outputs": [
    {
     "data": {
      "text/html": [
       "<div>\n",
       "<table border=\"1\" class=\"dataframe\">\n",
       "  <thead>\n",
       "    <tr style=\"text-align: right;\">\n",
       "      <th></th>\n",
       "      <th>from_station_name</th>\n",
       "      <th>to_station_name</th>\n",
       "      <th>net_departures</th>\n",
       "    </tr>\n",
       "  </thead>\n",
       "  <tbody>\n",
       "    <tr>\n",
       "      <th>Elizabeth St &amp; 47th St</th>\n",
       "      <td>1</td>\n",
       "      <td>0.0</td>\n",
       "      <td>0.0</td>\n",
       "    </tr>\n",
       "    <tr>\n",
       "      <th>Normal Ave &amp; 72nd St</th>\n",
       "      <td>1</td>\n",
       "      <td>1.0</td>\n",
       "      <td>0.0</td>\n",
       "    </tr>\n",
       "    <tr>\n",
       "      <th>Central St Metra</th>\n",
       "      <td>1</td>\n",
       "      <td>1.0</td>\n",
       "      <td>0.0</td>\n",
       "    </tr>\n",
       "    <tr>\n",
       "      <th>Racine Ave &amp; Garfield Blvd</th>\n",
       "      <td>1</td>\n",
       "      <td>1.0</td>\n",
       "      <td>0.0</td>\n",
       "    </tr>\n",
       "    <tr>\n",
       "      <th>Ashland Ave &amp; 69th St</th>\n",
       "      <td>1</td>\n",
       "      <td>3.0</td>\n",
       "      <td>-2.0</td>\n",
       "    </tr>\n",
       "  </tbody>\n",
       "</table>\n",
       "</div>"
      ],
      "text/plain": [
       "                            from_station_name  to_station_name  net_departures\n",
       "Elizabeth St & 47th St                      1              0.0             0.0\n",
       "Normal Ave & 72nd St                        1              1.0             0.0\n",
       "Central St Metra                            1              1.0             0.0\n",
       "Racine Ave & Garfield Blvd                  1              1.0             0.0\n",
       "Ashland Ave & 69th St                       1              3.0            -2.0"
      ]
     },
     "execution_count": 39,
     "metadata": {},
     "output_type": "execute_result"
    }
   ],
   "source": [
    "departure_arrival.sort_values(by='from_station_name').head()"
   ]
  },
  {
   "cell_type": "code",
   "execution_count": 38,
   "metadata": {
    "collapsed": false
   },
   "outputs": [
    {
     "data": {
      "text/plain": [
       "(array([ 164.,   62.,   31.,   39.,   13.,   26.,   32.,   19.,   23.,\n",
       "          12.,   10.,   12.,   12.,   12.,    7.,    9.,    7.,    9.,\n",
       "           3.,   13.,   10.,    3.,    5.,    1.,    2.,    5.,    4.,\n",
       "           2.,    2.,    5.,    3.,    1.,    1.,    1.,    3.,    1.,\n",
       "           2.,    1.,    2.,    1.,    1.,    0.,    1.,    0.,    0.,\n",
       "           0.,    0.,    0.,    0.,    0.,    0.,    0.,    1.,    0.,\n",
       "           0.,    0.,    0.,    0.,    0.,    1.,    0.,    1.,    0.,\n",
       "           0.,    0.,    0.,    1.,    2.,    0.,    0.,    1.,    0.,\n",
       "           0.,    0.,    1.,    0.,    0.,    0.,    0.,    0.,    0.,\n",
       "           0.,    0.,    0.,    0.,    0.,    0.,    0.,    0.,    0.,\n",
       "           0.,    0.,    0.,    0.,    0.,    0.,    0.,    0.,    0.,    1.]),\n",
       " array([      0.  ,    1641.01,    3282.02,    4923.03,    6564.04,\n",
       "           8205.05,    9846.06,   11487.07,   13128.08,   14769.09,\n",
       "          16410.1 ,   18051.11,   19692.12,   21333.13,   22974.14,\n",
       "          24615.15,   26256.16,   27897.17,   29538.18,   31179.19,\n",
       "          32820.2 ,   34461.21,   36102.22,   37743.23,   39384.24,\n",
       "          41025.25,   42666.26,   44307.27,   45948.28,   47589.29,\n",
       "          49230.3 ,   50871.31,   52512.32,   54153.33,   55794.34,\n",
       "          57435.35,   59076.36,   60717.37,   62358.38,   63999.39,\n",
       "          65640.4 ,   67281.41,   68922.42,   70563.43,   72204.44,\n",
       "          73845.45,   75486.46,   77127.47,   78768.48,   80409.49,\n",
       "          82050.5 ,   83691.51,   85332.52,   86973.53,   88614.54,\n",
       "          90255.55,   91896.56,   93537.57,   95178.58,   96819.59,\n",
       "          98460.6 ,  100101.61,  101742.62,  103383.63,  105024.64,\n",
       "         106665.65,  108306.66,  109947.67,  111588.68,  113229.69,\n",
       "         114870.7 ,  116511.71,  118152.72,  119793.73,  121434.74,\n",
       "         123075.75,  124716.76,  126357.77,  127998.78,  129639.79,\n",
       "         131280.8 ,  132921.81,  134562.82,  136203.83,  137844.84,\n",
       "         139485.85,  141126.86,  142767.87,  144408.88,  146049.89,\n",
       "         147690.9 ,  149331.91,  150972.92,  152613.93,  154254.94,\n",
       "         155895.95,  157536.96,  159177.97,  160818.98,  162459.99,  164101.  ]),\n",
       " <a list of 100 Patch objects>)"
      ]
     },
     "execution_count": 38,
     "metadata": {},
     "output_type": "execute_result"
    },
    {
     "data": {
      "image/png": "[encoded data removed]",
      "text/plain": [
       "<matplotlib.figure.Figure at 0x11a9ec690>"
      ]
     },
     "metadata": {},
     "output_type": "display_data"
    }
   ],
   "source": [
    "plt.hist(departure_arrival['to_station_name'], bins =100)"
   ]
  },
  {
   "cell_type": "code",
   "execution_count": null,
   "metadata": {
    "collapsed": true
   },
   "outputs": [],
   "source": [
    "plt.hist(departure_arrival['to_station_name'], bins =100)"
   ]
  },
  {
   "cell_type": "code",
   "execution_count": 40,
   "metadata": {
    "collapsed": false
   },
   "outputs": [
    {
     "data": {
      "text/html": [
       "<div>\n",
       "<table border=\"1\" class=\"dataframe\">\n",
       "  <thead>\n",
       "    <tr style=\"text-align: right;\">\n",
       "      <th></th>\n",
       "      <th>from_station_name</th>\n",
       "      <th>to_station_name</th>\n",
       "      <th>net_departures</th>\n",
       "    </tr>\n",
       "  </thead>\n",
       "  <tbody>\n",
       "    <tr>\n",
       "      <th>Elizabeth St &amp; 47th St</th>\n",
       "      <td>1</td>\n",
       "      <td>0.0</td>\n",
       "      <td>0.0</td>\n",
       "    </tr>\n",
       "    <tr>\n",
       "      <th>Marion St &amp; South Blvd</th>\n",
       "      <td>3</td>\n",
       "      <td>0.0</td>\n",
       "      <td>0.0</td>\n",
       "    </tr>\n",
       "    <tr>\n",
       "      <th>State St &amp; 76th St</th>\n",
       "      <td>1</td>\n",
       "      <td>1.0</td>\n",
       "      <td>0.0</td>\n",
       "    </tr>\n",
       "    <tr>\n",
       "      <th>Throop St &amp; 52nd St</th>\n",
       "      <td>1</td>\n",
       "      <td>1.0</td>\n",
       "      <td>0.0</td>\n",
       "    </tr>\n",
       "    <tr>\n",
       "      <th>Racine Ave &amp; Garfield Blvd</th>\n",
       "      <td>1</td>\n",
       "      <td>1.0</td>\n",
       "      <td>0.0</td>\n",
       "    </tr>\n",
       "  </tbody>\n",
       "</table>\n",
       "</div>"
      ],
      "text/plain": [
       "                            from_station_name  to_station_name  net_departures\n",
       "Elizabeth St & 47th St                      1              0.0             0.0\n",
       "Marion St & South Blvd                      3              0.0             0.0\n",
       "State St & 76th St                          1              1.0             0.0\n",
       "Throop St & 52nd St                         1              1.0             0.0\n",
       "Racine Ave & Garfield Blvd                  1              1.0             0.0"
      ]
     },
     "execution_count": 40,
     "metadata": {},
     "output_type": "execute_result"
    }
   ],
   "source": [
    "departure_arrival.sort_values(by='to_station_name').head()"
   ]
  },
  {
   "cell_type": "code",
   "execution_count": 41,
   "metadata": {
    "collapsed": false
   },
   "outputs": [
    {
     "data": {
      "text/html": [
       "<div>\n",
       "<table border=\"1\" class=\"dataframe\">\n",
       "  <thead>\n",
       "    <tr style=\"text-align: right;\">\n",
       "      <th></th>\n",
       "      <th>from_station_name</th>\n",
       "      <th>to_station_name</th>\n",
       "      <th>net_departures</th>\n",
       "    </tr>\n",
       "  </thead>\n",
       "  <tbody>\n",
       "    <tr>\n",
       "      <th>Streeter Dr &amp; Illinois St</th>\n",
       "      <td>137683</td>\n",
       "      <td>164101.0</td>\n",
       "      <td>-26418.0</td>\n",
       "    </tr>\n",
       "    <tr>\n",
       "      <th>Lake Shore Dr &amp; North Blvd</th>\n",
       "      <td>90112</td>\n",
       "      <td>101364.0</td>\n",
       "      <td>-11252.0</td>\n",
       "    </tr>\n",
       "    <tr>\n",
       "      <th>Canal St &amp; Madison St</th>\n",
       "      <td>86289</td>\n",
       "      <td>96899.0</td>\n",
       "      <td>-10610.0</td>\n",
       "    </tr>\n",
       "    <tr>\n",
       "      <th>Millennium Park</th>\n",
       "      <td>100545</td>\n",
       "      <td>110085.0</td>\n",
       "      <td>-9540.0</td>\n",
       "    </tr>\n",
       "    <tr>\n",
       "      <th>Michigan Ave &amp; Oak St</th>\n",
       "      <td>101762</td>\n",
       "      <td>109586.0</td>\n",
       "      <td>-7824.0</td>\n",
       "    </tr>\n",
       "  </tbody>\n",
       "</table>\n",
       "</div>"
      ],
      "text/plain": [
       "                            from_station_name  to_station_name  net_departures\n",
       "Streeter Dr & Illinois St              137683         164101.0        -26418.0\n",
       "Lake Shore Dr & North Blvd              90112         101364.0        -11252.0\n",
       "Canal St & Madison St                   86289          96899.0        -10610.0\n",
       "Millennium Park                        100545         110085.0         -9540.0\n",
       "Michigan Ave & Oak St                  101762         109586.0         -7824.0"
      ]
     },
     "execution_count": 41,
     "metadata": {},
     "output_type": "execute_result"
    }
   ],
   "source": [
    "departure_arrival.sort_values(by='net_departures').head()"
   ]
  },
  {
   "cell_type": "code",
   "execution_count": 42,
   "metadata": {
    "collapsed": false
   },
   "outputs": [
    {
     "data": {
      "text/plain": [
       "(array([   1.,    0.,    0.,    0.,    0.,    0.,    0.,    0.,    0.,\n",
       "           0.,    0.,    0.,    0.,    0.,    0.,    0.,    0.,    0.,\n",
       "           0.,    0.,    0.,    0.,    0.,    0.,    0.,    0.,    0.,\n",
       "           0.,    0.,    0.,    0.,    1.,    1.,    0.,    1.,    0.,\n",
       "           0.,    0.,    1.,    1.,    0.,    0.,    1.,    0.,    1.,\n",
       "           2.,    1.,    1.,    3.,    8.,    7.,   24.,   29.,  135.,\n",
       "         255.,   52.,   14.,   10.,   12.,    6.,    1.,    3.,    2.,\n",
       "           3.,    1.,    0.,    0.,    0.,    0.,    1.,    1.,    0.,\n",
       "           0.,    0.,    0.,    0.,    0.,    0.,    0.,    1.,    0.,\n",
       "           0.,    0.,    0.,    0.,    0.,    0.,    0.,    0.,    0.,\n",
       "           0.,    0.,    0.,    0.,    0.,    0.,    0.,    0.,    0.,    1.]),\n",
       " array([-26418.  , -25929.79, -25441.58, -24953.37, -24465.16, -23976.95,\n",
       "        -23488.74, -23000.53, -22512.32, -22024.11, -21535.9 , -21047.69,\n",
       "        -20559.48, -20071.27, -19583.06, -19094.85, -18606.64, -18118.43,\n",
       "        -17630.22, -17142.01, -16653.8 , -16165.59, -15677.38, -15189.17,\n",
       "        -14700.96, -14212.75, -13724.54, -13236.33, -12748.12, -12259.91,\n",
       "        -11771.7 , -11283.49, -10795.28, -10307.07,  -9818.86,  -9330.65,\n",
       "         -8842.44,  -8354.23,  -7866.02,  -7377.81,  -6889.6 ,  -6401.39,\n",
       "         -5913.18,  -5424.97,  -4936.76,  -4448.55,  -3960.34,  -3472.13,\n",
       "         -2983.92,  -2495.71,  -2007.5 ,  -1519.29,  -1031.08,   -542.87,\n",
       "           -54.66,    433.55,    921.76,   1409.97,   1898.18,   2386.39,\n",
       "          2874.6 ,   3362.81,   3851.02,   4339.23,   4827.44,   5315.65,\n",
       "          5803.86,   6292.07,   6780.28,   7268.49,   7756.7 ,   8244.91,\n",
       "          8733.12,   9221.33,   9709.54,  10197.75,  10685.96,  11174.17,\n",
       "         11662.38,  12150.59,  12638.8 ,  13127.01,  13615.22,  14103.43,\n",
       "         14591.64,  15079.85,  15568.06,  16056.27,  16544.48,  17032.69,\n",
       "         17520.9 ,  18009.11,  18497.32,  18985.53,  19473.74,  19961.95,\n",
       "         20450.16,  20938.37,  21426.58,  21914.79,  22403.  ]),\n",
       " <a list of 100 Patch objects>)"
      ]
     },
     "execution_count": 42,
     "metadata": {},
     "output_type": "execute_result"
    },
    {
     "data": {
      "image/png": "[encoded data removed]",
      "text/plain": [
       "<matplotlib.figure.Figure at 0x11a230c10>"
      ]
     },
     "metadata": {},
     "output_type": "display_data"
    }
   ],
   "source": [
    "plt.hist(departure_arrival['net_departures'], bins =100)"
   ]
  },
  {
   "cell_type": "code",
   "execution_count": 43,
   "metadata": {
    "collapsed": false
   },
   "outputs": [
    {
     "data": {
      "text/plain": [
       "count      581.000000\n",
       "mean        -0.005164\n",
       "std       2082.847602\n",
       "min     -26418.000000\n",
       "25%       -217.000000\n",
       "50%          0.000000\n",
       "75%        222.000000\n",
       "max      22403.000000\n",
       "Name: net_departures, dtype: float64"
      ]
     },
     "execution_count": 43,
     "metadata": {},
     "output_type": "execute_result"
    }
   ],
   "source": [
    "departure_arrival['net_departures'].describe()\n",
    "#normal distribution"
   ]
  },
  {
   "cell_type": "code",
   "execution_count": 44,
   "metadata": {
    "collapsed": false
   },
   "outputs": [
    {
     "data": {
      "text/plain": [
       "Index([u'bikeid', u'birthday', u'birthyear', u'from_station_id',\n",
       "       u'from_station_name', u'gender', u'starttime', u'stoptime',\n",
       "       u'to_station_id', u'to_station_name', u'trip_id', u'tripduration',\n",
       "       u'usertype'],\n",
       "      dtype='object')"
      ]
     },
     "execution_count": 44,
     "metadata": {},
     "output_type": "execute_result"
    }
   ],
   "source": [
    "data.columns"
   ]
  },
  {
   "cell_type": "code",
   "execution_count": 45,
   "metadata": {
    "collapsed": false
   },
   "outputs": [
    {
     "data": {
      "text/plain": [
       "count    7.867601e+06\n",
       "mean     1.035279e+03\n",
       "std      2.063022e+03\n",
       "min      6.000000e+01\n",
       "25%      4.220000e+02\n",
       "50%      7.300000e+02\n",
       "75%      1.216000e+03\n",
       "max      8.639900e+04\n",
       "Name: tripduration, dtype: float64"
      ]
     },
     "execution_count": 45,
     "metadata": {},
     "output_type": "execute_result"
    }
   ],
   "source": [
    "data['tripduration'].describe()"
   ]
  },
  {
   "cell_type": "code",
   "execution_count": 46,
   "metadata": {
    "collapsed": false
   },
   "outputs": [
    {
     "data": {
      "text/plain": [
       "0"
      ]
     },
     "execution_count": 46,
     "metadata": {},
     "output_type": "execute_result"
    }
   ],
   "source": [
    "data['tripduration'].isnull().sum()\n",
    "# can also do .any()"
   ]
  },
  {
   "cell_type": "code",
   "execution_count": 48,
   "metadata": {
    "collapsed": false
   },
   "outputs": [
    {
     "data": {
      "text/plain": [
       "False"
      ]
     },
     "execution_count": 48,
     "metadata": {},
     "output_type": "execute_result"
    }
   ],
   "source": [
    "data['tripduration'].isnull().any()"
   ]
  },
  {
   "cell_type": "code",
   "execution_count": 52,
   "metadata": {
    "collapsed": false
   },
   "outputs": [
    {
     "data": {
      "text/plain": [
       "(array([  4.84321500e+06,   2.29507500e+06,   4.15107000e+05,\n",
       "          1.29172000e+05,   5.97390000e+04,   3.51950000e+04,\n",
       "          2.22590000e+04,   1.51910000e+04,   1.03980000e+04,\n",
       "          7.24800000e+03,   5.37500000e+03,   4.15900000e+03,\n",
       "          3.13500000e+03,   2.36100000e+03,   1.96400000e+03,\n",
       "          1.67000000e+03,   1.31800000e+03,   1.11600000e+03,\n",
       "          9.26000000e+02,   7.65000000e+02,   6.08000000e+02,\n",
       "          5.99000000e+02,   5.10000000e+02,   4.59000000e+02,\n",
       "          3.82000000e+02,   3.67000000e+02,   3.12000000e+02,\n",
       "          2.69000000e+02,   2.77000000e+02,   2.18000000e+02,\n",
       "          2.08000000e+02,   2.07000000e+02,   1.92000000e+02,\n",
       "          1.69000000e+02,   1.89000000e+02,   1.64000000e+02,\n",
       "          1.69000000e+02,   1.90000000e+02,   1.69000000e+02,\n",
       "          1.53000000e+02,   1.35000000e+02,   1.43000000e+02,\n",
       "          1.38000000e+02,   1.41000000e+02,   1.27000000e+02,\n",
       "          1.38000000e+02,   1.31000000e+02,   1.09000000e+02,\n",
       "          1.21000000e+02,   1.38000000e+02,   1.29000000e+02,\n",
       "          1.24000000e+02,   1.00000000e+02,   1.27000000e+02,\n",
       "          1.38000000e+02,   1.57000000e+02,   1.48000000e+02,\n",
       "          1.29000000e+02,   1.34000000e+02,   1.45000000e+02,\n",
       "          1.35000000e+02,   1.14000000e+02,   1.11000000e+02,\n",
       "          1.08000000e+02,   1.14000000e+02,   9.40000000e+01,\n",
       "          1.19000000e+02,   1.13000000e+02,   9.30000000e+01,\n",
       "          1.11000000e+02,   9.50000000e+01,   1.14000000e+02,\n",
       "          9.10000000e+01,   1.00000000e+02,   1.01000000e+02,\n",
       "          8.90000000e+01,   8.40000000e+01,   8.60000000e+01,\n",
       "          5.30000000e+01,   9.10000000e+01,   8.80000000e+01,\n",
       "          1.08000000e+02,   8.20000000e+01,   8.20000000e+01,\n",
       "          7.80000000e+01,   7.60000000e+01,   8.10000000e+01,\n",
       "          8.20000000e+01,   9.40000000e+01,   6.70000000e+01,\n",
       "          8.40000000e+01,   7.30000000e+01,   8.30000000e+01,\n",
       "          9.70000000e+01,   8.80000000e+01,   9.30000000e+01,\n",
       "          7.90000000e+01,   1.01000000e+02,   1.13000000e+02,\n",
       "          8.50000000e+01]),\n",
       " array([  6.00000000e+01,   9.23390000e+02,   1.78678000e+03,\n",
       "          2.65017000e+03,   3.51356000e+03,   4.37695000e+03,\n",
       "          5.24034000e+03,   6.10373000e+03,   6.96712000e+03,\n",
       "          7.83051000e+03,   8.69390000e+03,   9.55729000e+03,\n",
       "          1.04206800e+04,   1.12840700e+04,   1.21474600e+04,\n",
       "          1.30108500e+04,   1.38742400e+04,   1.47376300e+04,\n",
       "          1.56010200e+04,   1.64644100e+04,   1.73278000e+04,\n",
       "          1.81911900e+04,   1.90545800e+04,   1.99179700e+04,\n",
       "          2.07813600e+04,   2.16447500e+04,   2.25081400e+04,\n",
       "          2.33715300e+04,   2.42349200e+04,   2.50983100e+04,\n",
       "          2.59617000e+04,   2.68250900e+04,   2.76884800e+04,\n",
       "          2.85518700e+04,   2.94152600e+04,   3.02786500e+04,\n",
       "          3.11420400e+04,   3.20054300e+04,   3.28688200e+04,\n",
       "          3.37322100e+04,   3.45956000e+04,   3.54589900e+04,\n",
       "          3.63223800e+04,   3.71857700e+04,   3.80491600e+04,\n",
       "          3.89125500e+04,   3.97759400e+04,   4.06393300e+04,\n",
       "          4.15027200e+04,   4.23661100e+04,   4.32295000e+04,\n",
       "          4.40928900e+04,   4.49562800e+04,   4.58196700e+04,\n",
       "          4.66830600e+04,   4.75464500e+04,   4.84098400e+04,\n",
       "          4.92732300e+04,   5.01366200e+04,   5.10000100e+04,\n",
       "          5.18634000e+04,   5.27267900e+04,   5.35901800e+04,\n",
       "          5.44535700e+04,   5.53169600e+04,   5.61803500e+04,\n",
       "          5.70437400e+04,   5.79071300e+04,   5.87705200e+04,\n",
       "          5.96339100e+04,   6.04973000e+04,   6.13606900e+04,\n",
       "          6.22240800e+04,   6.30874700e+04,   6.39508600e+04,\n",
       "          6.48142500e+04,   6.56776400e+04,   6.65410300e+04,\n",
       "          6.74044200e+04,   6.82678100e+04,   6.91312000e+04,\n",
       "          6.99945900e+04,   7.08579800e+04,   7.17213700e+04,\n",
       "          7.25847600e+04,   7.34481500e+04,   7.43115400e+04,\n",
       "          7.51749300e+04,   7.60383200e+04,   7.69017100e+04,\n",
       "          7.77651000e+04,   7.86284900e+04,   7.94918800e+04,\n",
       "          8.03552700e+04,   8.12186600e+04,   8.20820500e+04,\n",
       "          8.29454400e+04,   8.38088300e+04,   8.46722200e+04,\n",
       "          8.55356100e+04,   8.63990000e+04]),\n",
       " <a list of 100 Patch objects>)"
      ]
     },
     "execution_count": 52,
     "metadata": {},
     "output_type": "execute_result"
    },
    {
     "data": {
      "image/png": "[encoded data removed]",
      "text/plain": [
       "<matplotlib.figure.Figure at 0x11af10910>"
      ]
     },
     "metadata": {},
     "output_type": "display_data"
    }
   ],
   "source": [
    "plt.hist(data['tripduration'],bins=100)"
   ]
  },
  {
   "cell_type": "code",
   "execution_count": null,
   "metadata": {
    "collapsed": true
   },
   "outputs": [],
   "source": []
  },
  {
   "cell_type": "code",
   "execution_count": 54,
   "metadata": {
    "collapsed": false,
    "scrolled": true
   },
   "outputs": [
    {
     "data": {
      "text/plain": [
       "(0, 1800)"
      ]
     },
     "execution_count": 54,
     "metadata": {},
     "output_type": "execute_result"
    },
    {
     "data": {
      "image/png": "[encoded data removed]",
      "text/plain": [
       "<matplotlib.figure.Figure at 0x11cf0dd90>"
      ]
     },
     "metadata": {},
     "output_type": "display_data"
    }
   ],
   "source": [
    "plt.hist(data['tripduration'],bins=100)\n",
    "plt.xlim(0, 1800)"
   ]
  },
  {
   "cell_type": "code",
   "execution_count": 58,
   "metadata": {
    "collapsed": false
   },
   "outputs": [
    {
     "data": {
      "text/plain": [
       "0           316\n",
       "1            64\n",
       "2           433\n",
       "3           123\n",
       "4           852\n",
       "6          1094\n",
       "7          1020\n",
       "9           653\n",
       "10         1738\n",
       "12         1712\n",
       "13          996\n",
       "14          818\n",
       "16          730\n",
       "17         1292\n",
       "18         1511\n",
       "19         1512\n",
       "20         1125\n",
       "21          964\n",
       "22          972\n",
       "23          977\n",
       "26         1758\n",
       "27          730\n",
       "30         1117\n",
       "31          980\n",
       "32         1642\n",
       "35          423\n",
       "38          944\n",
       "39         1656\n",
       "40          736\n",
       "41          223\n",
       "           ... \n",
       "7867571     871\n",
       "7867572    1698\n",
       "7867573     522\n",
       "7867574    1320\n",
       "7867575    1335\n",
       "7867576    1707\n",
       "7867577     469\n",
       "7867578    1254\n",
       "7867579    1178\n",
       "7867580     404\n",
       "7867581    1652\n",
       "7867582    1322\n",
       "7867583    1342\n",
       "7867584     423\n",
       "7867585     117\n",
       "7867586     372\n",
       "7867587     381\n",
       "7867588     282\n",
       "7867589     253\n",
       "7867590     609\n",
       "7867591    1540\n",
       "7867592    1613\n",
       "7867593     721\n",
       "7867594     704\n",
       "7867595     590\n",
       "7867596     484\n",
       "7867597     512\n",
       "7867598     744\n",
       "7867599     615\n",
       "7867600     508\n",
       "Name: tripduration, dtype: int64"
      ]
     },
     "execution_count": 58,
     "metadata": {},
     "output_type": "execute_result"
    }
   ],
   "source": [
    "#data[(data['tripduration'<=1800.0)]] \n",
    "data[(data['tripduration'] <= 1800.0)]['tripduration']"
   ]
  },
  {
   "cell_type": "code",
   "execution_count": 60,
   "metadata": {
    "collapsed": false
   },
   "outputs": [
    {
     "data": {
      "text/plain": [
       "(array([  13044.,   15049.,   25822.,   37343.,   49667.,   67006.,\n",
       "          76123.,   93060.,   97456.,  105284.,  118877.,  118166.,\n",
       "         130365.,  125873.,  127730.,  135669.,  129926.,  136540.,\n",
       "         128147.,  127271.,  133963.,  125199.,  130722.,  122180.,\n",
       "         120388.,  125586.,  115859.,  120413.,  111503.,  109629.,\n",
       "         113356.,  104342.,  108486.,   99805.,   97779.,  101538.,\n",
       "          93661.,   96684.,   89465.,   87536.,   90553.,   83489.,\n",
       "          86743.,   80276.,   79109.,   82147.,   75975.,   78639.,\n",
       "          73350.,   71844.,   75019.,   68821.,   71854.,   66347.,\n",
       "          65063.,   67860.,   62754.,   65043.,   60607.,   59475.,\n",
       "          62269.,   57813.,   59945.,   55568.,   55182.,   56438.,\n",
       "          52525.,   54895.,   50765.,   50007.,   52298.,   48735.,\n",
       "          50107.,   46550.,   45585.,   47460.,   43691.,   45364.,\n",
       "          41547.,   40744.,   42132.,   38598.,   40008.,   36556.,\n",
       "          35848.,   36040.,   33133.,   34042.,   30984.,   30074.,\n",
       "          30787.,   27842.,   28562.,   25903.,   24740.,   25123.,\n",
       "          22122.,   22353.,   19934.,   20090.]),\n",
       " array([   60. ,    77.4,    94.8,   112.2,   129.6,   147. ,   164.4,\n",
       "          181.8,   199.2,   216.6,   234. ,   251.4,   268.8,   286.2,\n",
       "          303.6,   321. ,   338.4,   355.8,   373.2,   390.6,   408. ,\n",
       "          425.4,   442.8,   460.2,   477.6,   495. ,   512.4,   529.8,\n",
       "          547.2,   564.6,   582. ,   599.4,   616.8,   634.2,   651.6,\n",
       "          669. ,   686.4,   703.8,   721.2,   738.6,   756. ,   773.4,\n",
       "          790.8,   808.2,   825.6,   843. ,   860.4,   877.8,   895.2,\n",
       "          912.6,   930. ,   947.4,   964.8,   982.2,   999.6,  1017. ,\n",
       "         1034.4,  1051.8,  1069.2,  1086.6,  1104. ,  1121.4,  1138.8,\n",
       "         1156.2,  1173.6,  1191. ,  1208.4,  1225.8,  1243.2,  1260.6,\n",
       "         1278. ,  1295.4,  1312.8,  1330.2,  1347.6,  1365. ,  1382.4,\n",
       "         1399.8,  1417.2,  1434.6,  1452. ,  1469.4,  1486.8,  1504.2,\n",
       "         1521.6,  1539. ,  1556.4,  1573.8,  1591.2,  1608.6,  1626. ,\n",
       "         1643.4,  1660.8,  1678.2,  1695.6,  1713. ,  1730.4,  1747.8,\n",
       "         1765.2,  1782.6,  1800. ]),\n",
       " <a list of 100 Patch objects>)"
      ]
     },
     "execution_count": 60,
     "metadata": {},
     "output_type": "execute_result"
    },
    {
     "data": {
      "image/png": "[encoded data removed]",
      "text/plain": [
       "<matplotlib.figure.Figure at 0x11dd53810>"
      ]
     },
     "metadata": {},
     "output_type": "display_data"
    }
   ],
   "source": [
    "plt.hist(data[(data['tripduration'] <= 1800.0)]['tripduration'],bins=100)"
   ]
  },
  {
   "cell_type": "code",
   "execution_count": 61,
   "metadata": {
    "collapsed": false
   },
   "outputs": [
    {
     "data": {
      "text/plain": [
       "(array([      0.,       0.,       0.,    8761.,   14203.,   22559.,\n",
       "          35809.,   49983.,   64302.,   78823.,   91694.,  102580.,\n",
       "         111140.,  118877.,  125463.,  130320.,  133743.,  135044.,\n",
       "         136272.,  137197.,  136403.,  135523.,  134428.,  133360.,\n",
       "         131948.,  130493.,  128769.,  126404.,  124065.,  121629.,\n",
       "         118684.,  116624.,  114650.,  111471.,  108969.,  106218.,\n",
       "         104180.,  101914.,   99175.,   97167.,   95006.,   92662.,\n",
       "          90553.,   88382.,   86620.,   84778.,   83634.,   81798.,\n",
       "          80103.,   78493.,   77127.,   75820.,   74359.,   72187.,\n",
       "          71507.,   69601.,   68239.,   67340.,   65509.,   64585.,\n",
       "          63313.,   62746.,   61697.,   59987.,   59386.,   58454.,\n",
       "          56596.,   55742.,   54956.,   53895.,   52968.,   52298.,\n",
       "          51593.,   49994.,   49233.,   48104.,   47167.,   46153.,\n",
       "          45149.,   43666.,   42903.,   41314.,   40917.,   39596.,\n",
       "          38322.,   36958.,   35499.,   34631.,   33242.,   32222.,\n",
       "          31173.,   29845.,   28796.,   27757.,   26512.,   25288.,\n",
       "          23683.,   22451.,   21288.,   21198.]),\n",
       " array([    0.,    18.,    36.,    54.,    72.,    90.,   108.,   126.,\n",
       "          144.,   162.,   180.,   198.,   216.,   234.,   252.,   270.,\n",
       "          288.,   306.,   324.,   342.,   360.,   378.,   396.,   414.,\n",
       "          432.,   450.,   468.,   486.,   504.,   522.,   540.,   558.,\n",
       "          576.,   594.,   612.,   630.,   648.,   666.,   684.,   702.,\n",
       "          720.,   738.,   756.,   774.,   792.,   810.,   828.,   846.,\n",
       "          864.,   882.,   900.,   918.,   936.,   954.,   972.,   990.,\n",
       "         1008.,  1026.,  1044.,  1062.,  1080.,  1098.,  1116.,  1134.,\n",
       "         1152.,  1170.,  1188.,  1206.,  1224.,  1242.,  1260.,  1278.,\n",
       "         1296.,  1314.,  1332.,  1350.,  1368.,  1386.,  1404.,  1422.,\n",
       "         1440.,  1458.,  1476.,  1494.,  1512.,  1530.,  1548.,  1566.,\n",
       "         1584.,  1602.,  1620.,  1638.,  1656.,  1674.,  1692.,  1710.,\n",
       "         1728.,  1746.,  1764.,  1782.,  1800.]),\n",
       " <a list of 100 Patch objects>)"
      ]
     },
     "execution_count": 61,
     "metadata": {},
     "output_type": "execute_result"
    },
    {
     "data": {
      "image/png": "[encoded data removed]",
      "text/plain": [
       "<matplotlib.figure.Figure at 0x11d53c150>"
      ]
     },
     "metadata": {},
     "output_type": "display_data"
    }
   ],
   "source": [
    "plt.hist(data['tripduration'], bins=100, range=[0, 1800])\n",
    "#constained after put in bins"
   ]
  },
  {
   "cell_type": "code",
   "execution_count": 62,
   "metadata": {
    "collapsed": false
   },
   "outputs": [
    {
     "data": {
      "text/plain": [
       "(array([ 19187.,  18129.,  17126.,  16160.,  15208.,  14439.,  13671.,\n",
       "         13278.,  12680.,  11981.,  11539.,  10802.,  10574.,  10215.,\n",
       "          9673.,   9301.,   8994.,   8788.,   8508.,   8229.,   7961.,\n",
       "          7494.,   7402.,   7231.,   6961.,   6724.,   6552.,   6285.,\n",
       "          6122.,   5935.,   5892.,   5643.,   5372.,   5395.,   5332.,\n",
       "          5046.,   4992.,   4829.,   4718.,   4620.,   4525.,   4388.,\n",
       "          4368.,   4240.,   4109.,   4119.,   3924.,   3960.,   3881.,\n",
       "          3763.,   3674.,   3640.,   3433.,   3469.,   3360.,   3423.,\n",
       "          3344.,   3210.,   3187.,   3112.,   3143.,   3062.,   3074.,\n",
       "          3031.,   2823.,   2806.,   2768.,   2755.,   2788.,   2769.,\n",
       "          2570.,   2697.,   2560.,   2471.,   2486.,   2436.,   2392.,\n",
       "          2374.,   2368.,   2290.,   2221.,   2297.,   2250.,   2184.,\n",
       "          2168.,   2147.,   2078.,   1961.,   2069.,   2008.,   1903.,\n",
       "          1922.,   1844.,   1805.,   1768.,   1862.,   1766.,   1755.,\n",
       "          1606.,   1556.]),\n",
       " array([ 1801.  ,  1818.99,  1836.98,  1854.97,  1872.96,  1890.95,\n",
       "         1908.94,  1926.93,  1944.92,  1962.91,  1980.9 ,  1998.89,\n",
       "         2016.88,  2034.87,  2052.86,  2070.85,  2088.84,  2106.83,\n",
       "         2124.82,  2142.81,  2160.8 ,  2178.79,  2196.78,  2214.77,\n",
       "         2232.76,  2250.75,  2268.74,  2286.73,  2304.72,  2322.71,\n",
       "         2340.7 ,  2358.69,  2376.68,  2394.67,  2412.66,  2430.65,\n",
       "         2448.64,  2466.63,  2484.62,  2502.61,  2520.6 ,  2538.59,\n",
       "         2556.58,  2574.57,  2592.56,  2610.55,  2628.54,  2646.53,\n",
       "         2664.52,  2682.51,  2700.5 ,  2718.49,  2736.48,  2754.47,\n",
       "         2772.46,  2790.45,  2808.44,  2826.43,  2844.42,  2862.41,\n",
       "         2880.4 ,  2898.39,  2916.38,  2934.37,  2952.36,  2970.35,\n",
       "         2988.34,  3006.33,  3024.32,  3042.31,  3060.3 ,  3078.29,\n",
       "         3096.28,  3114.27,  3132.26,  3150.25,  3168.24,  3186.23,\n",
       "         3204.22,  3222.21,  3240.2 ,  3258.19,  3276.18,  3294.17,\n",
       "         3312.16,  3330.15,  3348.14,  3366.13,  3384.12,  3402.11,\n",
       "         3420.1 ,  3438.09,  3456.08,  3474.07,  3492.06,  3510.05,\n",
       "         3528.04,  3546.03,  3564.02,  3582.01,  3600.  ]),\n",
       " <a list of 100 Patch objects>)"
      ]
     },
     "execution_count": 62,
     "metadata": {},
     "output_type": "execute_result"
    },
    {
     "data": {
      "image/png": "[encoded data removed]",
      "text/plain": [
       "<matplotlib.figure.Figure at 0x11d53cc50>"
      ]
     },
     "metadata": {},
     "output_type": "display_data"
    }
   ],
   "source": [
    "plt.hist(data[(data['tripduration'] <= 1800.0)]['tripduration'],bins=100)\n",
    "plt.hist(data[(data['tripduration'] > 1800.0)& (data['tripduration']<=3600.0)]['tripduration'],bins=100)"
   ]
  },
  {
   "cell_type": "code",
   "execution_count": 69,
   "metadata": {
    "collapsed": false
   },
   "outputs": [
    {
     "ename": "TypeError",
     "evalue": "range() integer end argument expected, got float.",
     "output_type": "error",
     "traceback": [
      "\u001b[0;31m---------------------------------------------------------------------------\u001b[0m",
      "\u001b[0;31mTypeError\u001b[0m                                 Traceback (most recent call last)",
      "\u001b[0;32m<ipython-input-69-16417d0c33aa>\u001b[0m in \u001b[0;36m<module>\u001b[0;34m()\u001b[0m\n\u001b[0;32m----> 1\u001b[0;31m \u001b[0mplt\u001b[0m\u001b[0;34m.\u001b[0m\u001b[0mhist\u001b[0m\u001b[0;34m(\u001b[0m\u001b[0mdata\u001b[0m\u001b[0;34m[\u001b[0m\u001b[0;34m'tripduration'\u001b[0m\u001b[0;34m]\u001b[0m\u001b[0;34m,\u001b[0m \u001b[0mbins\u001b[0m\u001b[0;34m=\u001b[0m\u001b[0mrange\u001b[0m\u001b[0;34m(\u001b[0m\u001b[0;36m0.0\u001b[0m\u001b[0;34m,\u001b[0m \u001b[0;36m1800.0\u001b[0m\u001b[0;34m,\u001b[0m \u001b[0;36m100.0\u001b[0m\u001b[0;34m)\u001b[0m\u001b[0;34m)\u001b[0m\u001b[0;34m\u001b[0m\u001b[0m\n\u001b[0m",
      "\u001b[0;31mTypeError\u001b[0m: range() integer end argument expected, got float."
     ]
    }
   ],
   "source": [
    "plt.hist(data['tripduration'], bins=range(0.0, 1800.0, 100.0))"
   ]
  },
  {
   "cell_type": "code",
   "execution_count": null,
   "metadata": {
    "collapsed": true
   },
   "outputs": [],
   "source": [
    "# plt.hist(data[(data['tripduration'] <= 1800.0)]['tripduration'],bins=100)\n",
    "# plt.hist(data[(data['tripduration'] > 1800.0)& (data['tripduration']<=3600.0)]['tripduration'],\n",
    "#          bins=100)"
   ]
  },
  {
   "cell_type": "code",
   "execution_count": 71,
   "metadata": {
    "collapsed": false
   },
   "outputs": [
    {
     "data": {
      "text/plain": [
       "(array([  9737.,  10499.,  10192.,   9675.,   9550.,   9408.,   8972.,\n",
       "          8630.,   8321.,   8035.,   8019.,   7719.,   7458.,   7361.,\n",
       "          7210.,   7025.,   6777.,   6613.,   6559.,   6217.,   6027.,\n",
       "          6056.,   5836.,   5767.,   5638.,   5492.,   5341.,   5263.,\n",
       "          5077.,   5047.,   4929.,   4910.,   4790.,   4699.,   4658.,\n",
       "          4531.,   4509.,   4307.,   4228.,   4057.,   4151.,   4079.,\n",
       "          4021.,   3924.,   3818.,   3817.,   3681.,   3580.,   3675.,\n",
       "          3517.,   3416.,   3407.,   3317.,   3315.,   3260.,   3228.,\n",
       "          3094.,   3125.,   2961.,   3039.,   3002.,   2966.,   2967.,\n",
       "          2820.,   2794.,   2810.,   2712.,   2657.,   2672.,   2612.,\n",
       "          2567.,   2594.,   2491.,   2553.,   2377.,   2494.,   2502.,\n",
       "          2287.,   2347.,   2312.,   2284.,   2255.,   2310.,   2171.,\n",
       "          2194.,   2281.,   2069.,   2201.,   2076.,   2112.,   2032.,\n",
       "          2059.,   1994.,   2017.,   1904.,   1898.,   1954.,   1866.,\n",
       "          1899.,   1814.,   1948.,   1880.,   1851.,   1701.,   1859.,\n",
       "          1768.,   1752.,   1686.,   1782.,   1716.,   1716.,   1710.,\n",
       "          1705.,   1665.,   1694.,   1625.,   1547.,   1550.,   1549.,\n",
       "          1560.,   1517.,   1558.,   1514.,   1571.,   1510.,   1554.,\n",
       "          1438.,   1441.,   1539.,   1418.,   1423.,   1443.,   1379.,\n",
       "          1380.,   1343.,   1363.,   1359.,   1348.,   1289.,   1320.,\n",
       "          1286.,   1343.,   1282.,   1278.,   1258.,   1230.,   1254.,\n",
       "          1282.,   1236.,   1250.,   1210.,   1216.,   1200.,   1199.,\n",
       "          1181.,   1137.,   1156.,   1082.,   1097.,   1159.,   1181.,\n",
       "          1074.,   1051.,   1078.,   1070.,   1057.,   1018.,   1031.,\n",
       "           968.,   1019.,    943.,   1050.,   1033.,    983.,    990.,\n",
       "           970.,    928.,    891.,    871.,    870.,     77.,      0.,\n",
       "             0.,      0.,      0.,      0.,      0.,      0.,      0.]),\n",
       " array([1800, 1810, 1820, 1830, 1840, 1850, 1860, 1870, 1880, 1890, 1900,\n",
       "        1910, 1920, 1930, 1940, 1950, 1960, 1970, 1980, 1990, 2000, 2010,\n",
       "        2020, 2030, 2040, 2050, 2060, 2070, 2080, 2090, 2100, 2110, 2120,\n",
       "        2130, 2140, 2150, 2160, 2170, 2180, 2190, 2200, 2210, 2220, 2230,\n",
       "        2240, 2250, 2260, 2270, 2280, 2290, 2300, 2310, 2320, 2330, 2340,\n",
       "        2350, 2360, 2370, 2380, 2390, 2400, 2410, 2420, 2430, 2440, 2450,\n",
       "        2460, 2470, 2480, 2490, 2500, 2510, 2520, 2530, 2540, 2550, 2560,\n",
       "        2570, 2580, 2590, 2600, 2610, 2620, 2630, 2640, 2650, 2660, 2670,\n",
       "        2680, 2690, 2700, 2710, 2720, 2730, 2740, 2750, 2760, 2770, 2780,\n",
       "        2790, 2800, 2810, 2820, 2830, 2840, 2850, 2860, 2870, 2880, 2890,\n",
       "        2900, 2910, 2920, 2930, 2940, 2950, 2960, 2970, 2980, 2990, 3000,\n",
       "        3010, 3020, 3030, 3040, 3050, 3060, 3070, 3080, 3090, 3100, 3110,\n",
       "        3120, 3130, 3140, 3150, 3160, 3170, 3180, 3190, 3200, 3210, 3220,\n",
       "        3230, 3240, 3250, 3260, 3270, 3280, 3290, 3300, 3310, 3320, 3330,\n",
       "        3340, 3350, 3360, 3370, 3380, 3390, 3400, 3410, 3420, 3430, 3440,\n",
       "        3450, 3460, 3470, 3480, 3490, 3500, 3510, 3520, 3530, 3540, 3550,\n",
       "        3560, 3570, 3580, 3590, 3600, 3610, 3620, 3630, 3640, 3650, 3660,\n",
       "        3670, 3680, 3690]),\n",
       " <a list of 189 Patch objects>)"
      ]
     },
     "execution_count": 71,
     "metadata": {},
     "output_type": "execute_result"
    },
    {
     "data": {
      "image/png": "[encoded data removed]",
      "text/plain": [
       "<matplotlib.figure.Figure at 0x119a14c90>"
      ]
     },
     "metadata": {},
     "output_type": "display_data"
    }
   ],
   "source": [
    "# If you want your bins to all be the same size!\n",
    "under_30_mins = data[(data['tripduration'] <= 1800.0)]['tripduration']\n",
    "over_30_mins = data[(data['tripduration'] > 1800.0) & (data['tripduration'] <= 3600.0)]['tripduration']\n",
    "plt.hist(under_30_mins, bins=range(0, 1900, 10))\n",
    "plt.hist(over_30_mins, bins=range(1800, 3700, 10) , color='r')"
   ]
  },
  {
   "cell_type": "code",
   "execution_count": 72,
   "metadata": {
    "collapsed": false
   },
   "outputs": [
    {
     "data": {
      "text/plain": [
       "Subscriber    5466758\n",
       "Customer      2400700\n",
       "Dependent         143\n",
       "Name: usertype, dtype: int64"
      ]
     },
     "execution_count": 72,
     "metadata": {},
     "output_type": "execute_result"
    }
   ],
   "source": [
    "#substribers taking short rides and non subs take long\n",
    "data['usertype'].value_counts()"
   ]
  },
  {
   "cell_type": "code",
   "execution_count": 76,
   "metadata": {
    "collapsed": false
   },
   "outputs": [
    {
     "ename": "SyntaxError",
     "evalue": "invalid syntax (<ipython-input-76-e273cc158160>, line 1)",
     "output_type": "error",
     "traceback": [
      "\u001b[0;36m  File \u001b[0;32m\"<ipython-input-76-e273cc158160>\"\u001b[0;36m, line \u001b[0;32m1\u001b[0m\n\u001b[0;31m    data(data['usertype'=='Dependent')].value_counts()\u001b[0m\n\u001b[0m                                     ^\u001b[0m\n\u001b[0;31mSyntaxError\u001b[0m\u001b[0;31m:\u001b[0m invalid syntax\n"
     ]
    }
   ],
   "source": [
    "# data(data['usertype'=='Dependent')].value_counts()"
   ]
  },
  {
   "cell_type": "code",
   "execution_count": 77,
   "metadata": {
    "collapsed": false
   },
   "outputs": [
    {
     "name": "stdout",
     "output_type": "stream",
     "text": [
      "bikeid               7867601\n",
      "birthday              402909\n",
      "birthyear            5063917\n",
      "from_station_id      7867601\n",
      "from_station_name    7867601\n",
      "gender               5466633\n",
      "starttime            7867601\n",
      "stoptime             7867601\n",
      "to_station_id        7867601\n",
      "to_station_name      7867601\n",
      "trip_id              7867601\n",
      "tripduration         7867601\n",
      "usertype             7867601\n",
      "dtype: int64\n"
     ]
    }
   ],
   "source": [
    "# no_dependents = data.copy()\n",
    "# print no_dependents.count()\n",
    "# no_dependents=no_dependents[(no_dependents['usertype']!= 'Dependent')]"
   ]
  },
  {
   "cell_type": "code",
   "execution_count": 84,
   "metadata": {
    "collapsed": false
   },
   "outputs": [
    {
     "name": "stdout",
     "output_type": "stream",
     "text": [
      "bikeid               7867601\n",
      "birthday              402909\n",
      "birthyear            5063917\n",
      "from_station_id      7867601\n",
      "from_station_name    7867601\n",
      "gender               5466633\n",
      "starttime            7867601\n",
      "stoptime             7867601\n",
      "to_station_id        7867601\n",
      "to_station_name      7867601\n",
      "trip_id              7867601\n",
      "tripduration         7867601\n",
      "usertype             7867601\n",
      "dtype: int64\n",
      "bikeid               7867458\n",
      "birthday              402909\n",
      "birthyear            5063774\n",
      "from_station_id      7867458\n",
      "from_station_name    7867458\n",
      "gender               5466497\n",
      "starttime            7867458\n",
      "stoptime             7867458\n",
      "to_station_id        7867458\n",
      "to_station_name      7867458\n",
      "trip_id              7867458\n",
      "tripduration         7867458\n",
      "usertype             7867458\n",
      "dtype: int64\n"
     ]
    }
   ],
   "source": [
    "no_dependents = data.copy()\n",
    "print no_dependents.count()\n",
    "no_dependents = no_dependents[(no_dependents['usertype'] != 'Dependent')]\n",
    "print no_dependents.count()"
   ]
  },
  {
   "cell_type": "code",
   "execution_count": 83,
   "metadata": {
    "collapsed": false
   },
   "outputs": [
    {
     "data": {
      "text/plain": [
       "Subscriber    5466758\n",
       "Customer      2400700\n",
       "Dependent         143\n",
       "Name: usertype, dtype: int64"
      ]
     },
     "execution_count": 83,
     "metadata": {},
     "output_type": "execute_result"
    }
   ],
   "source": [
    "data['usertype'].value_counts()"
   ]
  },
  {
   "cell_type": "code",
   "execution_count": 86,
   "metadata": {
    "collapsed": false
   },
   "outputs": [],
   "source": [
    "import math\n",
    "no_dependents['minutes']=no_dependents['tripduration'].apply(lambda x:math.floor(x/60.0))"
   ]
  },
  {
   "cell_type": "code",
   "execution_count": 87,
   "metadata": {
    "collapsed": false
   },
   "outputs": [
    {
     "data": {
      "text/plain": [
       "count    7.867458e+06\n",
       "mean     1.676345e+01\n",
       "std      3.438507e+01\n",
       "min      1.000000e+00\n",
       "25%      7.000000e+00\n",
       "50%      1.200000e+01\n",
       "75%      2.000000e+01\n",
       "max      1.439000e+03\n",
       "Name: minutes, dtype: float64"
      ]
     },
     "execution_count": 87,
     "metadata": {},
     "output_type": "execute_result"
    }
   ],
   "source": [
    "no_dependents['minutes'].describe()"
   ]
  },
  {
   "cell_type": "code",
   "execution_count": 88,
   "metadata": {
    "collapsed": false
   },
   "outputs": [
    {
     "data": {
      "text/plain": [
       "0     5.0\n",
       "1     1.0\n",
       "2     7.0\n",
       "3     2.0\n",
       "4    14.0\n",
       "Name: minutes, dtype: float64"
      ]
     },
     "execution_count": 88,
     "metadata": {},
     "output_type": "execute_result"
    }
   ],
   "source": [
    "no_dependents['minutes'].head()"
   ]
  },
  {
   "cell_type": "code",
   "execution_count": 90,
   "metadata": {
    "collapsed": false
   },
   "outputs": [
    {
     "data": {
      "text/html": [
       "<div>\n",
       "<table border=\"1\" class=\"dataframe\">\n",
       "  <thead>\n",
       "    <tr style=\"text-align: right;\">\n",
       "      <th></th>\n",
       "      <th>Customer</th>\n",
       "      <th>Subscriber</th>\n",
       "    </tr>\n",
       "  </thead>\n",
       "  <tbody>\n",
       "    <tr>\n",
       "      <th>0</th>\n",
       "      <td>1.0</td>\n",
       "      <td>0.0</td>\n",
       "    </tr>\n",
       "    <tr>\n",
       "      <th>1</th>\n",
       "      <td>1.0</td>\n",
       "      <td>0.0</td>\n",
       "    </tr>\n",
       "    <tr>\n",
       "      <th>2</th>\n",
       "      <td>1.0</td>\n",
       "      <td>0.0</td>\n",
       "    </tr>\n",
       "    <tr>\n",
       "      <th>3</th>\n",
       "      <td>1.0</td>\n",
       "      <td>0.0</td>\n",
       "    </tr>\n",
       "    <tr>\n",
       "      <th>4</th>\n",
       "      <td>1.0</td>\n",
       "      <td>0.0</td>\n",
       "    </tr>\n",
       "  </tbody>\n",
       "</table>\n",
       "</div>"
      ],
      "text/plain": [
       "   Customer  Subscriber\n",
       "0       1.0         0.0\n",
       "1       1.0         0.0\n",
       "2       1.0         0.0\n",
       "3       1.0         0.0\n",
       "4       1.0         0.0"
      ]
     },
     "execution_count": 90,
     "metadata": {},
     "output_type": "execute_result"
    }
   ],
   "source": [
    "usertypes = pd.get_dummies(no_dependents['usertype'])\n",
    "usertypes.head()\n",
    "#no_dependents.groupby('minutes')['usertype']"
   ]
  },
  {
   "cell_type": "code",
   "execution_count": 91,
   "metadata": {
    "collapsed": false
   },
   "outputs": [
    {
     "data": {
      "text/html": [
       "<div>\n",
       "<table border=\"1\" class=\"dataframe\">\n",
       "  <thead>\n",
       "    <tr style=\"text-align: right;\">\n",
       "      <th></th>\n",
       "      <th>bikeid</th>\n",
       "      <th>birthday</th>\n",
       "      <th>birthyear</th>\n",
       "      <th>from_station_id</th>\n",
       "      <th>from_station_name</th>\n",
       "      <th>gender</th>\n",
       "      <th>starttime</th>\n",
       "      <th>stoptime</th>\n",
       "      <th>to_station_id</th>\n",
       "      <th>to_station_name</th>\n",
       "      <th>trip_id</th>\n",
       "      <th>tripduration</th>\n",
       "      <th>usertype</th>\n",
       "      <th>minutes</th>\n",
       "      <th>Customer</th>\n",
       "      <th>Subscriber</th>\n",
       "    </tr>\n",
       "  </thead>\n",
       "  <tbody>\n",
       "    <tr>\n",
       "      <th>0</th>\n",
       "      <td>480</td>\n",
       "      <td>NaN</td>\n",
       "      <td>NaN</td>\n",
       "      <td>85</td>\n",
       "      <td>Michigan Ave &amp; Oak St</td>\n",
       "      <td>NaN</td>\n",
       "      <td>2013-06-27 12:11</td>\n",
       "      <td>2013-06-27 12:16</td>\n",
       "      <td>28</td>\n",
       "      <td>Larrabee St &amp; Menomonee St</td>\n",
       "      <td>4118</td>\n",
       "      <td>316</td>\n",
       "      <td>Customer</td>\n",
       "      <td>5.0</td>\n",
       "      <td>1.0</td>\n",
       "      <td>0.0</td>\n",
       "    </tr>\n",
       "    <tr>\n",
       "      <th>1</th>\n",
       "      <td>77</td>\n",
       "      <td>NaN</td>\n",
       "      <td>NaN</td>\n",
       "      <td>32</td>\n",
       "      <td>Racine Ave &amp; Congress Pkwy</td>\n",
       "      <td>NaN</td>\n",
       "      <td>2013-06-27 14:44</td>\n",
       "      <td>2013-06-27 14:45</td>\n",
       "      <td>32</td>\n",
       "      <td>Racine Ave &amp; Congress Pkwy</td>\n",
       "      <td>4275</td>\n",
       "      <td>64</td>\n",
       "      <td>Customer</td>\n",
       "      <td>1.0</td>\n",
       "      <td>1.0</td>\n",
       "      <td>0.0</td>\n",
       "    </tr>\n",
       "    <tr>\n",
       "      <th>2</th>\n",
       "      <td>77</td>\n",
       "      <td>NaN</td>\n",
       "      <td>NaN</td>\n",
       "      <td>32</td>\n",
       "      <td>Racine Ave &amp; Congress Pkwy</td>\n",
       "      <td>NaN</td>\n",
       "      <td>2013-06-27 14:58</td>\n",
       "      <td>2013-06-27 15:05</td>\n",
       "      <td>19</td>\n",
       "      <td>Loomis St &amp; Taylor St</td>\n",
       "      <td>4291</td>\n",
       "      <td>433</td>\n",
       "      <td>Customer</td>\n",
       "      <td>7.0</td>\n",
       "      <td>1.0</td>\n",
       "      <td>0.0</td>\n",
       "    </tr>\n",
       "    <tr>\n",
       "      <th>3</th>\n",
       "      <td>77</td>\n",
       "      <td>NaN</td>\n",
       "      <td>NaN</td>\n",
       "      <td>19</td>\n",
       "      <td>Loomis St &amp; Taylor St</td>\n",
       "      <td>NaN</td>\n",
       "      <td>2013-06-27 15:06</td>\n",
       "      <td>2013-06-27 15:09</td>\n",
       "      <td>19</td>\n",
       "      <td>Loomis St &amp; Taylor St</td>\n",
       "      <td>4316</td>\n",
       "      <td>123</td>\n",
       "      <td>Customer</td>\n",
       "      <td>2.0</td>\n",
       "      <td>1.0</td>\n",
       "      <td>0.0</td>\n",
       "    </tr>\n",
       "    <tr>\n",
       "      <th>4</th>\n",
       "      <td>77</td>\n",
       "      <td>NaN</td>\n",
       "      <td>NaN</td>\n",
       "      <td>19</td>\n",
       "      <td>Loomis St &amp; Taylor St</td>\n",
       "      <td>NaN</td>\n",
       "      <td>2013-06-27 15:13</td>\n",
       "      <td>2013-06-27 15:27</td>\n",
       "      <td>55</td>\n",
       "      <td>Halsted St &amp; James M Rochford St</td>\n",
       "      <td>4342</td>\n",
       "      <td>852</td>\n",
       "      <td>Customer</td>\n",
       "      <td>14.0</td>\n",
       "      <td>1.0</td>\n",
       "      <td>0.0</td>\n",
       "    </tr>\n",
       "  </tbody>\n",
       "</table>\n",
       "</div>"
      ],
      "text/plain": [
       "   bikeid  birthday  birthyear  from_station_id           from_station_name  \\\n",
       "0     480       NaN        NaN               85       Michigan Ave & Oak St   \n",
       "1      77       NaN        NaN               32  Racine Ave & Congress Pkwy   \n",
       "2      77       NaN        NaN               32  Racine Ave & Congress Pkwy   \n",
       "3      77       NaN        NaN               19       Loomis St & Taylor St   \n",
       "4      77       NaN        NaN               19       Loomis St & Taylor St   \n",
       "\n",
       "  gender         starttime          stoptime  to_station_id  \\\n",
       "0    NaN  2013-06-27 12:11  2013-06-27 12:16             28   \n",
       "1    NaN  2013-06-27 14:44  2013-06-27 14:45             32   \n",
       "2    NaN  2013-06-27 14:58  2013-06-27 15:05             19   \n",
       "3    NaN  2013-06-27 15:06  2013-06-27 15:09             19   \n",
       "4    NaN  2013-06-27 15:13  2013-06-27 15:27             55   \n",
       "\n",
       "                    to_station_name  trip_id  tripduration  usertype  minutes  \\\n",
       "0        Larrabee St & Menomonee St     4118           316  Customer      5.0   \n",
       "1        Racine Ave & Congress Pkwy     4275            64  Customer      1.0   \n",
       "2             Loomis St & Taylor St     4291           433  Customer      7.0   \n",
       "3             Loomis St & Taylor St     4316           123  Customer      2.0   \n",
       "4  Halsted St & James M Rochford St     4342           852  Customer     14.0   \n",
       "\n",
       "   Customer  Subscriber  \n",
       "0       1.0         0.0  \n",
       "1       1.0         0.0  \n",
       "2       1.0         0.0  \n",
       "3       1.0         0.0  \n",
       "4       1.0         0.0  "
      ]
     },
     "execution_count": 91,
     "metadata": {},
     "output_type": "execute_result"
    }
   ],
   "source": [
    "no_dependents=no_dependents.join(usertypes)\n",
    "no_dependents.head()\n"
   ]
  },
  {
   "cell_type": "code",
   "execution_count": 92,
   "metadata": {
    "collapsed": false
   },
   "outputs": [
    {
     "data": {
      "text/plain": [
       "minutes\n",
       "1.0       11774.0\n",
       "2.0       12694.0\n",
       "3.0       18447.0\n",
       "4.0       26803.0\n",
       "5.0       34227.0\n",
       "6.0       42052.0\n",
       "7.0       49372.0\n",
       "8.0       55955.0\n",
       "9.0       61414.0\n",
       "10.0      65174.0\n",
       "11.0      69195.0\n",
       "12.0      71453.0\n",
       "13.0      74183.0\n",
       "14.0      76212.0\n",
       "15.0      78379.0\n",
       "16.0      80074.0\n",
       "17.0      81286.0\n",
       "18.0      82635.0\n",
       "19.0      83696.0\n",
       "20.0      82701.0\n",
       "21.0      83495.0\n",
       "22.0      82488.0\n",
       "23.0      80318.0\n",
       "24.0      78146.0\n",
       "25.0      73964.0\n",
       "26.0      69233.0\n",
       "27.0      64424.0\n",
       "28.0      58353.0\n",
       "29.0      50364.0\n",
       "30.0      43830.0\n",
       "           ...   \n",
       "1410.0        4.0\n",
       "1411.0        5.0\n",
       "1412.0        2.0\n",
       "1413.0        5.0\n",
       "1414.0        3.0\n",
       "1415.0        7.0\n",
       "1416.0       11.0\n",
       "1417.0        4.0\n",
       "1418.0        5.0\n",
       "1419.0        3.0\n",
       "1420.0       14.0\n",
       "1421.0        6.0\n",
       "1422.0       14.0\n",
       "1423.0        8.0\n",
       "1424.0        9.0\n",
       "1425.0        7.0\n",
       "1426.0        3.0\n",
       "1427.0        4.0\n",
       "1428.0        2.0\n",
       "1429.0        7.0\n",
       "1430.0        8.0\n",
       "1431.0        5.0\n",
       "1432.0        1.0\n",
       "1433.0        6.0\n",
       "1434.0        2.0\n",
       "1435.0        6.0\n",
       "1436.0        8.0\n",
       "1437.0        7.0\n",
       "1438.0        6.0\n",
       "1439.0        5.0\n",
       "Name: Customer, dtype: float64"
      ]
     },
     "execution_count": 92,
     "metadata": {},
     "output_type": "execute_result"
    }
   ],
   "source": [
    "no_dependents.groupby('minutes')['Customer'].sum()"
   ]
  },
  {
   "cell_type": "code",
   "execution_count": 94,
   "metadata": {
    "collapsed": false
   },
   "outputs": [
    {
     "ename": "SyntaxError",
     "evalue": "non-keyword arg after keyword arg (<ipython-input-94-ee18a522ac19>, line 2)",
     "output_type": "error",
     "traceback": [
      "\u001b[0;36m  File \u001b[0;32m\"<ipython-input-94-ee18a522ac19>\"\u001b[0;36m, line \u001b[0;32m2\u001b[0m\n\u001b[0;31m    pd.pivot_table(no_dependents, index = 'minutes',value='Customers',addfunc-sum)\u001b[0m\n\u001b[0;31mSyntaxError\u001b[0m\u001b[0;31m:\u001b[0m non-keyword arg after keyword arg\n"
     ]
    }
   ],
   "source": [
    "#no_dependents.groupby('minutes')['Customer'].sum()\n",
    "pd.pivot_table(no_dependents, index = 'minutes',value='Customers',addfunc-sum)"
   ]
  },
  {
   "cell_type": "code",
   "execution_count": 95,
   "metadata": {
    "collapsed": true
   },
   "outputs": [],
   "source": [
    "customers_by_minutes = no_dependents.groupby('minutes')['Customer'].sum()\n",
    "subscribers_by_minutes = no_dependents.groupby('minutes')['Subscriber'].sum()"
   ]
  },
  {
   "cell_type": "code",
   "execution_count": 96,
   "metadata": {
    "collapsed": false
   },
   "outputs": [
    {
     "data": {
      "text/plain": [
       "minutes\n",
       "1.0       11774.0\n",
       "2.0       12694.0\n",
       "3.0       18447.0\n",
       "4.0       26803.0\n",
       "5.0       34227.0\n",
       "6.0       42052.0\n",
       "7.0       49372.0\n",
       "8.0       55955.0\n",
       "9.0       61414.0\n",
       "10.0      65174.0\n",
       "11.0      69195.0\n",
       "12.0      71453.0\n",
       "13.0      74183.0\n",
       "14.0      76212.0\n",
       "15.0      78379.0\n",
       "16.0      80074.0\n",
       "17.0      81286.0\n",
       "18.0      82635.0\n",
       "19.0      83696.0\n",
       "20.0      82701.0\n",
       "21.0      83495.0\n",
       "22.0      82488.0\n",
       "23.0      80318.0\n",
       "24.0      78146.0\n",
       "25.0      73964.0\n",
       "26.0      69233.0\n",
       "27.0      64424.0\n",
       "28.0      58353.0\n",
       "29.0      50364.0\n",
       "30.0      43830.0\n",
       "           ...   \n",
       "1410.0        4.0\n",
       "1411.0        5.0\n",
       "1412.0        2.0\n",
       "1413.0        5.0\n",
       "1414.0        3.0\n",
       "1415.0        7.0\n",
       "1416.0       11.0\n",
       "1417.0        4.0\n",
       "1418.0        5.0\n",
       "1419.0        3.0\n",
       "1420.0       14.0\n",
       "1421.0        6.0\n",
       "1422.0       14.0\n",
       "1423.0        8.0\n",
       "1424.0        9.0\n",
       "1425.0        7.0\n",
       "1426.0        3.0\n",
       "1427.0        4.0\n",
       "1428.0        2.0\n",
       "1429.0        7.0\n",
       "1430.0        8.0\n",
       "1431.0        5.0\n",
       "1432.0        1.0\n",
       "1433.0        6.0\n",
       "1434.0        2.0\n",
       "1435.0        6.0\n",
       "1436.0        8.0\n",
       "1437.0        7.0\n",
       "1438.0        6.0\n",
       "1439.0        5.0\n",
       "Name: Customer, dtype: float64"
      ]
     },
     "execution_count": 96,
     "metadata": {},
     "output_type": "execute_result"
    }
   ],
   "source": [
    "pd.pivot_table(no_dependents, index='minutes', values='Customer', aggfunc=sum)"
   ]
  },
  {
   "cell_type": "code",
   "execution_count": 102,
   "metadata": {
    "collapsed": false
   },
   "outputs": [
    {
     "data": {
      "text/plain": [
       "(0, 90)"
      ]
     },
     "execution_count": 102,
     "metadata": {},
     "output_type": "execute_result"
    },
    {
     "data": {
      "image/png": "[encoded data removed]",
      "text/plain": [
       "<matplotlib.figure.Figure at 0x11ed3cd50>"
      ]
     },
     "metadata": {},
     "output_type": "display_data"
    }
   ],
   "source": [
    "plt.plot(customers_by_minutes, color='red')\n",
    "plt.plot(subscribers_by_minutes, color= 'green')\n",
    "\n",
    "plt.xlim(0, 90)"
   ]
  },
  {
   "cell_type": "code",
   "execution_count": 110,
   "metadata": {
    "collapsed": false
   },
   "outputs": [
    {
     "data": {
      "text/plain": [
       "<matplotlib.legend.Legend at 0x11eecc750>"
      ]
     },
     "execution_count": 110,
     "metadata": {},
     "output_type": "execute_result"
    },
    {
     "data": {
      "image/png": "[encoded data removed]",
      "text/plain": [
       "<matplotlib.figure.Figure at 0x11ffb92d0>"
      ]
     },
     "metadata": {},
     "output_type": "display_data"
    }
   ],
   "source": [
    "#plt.axes(axisbg ='w')\n",
    "#plt.style.use('fivethirtyeight')\n",
    "plt.style.use('seaborn-colorblind')\n",
    "plt.plot(customers_by_minutes, color='red', label = 'Customers')\n",
    "plt.plot(subscribers_by_minutes, color= 'green', label = 'Subscribers')\n",
    "plt.xlim(0, 90)\n",
    "plt.ylabel('Number or rides 2013 Q3 - 2016 Q2')\n",
    "plt.xlabel('number of minutes per ride')\n",
    "plt.title(\"Number of subscripers and customers minutes per ride\")\n",
    "plt.legend(loc='upper right', fontsize ='large')\n"
   ]
  },
  {
   "cell_type": "code",
   "execution_count": 112,
   "metadata": {
    "collapsed": false
   },
   "outputs": [
    {
     "data": {
      "text/plain": [
       "<matplotlib.legend.Legend at 0x11caa8a50>"
      ]
     },
     "execution_count": 112,
     "metadata": {},
     "output_type": "execute_result"
    },
    {
     "data": {
      "image/png": "[encoded data removed]",
      "text/plain": [
       "<matplotlib.figure.Figure at 0x11eae1650>"
      ]
     },
     "metadata": {},
     "output_type": "display_data"
    }
   ],
   "source": [
    "plt.xkcd()\n",
    "plt.plot(customers_by_minutes, label='Customers')\n",
    "plt.plot(subscribers_by_minutes, label='Subscribers')\n",
    "plt.xlim(0, 90)\n",
    "plt.ylabel(\"Number of Rides 2013Q3-2016Q2\")\n",
    "plt.xlabel(\"Length of Ride (in full minutes)\")\n",
    "plt.title(\"Number of Subscriber and Customer Rides, \\nper minute, 2013Q3-2016Q2\")\n",
    "plt.legend(loc='upper right', shadow=True, fontsize='large')"
   ]
  },
  {
   "cell_type": "code",
   "execution_count": null,
   "metadata": {
    "collapsed": true
   },
   "outputs": [],
   "source": []
  }
 ],
 "metadata": {
  "anaconda-cloud": {},
  "kernelspec": {
   "display_name": "Python [Root]",
   "language": "python",
   "name": "Python [Root]"
  },
  "language_info": {
   "codemirror_mode": {
    "name": "ipython",
    "version": 2
   },
   "file_extension": ".py",
   "mimetype": "text/x-python",
   "name": "python",
   "nbconvert_exporter": "python",
   "pygments_lexer": "ipython2",
   "version": "2.7.12"
  }
 },
 "nbformat": 4,
 "nbformat_minor": 0
}
