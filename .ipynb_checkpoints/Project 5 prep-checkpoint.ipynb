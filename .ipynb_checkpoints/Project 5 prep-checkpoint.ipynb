{
 "cells": [
  {
   "cell_type": "code",
   "execution_count": 1,
   "metadata": {
    "collapsed": false
   },
   "outputs": [],
   "source": [
    "#project 5\n",
    "import pandas as pd\n",
    "import os\n",
    "import seaborn as sns\n",
    "#import sqlite\n",
    "import numpy as np\n",
    "import matplotlib.pyplot as plt\n",
    "%matplotlib inline\n",
    "from sklearn.neighbors import KNeighborsClassifier\n",
    "from sklearn.feature_selection import SelectKBest\n",
    "from sklearn.grid_search import GridSearchCV\n",
    "from sklearn.linear_model import LogisticRegression\n",
    "from sklearn.metrics import confusion_matrix, classification_report\n",
    "from sklearn.feature_extraction.text import CountVectorizer\n",
    "from sklearn.cross_validation import train_test_split\n",
    "from sklearn.feature_selection import RFE\n",
    "from sklearn.cross_validation import KFold\n",
    "from sklearn.metrics import confusion_matrix, classification_report\n",
    "from sklearn import metrics\n",
    "\n",
    "pd.options.display.max_columns = 50\n",
    "pd.options.display.max_colwidth = 300"
   ]
  },
  {
   "cell_type": "code",
   "execution_count": 2,
   "metadata": {
    "collapsed": false
   },
   "outputs": [
    {
     "data": {
      "text/plain": [
       "u'/Users/marthataylor/week03_classwork'"
      ]
     },
     "execution_count": 2,
     "metadata": {},
     "output_type": "execute_result"
    }
   ],
   "source": [
    "pwd"
   ]
  },
  {
   "cell_type": "code",
   "execution_count": 3,
   "metadata": {
    "collapsed": false
   },
   "outputs": [],
   "source": [
    "titanic= pd.read_csv('~/titanic.csv')"
   ]
  },
  {
   "cell_type": "markdown",
   "metadata": {},
   "source": [
    "April 1912, the Titanic sank after scraping an iceberg on its maiden journey. A very sad story since many people perished. There were design flaws and there were not enough life boats. If each boat was filled they could only accommodate 1,178 people.\n",
    "\n",
    "\n",
    "891 records This does not represent the total number of people on the Titanic. Passengers = 1317 and with crew = 2224.  more than 1500 died\n",
    "\n",
    "This list contains 891 records\n",
    "\n",
    "Survival 0 1\n",
    "pClass   passenger class\n",
    "\n",
    "name\n",
    "\n",
    "sex\n",
    "age  Age there are only 714\n",
    "sibsp   number of siblings/spouses aboard\n",
    "parch   number of parents/children aboard\n",
    "ticket  ticket number\n",
    "fare    passenger fare\n",
    "cabin   cabin  Cabin assignments  there are only 204\n",
    "embarked  point of embarkation  (C=Cherbourg, Q Queenstown, S Southampton Embarking location = 889\n",
    "\n",
    "There are only 204 cabins\n"
   ]
  },
  {
   "cell_type": "code",
   "execution_count": null,
   "metadata": {
    "collapsed": true
   },
   "outputs": [],
   "source": []
  },
  {
   "cell_type": "code",
   "execution_count": 4,
   "metadata": {
    "collapsed": false
   },
   "outputs": [
    {
     "name": "stdout",
     "output_type": "stream",
     "text": [
      "For index\n",
      "0\n",
      "count    891.000000\n",
      "mean     445.000000\n",
      "std      257.353842\n",
      "min        0.000000\n",
      "25%      222.500000\n",
      "50%      445.000000\n",
      "75%      667.500000\n",
      "max      890.000000\n",
      "Name: index, dtype: float64\n",
      " \n",
      "For PassengerId\n",
      "0\n",
      "count    891.000000\n",
      "mean     446.000000\n",
      "std      257.353842\n",
      "min        1.000000\n",
      "25%      223.500000\n",
      "50%      446.000000\n",
      "75%      668.500000\n",
      "max      891.000000\n",
      "Name: PassengerId, dtype: float64\n",
      " \n",
      "For Survived\n",
      "0\n",
      "count    891.000000\n",
      "mean       0.383838\n",
      "std        0.486592\n",
      "min        0.000000\n",
      "25%        0.000000\n",
      "50%        0.000000\n",
      "75%        1.000000\n",
      "max        1.000000\n",
      "Name: Survived, dtype: float64\n",
      " \n",
      "For Pclass\n",
      "0\n",
      "count    891.000000\n",
      "mean       2.308642\n",
      "std        0.836071\n",
      "min        1.000000\n",
      "25%        2.000000\n",
      "50%        3.000000\n",
      "75%        3.000000\n",
      "max        3.000000\n",
      "Name: Pclass, dtype: float64\n",
      " \n",
      "For Name\n",
      "0\n",
      "count                           891\n",
      "unique                          891\n",
      "top       Graham, Mr. George Edward\n",
      "freq                              1\n",
      "Name: Name, dtype: object\n",
      " \n",
      "For Sex\n",
      "0\n",
      "count      891\n",
      "unique       2\n",
      "top       male\n",
      "freq       577\n",
      "Name: Sex, dtype: object\n",
      " \n",
      "For Age\n",
      "177\n",
      "count    714.000000\n",
      "mean      29.699118\n",
      "std       14.526497\n",
      "min        0.420000\n",
      "25%             NaN\n",
      "50%             NaN\n",
      "75%             NaN\n",
      "max       80.000000\n",
      "Name: Age, dtype: float64\n",
      " \n",
      "For SibSp\n",
      "0\n",
      "count    891.000000\n",
      "mean       0.523008\n",
      "std        1.102743\n",
      "min        0.000000\n",
      "25%        0.000000\n",
      "50%        0.000000\n",
      "75%        1.000000\n",
      "max        8.000000\n",
      "Name: SibSp, dtype: float64\n",
      " \n",
      "For Parch\n",
      "0\n",
      "count    891.000000\n",
      "mean       0.381594\n",
      "std        0.806057\n",
      "min        0.000000\n",
      "25%        0.000000\n",
      "50%        0.000000\n",
      "75%        0.000000\n",
      "max        6.000000\n",
      "Name: Parch, dtype: float64\n",
      " \n",
      "For Ticket\n",
      "0\n",
      "count          891\n",
      "unique         681\n",
      "top       CA. 2343\n",
      "freq             7\n",
      "Name: Ticket, dtype: object\n",
      " \n",
      "For Fare\n",
      "0\n",
      "count    891.000000\n",
      "mean      32.204208\n",
      "std       49.693429\n",
      "min        0.000000\n",
      "25%        7.910400\n",
      "50%       14.454200\n",
      "75%       31.000000\n",
      "max      512.329200\n",
      "Name: Fare, dtype: float64\n",
      " \n",
      "For Cabin\n",
      "687\n",
      "count             204\n",
      "unique            147\n",
      "top       C23 C25 C27\n",
      "freq                4\n",
      "Name: Cabin, dtype: object\n",
      " \n",
      "For Embarked\n",
      "2\n",
      "count     889\n",
      "unique      3\n",
      "top         S\n",
      "freq      644\n",
      "Name: Embarked, dtype: object\n",
      " \n"
     ]
    },
    {
     "name": "stderr",
     "output_type": "stream",
     "text": [
      "//anaconda/lib/python2.7/site-packages/numpy/lib/function_base.py:3834: RuntimeWarning: Invalid value encountered in percentile\n",
      "  RuntimeWarning)\n"
     ]
    }
   ],
   "source": [
    "#systematically look at each variable to describe the data within the cell\n",
    "#and to see how many are null\n",
    "tColumms = []\n",
    "i=0\n",
    "for labels in titanic.columns:  \n",
    "    if i >=0:\n",
    "        tColumms.append(labels)\n",
    "        i = i+1\n",
    "    else:\n",
    "        i=i+1\n",
    "\n",
    "for item in tColumms:\n",
    "    print 'For %s' %item\n",
    "    print titanic[item].isnull().sum()\n",
    "    print titanic[item].describe()\n",
    "    print ' '"
   ]
  },
  {
   "cell_type": "code",
   "execution_count": 5,
   "metadata": {
    "collapsed": false
   },
   "outputs": [],
   "source": [
    "#suvivedByClass=pd.concat([byClasscount,byClasscount ],axis=1)\n",
    "#survivedByClass=pd.DataFrame(byClasscount).join(pd.DataFrame(survivedByClass))\n",
    "# byClasscount.merge(suvivedByClass, on='Pclass', how='left')\n",
    "# survivedByClass\n",
    "\n",
    "\n"
   ]
  },
  {
   "cell_type": "code",
   "execution_count": null,
   "metadata": {
    "collapsed": false
   },
   "outputs": [],
   "source": []
  },
  {
   "cell_type": "markdown",
   "metadata": {},
   "source": [
    "# Create Dummies"
   ]
  },
  {
   "cell_type": "code",
   "execution_count": 6,
   "metadata": {
    "collapsed": false
   },
   "outputs": [],
   "source": [
    "#create dummies and then do exploratiory analysis"
   ]
  },
  {
   "cell_type": "code",
   "execution_count": 7,
   "metadata": {
    "collapsed": true
   },
   "outputs": [],
   "source": [
    "dummiesPclass=pd.get_dummies(titanic['Pclass'])\n",
    "titanic=pd.DataFrame(titanic).join(pd.DataFrame(dummiesPclass))"
   ]
  },
  {
   "cell_type": "code",
   "execution_count": 8,
   "metadata": {
    "collapsed": true
   },
   "outputs": [],
   "source": [
    "titanic.columns=['index', 'PassengerId', 'Survived', 'Pclass',\n",
    "              'Name',  'Sex', 'Age','SibSp','Parch','Ticket', 'Fare',  'Cabin',\n",
    "'Embarked', 'first','second',  'third']"
   ]
  },
  {
   "cell_type": "code",
   "execution_count": 9,
   "metadata": {
    "collapsed": false
   },
   "outputs": [
    {
     "data": {
      "text/plain": [
       "0    1\n",
       "1    0\n",
       "Name: Sex, dtype: int64"
      ]
     },
     "execution_count": 9,
     "metadata": {},
     "output_type": "execute_result"
    }
   ],
   "source": [
    "male = titanic['Sex'].apply(lambda x: 1 if x == 'male' else 0)\n",
    "male.head(2)"
   ]
  },
  {
   "cell_type": "code",
   "execution_count": 10,
   "metadata": {
    "collapsed": false
   },
   "outputs": [
    {
     "data": {
      "text/html": [
       "<div>\n",
       "<table border=\"1\" class=\"dataframe\">\n",
       "  <thead>\n",
       "    <tr style=\"text-align: right;\">\n",
       "      <th></th>\n",
       "      <th>embarked_C</th>\n",
       "      <th>embarked_Q</th>\n",
       "    </tr>\n",
       "  </thead>\n",
       "  <tbody>\n",
       "    <tr>\n",
       "      <th>0</th>\n",
       "      <td>0.0</td>\n",
       "      <td>0.0</td>\n",
       "    </tr>\n",
       "  </tbody>\n",
       "</table>\n",
       "</div>"
      ],
      "text/plain": [
       "   embarked_C  embarked_Q\n",
       "0         0.0         0.0"
      ]
     },
     "execution_count": 10,
     "metadata": {},
     "output_type": "execute_result"
    }
   ],
   "source": [
    "embarkedDummies = pd.get_dummies(titanic['Embarked'], prefix='embarked')\n",
    "embarkedDummies = embarkedDummies[['embarked_C', 'embarked_Q']]\n",
    "embarkedDummies.head(1)"
   ]
  },
  {
   "cell_type": "code",
   "execution_count": 11,
   "metadata": {
    "collapsed": false
   },
   "outputs": [],
   "source": [
    "titanic=titanic.join(embarkedDummies)"
   ]
  },
  {
   "cell_type": "code",
   "execution_count": 12,
   "metadata": {
    "collapsed": false
   },
   "outputs": [],
   "source": [
    "\n",
    "titanic['Child'] = titanic['Age'].apply(lambda x: 1 if x < 12 else 0)\n",
    "titanic['Older Person'] = titanic['Age'].apply(lambda x: 1 if x > 50 else 0)\n",
    "\n",
    "\n"
   ]
  },
  {
   "cell_type": "code",
   "execution_count": 13,
   "metadata": {
    "collapsed": false
   },
   "outputs": [],
   "source": [
    "titanic['Male']=titanic['Sex'].apply(lambda x: 1 if x == 'male' else 0)"
   ]
  },
  {
   "cell_type": "code",
   "execution_count": 14,
   "metadata": {
    "collapsed": false
   },
   "outputs": [],
   "source": [
    "titanic['unknownAge']=titanic['Age']\n",
    "titanic['unknownAge'].fillna('Missing', inplace=True)\n",
    "titanic['unknownAge'] = titanic['unknownAge'].apply(lambda x: 1 if x =='Missing' else 0)"
   ]
  },
  {
   "cell_type": "code",
   "execution_count": 15,
   "metadata": {
    "collapsed": false
   },
   "outputs": [
    {
     "data": {
      "text/html": [
       "<div>\n",
       "<table border=\"1\" class=\"dataframe\">\n",
       "  <thead>\n",
       "    <tr style=\"text-align: right;\">\n",
       "      <th></th>\n",
       "      <th>Age</th>\n",
       "      <th>unknownAge</th>\n",
       "    </tr>\n",
       "  </thead>\n",
       "  <tbody>\n",
       "    <tr>\n",
       "      <th>0</th>\n",
       "      <td>22.0</td>\n",
       "      <td>0</td>\n",
       "    </tr>\n",
       "    <tr>\n",
       "      <th>1</th>\n",
       "      <td>38.0</td>\n",
       "      <td>0</td>\n",
       "    </tr>\n",
       "  </tbody>\n",
       "</table>\n",
       "</div>"
      ],
      "text/plain": [
       "    Age  unknownAge\n",
       "0  22.0           0\n",
       "1  38.0           0"
      ]
     },
     "execution_count": 15,
     "metadata": {},
     "output_type": "execute_result"
    }
   ],
   "source": [
    "titanic[['Age', 'unknownAge']].head(2)"
   ]
  },
  {
   "cell_type": "code",
   "execution_count": 46,
   "metadata": {
    "collapsed": false
   },
   "outputs": [
    {
     "name": "stdout",
     "output_type": "stream",
     "text": [
      "count    714.000000\n",
      "mean      29.699118\n",
      "std       14.526497\n",
      "min        0.420000\n",
      "25%       20.125000\n",
      "50%       28.000000\n",
      "75%       38.000000\n",
      "max       80.000000\n",
      "Name: Age, dtype: float64\n"
     ]
    }
   ],
   "source": [
    "print df1['Age'].describe()\n",
    "ageMean = np.mean(df1['Age'])\n"
   ]
  },
  {
   "cell_type": "code",
   "execution_count": 53,
   "metadata": {
    "collapsed": false
   },
   "outputs": [
    {
     "data": {
      "text/html": [
       "<div>\n",
       "<table border=\"1\" class=\"dataframe\">\n",
       "  <thead>\n",
       "    <tr style=\"text-align: right;\">\n",
       "      <th></th>\n",
       "      <th>Age</th>\n",
       "      <th>AgeFilledIn</th>\n",
       "    </tr>\n",
       "  </thead>\n",
       "  <tbody>\n",
       "    <tr>\n",
       "      <th>0</th>\n",
       "      <td>22.0</td>\n",
       "      <td>22.000000</td>\n",
       "    </tr>\n",
       "    <tr>\n",
       "      <th>1</th>\n",
       "      <td>38.0</td>\n",
       "      <td>38.000000</td>\n",
       "    </tr>\n",
       "    <tr>\n",
       "      <th>2</th>\n",
       "      <td>26.0</td>\n",
       "      <td>26.000000</td>\n",
       "    </tr>\n",
       "    <tr>\n",
       "      <th>3</th>\n",
       "      <td>35.0</td>\n",
       "      <td>35.000000</td>\n",
       "    </tr>\n",
       "    <tr>\n",
       "      <th>4</th>\n",
       "      <td>35.0</td>\n",
       "      <td>35.000000</td>\n",
       "    </tr>\n",
       "    <tr>\n",
       "      <th>5</th>\n",
       "      <td>NaN</td>\n",
       "      <td>29.699118</td>\n",
       "    </tr>\n",
       "  </tbody>\n",
       "</table>\n",
       "</div>"
      ],
      "text/plain": [
       "    Age  AgeFilledIn\n",
       "0  22.0    22.000000\n",
       "1  38.0    38.000000\n",
       "2  26.0    26.000000\n",
       "3  35.0    35.000000\n",
       "4  35.0    35.000000\n",
       "5   NaN    29.699118"
      ]
     },
     "execution_count": 53,
     "metadata": {},
     "output_type": "execute_result"
    }
   ],
   "source": [
    "#My goal is to keep all but to entries (embarkment) when doing the drop NaN\n",
    "#I am going to insert the mean \n",
    "titanic['AgeFilledIn']=titanic['Age']\n",
    "titanic['AgeFilledIn'].fillna(ageMean, inplace=True)\n",
    "#titanic['AgeFilledIn'] = titanic['AgeFilledIn'].apply(lambda x: ageMean if x =='Missing')\n",
    "titanic[['Age', 'AgeFilledIn']].head(6)"
   ]
  },
  {
   "cell_type": "code",
   "execution_count": 16,
   "metadata": {
    "collapsed": false
   },
   "outputs": [
    {
     "data": {
      "text/html": [
       "<div>\n",
       "<table border=\"1\" class=\"dataframe\">\n",
       "  <thead>\n",
       "    <tr style=\"text-align: right;\">\n",
       "      <th></th>\n",
       "      <th>Cabin</th>\n",
       "      <th>unknownCabin</th>\n",
       "    </tr>\n",
       "  </thead>\n",
       "  <tbody>\n",
       "    <tr>\n",
       "      <th>0</th>\n",
       "      <td>NaN</td>\n",
       "      <td>1</td>\n",
       "    </tr>\n",
       "    <tr>\n",
       "      <th>1</th>\n",
       "      <td>C85</td>\n",
       "      <td>0</td>\n",
       "    </tr>\n",
       "    <tr>\n",
       "      <th>2</th>\n",
       "      <td>NaN</td>\n",
       "      <td>1</td>\n",
       "    </tr>\n",
       "    <tr>\n",
       "      <th>3</th>\n",
       "      <td>C123</td>\n",
       "      <td>0</td>\n",
       "    </tr>\n",
       "    <tr>\n",
       "      <th>4</th>\n",
       "      <td>NaN</td>\n",
       "      <td>1</td>\n",
       "    </tr>\n",
       "    <tr>\n",
       "      <th>5</th>\n",
       "      <td>NaN</td>\n",
       "      <td>1</td>\n",
       "    </tr>\n",
       "    <tr>\n",
       "      <th>6</th>\n",
       "      <td>E46</td>\n",
       "      <td>0</td>\n",
       "    </tr>\n",
       "    <tr>\n",
       "      <th>7</th>\n",
       "      <td>NaN</td>\n",
       "      <td>1</td>\n",
       "    </tr>\n",
       "    <tr>\n",
       "      <th>8</th>\n",
       "      <td>NaN</td>\n",
       "      <td>1</td>\n",
       "    </tr>\n",
       "    <tr>\n",
       "      <th>9</th>\n",
       "      <td>NaN</td>\n",
       "      <td>1</td>\n",
       "    </tr>\n",
       "  </tbody>\n",
       "</table>\n",
       "</div>"
      ],
      "text/plain": [
       "  Cabin  unknownCabin\n",
       "0   NaN             1\n",
       "1   C85             0\n",
       "2   NaN             1\n",
       "3  C123             0\n",
       "4   NaN             1\n",
       "5   NaN             1\n",
       "6   E46             0\n",
       "7   NaN             1\n",
       "8   NaN             1\n",
       "9   NaN             1"
      ]
     },
     "execution_count": 16,
     "metadata": {},
     "output_type": "execute_result"
    }
   ],
   "source": [
    "titanic['unknownCabin']=titanic['Cabin']\n",
    "titanic['unknownCabin'].fillna('Missing', inplace=True)\n",
    "titanic['unknownCabin'] = titanic['unknownCabin'].apply(lambda x: 1 if x =='Missing' else 0)\n",
    "titanic[['Cabin', 'unknownCabin']].head(10)"
   ]
  },
  {
   "cell_type": "code",
   "execution_count": null,
   "metadata": {
    "collapsed": true
   },
   "outputs": [],
   "source": []
  },
  {
   "cell_type": "markdown",
   "metadata": {},
   "source": [
    "# now starting with playing with variables prior to building models\n",
    "I created df1 a dataframe with only the variables I will be testing.\n",
    "I am going to explore some of the data\n"
   ]
  },
  {
   "cell_type": "code",
   "execution_count": 54,
   "metadata": {
    "collapsed": false
   },
   "outputs": [
    {
     "data": {
      "text/plain": [
       "Index([u'index', u'PassengerId', u'Survived', u'Pclass', u'Name', u'Sex',\n",
       "       u'Age', u'SibSp', u'Parch', u'Ticket', u'Fare', u'Cabin', u'Embarked',\n",
       "       u'first', u'second', u'third', u'embarked_C', u'embarked_Q', u'Child',\n",
       "       u'Older Person', u'Male', u'unknownAge', u'unknownCabin',\n",
       "       u'AgeFilledIn'],\n",
       "      dtype='object')"
      ]
     },
     "execution_count": 54,
     "metadata": {},
     "output_type": "execute_result"
    }
   ],
   "source": [
    "titanic.columns"
   ]
  },
  {
   "cell_type": "markdown",
   "metadata": {},
   "source": [
    "Exploring the relationships prior to starting my models"
   ]
  },
  {
   "cell_type": "code",
   "execution_count": 55,
   "metadata": {
    "collapsed": false
   },
   "outputs": [
    {
     "data": {
      "text/html": [
       "<div>\n",
       "<table border=\"1\" class=\"dataframe\">\n",
       "  <thead>\n",
       "    <tr style=\"text-align: right;\">\n",
       "      <th></th>\n",
       "      <th>Survived</th>\n",
       "      <th>AgeFilledIn</th>\n",
       "      <th>SibSp</th>\n",
       "      <th>Parch</th>\n",
       "      <th>Fare</th>\n",
       "      <th>first</th>\n",
       "      <th>second</th>\n",
       "      <th>third</th>\n",
       "      <th>embarked_C</th>\n",
       "      <th>embarked_Q</th>\n",
       "      <th>Child</th>\n",
       "      <th>Older Person</th>\n",
       "      <th>Male</th>\n",
       "      <th>unknownAge</th>\n",
       "      <th>unknownCabin</th>\n",
       "    </tr>\n",
       "  </thead>\n",
       "  <tbody>\n",
       "    <tr>\n",
       "      <th>0</th>\n",
       "      <td>0</td>\n",
       "      <td>22.000000</td>\n",
       "      <td>1</td>\n",
       "      <td>0</td>\n",
       "      <td>7.2500</td>\n",
       "      <td>0.0</td>\n",
       "      <td>0.0</td>\n",
       "      <td>1.0</td>\n",
       "      <td>0.0</td>\n",
       "      <td>0.0</td>\n",
       "      <td>0</td>\n",
       "      <td>0</td>\n",
       "      <td>1</td>\n",
       "      <td>0</td>\n",
       "      <td>1</td>\n",
       "    </tr>\n",
       "    <tr>\n",
       "      <th>1</th>\n",
       "      <td>1</td>\n",
       "      <td>38.000000</td>\n",
       "      <td>1</td>\n",
       "      <td>0</td>\n",
       "      <td>71.2833</td>\n",
       "      <td>1.0</td>\n",
       "      <td>0.0</td>\n",
       "      <td>0.0</td>\n",
       "      <td>1.0</td>\n",
       "      <td>0.0</td>\n",
       "      <td>0</td>\n",
       "      <td>0</td>\n",
       "      <td>0</td>\n",
       "      <td>0</td>\n",
       "      <td>0</td>\n",
       "    </tr>\n",
       "    <tr>\n",
       "      <th>2</th>\n",
       "      <td>1</td>\n",
       "      <td>26.000000</td>\n",
       "      <td>0</td>\n",
       "      <td>0</td>\n",
       "      <td>7.9250</td>\n",
       "      <td>0.0</td>\n",
       "      <td>0.0</td>\n",
       "      <td>1.0</td>\n",
       "      <td>0.0</td>\n",
       "      <td>0.0</td>\n",
       "      <td>0</td>\n",
       "      <td>0</td>\n",
       "      <td>0</td>\n",
       "      <td>0</td>\n",
       "      <td>1</td>\n",
       "    </tr>\n",
       "    <tr>\n",
       "      <th>3</th>\n",
       "      <td>1</td>\n",
       "      <td>35.000000</td>\n",
       "      <td>1</td>\n",
       "      <td>0</td>\n",
       "      <td>53.1000</td>\n",
       "      <td>1.0</td>\n",
       "      <td>0.0</td>\n",
       "      <td>0.0</td>\n",
       "      <td>0.0</td>\n",
       "      <td>0.0</td>\n",
       "      <td>0</td>\n",
       "      <td>0</td>\n",
       "      <td>0</td>\n",
       "      <td>0</td>\n",
       "      <td>0</td>\n",
       "    </tr>\n",
       "    <tr>\n",
       "      <th>4</th>\n",
       "      <td>0</td>\n",
       "      <td>35.000000</td>\n",
       "      <td>0</td>\n",
       "      <td>0</td>\n",
       "      <td>8.0500</td>\n",
       "      <td>0.0</td>\n",
       "      <td>0.0</td>\n",
       "      <td>1.0</td>\n",
       "      <td>0.0</td>\n",
       "      <td>0.0</td>\n",
       "      <td>0</td>\n",
       "      <td>0</td>\n",
       "      <td>1</td>\n",
       "      <td>0</td>\n",
       "      <td>1</td>\n",
       "    </tr>\n",
       "    <tr>\n",
       "      <th>5</th>\n",
       "      <td>0</td>\n",
       "      <td>29.699118</td>\n",
       "      <td>0</td>\n",
       "      <td>0</td>\n",
       "      <td>8.4583</td>\n",
       "      <td>0.0</td>\n",
       "      <td>0.0</td>\n",
       "      <td>1.0</td>\n",
       "      <td>0.0</td>\n",
       "      <td>1.0</td>\n",
       "      <td>0</td>\n",
       "      <td>0</td>\n",
       "      <td>1</td>\n",
       "      <td>1</td>\n",
       "      <td>1</td>\n",
       "    </tr>\n",
       "    <tr>\n",
       "      <th>6</th>\n",
       "      <td>0</td>\n",
       "      <td>54.000000</td>\n",
       "      <td>0</td>\n",
       "      <td>0</td>\n",
       "      <td>51.8625</td>\n",
       "      <td>1.0</td>\n",
       "      <td>0.0</td>\n",
       "      <td>0.0</td>\n",
       "      <td>0.0</td>\n",
       "      <td>0.0</td>\n",
       "      <td>0</td>\n",
       "      <td>1</td>\n",
       "      <td>1</td>\n",
       "      <td>0</td>\n",
       "      <td>0</td>\n",
       "    </tr>\n",
       "    <tr>\n",
       "      <th>7</th>\n",
       "      <td>0</td>\n",
       "      <td>2.000000</td>\n",
       "      <td>3</td>\n",
       "      <td>1</td>\n",
       "      <td>21.0750</td>\n",
       "      <td>0.0</td>\n",
       "      <td>0.0</td>\n",
       "      <td>1.0</td>\n",
       "      <td>0.0</td>\n",
       "      <td>0.0</td>\n",
       "      <td>1</td>\n",
       "      <td>0</td>\n",
       "      <td>1</td>\n",
       "      <td>0</td>\n",
       "      <td>1</td>\n",
       "    </tr>\n",
       "    <tr>\n",
       "      <th>8</th>\n",
       "      <td>1</td>\n",
       "      <td>27.000000</td>\n",
       "      <td>0</td>\n",
       "      <td>2</td>\n",
       "      <td>11.1333</td>\n",
       "      <td>0.0</td>\n",
       "      <td>0.0</td>\n",
       "      <td>1.0</td>\n",
       "      <td>0.0</td>\n",
       "      <td>0.0</td>\n",
       "      <td>0</td>\n",
       "      <td>0</td>\n",
       "      <td>0</td>\n",
       "      <td>0</td>\n",
       "      <td>1</td>\n",
       "    </tr>\n",
       "    <tr>\n",
       "      <th>9</th>\n",
       "      <td>1</td>\n",
       "      <td>14.000000</td>\n",
       "      <td>1</td>\n",
       "      <td>0</td>\n",
       "      <td>30.0708</td>\n",
       "      <td>0.0</td>\n",
       "      <td>1.0</td>\n",
       "      <td>0.0</td>\n",
       "      <td>1.0</td>\n",
       "      <td>0.0</td>\n",
       "      <td>0</td>\n",
       "      <td>0</td>\n",
       "      <td>0</td>\n",
       "      <td>0</td>\n",
       "      <td>1</td>\n",
       "    </tr>\n",
       "  </tbody>\n",
       "</table>\n",
       "</div>"
      ],
      "text/plain": [
       "   Survived  AgeFilledIn  SibSp  Parch     Fare  first  second  third  \\\n",
       "0         0    22.000000      1      0   7.2500    0.0     0.0    1.0   \n",
       "1         1    38.000000      1      0  71.2833    1.0     0.0    0.0   \n",
       "2         1    26.000000      0      0   7.9250    0.0     0.0    1.0   \n",
       "3         1    35.000000      1      0  53.1000    1.0     0.0    0.0   \n",
       "4         0    35.000000      0      0   8.0500    0.0     0.0    1.0   \n",
       "5         0    29.699118      0      0   8.4583    0.0     0.0    1.0   \n",
       "6         0    54.000000      0      0  51.8625    1.0     0.0    0.0   \n",
       "7         0     2.000000      3      1  21.0750    0.0     0.0    1.0   \n",
       "8         1    27.000000      0      2  11.1333    0.0     0.0    1.0   \n",
       "9         1    14.000000      1      0  30.0708    0.0     1.0    0.0   \n",
       "\n",
       "   embarked_C  embarked_Q  Child  Older Person  Male  unknownAge  unknownCabin  \n",
       "0         0.0         0.0      0             0     1           0             1  \n",
       "1         1.0         0.0      0             0     0           0             0  \n",
       "2         0.0         0.0      0             0     0           0             1  \n",
       "3         0.0         0.0      0             0     0           0             0  \n",
       "4         0.0         0.0      0             0     1           0             1  \n",
       "5         0.0         1.0      0             0     1           1             1  \n",
       "6         0.0         0.0      0             1     1           0             0  \n",
       "7         0.0         0.0      1             0     1           0             1  \n",
       "8         0.0         0.0      0             0     0           0             1  \n",
       "9         1.0         0.0      0             0     0           0             1  "
      ]
     },
     "execution_count": 55,
     "metadata": {},
     "output_type": "execute_result"
    }
   ],
   "source": [
    "df1= titanic[['Survived','AgeFilledIn','SibSp', 'Parch','Fare','first', 'second', 'third', 'embarked_C', \n",
    "              'embarked_Q', 'Child', 'Older Person', 'Male', 'unknownAge',\n",
    "           'unknownCabin']]\n",
    "df1.head(10)"
   ]
  },
  {
   "cell_type": "code",
   "execution_count": 56,
   "metadata": {
    "collapsed": false
   },
   "outputs": [
    {
     "data": {
      "text/html": [
       "<div>\n",
       "<table border=\"1\" class=\"dataframe\">\n",
       "  <thead>\n",
       "    <tr style=\"text-align: right;\">\n",
       "      <th></th>\n",
       "      <th>Survived</th>\n",
       "      <th>AgeFilledIn</th>\n",
       "      <th>SibSp</th>\n",
       "      <th>Parch</th>\n",
       "      <th>Fare</th>\n",
       "      <th>first</th>\n",
       "      <th>second</th>\n",
       "      <th>third</th>\n",
       "      <th>embarked_C</th>\n",
       "      <th>embarked_Q</th>\n",
       "      <th>Child</th>\n",
       "      <th>Older Person</th>\n",
       "      <th>Male</th>\n",
       "      <th>unknownAge</th>\n",
       "      <th>unknownCabin</th>\n",
       "    </tr>\n",
       "  </thead>\n",
       "  <tbody>\n",
       "    <tr>\n",
       "      <th>Survived</th>\n",
       "      <td>1.000000</td>\n",
       "      <td>-6.980852e-02</td>\n",
       "      <td>-0.035322</td>\n",
       "      <td>0.081629</td>\n",
       "      <td>0.257307</td>\n",
       "      <td>0.285904</td>\n",
       "      <td>0.093349</td>\n",
       "      <td>-0.322308</td>\n",
       "      <td>0.168240</td>\n",
       "      <td>0.003650</td>\n",
       "      <td>0.112119</td>\n",
       "      <td>-0.022932</td>\n",
       "      <td>-0.543351</td>\n",
       "      <td>-9.219652e-02</td>\n",
       "      <td>-0.316912</td>\n",
       "    </tr>\n",
       "    <tr>\n",
       "      <th>AgeFilledIn</th>\n",
       "      <td>-0.069809</td>\n",
       "      <td>1.000000e+00</td>\n",
       "      <td>-0.232625</td>\n",
       "      <td>-0.179191</td>\n",
       "      <td>0.091566</td>\n",
       "      <td>0.319916</td>\n",
       "      <td>0.006589</td>\n",
       "      <td>-0.281004</td>\n",
       "      <td>0.032024</td>\n",
       "      <td>-0.013855</td>\n",
       "      <td>-0.553774</td>\n",
       "      <td>0.621244</td>\n",
       "      <td>0.084153</td>\n",
       "      <td>-1.465772e-16</td>\n",
       "      <td>-0.233123</td>\n",
       "    </tr>\n",
       "    <tr>\n",
       "      <th>SibSp</th>\n",
       "      <td>-0.035322</td>\n",
       "      <td>-2.326246e-01</td>\n",
       "      <td>1.000000</td>\n",
       "      <td>0.414838</td>\n",
       "      <td>0.159651</td>\n",
       "      <td>-0.054582</td>\n",
       "      <td>-0.055932</td>\n",
       "      <td>0.092548</td>\n",
       "      <td>-0.059528</td>\n",
       "      <td>-0.026354</td>\n",
       "      <td>0.354531</td>\n",
       "      <td>-0.068910</td>\n",
       "      <td>-0.114631</td>\n",
       "      <td>1.895757e-02</td>\n",
       "      <td>0.040460</td>\n",
       "    </tr>\n",
       "    <tr>\n",
       "      <th>Parch</th>\n",
       "      <td>0.081629</td>\n",
       "      <td>-1.791909e-01</td>\n",
       "      <td>0.414838</td>\n",
       "      <td>1.000000</td>\n",
       "      <td>0.216225</td>\n",
       "      <td>-0.017633</td>\n",
       "      <td>-0.000734</td>\n",
       "      <td>0.015790</td>\n",
       "      <td>-0.011069</td>\n",
       "      <td>-0.081228</td>\n",
       "      <td>0.372819</td>\n",
       "      <td>-0.029255</td>\n",
       "      <td>-0.245489</td>\n",
       "      <td>-1.241038e-01</td>\n",
       "      <td>-0.036987</td>\n",
       "    </tr>\n",
       "    <tr>\n",
       "      <th>Fare</th>\n",
       "      <td>0.257307</td>\n",
       "      <td>9.156609e-02</td>\n",
       "      <td>0.159651</td>\n",
       "      <td>0.216225</td>\n",
       "      <td>1.000000</td>\n",
       "      <td>0.591711</td>\n",
       "      <td>-0.118557</td>\n",
       "      <td>-0.413333</td>\n",
       "      <td>0.269335</td>\n",
       "      <td>-0.117216</td>\n",
       "      <td>-0.002138</td>\n",
       "      <td>0.063857</td>\n",
       "      <td>-0.182333</td>\n",
       "      <td>-1.007071e-01</td>\n",
       "      <td>-0.482075</td>\n",
       "    </tr>\n",
       "    <tr>\n",
       "      <th>first</th>\n",
       "      <td>0.285904</td>\n",
       "      <td>3.199164e-01</td>\n",
       "      <td>-0.054582</td>\n",
       "      <td>-0.017633</td>\n",
       "      <td>0.591711</td>\n",
       "      <td>1.000000</td>\n",
       "      <td>-0.288585</td>\n",
       "      <td>-0.626738</td>\n",
       "      <td>0.296423</td>\n",
       "      <td>-0.155342</td>\n",
       "      <td>-0.123148</td>\n",
       "      <td>0.238201</td>\n",
       "      <td>-0.098013</td>\n",
       "      <td>-8.473423e-02</td>\n",
       "      <td>-0.788773</td>\n",
       "    </tr>\n",
       "    <tr>\n",
       "      <th>second</th>\n",
       "      <td>0.093349</td>\n",
       "      <td>6.589145e-03</td>\n",
       "      <td>-0.055932</td>\n",
       "      <td>-0.000734</td>\n",
       "      <td>-0.118557</td>\n",
       "      <td>-0.288585</td>\n",
       "      <td>1.000000</td>\n",
       "      <td>-0.565210</td>\n",
       "      <td>-0.125416</td>\n",
       "      <td>-0.127301</td>\n",
       "      <td>0.030882</td>\n",
       "      <td>0.019150</td>\n",
       "      <td>-0.064746</td>\n",
       "      <td>-1.775626e-01</td>\n",
       "      <td>0.172413</td>\n",
       "    </tr>\n",
       "    <tr>\n",
       "      <th>third</th>\n",
       "      <td>-0.322308</td>\n",
       "      <td>-2.810040e-01</td>\n",
       "      <td>0.092548</td>\n",
       "      <td>0.015790</td>\n",
       "      <td>-0.413333</td>\n",
       "      <td>-0.626738</td>\n",
       "      <td>-0.565210</td>\n",
       "      <td>1.000000</td>\n",
       "      <td>-0.153329</td>\n",
       "      <td>0.237449</td>\n",
       "      <td>0.080971</td>\n",
       "      <td>-0.220820</td>\n",
       "      <td>0.137143</td>\n",
       "      <td>2.175179e-01</td>\n",
       "      <td>0.539291</td>\n",
       "    </tr>\n",
       "    <tr>\n",
       "      <th>embarked_C</th>\n",
       "      <td>0.168240</td>\n",
       "      <td>3.202442e-02</td>\n",
       "      <td>-0.059528</td>\n",
       "      <td>-0.011069</td>\n",
       "      <td>0.269335</td>\n",
       "      <td>0.296423</td>\n",
       "      <td>-0.125416</td>\n",
       "      <td>-0.153329</td>\n",
       "      <td>1.000000</td>\n",
       "      <td>-0.148258</td>\n",
       "      <td>-0.030492</td>\n",
       "      <td>0.032589</td>\n",
       "      <td>-0.082853</td>\n",
       "      <td>3.326967e-02</td>\n",
       "      <td>-0.208528</td>\n",
       "    </tr>\n",
       "    <tr>\n",
       "      <th>embarked_Q</th>\n",
       "      <td>0.003650</td>\n",
       "      <td>-1.385524e-02</td>\n",
       "      <td>-0.026354</td>\n",
       "      <td>-0.081228</td>\n",
       "      <td>-0.117216</td>\n",
       "      <td>-0.155342</td>\n",
       "      <td>-0.127301</td>\n",
       "      <td>0.237449</td>\n",
       "      <td>-0.148258</td>\n",
       "      <td>1.000000</td>\n",
       "      <td>-0.028231</td>\n",
       "      <td>-0.039151</td>\n",
       "      <td>-0.074115</td>\n",
       "      <td>3.374132e-01</td>\n",
       "      <td>0.129572</td>\n",
       "    </tr>\n",
       "    <tr>\n",
       "      <th>Child</th>\n",
       "      <td>0.112119</td>\n",
       "      <td>-5.537743e-01</td>\n",
       "      <td>0.354531</td>\n",
       "      <td>0.372819</td>\n",
       "      <td>-0.002138</td>\n",
       "      <td>-0.123148</td>\n",
       "      <td>0.030882</td>\n",
       "      <td>0.080971</td>\n",
       "      <td>-0.030492</td>\n",
       "      <td>-0.028231</td>\n",
       "      <td>1.000000</td>\n",
       "      <td>-0.079963</td>\n",
       "      <td>-0.071106</td>\n",
       "      <td>-1.431173e-01</td>\n",
       "      <td>0.045968</td>\n",
       "    </tr>\n",
       "    <tr>\n",
       "      <th>Older Person</th>\n",
       "      <td>-0.022932</td>\n",
       "      <td>6.212442e-01</td>\n",
       "      <td>-0.068910</td>\n",
       "      <td>-0.029255</td>\n",
       "      <td>0.063857</td>\n",
       "      <td>0.238201</td>\n",
       "      <td>0.019150</td>\n",
       "      <td>-0.220820</td>\n",
       "      <td>0.032589</td>\n",
       "      <td>-0.039151</td>\n",
       "      <td>-0.079963</td>\n",
       "      <td>1.000000</td>\n",
       "      <td>0.050538</td>\n",
       "      <td>-1.385080e-01</td>\n",
       "      <td>-0.189802</td>\n",
       "    </tr>\n",
       "    <tr>\n",
       "      <th>Male</th>\n",
       "      <td>-0.543351</td>\n",
       "      <td>8.415344e-02</td>\n",
       "      <td>-0.114631</td>\n",
       "      <td>-0.245489</td>\n",
       "      <td>-0.182333</td>\n",
       "      <td>-0.098013</td>\n",
       "      <td>-0.064746</td>\n",
       "      <td>0.137143</td>\n",
       "      <td>-0.082853</td>\n",
       "      <td>-0.074115</td>\n",
       "      <td>-0.071106</td>\n",
       "      <td>0.050538</td>\n",
       "      <td>1.000000</td>\n",
       "      <td>5.521512e-02</td>\n",
       "      <td>0.140391</td>\n",
       "    </tr>\n",
       "    <tr>\n",
       "      <th>unknownAge</th>\n",
       "      <td>-0.092197</td>\n",
       "      <td>-1.465772e-16</td>\n",
       "      <td>0.018958</td>\n",
       "      <td>-0.124104</td>\n",
       "      <td>-0.100707</td>\n",
       "      <td>-0.084734</td>\n",
       "      <td>-0.177563</td>\n",
       "      <td>0.217518</td>\n",
       "      <td>0.033270</td>\n",
       "      <td>0.337413</td>\n",
       "      <td>-0.143117</td>\n",
       "      <td>-0.138508</td>\n",
       "      <td>0.055215</td>\n",
       "      <td>1.000000e+00</td>\n",
       "      <td>0.144111</td>\n",
       "    </tr>\n",
       "    <tr>\n",
       "      <th>unknownCabin</th>\n",
       "      <td>-0.316912</td>\n",
       "      <td>-2.331227e-01</td>\n",
       "      <td>0.040460</td>\n",
       "      <td>-0.036987</td>\n",
       "      <td>-0.482075</td>\n",
       "      <td>-0.788773</td>\n",
       "      <td>0.172413</td>\n",
       "      <td>0.539291</td>\n",
       "      <td>-0.208528</td>\n",
       "      <td>0.129572</td>\n",
       "      <td>0.045968</td>\n",
       "      <td>-0.189802</td>\n",
       "      <td>0.140391</td>\n",
       "      <td>1.441109e-01</td>\n",
       "      <td>1.000000</td>\n",
       "    </tr>\n",
       "  </tbody>\n",
       "</table>\n",
       "</div>"
      ],
      "text/plain": [
       "              Survived   AgeFilledIn     SibSp     Parch      Fare     first  \\\n",
       "Survived      1.000000 -6.980852e-02 -0.035322  0.081629  0.257307  0.285904   \n",
       "AgeFilledIn  -0.069809  1.000000e+00 -0.232625 -0.179191  0.091566  0.319916   \n",
       "SibSp        -0.035322 -2.326246e-01  1.000000  0.414838  0.159651 -0.054582   \n",
       "Parch         0.081629 -1.791909e-01  0.414838  1.000000  0.216225 -0.017633   \n",
       "Fare          0.257307  9.156609e-02  0.159651  0.216225  1.000000  0.591711   \n",
       "first         0.285904  3.199164e-01 -0.054582 -0.017633  0.591711  1.000000   \n",
       "second        0.093349  6.589145e-03 -0.055932 -0.000734 -0.118557 -0.288585   \n",
       "third        -0.322308 -2.810040e-01  0.092548  0.015790 -0.413333 -0.626738   \n",
       "embarked_C    0.168240  3.202442e-02 -0.059528 -0.011069  0.269335  0.296423   \n",
       "embarked_Q    0.003650 -1.385524e-02 -0.026354 -0.081228 -0.117216 -0.155342   \n",
       "Child         0.112119 -5.537743e-01  0.354531  0.372819 -0.002138 -0.123148   \n",
       "Older Person -0.022932  6.212442e-01 -0.068910 -0.029255  0.063857  0.238201   \n",
       "Male         -0.543351  8.415344e-02 -0.114631 -0.245489 -0.182333 -0.098013   \n",
       "unknownAge   -0.092197 -1.465772e-16  0.018958 -0.124104 -0.100707 -0.084734   \n",
       "unknownCabin -0.316912 -2.331227e-01  0.040460 -0.036987 -0.482075 -0.788773   \n",
       "\n",
       "                second     third  embarked_C  embarked_Q     Child  \\\n",
       "Survived      0.093349 -0.322308    0.168240    0.003650  0.112119   \n",
       "AgeFilledIn   0.006589 -0.281004    0.032024   -0.013855 -0.553774   \n",
       "SibSp        -0.055932  0.092548   -0.059528   -0.026354  0.354531   \n",
       "Parch        -0.000734  0.015790   -0.011069   -0.081228  0.372819   \n",
       "Fare         -0.118557 -0.413333    0.269335   -0.117216 -0.002138   \n",
       "first        -0.288585 -0.626738    0.296423   -0.155342 -0.123148   \n",
       "second        1.000000 -0.565210   -0.125416   -0.127301  0.030882   \n",
       "third        -0.565210  1.000000   -0.153329    0.237449  0.080971   \n",
       "embarked_C   -0.125416 -0.153329    1.000000   -0.148258 -0.030492   \n",
       "embarked_Q   -0.127301  0.237449   -0.148258    1.000000 -0.028231   \n",
       "Child         0.030882  0.080971   -0.030492   -0.028231  1.000000   \n",
       "Older Person  0.019150 -0.220820    0.032589   -0.039151 -0.079963   \n",
       "Male         -0.064746  0.137143   -0.082853   -0.074115 -0.071106   \n",
       "unknownAge   -0.177563  0.217518    0.033270    0.337413 -0.143117   \n",
       "unknownCabin  0.172413  0.539291   -0.208528    0.129572  0.045968   \n",
       "\n",
       "              Older Person      Male    unknownAge  unknownCabin  \n",
       "Survived         -0.022932 -0.543351 -9.219652e-02     -0.316912  \n",
       "AgeFilledIn       0.621244  0.084153 -1.465772e-16     -0.233123  \n",
       "SibSp            -0.068910 -0.114631  1.895757e-02      0.040460  \n",
       "Parch            -0.029255 -0.245489 -1.241038e-01     -0.036987  \n",
       "Fare              0.063857 -0.182333 -1.007071e-01     -0.482075  \n",
       "first             0.238201 -0.098013 -8.473423e-02     -0.788773  \n",
       "second            0.019150 -0.064746 -1.775626e-01      0.172413  \n",
       "third            -0.220820  0.137143  2.175179e-01      0.539291  \n",
       "embarked_C        0.032589 -0.082853  3.326967e-02     -0.208528  \n",
       "embarked_Q       -0.039151 -0.074115  3.374132e-01      0.129572  \n",
       "Child            -0.079963 -0.071106 -1.431173e-01      0.045968  \n",
       "Older Person      1.000000  0.050538 -1.385080e-01     -0.189802  \n",
       "Male              0.050538  1.000000  5.521512e-02      0.140391  \n",
       "unknownAge       -0.138508  0.055215  1.000000e+00      0.144111  \n",
       "unknownCabin     -0.189802  0.140391  1.441109e-01      1.000000  "
      ]
     },
     "execution_count": 56,
     "metadata": {},
     "output_type": "execute_result"
    }
   ],
   "source": [
    "#correlation matrix\n",
    "corr=df1.corr()\n",
    "corr"
   ]
  },
  {
   "cell_type": "code",
   "execution_count": 57,
   "metadata": {
    "collapsed": false
   },
   "outputs": [
    {
     "data": {
      "text/plain": [
       "<matplotlib.axes._subplots.AxesSubplot at 0x11ac2d790>"
      ]
     },
     "execution_count": 57,
     "metadata": {},
     "output_type": "execute_result"
    },
    {
     "data": {
      "image/png": "[encoded data removed]",
      "text/plain": [
       "<matplotlib.figure.Figure at 0x11ac50fd0>"
      ]
     },
     "metadata": {},
     "output_type": "display_data"
    }
   ],
   "source": [
    "#created heat map to get visual of relationships\n",
    "sns.heatmap(corr)"
   ]
  },
  {
   "cell_type": "code",
   "execution_count": 58,
   "metadata": {
    "collapsed": false
   },
   "outputs": [
    {
     "name": "stdout",
     "output_type": "stream",
     "text": [
      "Sex\n",
      "female    44.479818\n",
      "male      25.523893\n",
      "Name: Fare, dtype: float64\n"
     ]
    }
   ],
   "source": [
    "#using the original table\n",
    "print titanic.pivot_table(index='Sex',values='Fare',aggfunc=np.mean)"
   ]
  },
  {
   "cell_type": "code",
   "execution_count": 59,
   "metadata": {
    "collapsed": false
   },
   "outputs": [
    {
     "data": {
      "text/html": [
       "<div>\n",
       "<table border=\"1\" class=\"dataframe\">\n",
       "  <thead>\n",
       "    <tr style=\"text-align: right;\">\n",
       "      <th></th>\n",
       "      <th>Pclass</th>\n",
       "    </tr>\n",
       "    <tr>\n",
       "      <th>Embarked</th>\n",
       "      <th></th>\n",
       "    </tr>\n",
       "  </thead>\n",
       "  <tbody>\n",
       "    <tr>\n",
       "      <th>C</th>\n",
       "      <td>168</td>\n",
       "    </tr>\n",
       "    <tr>\n",
       "      <th>Q</th>\n",
       "      <td>77</td>\n",
       "    </tr>\n",
       "    <tr>\n",
       "      <th>S</th>\n",
       "      <td>644</td>\n",
       "    </tr>\n",
       "  </tbody>\n",
       "</table>\n",
       "</div>"
      ],
      "text/plain": [
       "          Pclass\n",
       "Embarked        \n",
       "C            168\n",
       "Q             77\n",
       "S            644"
      ]
     },
     "execution_count": 59,
     "metadata": {},
     "output_type": "execute_result"
    }
   ],
   "source": [
    "titanic.pivot_table( index='Embarked', values=[\"Pclass\"],aggfunc=len)"
   ]
  },
  {
   "cell_type": "code",
   "execution_count": 60,
   "metadata": {
    "collapsed": false
   },
   "outputs": [
    {
     "data": {
      "text/html": [
       "<div>\n",
       "<table border=\"1\" class=\"dataframe\">\n",
       "  <thead>\n",
       "    <tr style=\"text-align: right;\">\n",
       "      <th></th>\n",
       "      <th>Pclass</th>\n",
       "      <th>PassengerId</th>\n",
       "    </tr>\n",
       "  </thead>\n",
       "  <tbody>\n",
       "    <tr>\n",
       "      <th>0</th>\n",
       "      <td>1</td>\n",
       "      <td>216</td>\n",
       "    </tr>\n",
       "    <tr>\n",
       "      <th>1</th>\n",
       "      <td>2</td>\n",
       "      <td>184</td>\n",
       "    </tr>\n",
       "    <tr>\n",
       "      <th>2</th>\n",
       "      <td>3</td>\n",
       "      <td>491</td>\n",
       "    </tr>\n",
       "  </tbody>\n",
       "</table>\n",
       "</div>"
      ],
      "text/plain": [
       "   Pclass  PassengerId\n",
       "0       1          216\n",
       "1       2          184\n",
       "2       3          491"
      ]
     },
     "execution_count": 60,
     "metadata": {},
     "output_type": "execute_result"
    }
   ],
   "source": [
    "byClasscount=pd.pivot_table(titanic, index='Pclass', values = ['PassengerId'],aggfunc=len)\n",
    "byClasscount.reset_index(inplace = True)\n",
    "byClasscount\n",
    "#byClasscount=byClasscount.set_index('Pclass', inplace=True)"
   ]
  },
  {
   "cell_type": "code",
   "execution_count": 61,
   "metadata": {
    "collapsed": false
   },
   "outputs": [
    {
     "data": {
      "text/html": [
       "<div>\n",
       "<table border=\"1\" class=\"dataframe\">\n",
       "  <thead>\n",
       "    <tr style=\"text-align: right;\">\n",
       "      <th></th>\n",
       "      <th>index</th>\n",
       "      <th>PassengerId</th>\n",
       "      <th>Survived</th>\n",
       "      <th>Pclass</th>\n",
       "      <th>Name</th>\n",
       "      <th>Sex</th>\n",
       "      <th>Age</th>\n",
       "      <th>SibSp</th>\n",
       "      <th>Parch</th>\n",
       "      <th>Ticket</th>\n",
       "      <th>Fare</th>\n",
       "      <th>Cabin</th>\n",
       "      <th>Embarked</th>\n",
       "      <th>first</th>\n",
       "      <th>second</th>\n",
       "      <th>third</th>\n",
       "      <th>embarked_C</th>\n",
       "      <th>embarked_Q</th>\n",
       "      <th>Child</th>\n",
       "      <th>Older Person</th>\n",
       "      <th>Male</th>\n",
       "      <th>unknownAge</th>\n",
       "      <th>unknownCabin</th>\n",
       "      <th>AgeFilledIn</th>\n",
       "    </tr>\n",
       "  </thead>\n",
       "  <tbody>\n",
       "    <tr>\n",
       "      <th>1</th>\n",
       "      <td>1</td>\n",
       "      <td>2</td>\n",
       "      <td>1</td>\n",
       "      <td>1</td>\n",
       "      <td>Cumings, Mrs. John Bradley (Florence Briggs Thayer)</td>\n",
       "      <td>female</td>\n",
       "      <td>38.0</td>\n",
       "      <td>1</td>\n",
       "      <td>0</td>\n",
       "      <td>PC 17599</td>\n",
       "      <td>71.2833</td>\n",
       "      <td>C85</td>\n",
       "      <td>C</td>\n",
       "      <td>1.0</td>\n",
       "      <td>0.0</td>\n",
       "      <td>0.0</td>\n",
       "      <td>1.0</td>\n",
       "      <td>0.0</td>\n",
       "      <td>0</td>\n",
       "      <td>0</td>\n",
       "      <td>0</td>\n",
       "      <td>0</td>\n",
       "      <td>0</td>\n",
       "      <td>38.0</td>\n",
       "    </tr>\n",
       "  </tbody>\n",
       "</table>\n",
       "</div>"
      ],
      "text/plain": [
       "   index  PassengerId  Survived  Pclass  \\\n",
       "1      1            2         1       1   \n",
       "\n",
       "                                                  Name     Sex   Age  SibSp  \\\n",
       "1  Cumings, Mrs. John Bradley (Florence Briggs Thayer)  female  38.0      1   \n",
       "\n",
       "   Parch    Ticket     Fare Cabin Embarked  first  second  third  embarked_C  \\\n",
       "1      0  PC 17599  71.2833   C85        C    1.0     0.0    0.0         1.0   \n",
       "\n",
       "   embarked_Q  Child  Older Person  Male  unknownAge  unknownCabin  \\\n",
       "1         0.0      0             0     0           0             0   \n",
       "\n",
       "   AgeFilledIn  \n",
       "1         38.0  "
      ]
     },
     "execution_count": 61,
     "metadata": {},
     "output_type": "execute_result"
    }
   ],
   "source": [
    "survivedCt= titanic[(titanic[\"Survived\"]==1)]\n",
    "survivedCt.head(1)"
   ]
  },
  {
   "cell_type": "code",
   "execution_count": 62,
   "metadata": {
    "collapsed": true
   },
   "outputs": [],
   "source": [
    "survivedByClass=pd.pivot_table(survivedCt, index=['Pclass'], values=['Survived'], aggfunc=len)\n",
    "survivedByClass.reset_index(inplace=True)"
   ]
  },
  {
   "cell_type": "code",
   "execution_count": 63,
   "metadata": {
    "collapsed": false
   },
   "outputs": [
    {
     "data": {
      "text/html": [
       "<div>\n",
       "<table border=\"1\" class=\"dataframe\">\n",
       "  <thead>\n",
       "    <tr style=\"text-align: right;\">\n",
       "      <th></th>\n",
       "      <th>Pclass_l</th>\n",
       "      <th>Survived</th>\n",
       "      <th>Pclass</th>\n",
       "      <th>PassengerId</th>\n",
       "    </tr>\n",
       "  </thead>\n",
       "  <tbody>\n",
       "    <tr>\n",
       "      <th>0</th>\n",
       "      <td>1</td>\n",
       "      <td>136</td>\n",
       "      <td>1</td>\n",
       "      <td>216</td>\n",
       "    </tr>\n",
       "    <tr>\n",
       "      <th>1</th>\n",
       "      <td>2</td>\n",
       "      <td>87</td>\n",
       "      <td>2</td>\n",
       "      <td>184</td>\n",
       "    </tr>\n",
       "    <tr>\n",
       "      <th>2</th>\n",
       "      <td>3</td>\n",
       "      <td>119</td>\n",
       "      <td>3</td>\n",
       "      <td>491</td>\n",
       "    </tr>\n",
       "  </tbody>\n",
       "</table>\n",
       "</div>"
      ],
      "text/plain": [
       "   Pclass_l  Survived  Pclass  PassengerId\n",
       "0         1       136       1          216\n",
       "1         2        87       2          184\n",
       "2         3       119       3          491"
      ]
     },
     "execution_count": 63,
     "metadata": {},
     "output_type": "execute_result"
    }
   ],
   "source": [
    "\n",
    "#pd.merge?\n",
    "survivedByClass.join(byClasscount, lsuffix='_l')"
   ]
  },
  {
   "cell_type": "code",
   "execution_count": 64,
   "metadata": {
    "collapsed": false
   },
   "outputs": [
    {
     "data": {
      "text/html": [
       "<div>\n",
       "<table border=\"1\" class=\"dataframe\">\n",
       "  <thead>\n",
       "    <tr style=\"text-align: right;\">\n",
       "      <th></th>\n",
       "      <th>index</th>\n",
       "      <th>Pclass</th>\n",
       "      <th>Survived</th>\n",
       "    </tr>\n",
       "  </thead>\n",
       "  <tbody>\n",
       "    <tr>\n",
       "      <th>0</th>\n",
       "      <td>0</td>\n",
       "      <td>1</td>\n",
       "      <td>136</td>\n",
       "    </tr>\n",
       "    <tr>\n",
       "      <th>1</th>\n",
       "      <td>1</td>\n",
       "      <td>2</td>\n",
       "      <td>87</td>\n",
       "    </tr>\n",
       "    <tr>\n",
       "      <th>2</th>\n",
       "      <td>2</td>\n",
       "      <td>3</td>\n",
       "      <td>119</td>\n",
       "    </tr>\n",
       "  </tbody>\n",
       "</table>\n",
       "</div>"
      ],
      "text/plain": [
       "   index  Pclass  Survived\n",
       "0      0       1       136\n",
       "1      1       2        87\n",
       "2      2       3       119"
      ]
     },
     "execution_count": 64,
     "metadata": {},
     "output_type": "execute_result"
    }
   ],
   "source": [
    "survivedByClass.reset_index(inplace=True)\n",
    "survivedByClass.columns\n",
    "survivedByClass.head()\n"
   ]
  },
  {
   "cell_type": "code",
   "execution_count": 65,
   "metadata": {
    "collapsed": false
   },
   "outputs": [
    {
     "data": {
      "image/png": "[encoded data removed]",
      "text/plain": [
       "<matplotlib.figure.Figure at 0x11b00fbd0>"
      ]
     },
     "metadata": {},
     "output_type": "display_data"
    }
   ],
   "source": [
    "plt.bar(survivedByClass['Pclass'], survivedByClass['Survived'])\n",
    "plt.xlabel(\"Class\")\n",
    "plt.ylabel('Survived');\n",
    "\n"
   ]
  },
  {
   "cell_type": "code",
   "execution_count": 66,
   "metadata": {
    "collapsed": false
   },
   "outputs": [
    {
     "data": {
      "text/plain": [
       "49.66553444477411"
      ]
     },
     "execution_count": 66,
     "metadata": {},
     "output_type": "execute_result"
    },
    {
     "data": {
      "image/png": "[encoded data removed]",
      "text/plain": [
       "<matplotlib.figure.Figure at 0x11b0677d0>"
      ]
     },
     "metadata": {},
     "output_type": "display_data"
    }
   ],
   "source": [
    "plt.hist(titanic['Fare']);\n",
    "np.std(titanic['Fare'])"
   ]
  },
  {
   "cell_type": "code",
   "execution_count": 67,
   "metadata": {
    "collapsed": false
   },
   "outputs": [
    {
     "data": {
      "text/html": [
       "<div>\n",
       "<table border=\"1\" class=\"dataframe\">\n",
       "  <thead>\n",
       "    <tr style=\"text-align: right;\">\n",
       "      <th></th>\n",
       "      <th>amin</th>\n",
       "      <th>amax</th>\n",
       "    </tr>\n",
       "    <tr>\n",
       "      <th>Pclass</th>\n",
       "      <th></th>\n",
       "      <th></th>\n",
       "    </tr>\n",
       "  </thead>\n",
       "  <tbody>\n",
       "    <tr>\n",
       "      <th>1</th>\n",
       "      <td>0.0</td>\n",
       "      <td>512.3292</td>\n",
       "    </tr>\n",
       "    <tr>\n",
       "      <th>2</th>\n",
       "      <td>0.0</td>\n",
       "      <td>73.5000</td>\n",
       "    </tr>\n",
       "    <tr>\n",
       "      <th>3</th>\n",
       "      <td>0.0</td>\n",
       "      <td>69.5500</td>\n",
       "    </tr>\n",
       "  </tbody>\n",
       "</table>\n",
       "</div>"
      ],
      "text/plain": [
       "        amin      amax\n",
       "Pclass                \n",
       "1        0.0  512.3292\n",
       "2        0.0   73.5000\n",
       "3        0.0   69.5500"
      ]
     },
     "execution_count": 67,
     "metadata": {},
     "output_type": "execute_result"
    }
   ],
   "source": [
    "fareRangeByClass= titanic.pivot_table(index='Pclass',values='Fare',aggfunc=[np.min, np.max])\n",
    "fareRangeByClass"
   ]
  },
  {
   "cell_type": "code",
   "execution_count": 68,
   "metadata": {
    "collapsed": false
   },
   "outputs": [
    {
     "data": {
      "image/png": "[encoded data removed]",
      "text/plain": [
       "<matplotlib.figure.Figure at 0x11b209250>"
      ]
     },
     "metadata": {},
     "output_type": "display_data"
    }
   ],
   "source": [
    "np.std(titanic['Fare'])\n",
    "plt.hist(titanic['Fare']);\n"
   ]
  },
  {
   "cell_type": "code",
   "execution_count": null,
   "metadata": {
    "collapsed": true
   },
   "outputs": [],
   "source": []
  },
  {
   "cell_type": "markdown",
   "metadata": {},
   "source": [
    "# beginning to test variables"
   ]
  },
  {
   "cell_type": "code",
   "execution_count": 32,
   "metadata": {
    "collapsed": true
   },
   "outputs": [],
   "source": [
    "#dropping duplicates \n",
    "#This is why I created df1. I did not want the cabin number to be included. If it was I would \n",
    "#be dropping too many rows.\n",
    "#also I added the mean of ages to the missing data from the age row. "
   ]
  },
  {
   "cell_type": "code",
   "execution_count": 69,
   "metadata": {
    "collapsed": false
   },
   "outputs": [
    {
     "name": "stdout",
     "output_type": "stream",
     "text": [
      "(891, 15)\n",
      "(891, 15)\n"
     ]
    },
    {
     "name": "stderr",
     "output_type": "stream",
     "text": [
      "/anaconda/lib/python2.7/site-packages/ipykernel/__main__.py:2: SettingWithCopyWarning: \n",
      "A value is trying to be set on a copy of a slice from a DataFrame\n",
      "\n",
      "See the caveats in the documentation: http://pandas.pydata.org/pandas-docs/stable/indexing.html#indexing-view-versus-copy\n",
      "  from ipykernel import kernelapp as app\n"
     ]
    }
   ],
   "source": [
    "print df1.shape\n",
    "df1.dropna(inplace=True)\n",
    "print df1.shape\n",
    "#this process dropped only those rows whos had a null entry in age\n"
   ]
  },
  {
   "cell_type": "markdown",
   "metadata": {},
   "source": [
    "# playing with KNeighbors "
   ]
  },
  {
   "cell_type": "code",
   "execution_count": 74,
   "metadata": {
    "collapsed": false
   },
   "outputs": [
    {
     "name": "stdout",
     "output_type": "stream",
     "text": [
      "(891,) (891,)\n",
      "[0]\n"
     ]
    },
    {
     "name": "stderr",
     "output_type": "stream",
     "text": [
      "/anaconda/lib/python2.7/site-packages/ipykernel/__main__.py:7: DataConversionWarning: A column-vector y was passed when a 1d array was expected. Please change the shape of y to (n_samples, ), for example using ravel().\n"
     ]
    }
   ],
   "source": [
    "#looking at the 5 closest through KNeighbors  I tried 3 and 5 on ALL data not the train data\n",
    "#didnt really tell me much but I decided to try it anyway\n",
    "neigh = KNeighborsClassifier(n_neighbors=5)\n",
    "y=df1['Survived']\n",
    "Xfirst=titanic['first']\n",
    "print Xfirst.shape, y.shape\n",
    "neigh.fit(Xfirst.reshape(-1, 1),y.reshape(-1,1))\n",
    "print neigh.predict([[0]])"
   ]
  },
  {
   "cell_type": "markdown",
   "metadata": {},
   "source": [
    "# Getting dataset finalized and dividing the data into train test\n"
   ]
  },
  {
   "cell_type": "code",
   "execution_count": 75,
   "metadata": {
    "collapsed": false
   },
   "outputs": [
    {
     "name": "stdout",
     "output_type": "stream",
     "text": [
      "(891,)\n",
      "(891, 14)\n"
     ]
    }
   ],
   "source": [
    "#defining X and y and checking their shape\n",
    "y=df1['Survived']\n",
    "X=df1[['AgeFilledIn', 'SibSp', 'Parch', 'Fare', 'first', 'second',\n",
    "       'third', 'embarked_C', 'embarked_Q', 'Child', 'Older Person',\n",
    "       'Male', 'unknownAge', 'unknownCabin']]\n",
    "print y.shape\n",
    "print X.shape"
   ]
  },
  {
   "cell_type": "code",
   "execution_count": 76,
   "metadata": {
    "collapsed": false
   },
   "outputs": [
    {
     "data": {
      "text/plain": [
       "((534, 14), (357, 14), (534,), (357,))"
      ]
     },
     "execution_count": 76,
     "metadata": {},
     "output_type": "execute_result"
    }
   ],
   "source": [
    "#creating train and test dataframes.  I select test size of .4, therefore\n",
    "#the train size will be .6\n",
    "x_train, x_test, y_train, y_test = train_test_split(X, y, test_size =.4)\n",
    "\n",
    "x_train.shape, x_test.shape, y_train.shape, y_test.shape"
   ]
  },
  {
   "cell_type": "code",
   "execution_count": null,
   "metadata": {
    "collapsed": false
   },
   "outputs": [],
   "source": []
  },
  {
   "cell_type": "code",
   "execution_count": null,
   "metadata": {
    "collapsed": true
   },
   "outputs": [],
   "source": []
  },
  {
   "cell_type": "markdown",
   "metadata": {},
   "source": [
    "# Logistic regressions all with Train dataset\n",
    "This section will be putting together 4 different models\n",
    "1. All top down\n",
    "2. My guess\n",
    "3. Kbest\n",
    "4. RFE\n",
    "\n",
    "My guess is women (male) and childen of the first class socioeconomic status (first) that embarked in England (Southampton)"
   ]
  },
  {
   "cell_type": "code",
   "execution_count": 77,
   "metadata": {
    "collapsed": false
   },
   "outputs": [
    {
     "data": {
      "text/plain": [
       "0.82209737827715357"
      ]
     },
     "execution_count": 77,
     "metadata": {},
     "output_type": "execute_result"
    }
   ],
   "source": [
    "# Model 1 Logistic model with all variables AND the TRAIN dataset\n",
    "modelAll = LogisticRegression() \n",
    "\n",
    "modelAll.fit(x_train, y_train) \n",
    "modelAll.score(x_train, y_train)"
   ]
  },
  {
   "cell_type": "code",
   "execution_count": 78,
   "metadata": {
    "collapsed": false
   },
   "outputs": [
    {
     "data": {
      "text/plain": [
       "0.80149812734082393"
      ]
     },
     "execution_count": 78,
     "metadata": {},
     "output_type": "execute_result"
    }
   ],
   "source": [
    "# Model 2 MyGuess with the variables I think matter.\n",
    "x_trainMyGuess=x_train[['first', 'embarked_C', 'embarked_Q', 'Child', 'Male']]\n",
    "x_testMyGuess=x_test[['first', 'embarked_C', 'embarked_Q', 'Child', 'Male']]\n",
    "modelMyGuess = LogisticRegression() \n",
    "modelMyGuess.fit(x_trainMyGuess, y_train) \n",
    "modelMyGuess.score(x_trainMyGuess, y_train)"
   ]
  },
  {
   "cell_type": "code",
   "execution_count": 79,
   "metadata": {
    "collapsed": false
   },
   "outputs": [
    {
     "name": "stdout",
     "output_type": "stream",
     "text": [
      "SelectKBest(k=5, score_func=<function f_classif at 0x1175e89b0>)\n",
      "[[  7.75     0.       1.       1.       1.    ]\n",
      " [  7.75     0.       1.       0.       1.    ]\n",
      " [ 25.4667   0.       1.       0.       1.    ]\n",
      " ..., \n",
      " [ 22.525    0.       1.       1.       1.    ]\n",
      " [ 20.525    0.       1.       1.       1.    ]\n",
      " [ 14.4542   0.       1.       0.       1.    ]]\n"
     ]
    }
   ],
   "source": [
    "#now to try Kbest on ALL variables \n",
    "kbest = SelectKBest(k=5)\n",
    "print kbest\n",
    "results_of_kbest5 = kbest.fit_transform(x_train, y_train)\n",
    "print results_of_kbest5"
   ]
  },
  {
   "cell_type": "code",
   "execution_count": 80,
   "metadata": {
    "collapsed": false
   },
   "outputs": [
    {
     "name": "stdout",
     "output_type": "stream",
     "text": [
      "[  5.33688428e+00   1.59592319e-01   5.13281680e+00   3.81229476e+01\n",
      "   5.33627761e+01   6.12490288e-01   4.59224164e+01   1.99986568e+01\n",
      "   4.51601078e-01   4.09395505e+00   1.72071906e+00   2.54201477e+02\n",
      "   6.74596170e-01   5.81062031e+01]\n",
      "(534, 5)\n"
     ]
    }
   ],
   "source": [
    "print kbest.scores_\n",
    "print results_of_kbest5.shape"
   ]
  },
  {
   "cell_type": "code",
   "execution_count": 81,
   "metadata": {
    "collapsed": false
   },
   "outputs": [
    {
     "data": {
      "text/plain": [
       "0.80149812734082393"
      ]
     },
     "execution_count": 81,
     "metadata": {},
     "output_type": "execute_result"
    }
   ],
   "source": [
    "model_for_kbest_5_columns = LogisticRegression()\n",
    "model_for_kbest_5_columns.fit(results_of_kbest5, y_train)\n",
    "model_for_kbest_5_columns.score(results_of_kbest5, y_train)"
   ]
  },
  {
   "cell_type": "code",
   "execution_count": 82,
   "metadata": {
    "collapsed": false
   },
   "outputs": [
    {
     "data": {
      "text/plain": [
       "0.76470588235294112"
      ]
     },
     "execution_count": 82,
     "metadata": {},
     "output_type": "execute_result"
    }
   ],
   "source": [
    "#running testing through the test data\n",
    "\n",
    "# Model 1 Logistic model with all variables AND the TRAIN dataset\n",
    " \n",
    "modelAll.score(x_test, y_test)\n"
   ]
  },
  {
   "cell_type": "code",
   "execution_count": null,
   "metadata": {
    "collapsed": true
   },
   "outputs": [],
   "source": [
    "# do lasso and ridge don't do crossvalidation on it own \n",
    "#do on training set "
   ]
  },
  {
   "cell_type": "code",
   "execution_count": null,
   "metadata": {
    "collapsed": true
   },
   "outputs": [],
   "source": []
  },
  {
   "cell_type": "code",
   "execution_count": null,
   "metadata": {
    "collapsed": true
   },
   "outputs": [],
   "source": []
  },
  {
   "cell_type": "code",
   "execution_count": null,
   "metadata": {
    "collapsed": true
   },
   "outputs": [],
   "source": []
  },
  {
   "cell_type": "code",
   "execution_count": null,
   "metadata": {
    "collapsed": true
   },
   "outputs": [],
   "source": []
  },
  {
   "cell_type": "code",
   "execution_count": null,
   "metadata": {
    "collapsed": true
   },
   "outputs": [],
   "source": []
  },
  {
   "cell_type": "code",
   "execution_count": null,
   "metadata": {
    "collapsed": true
   },
   "outputs": [],
   "source": []
  },
  {
   "cell_type": "code",
   "execution_count": null,
   "metadata": {
    "collapsed": true
   },
   "outputs": [],
   "source": []
  },
  {
   "cell_type": "markdown",
   "metadata": {},
   "source": [
    "Summary of results all logistic\n",
    "Model 1\n",
    "Everything score = 0.8123249299719888\n",
    "Everything is 'Age', 'SibSp', 'Parch', 'Fare', 'first', 'second', 'third', 'embarked_C', 'embarked_Q', 'Child', 'Older Person', 'Male', 'unknownAge', 'unknownCabin'\n",
    "\n",
    "Model 2: My guess: female adult or child, embarked in England \n",
    "my guess score = 0.78504672897196259\n",
    "variables = 'first', 'embarked_C', 'embarked_Q', 'Child', 'Male'\n",
    "\n",
    "Model 3: Kbest\n",
    "my guest score = 0.78271028037383172\n",
    "\n",
    "\n",
    "\n",
    "\n",
    "\n"
   ]
  }
 ],
 "metadata": {
  "anaconda-cloud": {},
  "kernelspec": {
   "display_name": "Python [Root]",
   "language": "python",
   "name": "Python [Root]"
  },
  "language_info": {
   "codemirror_mode": {
    "name": "ipython",
    "version": 2
   },
   "file_extension": ".py",
   "mimetype": "text/x-python",
   "name": "python",
   "nbconvert_exporter": "python",
   "pygments_lexer": "ipython2",
   "version": "2.7.12"
  }
 },
 "nbformat": 4,
 "nbformat_minor": 0
}
