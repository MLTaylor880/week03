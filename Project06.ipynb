{
 "cells": [
  {
   "cell_type": "code",
   "execution_count": null,
   "metadata": {
    "collapsed": true
   },
   "outputs": [],
   "source": [
    "#project 6"
   ]
  },
  {
   "cell_type": "code",
   "execution_count": 48,
   "metadata": {
    "collapsed": true
   },
   "outputs": [],
   "source": [
    "import requests\n",
    "from bs4 import BeautifulSoup\n",
    "import urllib2 \n",
    "import time\n",
    "import json\n",
    "import pandas as pd"
   ]
  },
  {
   "cell_type": "code",
   "execution_count": 29,
   "metadata": {
    "collapsed": false
   },
   "outputs": [],
   "source": [
    "soup = BeautifulSoup(urllib2.urlopen('http://www.imdb.com/chart/top?ref_=ft_250').read())"
   ]
  },
  {
   "cell_type": "code",
   "execution_count": 37,
   "metadata": {
    "collapsed": false
   },
   "outputs": [],
   "source": [
    "#print soup.prettify()"
   ]
  },
  {
   "cell_type": "code",
   "execution_count": 30,
   "metadata": {
    "collapsed": true
   },
   "outputs": [],
   "source": [
    "list_of_movies = []\n",
    "counter = 0 \n",
    "\n",
    "for title in soup('td', {'class' : 'titleColumn'}):\n",
    "    for actual_title in title('a'):\n",
    "        list_of_movies.append((counter, actual_title.text))\n",
    "        counter += 1"
   ]
  },
  {
   "cell_type": "code",
   "execution_count": 31,
   "metadata": {
    "collapsed": false
   },
   "outputs": [
    {
     "name": "stdout",
     "output_type": "stream",
     "text": [
      "(0, u'The Shawshank Redemption')\n",
      "(1, u'The Godfather')\n",
      "(2, u'The Godfather: Part II')\n",
      "(3, u'The Dark Knight')\n",
      "(4, u'12 Angry Men')\n"
     ]
    }
   ],
   "source": [
    "for movie in list_of_movies[0:5]:\n",
    "    print movie"
   ]
  },
  {
   "cell_type": "code",
   "execution_count": 32,
   "metadata": {
    "collapsed": true
   },
   "outputs": [],
   "source": [
    "r = requests.get('http://www.omdbapi.com/?type=movie&t=the+shawshank+redemption')"
   ]
  },
  {
   "cell_type": "code",
   "execution_count": 33,
   "metadata": {
    "collapsed": false
   },
   "outputs": [
    {
     "data": {
      "text/plain": [
       "{u'Actors': u'Tim Robbins, Morgan Freeman, Bob Gunton, William Sadler',\n",
       " u'Awards': u'Nominated for 7 Oscars. Another 18 wins & 30 nominations.',\n",
       " u'Country': u'USA',\n",
       " u'Director': u'Frank Darabont',\n",
       " u'Genre': u'Crime, Drama',\n",
       " u'Language': u'English',\n",
       " u'Metascore': u'80',\n",
       " u'Plot': u'Two imprisoned men bond over a number of years, finding solace and eventual redemption through acts of common decency.',\n",
       " u'Poster': u'https://images-na.ssl-images-amazon.com/images/M/MV5BODU4MjU4NjIwNl5BMl5BanBnXkFtZTgwMDU2MjEyMDE@._V1_SX300.jpg',\n",
       " u'Rated': u'R',\n",
       " u'Released': u'14 Oct 1994',\n",
       " u'Response': u'True',\n",
       " u'Runtime': u'142 min',\n",
       " u'Title': u'The Shawshank Redemption',\n",
       " u'Type': u'movie',\n",
       " u'Writer': u'Stephen King (short story \"Rita Hayworth and Shawshank Redemption\"), Frank Darabont (screenplay)',\n",
       " u'Year': u'1994',\n",
       " u'imdbID': u'tt0111161',\n",
       " u'imdbRating': u'9.3',\n",
       " u'imdbVotes': u'1,711,064'}"
      ]
     },
     "execution_count": 33,
     "metadata": {},
     "output_type": "execute_result"
    }
   ],
   "source": [
    "r.json()"
   ]
  },
  {
   "cell_type": "code",
   "execution_count": 113,
   "metadata": {
    "collapsed": false
   },
   "outputs": [
    {
     "name": "stdout",
     "output_type": "stream",
     "text": [
      "next set\n",
      "next set\n",
      "next set\n",
      "next set\n",
      "next set\n",
      "next set\n",
      "next set\n",
      "next set\n",
      "next set\n",
      "next set\n"
     ]
    }
   ],
   "source": [
    "movies_plus_json = []\n",
    "\n",
    "for movie in list_of_movies[70:80]:\n",
    "    title = movie[1].replace(' ', '+')\n",
    "    url = 'http://www.omdbapi.com/?type=movie&t=' + title\n",
    "    r = requests.get(url)\n",
    "    movies_plus_json.append((movie[0], r.json()))\n",
    "    print 'next set'\n",
    "    time.sleep(1)"
   ]
  },
  {
   "cell_type": "code",
   "execution_count": 64,
   "metadata": {
    "collapsed": false
   },
   "outputs": [],
   "source": [
    "#creating a dataframe to hold the data\n",
    "\n",
    "# columns=['Ranking','Actors',\n",
    "#  'Awards',\n",
    "#  'Country',\n",
    "#  'Director',\n",
    "#  'Genre',\n",
    "#  'Language',\n",
    "#  'Metascore',\n",
    "#  'Plot',\n",
    "#  'Rated',\n",
    "#  'Released',\n",
    "#  'Response',\n",
    "#  'Runtime',\n",
    "#  'Title',\n",
    "#  'Type',\n",
    "#  'Writer',\n",
    "#  'Year',\n",
    "#  'imdbID',\n",
    "#  'imdbRating',\n",
    "#  'imdbVotes']\n"
   ]
  },
  {
   "cell_type": "code",
   "execution_count": 114,
   "metadata": {
    "collapsed": true
   },
   "outputs": [],
   "source": [
    "\n",
    "Rank=[]\n",
    "Actors=[]\n",
    "Awards=[]\n",
    "Country=[]\n",
    "Director=[]\n",
    "Genre=[]\n",
    "Language=[]\n",
    "Metascore=[]\n",
    "Plot=[]\n",
    "Rated=[]\n",
    "Released=[]\n",
    "Response=[]\n",
    "Runtime=[]\n",
    "Title=[]\n",
    "Type=[]\n",
    "Writer=[]\n",
    "Year=[]\n",
    "imdbID=[]\n",
    "imdbRating=[]\n",
    "imdbVotes=[]"
   ]
  },
  {
   "cell_type": "code",
   "execution_count": 115,
   "metadata": {
    "collapsed": false
   },
   "outputs": [
    {
     "name": "stdout",
     "output_type": "stream",
     "text": [
      "ranking is 70\n",
      "ranking is 71\n",
      "ranking is 72\n",
      "ranking is 73\n"
     ]
    },
    {
     "ename": "KeyError",
     "evalue": "'Title'",
     "output_type": "error",
     "traceback": [
      "\u001b[0;31m---------------------------------------------------------------------------\u001b[0m",
      "\u001b[0;31mKeyError\u001b[0m                                  Traceback (most recent call last)",
      "\u001b[0;32m<ipython-input-115-b826e7cf1917>\u001b[0m in \u001b[0;36m<module>\u001b[0;34m()\u001b[0m\n\u001b[1;32m     25\u001b[0m \u001b[0;31m#     movieData['imdbVotes']=movie[1]['imdbVotes'],\u001b[0m\u001b[0;34m\u001b[0m\u001b[0;34m\u001b[0m\u001b[0m\n\u001b[1;32m     26\u001b[0m \u001b[0;34m\u001b[0m\u001b[0m\n\u001b[0;32m---> 27\u001b[0;31m     \u001b[0mRank\u001b[0m\u001b[0;34m.\u001b[0m\u001b[0mappend\u001b[0m\u001b[0;34m(\u001b[0m\u001b[0mmovie\u001b[0m\u001b[0;34m[\u001b[0m\u001b[0;36m1\u001b[0m\u001b[0;34m]\u001b[0m\u001b[0;34m[\u001b[0m\u001b[0;34m'Title'\u001b[0m\u001b[0;34m]\u001b[0m\u001b[0;34m)\u001b[0m\u001b[0;34m\u001b[0m\u001b[0m\n\u001b[0m\u001b[1;32m     28\u001b[0m     \u001b[0mActors\u001b[0m\u001b[0;34m.\u001b[0m\u001b[0mappend\u001b[0m\u001b[0;34m(\u001b[0m\u001b[0mmovie\u001b[0m\u001b[0;34m[\u001b[0m\u001b[0;36m1\u001b[0m\u001b[0;34m]\u001b[0m\u001b[0;34m[\u001b[0m\u001b[0;34m'Actors'\u001b[0m\u001b[0;34m]\u001b[0m\u001b[0;34m)\u001b[0m\u001b[0;34m\u001b[0m\u001b[0m\n\u001b[1;32m     29\u001b[0m     \u001b[0mAwards\u001b[0m\u001b[0;34m.\u001b[0m\u001b[0mappend\u001b[0m\u001b[0;34m(\u001b[0m\u001b[0mmovie\u001b[0m\u001b[0;34m[\u001b[0m\u001b[0;36m1\u001b[0m\u001b[0;34m]\u001b[0m\u001b[0;34m[\u001b[0m\u001b[0;34m'Awards'\u001b[0m\u001b[0;34m]\u001b[0m\u001b[0;34m)\u001b[0m\u001b[0;34m\u001b[0m\u001b[0m\n",
      "\u001b[0;31mKeyError\u001b[0m: 'Title'"
     ]
    }
   ],
   "source": [
    "#creating a dataframe to hold the data\n",
    "\n",
    "for movie in movies_plus_json:\n",
    "    print 'ranking is ' + str(movie[0])\n",
    "#     movieData['Ranking']=movie[1]['Title']\n",
    "#    # movieData['Title']=(movie[1]['Title'])\n",
    "#     movieData['Actors'].appendmovie[1]['Actors']\n",
    "    \n",
    "#     movieData['Awards']=movie[1]['Awards'],\n",
    "#     movieData['Country']=movie[1]['Country'],\n",
    "#     movieData['Director']=movie[1]['Director'],\n",
    "#     movieData['Genre']=movie[1]['Genre'],\n",
    "#     movieData['Language']=movie[1]['Language'],\n",
    "#     movieData['Metascore']=movie[1]['Metascore'],\n",
    "#     movieData['Plot']=movie[1]['Plot'],\n",
    "#     movieData['Rated']=movie[1]['Rated'],\n",
    "#     movieData['Released']=movie[1]['Released'],\n",
    "#     movieData['Response']=movie[1]['Response'],\n",
    "#     movieData['Runtime']=movie[1]['Runtime'],\n",
    "#     movieData['Type']=movie[1]['Type'],\n",
    "#     movieData['Writer']=movie[1]['Writer'],\n",
    "#     movieData['Year']=movie[1]['Year'],\n",
    "#     movieData['imdbID']=movie[1]['imdbID'],\n",
    "#     movieData['imdbRating']=movie[1]['imdbRating'],\n",
    "#     movieData['imdbVotes']=movie[1]['imdbVotes'],\n",
    "\n",
    "    Rank.append(movie[1]['Title'])    \n",
    "    Actors.append(movie[1]['Actors'])\n",
    "    Awards.append(movie[1]['Awards'])\n",
    "    Country.append(movie[1]['Country'])\n",
    "    Director.append(movie[1]['Director'])\n",
    "    Genre.append(movie[1]['Genre'])\n",
    "    Language.append(movie[1]['Language'])\n",
    "    Metascore.append(movie[1]['Metascore'])\n",
    "    Plot.append(movie[1]['Plot'])\n",
    "    Rated.append(movie[1]['Rated'])\n",
    "    Released.append(movie[1]['Released'])\n",
    "    Response.append(movie[1]['Response'])\n",
    "    Runtime.append(movie[1]['Runtime'])\n",
    "    Title.append(movie[1]['Title'])\n",
    "    Type.append(movie[1]['Type'])\n",
    "    Writer.append(movie[1]['Writer'])\n",
    "    Year.append(movie[1]['Year'])\n",
    "    imdbID.append(movie[1]['imdbID'])\n",
    "    imdbRating.append(movie[1]['imdbRating'])\n",
    "    imdbVotes.append(movie[1]['imdbVotes'])\n"
   ]
  },
  {
   "cell_type": "code",
   "execution_count": 116,
   "metadata": {
    "collapsed": false
   },
   "outputs": [
    {
     "name": "stdout",
     "output_type": "stream",
     "text": [
      "3\n",
      "3\n"
     ]
    }
   ],
   "source": [
    "print len(Actors)\n",
    "print len(Rank)"
   ]
  },
  {
   "cell_type": "code",
   "execution_count": 105,
   "metadata": {
    "collapsed": false
   },
   "outputs": [],
   "source": [
    "dictMovies={'Ranking':Rank,\n",
    "     'Actors':Actors,\n",
    "     'Awards':Awards,\n",
    "     'Country':Country,\n",
    "     'Director':Director,\n",
    "     'Genre':Genre,\n",
    "     'Language':Language,\n",
    "     'Metascore':Metascore,\n",
    "     'Plot':Plot,\n",
    "     'Rated':Rated,\n",
    "     'Released':Released,\n",
    "     'Response':Response,\n",
    "     'Runtime':Runtime,\n",
    "     'Title':Title,\n",
    "     'Type':Type,\n",
    "     'Writer':Writer,\n",
    "     'Year':Year,\n",
    "     'imdbID':imdbID,\n",
    "     'imdbRating':imdbRating,\n",
    "     'imdbVotes':imdbVotes}\n",
    "movieData=pd.DataFrame(dictMovies)"
   ]
  },
  {
   "cell_type": "code",
   "execution_count": 106,
   "metadata": {
    "collapsed": false
   },
   "outputs": [
    {
     "data": {
      "text/html": [
       "<div>\n",
       "<table border=\"1\" class=\"dataframe\">\n",
       "  <thead>\n",
       "    <tr style=\"text-align: right;\">\n",
       "      <th></th>\n",
       "      <th>Actors</th>\n",
       "      <th>Awards</th>\n",
       "      <th>Country</th>\n",
       "      <th>Director</th>\n",
       "      <th>Genre</th>\n",
       "      <th>Language</th>\n",
       "      <th>Metascore</th>\n",
       "      <th>Plot</th>\n",
       "      <th>Ranking</th>\n",
       "      <th>Rated</th>\n",
       "      <th>Released</th>\n",
       "      <th>Response</th>\n",
       "      <th>Runtime</th>\n",
       "      <th>Title</th>\n",
       "      <th>Type</th>\n",
       "      <th>Writer</th>\n",
       "      <th>Year</th>\n",
       "      <th>imdbID</th>\n",
       "      <th>imdbRating</th>\n",
       "      <th>imdbVotes</th>\n",
       "    </tr>\n",
       "  </thead>\n",
       "  <tbody>\n",
       "    <tr>\n",
       "      <th>0</th>\n",
       "      <td>Tim Robbins, Morgan Freeman, Bob Gunton, Willi...</td>\n",
       "      <td>Nominated for 7 Oscars. Another 18 wins &amp; 30 n...</td>\n",
       "      <td>USA</td>\n",
       "      <td>Frank Darabont</td>\n",
       "      <td>Crime, Drama</td>\n",
       "      <td>English</td>\n",
       "      <td>80</td>\n",
       "      <td>Two imprisoned men bond over a number of years...</td>\n",
       "      <td>The Shawshank Redemption</td>\n",
       "      <td>R</td>\n",
       "      <td>14 Oct 1994</td>\n",
       "      <td>True</td>\n",
       "      <td>142 min</td>\n",
       "      <td>The Shawshank Redemption</td>\n",
       "      <td>movie</td>\n",
       "      <td>Stephen King (short story \"Rita Hayworth and S...</td>\n",
       "      <td>1994</td>\n",
       "      <td>tt0111161</td>\n",
       "      <td>9.3</td>\n",
       "      <td>1,711,064</td>\n",
       "    </tr>\n",
       "    <tr>\n",
       "      <th>1</th>\n",
       "      <td>Marlon Brando, Al Pacino, James Caan, Richard ...</td>\n",
       "      <td>Won 3 Oscars. Another 23 wins &amp; 27 nominations.</td>\n",
       "      <td>USA</td>\n",
       "      <td>Francis Ford Coppola</td>\n",
       "      <td>Crime, Drama</td>\n",
       "      <td>English, Italian, Latin</td>\n",
       "      <td>100</td>\n",
       "      <td>The aging patriarch of an organized crime dyna...</td>\n",
       "      <td>The Godfather</td>\n",
       "      <td>R</td>\n",
       "      <td>24 Mar 1972</td>\n",
       "      <td>True</td>\n",
       "      <td>175 min</td>\n",
       "      <td>The Godfather</td>\n",
       "      <td>movie</td>\n",
       "      <td>Mario Puzo (screenplay), Francis Ford Coppola ...</td>\n",
       "      <td>1972</td>\n",
       "      <td>tt0068646</td>\n",
       "      <td>9.2</td>\n",
       "      <td>1,169,904</td>\n",
       "    </tr>\n",
       "    <tr>\n",
       "      <th>2</th>\n",
       "      <td>Al Pacino, Robert Duvall, Diane Keaton, Robert...</td>\n",
       "      <td>Won 6 Oscars. Another 10 wins &amp; 20 nominations.</td>\n",
       "      <td>USA</td>\n",
       "      <td>Francis Ford Coppola</td>\n",
       "      <td>Crime, Drama</td>\n",
       "      <td>English, Italian, Spanish, Latin, Sicilian</td>\n",
       "      <td>80</td>\n",
       "      <td>The early life and career of Vito Corleone in ...</td>\n",
       "      <td>The Godfather: Part II</td>\n",
       "      <td>R</td>\n",
       "      <td>20 Dec 1974</td>\n",
       "      <td>True</td>\n",
       "      <td>202 min</td>\n",
       "      <td>The Godfather: Part II</td>\n",
       "      <td>movie</td>\n",
       "      <td>Francis Ford Coppola (screenplay), Mario Puzo ...</td>\n",
       "      <td>1974</td>\n",
       "      <td>tt0071562</td>\n",
       "      <td>9.0</td>\n",
       "      <td>800,469</td>\n",
       "    </tr>\n",
       "    <tr>\n",
       "      <th>3</th>\n",
       "      <td>Christian Bale, Heath Ledger, Aaron Eckhart, M...</td>\n",
       "      <td>Won 2 Oscars. Another 146 wins &amp; 142 nominations.</td>\n",
       "      <td>USA, UK</td>\n",
       "      <td>Christopher Nolan</td>\n",
       "      <td>Action, Crime, Drama</td>\n",
       "      <td>English, Mandarin</td>\n",
       "      <td>82</td>\n",
       "      <td>When the menace known as the Joker wreaks havo...</td>\n",
       "      <td>The Dark Knight</td>\n",
       "      <td>PG-13</td>\n",
       "      <td>18 Jul 2008</td>\n",
       "      <td>True</td>\n",
       "      <td>152 min</td>\n",
       "      <td>The Dark Knight</td>\n",
       "      <td>movie</td>\n",
       "      <td>Jonathan Nolan (screenplay), Christopher Nolan...</td>\n",
       "      <td>2008</td>\n",
       "      <td>tt0468569</td>\n",
       "      <td>9.0</td>\n",
       "      <td>1,699,835</td>\n",
       "    </tr>\n",
       "    <tr>\n",
       "      <th>4</th>\n",
       "      <td>Martin Balsam, John Fiedler, Lee J. Cobb, E.G....</td>\n",
       "      <td>Nominated for 3 Oscars. Another 16 wins &amp; 8 no...</td>\n",
       "      <td>USA</td>\n",
       "      <td>Sidney Lumet</td>\n",
       "      <td>Crime, Drama</td>\n",
       "      <td>English</td>\n",
       "      <td>N/A</td>\n",
       "      <td>A jury holdout attempts to prevent a miscarria...</td>\n",
       "      <td>12 Angry Men</td>\n",
       "      <td>APPROVED</td>\n",
       "      <td>01 Apr 1957</td>\n",
       "      <td>True</td>\n",
       "      <td>96 min</td>\n",
       "      <td>12 Angry Men</td>\n",
       "      <td>movie</td>\n",
       "      <td>Reginald Rose (story), Reginald Rose (screenplay)</td>\n",
       "      <td>1957</td>\n",
       "      <td>tt0050083</td>\n",
       "      <td>8.9</td>\n",
       "      <td>455,987</td>\n",
       "    </tr>\n",
       "  </tbody>\n",
       "</table>\n",
       "</div>"
      ],
      "text/plain": [
       "                                              Actors  \\\n",
       "0  Tim Robbins, Morgan Freeman, Bob Gunton, Willi...   \n",
       "1  Marlon Brando, Al Pacino, James Caan, Richard ...   \n",
       "2  Al Pacino, Robert Duvall, Diane Keaton, Robert...   \n",
       "3  Christian Bale, Heath Ledger, Aaron Eckhart, M...   \n",
       "4  Martin Balsam, John Fiedler, Lee J. Cobb, E.G....   \n",
       "\n",
       "                                              Awards  Country  \\\n",
       "0  Nominated for 7 Oscars. Another 18 wins & 30 n...      USA   \n",
       "1    Won 3 Oscars. Another 23 wins & 27 nominations.      USA   \n",
       "2    Won 6 Oscars. Another 10 wins & 20 nominations.      USA   \n",
       "3  Won 2 Oscars. Another 146 wins & 142 nominations.  USA, UK   \n",
       "4  Nominated for 3 Oscars. Another 16 wins & 8 no...      USA   \n",
       "\n",
       "               Director                 Genre  \\\n",
       "0        Frank Darabont          Crime, Drama   \n",
       "1  Francis Ford Coppola          Crime, Drama   \n",
       "2  Francis Ford Coppola          Crime, Drama   \n",
       "3     Christopher Nolan  Action, Crime, Drama   \n",
       "4          Sidney Lumet          Crime, Drama   \n",
       "\n",
       "                                     Language Metascore  \\\n",
       "0                                     English        80   \n",
       "1                     English, Italian, Latin       100   \n",
       "2  English, Italian, Spanish, Latin, Sicilian        80   \n",
       "3                           English, Mandarin        82   \n",
       "4                                     English       N/A   \n",
       "\n",
       "                                                Plot  \\\n",
       "0  Two imprisoned men bond over a number of years...   \n",
       "1  The aging patriarch of an organized crime dyna...   \n",
       "2  The early life and career of Vito Corleone in ...   \n",
       "3  When the menace known as the Joker wreaks havo...   \n",
       "4  A jury holdout attempts to prevent a miscarria...   \n",
       "\n",
       "                    Ranking     Rated     Released Response  Runtime  \\\n",
       "0  The Shawshank Redemption         R  14 Oct 1994     True  142 min   \n",
       "1             The Godfather         R  24 Mar 1972     True  175 min   \n",
       "2    The Godfather: Part II         R  20 Dec 1974     True  202 min   \n",
       "3           The Dark Knight     PG-13  18 Jul 2008     True  152 min   \n",
       "4              12 Angry Men  APPROVED  01 Apr 1957     True   96 min   \n",
       "\n",
       "                      Title   Type  \\\n",
       "0  The Shawshank Redemption  movie   \n",
       "1             The Godfather  movie   \n",
       "2    The Godfather: Part II  movie   \n",
       "3           The Dark Knight  movie   \n",
       "4              12 Angry Men  movie   \n",
       "\n",
       "                                              Writer  Year     imdbID  \\\n",
       "0  Stephen King (short story \"Rita Hayworth and S...  1994  tt0111161   \n",
       "1  Mario Puzo (screenplay), Francis Ford Coppola ...  1972  tt0068646   \n",
       "2  Francis Ford Coppola (screenplay), Mario Puzo ...  1974  tt0071562   \n",
       "3  Jonathan Nolan (screenplay), Christopher Nolan...  2008  tt0468569   \n",
       "4  Reginald Rose (story), Reginald Rose (screenplay)  1957  tt0050083   \n",
       "\n",
       "  imdbRating  imdbVotes  \n",
       "0        9.3  1,711,064  \n",
       "1        9.2  1,169,904  \n",
       "2        9.0    800,469  \n",
       "3        9.0  1,699,835  \n",
       "4        8.9    455,987  "
      ]
     },
     "execution_count": 106,
     "metadata": {},
     "output_type": "execute_result"
    }
   ],
   "source": [
    "movieData.head()"
   ]
  },
  {
   "cell_type": "code",
   "execution_count": null,
   "metadata": {
    "collapsed": true
   },
   "outputs": [],
   "source": [
    "for movie in movies_plus_json:\n",
    "    print 'ranking is ' + str(movie[0])\n",
    "    print 'title is ' + movie[1]['Title']\n",
    "    for genre in movie[1]['Genre'].split(','):\n",
    "        print 'It has a genre ' + genre.strip()\n",
    "    print 'runtime in minutes is ' + movie[1]['Runtime'].replace(' min', '')\n",
    "    print movie[1]['imdbRating']\n",
    "    print movie[1]['imdbVotes']"
   ]
  },
  {
   "cell_type": "code",
   "execution_count": null,
   "metadata": {
    "collapsed": true
   },
   "outputs": [],
   "source": []
  },
  {
   "cell_type": "code",
   "execution_count": 45,
   "metadata": {
    "collapsed": false
   },
   "outputs": [],
   "source": [
    "\n"
   ]
  },
  {
   "cell_type": "code",
   "execution_count": 46,
   "metadata": {
    "collapsed": false
   },
   "outputs": [
    {
     "ename": "NameError",
     "evalue": "name 'columns' is not defined",
     "output_type": "error",
     "traceback": [
      "\u001b[0;31m---------------------------------------------------------------------------\u001b[0m",
      "\u001b[0;31mNameError\u001b[0m                                 Traceback (most recent call last)",
      "\u001b[0;32m<ipython-input-46-1962811a7a3b>\u001b[0m in \u001b[0;36m<module>\u001b[0;34m()\u001b[0m\n\u001b[0;32m----> 1\u001b[0;31m \u001b[0;32mprint\u001b[0m\u001b[0;34m(\u001b[0m\u001b[0mcolumns\u001b[0m\u001b[0;34m[\u001b[0m\u001b[0;36m1\u001b[0m\u001b[0;34m]\u001b[0m\u001b[0;34m)\u001b[0m\u001b[0;34m\u001b[0m\u001b[0m\n\u001b[0m",
      "\u001b[0;31mNameError\u001b[0m: name 'columns' is not defined"
     ]
    }
   ],
   "source": [
    "print(columns[1])"
   ]
  },
  {
   "cell_type": "code",
   "execution_count": 39,
   "metadata": {
    "collapsed": false
   },
   "outputs": [],
   "source": [
    "# id: [id=\"tt1345836|imdb|8.5|8.5|advsearch\"] \n",
    "#     movie['metascore'] = hxs.xpath('//*[@id=\"overview-top\"]/div[3]/div[3]/a[2\n",
    "# python_obj = json.loads(movies_plus_json)\n",
    "# print python_obj[\"imdbRating\"]\n",
    "# print python_obj[\"imdbVotes\"]"
   ]
  },
  {
   "cell_type": "code",
   "execution_count": null,
   "metadata": {
    "collapsed": true
   },
   "outputs": [],
   "source": []
  }
 ],
 "metadata": {
  "anaconda-cloud": {},
  "kernelspec": {
   "display_name": "Python [Root]",
   "language": "python",
   "name": "Python [Root]"
  },
  "language_info": {
   "codemirror_mode": {
    "name": "ipython",
    "version": 2
   },
   "file_extension": ".py",
   "mimetype": "text/x-python",
   "name": "python",
   "nbconvert_exporter": "python",
   "pygments_lexer": "ipython2",
   "version": "2.7.12"
  }
 },
 "nbformat": 4,
 "nbformat_minor": 0
}
