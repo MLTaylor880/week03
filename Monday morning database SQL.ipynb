{
 "cells": [
  {
   "cell_type": "code",
   "execution_count": 3,
   "metadata": {
    "collapsed": true
   },
   "outputs": [],
   "source": [
    "import sqlite3\n",
    "#library in python\n",
    "sqlite_db = 'houses.sqlite'\n",
    "conn = sqlite3.connect(sqlite_db)\n",
    "c = conn.cursor()\n",
    "#object holds other stuff connection to dbase"
   ]
  },
  {
   "cell_type": "code",
   "execution_count": 4,
   "metadata": {
    "collapsed": false
   },
   "outputs": [
    {
     "data": {
      "text/plain": [
       "<sqlite3.Cursor at 0x103ea8c70>"
      ]
     },
     "execution_count": 4,
     "metadata": {},
     "output_type": "execute_result"
    }
   ],
   "source": [
    "c.execute('CREATE TABLE houses (field1 INTEGER PRIMARY KEY, sqft INTEGER, bdrms INTEGER, age INTEGER, price INTEGER);')\n"
   ]
  },
  {
   "cell_type": "code",
   "execution_count": null,
   "metadata": {
    "collapsed": true
   },
   "outputs": [],
   "source": [
    "conn.commit()\n"
   ]
  },
  {
   "cell_type": "code",
   "execution_count": 5,
   "metadata": {
    "collapsed": false
   },
   "outputs": [
    {
     "data": {
      "text/plain": [
       "<sqlite3.Cursor at 0x103ea8c70>"
      ]
     },
     "execution_count": 5,
     "metadata": {},
     "output_type": "execute_result"
    }
   ],
   "source": [
    "last_sale = (None, 4000, 5, 22, 619000)\n",
    "#in the form of a tuple\n",
    "c.execute('INSERT INTO houses VALUES (?,?,?,?,?)',last_sale)\n",
    "\n",
    "#have to use ? since inserting an object\n"
   ]
  },
  {
   "cell_type": "code",
   "execution_count": 6,
   "metadata": {
    "collapsed": true
   },
   "outputs": [],
   "source": [
    "conn.commit()"
   ]
  },
  {
   "cell_type": "code",
   "execution_count": 7,
   "metadata": {
    "collapsed": false
   },
   "outputs": [
    {
     "data": {
      "text/plain": [
       "<sqlite3.Cursor at 0x103ea8c70>"
      ]
     },
     "execution_count": 7,
     "metadata": {},
     "output_type": "execute_result"
    }
   ],
   "source": [
    "c.execute('SELECT * FROM houses;')"
   ]
  },
  {
   "cell_type": "code",
   "execution_count": 8,
   "metadata": {
    "collapsed": true
   },
   "outputs": [],
   "source": [
    "conn.commit()"
   ]
  },
  {
   "cell_type": "code",
   "execution_count": 9,
   "metadata": {
    "collapsed": false
   },
   "outputs": [
    {
     "data": {
      "text/plain": [
       "[(1, 4000, 5, 22, 619000)]"
      ]
     },
     "execution_count": 9,
     "metadata": {},
     "output_type": "execute_result"
    }
   ],
   "source": [
    "results = c.execute('SELECT * FROM houses;')\n",
    "results.fetchall()"
   ]
  },
  {
   "cell_type": "code",
   "execution_count": 10,
   "metadata": {
    "collapsed": true
   },
   "outputs": [],
   "source": [
    "recent_sales = [\n",
    "  (None, 2390, 4, 34, 319000),\n",
    "  (None, 1870, 3, 14, 289000),\n",
    "  (None, 1505, 3, 90, 269000),\n",
    "]\n",
    "\n",
    "c.executemany('INSERT INTO houses VALUES (?, ?, ?, ?, ?)', recent_sales)\n",
    "\n",
    "conn.commit()"
   ]
  },
  {
   "cell_type": "code",
   "execution_count": 11,
   "metadata": {
    "collapsed": false
   },
   "outputs": [
    {
     "data": {
      "text/plain": [
       "[(1, 4000, 5, 22, 619000),\n",
       " (2, 2390, 4, 34, 319000),\n",
       " (3, 1870, 3, 14, 289000),\n",
       " (4, 1505, 3, 90, 269000)]"
      ]
     },
     "execution_count": 11,
     "metadata": {},
     "output_type": "execute_result"
    }
   ],
   "source": [
    "results = c.execute('SELECT * FROM houses;')\n",
    "results.fetchall()"
   ]
  },
  {
   "cell_type": "code",
   "execution_count": 14,
   "metadata": {
    "collapsed": false
   },
   "outputs": [],
   "source": [
    "from numpy import genfromtxt\n",
    "data = (genfromtxt('housing-data.csv', dtype='i8',\n",
    "                  delimiter=',',skip_header=1)).tolist()"
   ]
  },
  {
   "cell_type": "code",
   "execution_count": 15,
   "metadata": {
    "collapsed": false
   },
   "outputs": [
    {
     "data": {
      "text/plain": [
       "[[2104, 3, 70, 399900],\n",
       " [1600, 3, 28, 329900],\n",
       " [2400, 3, 44, 369000],\n",
       " [1416, 2, 49, 232000],\n",
       " [3000, 4, 75, 539900],\n",
       " [1985, 4, 61, 299900],\n",
       " [1534, 3, 12, 314900],\n",
       " [1427, 3, 57, 198999],\n",
       " [1380, 3, 14, 212000],\n",
       " [1494, 3, 15, 242500],\n",
       " [1940, 4, 7, 239999],\n",
       " [2000, 3, 27, 347000],\n",
       " [1890, 3, 45, 329999],\n",
       " [4478, 5, 49, 699900],\n",
       " [1268, 3, 58, 259900],\n",
       " [2300, 4, 77, 449900],\n",
       " [1320, 2, 62, 299900],\n",
       " [1236, 3, 78, 199900],\n",
       " [2609, 4, 5, 499998],\n",
       " [3031, 4, 21, 599000],\n",
       " [1767, 3, 44, 252900],\n",
       " [1888, 2, 79, 255000],\n",
       " [1604, 3, 13, 242900],\n",
       " [1962, 4, 53, 259900],\n",
       " [3890, 3, 36, 573900],\n",
       " [1100, 3, 60, 249900],\n",
       " [1458, 3, 29, 464500],\n",
       " [2526, 3, 13, 469000],\n",
       " [2200, 3, 28, 475000],\n",
       " [2637, 3, 25, 299900],\n",
       " [1839, 2, 40, 349900],\n",
       " [1000, 1, 5, 169900],\n",
       " [2040, 4, 75, 314900],\n",
       " [3137, 3, 67, 579900],\n",
       " [1811, 4, 24, 285900],\n",
       " [1437, 3, 50, 249900],\n",
       " [1239, 3, 22, 229900],\n",
       " [2132, 4, 28, 345000],\n",
       " [4215, 4, 66, 549000],\n",
       " [2162, 4, 43, 287000],\n",
       " [1664, 2, 40, 368500],\n",
       " [2238, 3, 37, 329900],\n",
       " [2567, 4, 57, 314000],\n",
       " [1200, 3, 76, 299000],\n",
       " [852, 2, 70, 179900],\n",
       " [1852, 4, 64, 299900],\n",
       " [1203, 3, 11, 239500]]"
      ]
     },
     "execution_count": 15,
     "metadata": {},
     "output_type": "execute_result"
    }
   ],
   "source": [
    "data"
   ]
  },
  {
   "cell_type": "code",
   "execution_count": 17,
   "metadata": {
    "collapsed": false
   },
   "outputs": [
    {
     "data": {
      "text/plain": [
       "[[None, 2104, 3, 70, 399900],\n",
       " [None, 1600, 3, 28, 329900],\n",
       " [None, 2400, 3, 44, 369000]]"
      ]
     },
     "execution_count": 17,
     "metadata": {},
     "output_type": "execute_result"
    }
   ],
   "source": [
    "for d in data:\n",
    "    d.insert(0,None)\n",
    "data[0:3]"
   ]
  },
  {
   "cell_type": "code",
   "execution_count": null,
   "metadata": {
    "collapsed": true
   },
   "outputs": [],
   "source": [
    "# for d in data:\n",
    "#     d.pop(0,)\n",
    "# data[0:3]\n",
    "# #to delete"
   ]
  },
  {
   "cell_type": "code",
   "execution_count": 19,
   "metadata": {
    "collapsed": true
   },
   "outputs": [],
   "source": [
    "#loop through\n",
    "for d in data:\n",
    "    c.execute('INSERT INTO houses VALUES(?,?,?,?,?)',d)\n",
    "    \n",
    "conn.commit()"
   ]
  },
  {
   "cell_type": "code",
   "execution_count": 22,
   "metadata": {
    "collapsed": false
   },
   "outputs": [
    {
     "data": {
      "text/plain": [
       "[(1, 4000, 5, 22, 619000),\n",
       " (2, 2390, 4, 34, 319000),\n",
       " (3, 1870, 3, 14, 289000),\n",
       " (4, 1505, 3, 90, 269000),\n",
       " (5, 2104, 3, 70, 399900),\n",
       " (6, 1600, 3, 28, 329900),\n",
       " (7, 2400, 3, 44, 369000),\n",
       " (8, 1416, 2, 49, 232000),\n",
       " (9, 3000, 4, 75, 539900),\n",
       " (10, 1985, 4, 61, 299900),\n",
       " (11, 1534, 3, 12, 314900),\n",
       " (12, 1427, 3, 57, 198999),\n",
       " (13, 1380, 3, 14, 212000),\n",
       " (14, 1494, 3, 15, 242500),\n",
       " (15, 1940, 4, 7, 239999),\n",
       " (16, 2000, 3, 27, 347000),\n",
       " (17, 1890, 3, 45, 329999),\n",
       " (18, 4478, 5, 49, 699900),\n",
       " (19, 1268, 3, 58, 259900),\n",
       " (20, 2300, 4, 77, 449900),\n",
       " (21, 1320, 2, 62, 299900),\n",
       " (22, 1236, 3, 78, 199900),\n",
       " (23, 2609, 4, 5, 499998),\n",
       " (24, 3031, 4, 21, 599000),\n",
       " (25, 1767, 3, 44, 252900),\n",
       " (26, 1888, 2, 79, 255000),\n",
       " (27, 1604, 3, 13, 242900),\n",
       " (28, 1962, 4, 53, 259900),\n",
       " (29, 3890, 3, 36, 573900),\n",
       " (30, 1100, 3, 60, 249900),\n",
       " (31, 1458, 3, 29, 464500),\n",
       " (32, 2526, 3, 13, 469000),\n",
       " (33, 2200, 3, 28, 475000),\n",
       " (34, 2637, 3, 25, 299900),\n",
       " (35, 1839, 2, 40, 349900),\n",
       " (36, 1000, 1, 5, 169900),\n",
       " (37, 2040, 4, 75, 314900),\n",
       " (38, 3137, 3, 67, 579900),\n",
       " (39, 1811, 4, 24, 285900),\n",
       " (40, 1437, 3, 50, 249900),\n",
       " (41, 1239, 3, 22, 229900),\n",
       " (42, 2132, 4, 28, 345000),\n",
       " (43, 4215, 4, 66, 549000),\n",
       " (44, 2162, 4, 43, 287000),\n",
       " (45, 1664, 2, 40, 368500),\n",
       " (46, 2238, 3, 37, 329900),\n",
       " (47, 2567, 4, 57, 314000),\n",
       " (48, 1200, 3, 76, 299000),\n",
       " (49, 852, 2, 70, 179900),\n",
       " (50, 1852, 4, 64, 299900),\n",
       " (51, 1203, 3, 11, 239500),\n",
       " (52, 2104, 3, 70, 399900),\n",
       " (53, 1600, 3, 28, 329900),\n",
       " (54, 2400, 3, 44, 369000),\n",
       " (55, 1416, 2, 49, 232000),\n",
       " (56, 3000, 4, 75, 539900),\n",
       " (57, 1985, 4, 61, 299900),\n",
       " (58, 1534, 3, 12, 314900),\n",
       " (59, 1427, 3, 57, 198999),\n",
       " (60, 1380, 3, 14, 212000),\n",
       " (61, 1494, 3, 15, 242500),\n",
       " (62, 1940, 4, 7, 239999),\n",
       " (63, 2000, 3, 27, 347000),\n",
       " (64, 1890, 3, 45, 329999),\n",
       " (65, 4478, 5, 49, 699900),\n",
       " (66, 1268, 3, 58, 259900),\n",
       " (67, 2300, 4, 77, 449900),\n",
       " (68, 1320, 2, 62, 299900),\n",
       " (69, 1236, 3, 78, 199900),\n",
       " (70, 2609, 4, 5, 499998),\n",
       " (71, 3031, 4, 21, 599000),\n",
       " (72, 1767, 3, 44, 252900),\n",
       " (73, 1888, 2, 79, 255000),\n",
       " (74, 1604, 3, 13, 242900),\n",
       " (75, 1962, 4, 53, 259900),\n",
       " (76, 3890, 3, 36, 573900),\n",
       " (77, 1100, 3, 60, 249900),\n",
       " (78, 1458, 3, 29, 464500),\n",
       " (79, 2526, 3, 13, 469000),\n",
       " (80, 2200, 3, 28, 475000),\n",
       " (81, 2637, 3, 25, 299900),\n",
       " (82, 1839, 2, 40, 349900),\n",
       " (83, 1000, 1, 5, 169900),\n",
       " (84, 2040, 4, 75, 314900),\n",
       " (85, 3137, 3, 67, 579900),\n",
       " (86, 1811, 4, 24, 285900),\n",
       " (87, 1437, 3, 50, 249900),\n",
       " (88, 1239, 3, 22, 229900),\n",
       " (89, 2132, 4, 28, 345000),\n",
       " (90, 4215, 4, 66, 549000),\n",
       " (91, 2162, 4, 43, 287000),\n",
       " (92, 1664, 2, 40, 368500),\n",
       " (93, 2238, 3, 37, 329900),\n",
       " (94, 2567, 4, 57, 314000),\n",
       " (95, 1200, 3, 76, 299000),\n",
       " (96, 852, 2, 70, 179900),\n",
       " (97, 1852, 4, 64, 299900),\n",
       " (98, 1203, 3, 11, 239500)]"
      ]
     },
     "execution_count": 22,
     "metadata": {},
     "output_type": "execute_result"
    }
   ],
   "source": [
    "results = c.execute('SELECT * FROM houses');\n",
    "results.fetchall()"
   ]
  },
  {
   "cell_type": "code",
   "execution_count": 23,
   "metadata": {
    "collapsed": true
   },
   "outputs": [],
   "source": [
    "import pandas as pd\n",
    "from pandas.io import sql"
   ]
  },
  {
   "cell_type": "code",
   "execution_count": 25,
   "metadata": {
    "collapsed": false
   },
   "outputs": [
    {
     "data": {
      "text/html": [
       "<div>\n",
       "<table border=\"1\" class=\"dataframe\">\n",
       "  <thead>\n",
       "    <tr style=\"text-align: right;\">\n",
       "      <th></th>\n",
       "      <th>sqft</th>\n",
       "      <th>bdrms</th>\n",
       "      <th>age</th>\n",
       "      <th>price</th>\n",
       "    </tr>\n",
       "  </thead>\n",
       "  <tbody>\n",
       "    <tr>\n",
       "      <th>0</th>\n",
       "      <td>2104</td>\n",
       "      <td>3</td>\n",
       "      <td>70</td>\n",
       "      <td>399900</td>\n",
       "    </tr>\n",
       "    <tr>\n",
       "      <th>1</th>\n",
       "      <td>1600</td>\n",
       "      <td>3</td>\n",
       "      <td>28</td>\n",
       "      <td>329900</td>\n",
       "    </tr>\n",
       "    <tr>\n",
       "      <th>2</th>\n",
       "      <td>2400</td>\n",
       "      <td>3</td>\n",
       "      <td>44</td>\n",
       "      <td>369000</td>\n",
       "    </tr>\n",
       "    <tr>\n",
       "      <th>3</th>\n",
       "      <td>1416</td>\n",
       "      <td>2</td>\n",
       "      <td>49</td>\n",
       "      <td>232000</td>\n",
       "    </tr>\n",
       "    <tr>\n",
       "      <th>4</th>\n",
       "      <td>3000</td>\n",
       "      <td>4</td>\n",
       "      <td>75</td>\n",
       "      <td>539900</td>\n",
       "    </tr>\n",
       "  </tbody>\n",
       "</table>\n",
       "</div>"
      ],
      "text/plain": [
       "   sqft  bdrms  age   price\n",
       "0  2104      3   70  399900\n",
       "1  1600      3   28  329900\n",
       "2  2400      3   44  369000\n",
       "3  1416      2   49  232000\n",
       "4  3000      4   75  539900"
      ]
     },
     "execution_count": 25,
     "metadata": {},
     "output_type": "execute_result"
    }
   ],
   "source": [
    "data=pd.read_csv('housing-data.csv')\n",
    "data.head()"
   ]
  },
  {
   "cell_type": "code",
   "execution_count": 26,
   "metadata": {
    "collapsed": false
   },
   "outputs": [
    {
     "data": {
      "text/plain": [
       "<sqlite3.Connection at 0x103e88dc8>"
      ]
     },
     "execution_count": 26,
     "metadata": {},
     "output_type": "execute_result"
    }
   ],
   "source": [
    "conn"
   ]
  },
  {
   "cell_type": "code",
   "execution_count": 28,
   "metadata": {
    "collapsed": false
   },
   "outputs": [],
   "source": [
    "data.to_sql('houses_panda_are_cool', \n",
    "           con=conn,\n",
    "           if_exists='replace',\n",
    "           index=False)"
   ]
  },
  {
   "cell_type": "code",
   "execution_count": 32,
   "metadata": {
    "collapsed": false
   },
   "outputs": [
    {
     "data": {
      "text/plain": [
       "[(2104, 3, 70, 399900),\n",
       " (1600, 3, 28, 329900),\n",
       " (2400, 3, 44, 369000),\n",
       " (1416, 2, 49, 232000),\n",
       " (3000, 4, 75, 539900)]"
      ]
     },
     "execution_count": 32,
     "metadata": {},
     "output_type": "execute_result"
    }
   ],
   "source": [
    "results = c.execute('SELECT * FROM  houses_panda_are_cool;')\n",
    "results.fetchall()[0:5]\n",
    "\n"
   ]
  },
  {
   "cell_type": "code",
   "execution_count": 36,
   "metadata": {
    "collapsed": false
   },
   "outputs": [],
   "source": [
    "this_data_came_from_sql=sql.read_sql('SELECT * FROM houses_panda_are_cool',\n",
    "                                     con=conn)"
   ]
  },
  {
   "cell_type": "code",
   "execution_count": 37,
   "metadata": {
    "collapsed": false
   },
   "outputs": [
    {
     "data": {
      "text/html": [
       "<div>\n",
       "<table border=\"1\" class=\"dataframe\">\n",
       "  <thead>\n",
       "    <tr style=\"text-align: right;\">\n",
       "      <th></th>\n",
       "      <th>sqft</th>\n",
       "      <th>bdrms</th>\n",
       "      <th>age</th>\n",
       "      <th>price</th>\n",
       "    </tr>\n",
       "  </thead>\n",
       "  <tbody>\n",
       "    <tr>\n",
       "      <th>0</th>\n",
       "      <td>2104</td>\n",
       "      <td>3</td>\n",
       "      <td>70</td>\n",
       "      <td>399900</td>\n",
       "    </tr>\n",
       "    <tr>\n",
       "      <th>1</th>\n",
       "      <td>1600</td>\n",
       "      <td>3</td>\n",
       "      <td>28</td>\n",
       "      <td>329900</td>\n",
       "    </tr>\n",
       "    <tr>\n",
       "      <th>2</th>\n",
       "      <td>2400</td>\n",
       "      <td>3</td>\n",
       "      <td>44</td>\n",
       "      <td>369000</td>\n",
       "    </tr>\n",
       "    <tr>\n",
       "      <th>3</th>\n",
       "      <td>1416</td>\n",
       "      <td>2</td>\n",
       "      <td>49</td>\n",
       "      <td>232000</td>\n",
       "    </tr>\n",
       "    <tr>\n",
       "      <th>4</th>\n",
       "      <td>3000</td>\n",
       "      <td>4</td>\n",
       "      <td>75</td>\n",
       "      <td>539900</td>\n",
       "    </tr>\n",
       "  </tbody>\n",
       "</table>\n",
       "</div>"
      ],
      "text/plain": [
       "   sqft  bdrms  age   price\n",
       "0  2104      3   70  399900\n",
       "1  1600      3   28  329900\n",
       "2  2400      3   44  369000\n",
       "3  1416      2   49  232000\n",
       "4  3000      4   75  539900"
      ]
     },
     "execution_count": 37,
     "metadata": {},
     "output_type": "execute_result"
    }
   ],
   "source": [
    "this_data_came_from_sql.head(5)"
   ]
  },
  {
   "cell_type": "code",
   "execution_count": 39,
   "metadata": {
    "collapsed": true
   },
   "outputs": [],
   "source": [
    "def helper_function(command):\n",
    "    print sql.read_sql(command, con=conn)"
   ]
  },
  {
   "cell_type": "code",
   "execution_count": 40,
   "metadata": {
    "collapsed": false
   },
   "outputs": [
    {
     "name": "stdout",
     "output_type": "stream",
     "text": [
      "    sqft\n",
      "0   4000\n",
      "1   2390\n",
      "2   1870\n",
      "3   1505\n",
      "4   2104\n",
      "5   1600\n",
      "6   2400\n",
      "7   1416\n",
      "8   3000\n",
      "9   1985\n",
      "10  1534\n",
      "11  1427\n",
      "12  1380\n",
      "13  1494\n",
      "14  1940\n",
      "15  2000\n",
      "16  1890\n",
      "17  4478\n",
      "18  1268\n",
      "19  2300\n",
      "20  1320\n",
      "21  1236\n",
      "22  2609\n",
      "23  3031\n",
      "24  1767\n",
      "25  1888\n",
      "26  1604\n",
      "27  1962\n",
      "28  3890\n",
      "29  1100\n",
      "..   ...\n",
      "68  1236\n",
      "69  2609\n",
      "70  3031\n",
      "71  1767\n",
      "72  1888\n",
      "73  1604\n",
      "74  1962\n",
      "75  3890\n",
      "76  1100\n",
      "77  1458\n",
      "78  2526\n",
      "79  2200\n",
      "80  2637\n",
      "81  1839\n",
      "82  1000\n",
      "83  2040\n",
      "84  3137\n",
      "85  1811\n",
      "86  1437\n",
      "87  1239\n",
      "88  2132\n",
      "89  4215\n",
      "90  2162\n",
      "91  1664\n",
      "92  2238\n",
      "93  2567\n",
      "94  1200\n",
      "95   852\n",
      "96  1852\n",
      "97  1203\n",
      "\n",
      "[98 rows x 1 columns]\n"
     ]
    }
   ],
   "source": [
    "helper_function('SELECT sqft FROM houses')"
   ]
  },
  {
   "cell_type": "code",
   "execution_count": 41,
   "metadata": {
    "collapsed": false
   },
   "outputs": [
    {
     "name": "stdout",
     "output_type": "stream",
     "text": [
      "    field1  sqft  bdrms  age   price\n",
      "0        1  4000      5   22  619000\n",
      "1        2  2390      4   34  319000\n",
      "2        3  1870      3   14  289000\n",
      "3        4  1505      3   90  269000\n",
      "4        5  2104      3   70  399900\n",
      "5        6  1600      3   28  329900\n",
      "6        7  2400      3   44  369000\n",
      "7        8  1416      2   49  232000\n",
      "8        9  3000      4   75  539900\n",
      "9       10  1985      4   61  299900\n",
      "10      11  1534      3   12  314900\n",
      "11      12  1427      3   57  198999\n",
      "12      13  1380      3   14  212000\n",
      "13      14  1494      3   15  242500\n",
      "14      15  1940      4    7  239999\n",
      "15      16  2000      3   27  347000\n",
      "16      17  1890      3   45  329999\n",
      "17      18  4478      5   49  699900\n",
      "18      19  1268      3   58  259900\n",
      "19      20  2300      4   77  449900\n",
      "20      21  1320      2   62  299900\n",
      "21      22  1236      3   78  199900\n",
      "22      23  2609      4    5  499998\n",
      "23      24  3031      4   21  599000\n",
      "24      25  1767      3   44  252900\n",
      "25      26  1888      2   79  255000\n",
      "26      27  1604      3   13  242900\n",
      "27      28  1962      4   53  259900\n",
      "28      29  3890      3   36  573900\n",
      "29      30  1100      3   60  249900\n",
      "..     ...   ...    ...  ...     ...\n",
      "68      69  1236      3   78  199900\n",
      "69      70  2609      4    5  499998\n",
      "70      71  3031      4   21  599000\n",
      "71      72  1767      3   44  252900\n",
      "72      73  1888      2   79  255000\n",
      "73      74  1604      3   13  242900\n",
      "74      75  1962      4   53  259900\n",
      "75      76  3890      3   36  573900\n",
      "76      77  1100      3   60  249900\n",
      "77      78  1458      3   29  464500\n",
      "78      79  2526      3   13  469000\n",
      "79      80  2200      3   28  475000\n",
      "80      81  2637      3   25  299900\n",
      "81      82  1839      2   40  349900\n",
      "82      83  1000      1    5  169900\n",
      "83      84  2040      4   75  314900\n",
      "84      85  3137      3   67  579900\n",
      "85      86  1811      4   24  285900\n",
      "86      87  1437      3   50  249900\n",
      "87      88  1239      3   22  229900\n",
      "88      89  2132      4   28  345000\n",
      "89      90  4215      4   66  549000\n",
      "90      91  2162      4   43  287000\n",
      "91      92  1664      2   40  368500\n",
      "92      93  2238      3   37  329900\n",
      "93      94  2567      4   57  314000\n",
      "94      95  1200      3   76  299000\n",
      "95      96   852      2   70  179900\n",
      "96      97  1852      4   64  299900\n",
      "97      98  1203      3   11  239500\n",
      "\n",
      "[98 rows x 5 columns]\n"
     ]
    }
   ],
   "source": [
    "helper_function('SELECT * FROM houses')"
   ]
  },
  {
   "cell_type": "code",
   "execution_count": 42,
   "metadata": {
    "collapsed": false
   },
   "outputs": [
    {
     "name": "stdout",
     "output_type": "stream",
     "text": [
      "    sqft\n",
      "0   4000\n",
      "1   2390\n",
      "2   1870\n",
      "3   1505\n",
      "4   2104\n",
      "5   1600\n",
      "6   2400\n",
      "7   1416\n",
      "8   3000\n",
      "9   1985\n",
      "10  1534\n",
      "11  1427\n",
      "12  1380\n",
      "13  1494\n",
      "14  1940\n",
      "15  2000\n",
      "16  1890\n",
      "17  4478\n",
      "18  1268\n",
      "19  2300\n",
      "20  1320\n",
      "21  1236\n",
      "22  2609\n",
      "23  3031\n",
      "24  1767\n",
      "25  1888\n",
      "26  1604\n",
      "27  1962\n",
      "28  3890\n",
      "29  1100\n",
      "..   ...\n",
      "68  1236\n",
      "69  2609\n",
      "70  3031\n",
      "71  1767\n",
      "72  1888\n",
      "73  1604\n",
      "74  1962\n",
      "75  3890\n",
      "76  1100\n",
      "77  1458\n",
      "78  2526\n",
      "79  2200\n",
      "80  2637\n",
      "81  1839\n",
      "82  1000\n",
      "83  2040\n",
      "84  3137\n",
      "85  1811\n",
      "86  1437\n",
      "87  1239\n",
      "88  2132\n",
      "89  4215\n",
      "90  2162\n",
      "91  1664\n",
      "92  2238\n",
      "93  2567\n",
      "94  1200\n",
      "95   852\n",
      "96  1852\n",
      "97  1203\n",
      "\n",
      "[98 rows x 1 columns]\n"
     ]
    }
   ],
   "source": [
    "helper_function('SELECT sqft FROM houses')"
   ]
  },
  {
   "cell_type": "code",
   "execution_count": 44,
   "metadata": {
    "collapsed": false
   },
   "outputs": [
    {
     "name": "stdout",
     "output_type": "stream",
     "text": [
      "    sqft  age  bdrms\n",
      "0   4000   22      5\n",
      "1   2390   34      4\n",
      "2   1870   14      3\n",
      "3   1505   90      3\n",
      "4   2104   70      3\n",
      "5   1600   28      3\n",
      "6   2400   44      3\n",
      "7   1416   49      2\n",
      "8   3000   75      4\n",
      "9   1985   61      4\n",
      "10  1534   12      3\n",
      "11  1427   57      3\n",
      "12  1380   14      3\n",
      "13  1494   15      3\n",
      "14  1940    7      4\n",
      "15  2000   27      3\n",
      "16  1890   45      3\n",
      "17  4478   49      5\n",
      "18  1268   58      3\n",
      "19  2300   77      4\n",
      "20  1320   62      2\n",
      "21  1236   78      3\n",
      "22  2609    5      4\n",
      "23  3031   21      4\n",
      "24  1767   44      3\n",
      "25  1888   79      2\n",
      "26  1604   13      3\n",
      "27  1962   53      4\n",
      "28  3890   36      3\n",
      "29  1100   60      3\n",
      "..   ...  ...    ...\n",
      "68  1236   78      3\n",
      "69  2609    5      4\n",
      "70  3031   21      4\n",
      "71  1767   44      3\n",
      "72  1888   79      2\n",
      "73  1604   13      3\n",
      "74  1962   53      4\n",
      "75  3890   36      3\n",
      "76  1100   60      3\n",
      "77  1458   29      3\n",
      "78  2526   13      3\n",
      "79  2200   28      3\n",
      "80  2637   25      3\n",
      "81  1839   40      2\n",
      "82  1000    5      1\n",
      "83  2040   75      4\n",
      "84  3137   67      3\n",
      "85  1811   24      4\n",
      "86  1437   50      3\n",
      "87  1239   22      3\n",
      "88  2132   28      4\n",
      "89  4215   66      4\n",
      "90  2162   43      4\n",
      "91  1664   40      2\n",
      "92  2238   37      3\n",
      "93  2567   57      4\n",
      "94  1200   76      3\n",
      "95   852   70      2\n",
      "96  1852   64      4\n",
      "97  1203   11      3\n",
      "\n",
      "[98 rows x 3 columns]\n"
     ]
    }
   ],
   "source": [
    "helper_function('SELECT sqft, age, bdrms FROM houses')"
   ]
  },
  {
   "cell_type": "code",
   "execution_count": 45,
   "metadata": {
    "collapsed": false
   },
   "outputs": [
    {
     "name": "stdout",
     "output_type": "stream",
     "text": [
      "   field1  sqft  bdrms  age   price\n",
      "0       1  4000      5   22  619000\n",
      "1       2  2390      4   34  319000\n",
      "2       3  1870      3   14  289000\n",
      "3       4  1505      3   90  269000\n",
      "4       5  2104      3   70  399900\n",
      "5       6  1600      3   28  329900\n",
      "6       7  2400      3   44  369000\n",
      "7       8  1416      2   49  232000\n",
      "8       9  3000      4   75  539900\n",
      "9      10  1985      4   61  299900\n"
     ]
    }
   ],
   "source": [
    "helper_function('SELECT * FROM houses LIMIT 10;')"
   ]
  },
  {
   "cell_type": "code",
   "execution_count": 48,
   "metadata": {
    "collapsed": false
   },
   "outputs": [
    {
     "name": "stdout",
     "output_type": "stream",
     "text": [
      "   field1  sqft  bdrms  age   price\n",
      "0      10  1985      4   61  299900\n",
      "1      15  1940      4    7  239999\n",
      "2      28  1962      4   53  259900\n",
      "3      39  1811      4   24  285900\n",
      "4      44  2162      4   43  287000\n"
     ]
    }
   ],
   "source": [
    "helper_function('SELECT * FROM houses WHERE bdrms = 4 and price<300000 LIMIT 5;')"
   ]
  },
  {
   "cell_type": "code",
   "execution_count": 49,
   "metadata": {
    "collapsed": false
   },
   "outputs": [
    {
     "name": "stdout",
     "output_type": "stream",
     "text": [
      "   COUNT(*)\n",
      "0        98\n"
     ]
    }
   ],
   "source": [
    "helper_function('SELECT COUNT(*) FROM houses')"
   ]
  },
  {
   "cell_type": "code",
   "execution_count": 53,
   "metadata": {
    "collapsed": false
   },
   "outputs": [
    {
     "name": "stdout",
     "output_type": "stream",
     "text": [
      "   AVG(sqft)  MIN(price)  MAX(price)\n",
      "0     1496.5      179900      368500\n"
     ]
    }
   ],
   "source": [
    "helper_function('SELECT AVG(sqft),MIN(price),MAX(price) FROM houses WHERE bdrms=2;')"
   ]
  },
  {
   "cell_type": "code",
   "execution_count": 55,
   "metadata": {
    "collapsed": false
   },
   "outputs": [
    {
     "name": "stdout",
     "output_type": "stream",
     "text": [
      "   AVG(price)\n",
      "0    169900.0\n"
     ]
    }
   ],
   "source": [
    "helper_function('SELECT AVG(price) FROM houses WHERE bdrms=1;')"
   ]
  },
  {
   "cell_type": "code",
   "execution_count": 59,
   "metadata": {
    "collapsed": false
   },
   "outputs": [
    {
     "name": "stdout",
     "output_type": "stream",
     "text": [
      "    AVG(price)/2\n",
      "0  140433.333333\n"
     ]
    }
   ],
   "source": [
    "helper_function('SELECT AVG(price)/2 FROM houses WHERE bdrms=2;')"
   ]
  },
  {
   "cell_type": "code",
   "execution_count": 60,
   "metadata": {
    "collapsed": false
   },
   "outputs": [
    {
     "name": "stdout",
     "output_type": "stream",
     "text": [
      "    AVG(price)/2      avg_price\n",
      "0  140433.333333  280866.666667\n"
     ]
    }
   ],
   "source": [
    "helper_function('SELECT AVG(price)/2, AVG(price) as avg_price FROM houses WHERE bdrms=2;')"
   ]
  },
  {
   "cell_type": "code",
   "execution_count": 61,
   "metadata": {
    "collapsed": false
   },
   "outputs": [
    {
     "name": "stdout",
     "output_type": "stream",
     "text": [
      "   bdrms  COUNT(*)\n",
      "0      1         2\n",
      "1      2        12\n",
      "2      3        52\n",
      "3      4        29\n",
      "4      5         3\n"
     ]
    }
   ],
   "source": [
    "helper_function('SELECT bdrms, COUNT(*) from houses GROUP BY bdrms;')"
   ]
  },
  {
   "cell_type": "code",
   "execution_count": 62,
   "metadata": {
    "collapsed": false
   },
   "outputs": [
    {
     "name": "stdout",
     "output_type": "stream",
     "text": [
      "   field1  sqft  bdrms  age   price\n",
      "0       4  1505      3   90  269000\n"
     ]
    }
   ],
   "source": [
    "helper_function('SELECT * FROM houses WHERE bdrms=3 and age =90;')"
   ]
  },
  {
   "cell_type": "code",
   "execution_count": 66,
   "metadata": {
    "collapsed": false
   },
   "outputs": [
    {
     "name": "stdout",
     "output_type": "stream",
     "text": [
      "   MAX(age)\n",
      "0        90\n"
     ]
    }
   ],
   "source": [
    "helper_function('SELECT MAX(age) FROM houses')"
   ]
  },
  {
   "cell_type": "code",
   "execution_count": 67,
   "metadata": {
    "collapsed": false
   },
   "outputs": [
    {
     "name": "stdout",
     "output_type": "stream",
     "text": [
      "    AVG(age)\n",
      "0   5.000000\n",
      "1  56.666667\n",
      "2  38.884615\n",
      "3  46.413793\n",
      "4  40.000000\n"
     ]
    }
   ],
   "source": [
    "helper_function('SELECT AVG(age) FROM houses GROUP BY bdrms;')"
   ]
  },
  {
   "cell_type": "code",
   "execution_count": 12,
   "metadata": {
    "collapsed": false
   },
   "outputs": [
    {
     "ename": "IOError",
     "evalue": "datasets/housing-data.csv not found.",
     "output_type": "error",
     "traceback": [
      "\u001b[0;31m---------------------------------------------------------------------------\u001b[0m",
      "\u001b[0;31mIOError\u001b[0m                                   Traceback (most recent call last)",
      "\u001b[0;32m<ipython-input-12-b0f57774c479>\u001b[0m in \u001b[0;36m<module>\u001b[0;34m()\u001b[0m\n\u001b[1;32m      3\u001b[0m \u001b[0;31m# import into nparray of ints, then convert to list of lists\u001b[0m\u001b[0;34m\u001b[0m\u001b[0;34m\u001b[0m\u001b[0m\n\u001b[1;32m      4\u001b[0m data = (genfromtxt('datasets/housing-data.csv', dtype='i8',\n\u001b[0;32m----> 5\u001b[0;31m                     delimiter=',', skip_header=1)).tolist()\n\u001b[0m\u001b[1;32m      6\u001b[0m \u001b[0;34m\u001b[0m\u001b[0m\n\u001b[1;32m      7\u001b[0m \u001b[0;31m# append a None value to beginning of each sub-list\u001b[0m\u001b[0;34m\u001b[0m\u001b[0;34m\u001b[0m\u001b[0m\n",
      "\u001b[0;32m//anaconda/lib/python2.7/site-packages/numpy/lib/npyio.pyc\u001b[0m in \u001b[0;36mgenfromtxt\u001b[0;34m(fname, dtype, comments, delimiter, skip_header, skip_footer, converters, missing_values, filling_values, usecols, names, excludelist, deletechars, replace_space, autostrip, case_sensitive, defaultfmt, unpack, usemask, loose, invalid_raise, max_rows)\u001b[0m\n\u001b[1;32m   1449\u001b[0m         \u001b[0;32mif\u001b[0m \u001b[0misinstance\u001b[0m\u001b[0;34m(\u001b[0m\u001b[0mfname\u001b[0m\u001b[0;34m,\u001b[0m \u001b[0mbasestring\u001b[0m\u001b[0;34m)\u001b[0m\u001b[0;34m:\u001b[0m\u001b[0;34m\u001b[0m\u001b[0m\n\u001b[1;32m   1450\u001b[0m             \u001b[0;32mif\u001b[0m \u001b[0msys\u001b[0m\u001b[0;34m.\u001b[0m\u001b[0mversion_info\u001b[0m\u001b[0;34m[\u001b[0m\u001b[0;36m0\u001b[0m\u001b[0;34m]\u001b[0m \u001b[0;34m==\u001b[0m \u001b[0;36m2\u001b[0m\u001b[0;34m:\u001b[0m\u001b[0;34m\u001b[0m\u001b[0m\n\u001b[0;32m-> 1451\u001b[0;31m                 \u001b[0mfhd\u001b[0m \u001b[0;34m=\u001b[0m \u001b[0miter\u001b[0m\u001b[0;34m(\u001b[0m\u001b[0mnp\u001b[0m\u001b[0;34m.\u001b[0m\u001b[0mlib\u001b[0m\u001b[0;34m.\u001b[0m\u001b[0m_datasource\u001b[0m\u001b[0;34m.\u001b[0m\u001b[0mopen\u001b[0m\u001b[0;34m(\u001b[0m\u001b[0mfname\u001b[0m\u001b[0;34m,\u001b[0m \u001b[0;34m'rbU'\u001b[0m\u001b[0;34m)\u001b[0m\u001b[0;34m)\u001b[0m\u001b[0;34m\u001b[0m\u001b[0m\n\u001b[0m\u001b[1;32m   1452\u001b[0m             \u001b[0;32melse\u001b[0m\u001b[0;34m:\u001b[0m\u001b[0;34m\u001b[0m\u001b[0m\n\u001b[1;32m   1453\u001b[0m                 \u001b[0mfhd\u001b[0m \u001b[0;34m=\u001b[0m \u001b[0miter\u001b[0m\u001b[0;34m(\u001b[0m\u001b[0mnp\u001b[0m\u001b[0;34m.\u001b[0m\u001b[0mlib\u001b[0m\u001b[0;34m.\u001b[0m\u001b[0m_datasource\u001b[0m\u001b[0;34m.\u001b[0m\u001b[0mopen\u001b[0m\u001b[0;34m(\u001b[0m\u001b[0mfname\u001b[0m\u001b[0;34m,\u001b[0m \u001b[0;34m'rb'\u001b[0m\u001b[0;34m)\u001b[0m\u001b[0;34m)\u001b[0m\u001b[0;34m\u001b[0m\u001b[0m\n",
      "\u001b[0;32m//anaconda/lib/python2.7/site-packages/numpy/lib/_datasource.pyc\u001b[0m in \u001b[0;36mopen\u001b[0;34m(path, mode, destpath)\u001b[0m\n\u001b[1;32m    149\u001b[0m \u001b[0;34m\u001b[0m\u001b[0m\n\u001b[1;32m    150\u001b[0m     \u001b[0mds\u001b[0m \u001b[0;34m=\u001b[0m \u001b[0mDataSource\u001b[0m\u001b[0;34m(\u001b[0m\u001b[0mdestpath\u001b[0m\u001b[0;34m)\u001b[0m\u001b[0;34m\u001b[0m\u001b[0m\n\u001b[0;32m--> 151\u001b[0;31m     \u001b[0;32mreturn\u001b[0m \u001b[0mds\u001b[0m\u001b[0;34m.\u001b[0m\u001b[0mopen\u001b[0m\u001b[0;34m(\u001b[0m\u001b[0mpath\u001b[0m\u001b[0;34m,\u001b[0m \u001b[0mmode\u001b[0m\u001b[0;34m)\u001b[0m\u001b[0;34m\u001b[0m\u001b[0m\n\u001b[0m\u001b[1;32m    152\u001b[0m \u001b[0;34m\u001b[0m\u001b[0m\n\u001b[1;32m    153\u001b[0m \u001b[0;34m\u001b[0m\u001b[0m\n",
      "\u001b[0;32m//anaconda/lib/python2.7/site-packages/numpy/lib/_datasource.pyc\u001b[0m in \u001b[0;36mopen\u001b[0;34m(self, path, mode)\u001b[0m\n\u001b[1;32m    499\u001b[0m             \u001b[0;32mreturn\u001b[0m \u001b[0m_file_openers\u001b[0m\u001b[0;34m[\u001b[0m\u001b[0mext\u001b[0m\u001b[0;34m]\u001b[0m\u001b[0;34m(\u001b[0m\u001b[0mfound\u001b[0m\u001b[0;34m,\u001b[0m \u001b[0mmode\u001b[0m\u001b[0;34m=\u001b[0m\u001b[0mmode\u001b[0m\u001b[0;34m)\u001b[0m\u001b[0;34m\u001b[0m\u001b[0m\n\u001b[1;32m    500\u001b[0m         \u001b[0;32melse\u001b[0m\u001b[0;34m:\u001b[0m\u001b[0;34m\u001b[0m\u001b[0m\n\u001b[0;32m--> 501\u001b[0;31m             \u001b[0;32mraise\u001b[0m \u001b[0mIOError\u001b[0m\u001b[0;34m(\u001b[0m\u001b[0;34m\"%s not found.\"\u001b[0m \u001b[0;34m%\u001b[0m \u001b[0mpath\u001b[0m\u001b[0;34m)\u001b[0m\u001b[0;34m\u001b[0m\u001b[0m\n\u001b[0m\u001b[1;32m    502\u001b[0m \u001b[0;34m\u001b[0m\u001b[0m\n\u001b[1;32m    503\u001b[0m \u001b[0;34m\u001b[0m\u001b[0m\n",
      "\u001b[0;31mIOError\u001b[0m: datasets/housing-data.csv not found."
     ]
    }
   ],
   "source": [
    "from numpy import genfromtxt\n",
    "\n",
    "# import into nparray of ints, then convert to list of lists\n",
    "data = (genfromtxt('datasets/housing-data.csv', dtype='i8',\n",
    "                    delimiter=',', skip_header=1)).tolist()\n",
    "\n",
    "# append a None value to beginning of each sub-list\n",
    "for d in data:\n",
    "    d.insert(0, None)"
   ]
  },
  {
   "cell_type": "code",
   "execution_count": null,
   "metadata": {
    "collapsed": true
   },
   "outputs": [],
   "source": [
    "data[0:3]"
   ]
  },
  {
   "cell_type": "code",
   "execution_count": null,
   "metadata": {
    "collapsed": true
   },
   "outputs": [],
   "source": []
  },
  {
   "cell_type": "code",
   "execution_count": null,
   "metadata": {
    "collapsed": true
   },
   "outputs": [],
   "source": []
  },
  {
   "cell_type": "code",
   "execution_count": null,
   "metadata": {
    "collapsed": true
   },
   "outputs": [],
   "source": []
  }
 ],
 "metadata": {
  "anaconda-cloud": {},
  "kernelspec": {
   "display_name": "Python [Root]",
   "language": "python",
   "name": "Python [Root]"
  },
  "language_info": {
   "codemirror_mode": {
    "name": "ipython",
    "version": 2
   },
   "file_extension": ".py",
   "mimetype": "text/x-python",
   "name": "python",
   "nbconvert_exporter": "python",
   "pygments_lexer": "ipython2",
   "version": "2.7.12"
  }
 },
 "nbformat": 4,
 "nbformat_minor": 0
}
